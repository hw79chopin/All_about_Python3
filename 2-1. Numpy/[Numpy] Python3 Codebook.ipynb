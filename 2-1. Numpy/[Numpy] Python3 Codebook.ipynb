{
 "cells": [
  {
   "cell_type": "markdown",
   "metadata": {
    "id": "RYFuejL5sXMt"
   },
   "source": [
    "---\n",
    "# 📁 Hyun's Code collection (Pandas) \n",
    "---\n",
    "\n",
    "### <h3 align=\"right\">🥇 Authored by <strong>Hyun</strong></h3>"
   ]
  },
  {
   "cell_type": "markdown",
   "metadata": {
    "id": "09tmY8XSC_MR"
   },
   "source": [
    "# ✏️  What is **Numpy**?"
   ]
  },
  {
   "cell_type": "markdown",
   "metadata": {
    "id": "iMDw2HViCZSF"
   },
   "source": [
    "- Numpy는 Python의 고성능 과학 계산용 패키지\n",
    "-  Matrix와 Vector와 같은 array 연산의 사실상의 표준\n",
    "- [Numpy 설명](https://numpy.org) "
   ]
  },
  {
   "cell_type": "markdown",
   "metadata": {
    "id": "aFbtD4uKrv3W"
   },
   "source": [
    "# ✏️ Importing Libraries"
   ]
  },
  {
   "cell_type": "code",
   "execution_count": null,
   "metadata": {
    "id": "gRO8gtPDrySn"
   },
   "outputs": [],
   "source": [
    "# Basic Setting\n",
    "import numpy as np\n",
    "from numpy.linalg import inv\n",
    "from numpy.linalg import solve\n",
    "import random"
   ]
  },
  {
   "cell_type": "markdown",
   "metadata": {
    "id": "4cHEbaxACoXX"
   },
   "source": [
    "# ✏️  Methods and Examples"
   ]
  },
  {
   "cell_type": "markdown",
   "metadata": {
    "id": "TjoEySIkCptx"
   },
   "source": [
    "## 🔎 Basic Methods"
   ]
  },
  {
   "cell_type": "markdown",
   "metadata": {
    "id": "FuiVIZAcC1Aa"
   },
   "source": [
    "- **.size ( )**: 개수\n",
    "- **.sum ( )**: 합\n",
    "- **.mean ( )**: 평균\n",
    "- **.median ( )**: 중앙값\n",
    "- **.std ( )**: 표준편차\n",
    "- **.max ( )**: 최대값\n",
    "- **.min ( )**: 최소값\n",
    "- **.inv ( )**: 역행렬을 만들어줌\n",
    "- **solve( , )**: 해를 구해줌\n",
    "- **argsort( )**: 제일 작은 값을 찾아줌\n",
    "<br>\n",
    "\n",
    "- **np.array ( [ list ], type )**: array 생성. type에는 int, float 등이 올 수 있음\n",
    "- **type ( )**: type을 보여준다\n",
    "- **.shpae** : array의 shape을 반환\n",
    "- **.ndim**: 차원을 반환\n",
    "- **.size**: 데이터의 개수를 반환\n",
    "\n",
    "- **.nbytes**: 메모리의 크기를 반환\n",
    "- **.reshape**: 주어진 행렬 shape에 맞게 변환\n",
    "- **.flatten ( )**: matrix를 1차원으로 반환\n",
    "- **.flat ( )**: matrix를 1차원으로 반환\n",
    "- **.tolist ( )**: 리스트로 변환\n",
    "- **.transpose ( )**: transpose 시킨다.\n",
    "- **.T**: 이렇게도 사용 가능!\n",
    "- **.sum ( axis = )**: axis를 지정 안하면 해당 vector를 합하고 axis를 정해주면 각 axis별로 합한 값을 반환\n",
    "- **.mean ( axis = )**: sum과 유사. 평균값을 반환\n",
    "- **.dot ( )**: 앞에 행렬과 뒤의 행렬을 내적\n",
    "- **.all ( cond )**: 조건에 1개라도 참이면 True를 반환\n",
    "- **.any ( cond )**: 조건에 모두 참이어야 True를 반환\n",
    "- **+, - , * :** Matrix간의 연산\n",
    "- **< , > , == :** array들간의 비교\n",
    "<br>\n",
    "\n",
    "- **np .sqrt ( )**: 가로값에 루트를 씌움  \n",
    "- **np .sin ( )**: 가로값에 sin를 씌움 \n",
    "- **np .cos ( )**: 가로값에 cos를 씌움\n",
    "- **np .tan ( )**: 가로값에 tan를 씌움\n",
    "- **np .log ( )**: 가로값에 log를 씌움 \n",
    "- **np .argmax ( )**: 최대값의 index를 반환\n",
    "- **np .argmin ( )**: 최소값의 index을 반환\n",
    "- **np .max ( )**: 최대값을 반환\n",
    "- **np .min ( )**: 최소값을 반환\n",
    "- **np .arange ( int )**: 0부터 (int-1)만큼 간격이 1인 정수를 반환\n",
    "- **np .arange ( 시작 , 끝 , 간격 )**: 시작부터 끝까지 주어진 간격만큼 숫자를 반환\n",
    "- **np .linspace ( a , b, num )**: a<= x <=b에서 균등한 거리로 num개의 숫자를 추출\n",
    "- **np .zeros ( shape = ( , ) , dtype = )**: 해당 shape의 0 행렬을 반환\n",
    "- **np .zeros_like ( ndarray )**: ndarray 행렬에 해당하는 0 행렬을 반환\n",
    "- **np .ones ( shape = ( . ), dtype = )**: 해당 shaep의 1 행렬을 반환\n",
    "- **np .ones_like ( ndarray )**: ndarray 행렬과 동일한 shape을 가진 1 행렬 생성\n",
    "- **np .empty ( shape = ( , ), dtype = )**: 해당 shape의 0 행렬을 반환\n",
    "- **np .empty_like ( ndarray ))**: 해당 shape과 같은 shape의 0 행렬 생성\n",
    "- **np .identity ( n = , dtype = np. )**: n*n 항등행렬을 만들어줌\n",
    "- **np .eye ( N = , M = , dtype = np. )**: row, column의 shape에 [0,0]에서 diagonal이 시작하는 행렬 반환\n",
    "- **np .eye ( , , k = )**: 주어진 shape의 행렬을 생성 후 k로 대각행렬의 시작 index를 지정\n",
    "- **np .full ( shape, num )**: 주어진 shape의 행렬에 num으로 가득 찬 행렬을 생성\n",
    "- **np .diag ( ndarray )**: 주어진 ndarray의 대각행렬의 값을 추출\n",
    "\n",
    "  **np .diag ( , k = )**: 주어진 행렬에 대각성분을 vector 형식으로 반환, k로 index 지정\n",
    "- **np .seed ( )**: seed값을 설정. 난수를 발생시킨다는 것은 어떤 계산된 과정에 의한 것이다. 즉, seed값이 같다면 같은 난수를 발생시킬 수 있음\n",
    "- **np .random .sample ( min , max , 개수)**: 범위내에서 무작위로 주어진 개수만큼 정수를 추출. 비복원추출\n",
    "- **np .random .choics ( min , max , 개수)**: 범위내에서 무작위로 주어진 개수만큼 정수를 추출. 복원추출\n",
    "- **np .random .rand ( shape )**: 입력한 shape의 형태로 [0, 1]에 해당하는 random 값들을 반환\n",
    "- **np .random .randn ( shape )**: shape에 해당하는 평균 0, 표준편차 1인 정규분포를 생성\n",
    "- **np .random .uniform ( low , high ,size =  )**: size에 해당하는 정규분포값을 반환\n",
    "- **np .random .normal ( mean , std , size(개수) )**: 정규분포에서 무작위 값을 추출함\n",
    "- **np .random .randint ( 최소, 최대, size = num )**: shape을 지정하는 대신 최소, 최대 값을 설정 가능\n",
    "- **np .nan**: NaN값을 생성\n",
    "- **np .random .choice ( a, size = None , replace = True , p = None )** : 데이터 샘플링하기. a는 원래 데이터 or arange(a), size는 샘플 개수, replace는 중복 허용, p는 뽑힐 확률\n",
    "- **np .random .permutation ( )**: 배열이 저장된 변수자체를 변경하는게 아니라, 랜덤으로 섞은 배열만을 다시 반환\n",
    "\n",
    "<br>\n",
    "\n",
    "- **np .linalg**\n",
    "- **np .linalg .inv( )**: 역행렬 계산\n",
    "\n",
    "<br>\n",
    "\n",
    "- **np .vstack ( ( a , b ) )**: Vertically stack arrays\n",
    "- **np .hstack ( ( a , b ) )**: Horizontally stack arrays\n",
    "- **np .concatenate ( ( , ) , axis = )**: 2개의 vector 혹은 matrix를 axis에 따라서 concat해줌\n",
    "<br>\n",
    "\n",
    "- **np .where ( condition, if True , if False )**: 조건에 따라서 값들을 반환\n",
    "- **np .isnan ( )**: boolean 형태로 결측치를 반환\n",
    "- **np .isfinite ( )**: 유한수의 여부에 따라서 boolean 형태로 값을 반환\n",
    "- **np .ceil( )**: 각 원소 값보다 크거나 같은 가장 작은 정수 값(천장 값)으로 올림\n",
    "\n",
    "- **np .leadtxt ( \" \" )**: directory와 파일이름을 입력\n",
    "- **np .save (\" \", arr = )**: txt로 저장하기\n",
    "- **broadcasting**: broadcasting은 어떤 조건만 만족한다면 모양이 다른 배열끼리의 연산도 가능하게 해주며 모양이 부족한 부분은 확장하여 연산을 수행할 수 있도록 한다는 것\n",
    "- **boolean index**: 조건에 맞아서 True인 값들을 indexing하는 방법"
   ]
  },
  {
   "cell_type": "markdown",
   "metadata": {
    "id": "FSnkpKBACqlF"
   },
   "source": [
    "### 📔 Examples"
   ]
  },
  {
   "cell_type": "code",
   "execution_count": null,
   "metadata": {
    "id": "k4_6OyB4ApMy"
   },
   "outputs": [],
   "source": [
    "# 원하는 array를 만들어주는 방법\n",
    "list_phrases = []\n",
    "empty_vector = np.zeros(shape=(1795,100))\n",
    "for phrase in phrase_json:\n",
    "    empty_vector[int(phrase)-1] = np.array(phrase_json[phrase]['vector'])\n",
    "    list_phrases.append(phrase_json[phrase]['phrase_id'])"
   ]
  },
  {
   "cell_type": "code",
   "execution_count": null,
   "metadata": {
    "id": "CjnJzCiVTrIh"
   },
   "outputs": [],
   "source": [
    "# argsort\n",
    "np.argsort(rmse_val_score)"
   ]
  },
  {
   "cell_type": "code",
   "execution_count": null,
   "metadata": {
    "id": "ZhqT3jErlFG3"
   },
   "outputs": [],
   "source": [
    "# solve\n",
    "x = solve(A,b)    # A는 계수, b는 타겟 vector"
   ]
  },
  {
   "cell_type": "code",
   "execution_count": null,
   "metadata": {
    "id": "Uuj-uzyDlA_A"
   },
   "outputs": [],
   "source": [
    "# inv()\n",
    "A_inv = inv(A)"
   ]
  },
  {
   "cell_type": "code",
   "execution_count": null,
   "metadata": {
    "colab": {
     "base_uri": "https://localhost:8080/",
     "height": 52
    },
    "id": "Iiw4gOsOinxg",
    "outputId": "1431f17c-a6a0-4ae2-f616-397f252869b9"
   },
   "outputs": [
    {
     "data": {
      "text/plain": [
       "array([[0, 0],\n",
       "       [0, 0]])"
      ]
     },
     "execution_count": 25,
     "metadata": {
      "tags": []
     },
     "output_type": "execute_result"
    }
   ],
   "source": [
    "# np.zeros\n",
    "a = np.zeros((2,2), dtype=int)\n",
    "a"
   ]
  },
  {
   "cell_type": "code",
   "execution_count": null,
   "metadata": {
    "id": "YY22w7q9BCf4"
   },
   "outputs": [],
   "source": [
    "# broadcasting\n",
    "## 예시2\n",
    "test_matrix = np.array([[1,2,3],[4,5,6]], float)\n",
    "scalar = 3\n",
    "\n",
    "test_matrix + scalar # Matrix - Scalar 덧셈\n",
    "\n",
    "test_matrix - scalar # Matrix - Scalar 뺄셈\n",
    "\n",
    "test_matrix * 5 # Matrix - Scalar 곱셈\n",
    "\n",
    "test_matrix / 5 # Matrix - Scalar 나눗셈\n",
    "\n",
    "test_matrix // 0.2 # Matrix - Scalar 몫\n",
    "\n",
    "test_matrix ** 2 # Matrix - Scalar 제곱\n",
    "\n",
    "## 예시2\n",
    "test_matrix = np.arange(1,13).reshape(4,3)\n",
    "test_vector = np.arange(10,40,10)\n",
    "test_matrix + test_vector"
   ]
  },
  {
   "cell_type": "code",
   "execution_count": null,
   "metadata": {
    "id": "pUb4Xv9U0rlL"
   },
   "outputs": [],
   "source": [
    "# np.array\n",
    "test_array = np.array([\"1\", \"4\", 5, 8], float)    # String type을 입력해도 Float Type으로 자동 형변환 실시\n",
    "test_array"
   ]
  },
  {
   "cell_type": "code",
   "execution_count": null,
   "metadata": {
    "id": "n21J0XkA0zu2"
   },
   "outputs": [],
   "source": [
    "# type\n",
    "type(test_array[3])"
   ]
  },
  {
   "cell_type": "code",
   "execution_count": null,
   "metadata": {
    "id": "oUl3CpKH0z3_"
   },
   "outputs": [],
   "source": [
    "# .shape\n",
    "print(np.array([[1, 4, 5, \"8\"]], np.float32).shape)\n",
    "\n",
    "vector  = [1,2,3,4]\n",
    "print(np.array(vector, int).shape)"
   ]
  },
  {
   "cell_type": "code",
   "execution_count": null,
   "metadata": {
    "id": "uRZ5qHY90z_H"
   },
   "outputs": [],
   "source": [
    "# .shape: Array shape\n",
    "matrix  = [[1,2,5,8],[1,2,5,8],[1,2,5,8]]\n",
    "np.array(matrix, int).shape"
   ]
  },
  {
   "cell_type": "code",
   "execution_count": null,
   "metadata": {
    "id": "t505w-QY00IP"
   },
   "outputs": [],
   "source": [
    "# .shape, .ndim, .size\n",
    "tensor  = [[[1,2,5,8],[1,2,5,8],[1,2,5,8]], \n",
    "           [[1,2,5,8],[1,2,5,8],[1,2,5,8]], \n",
    "           [[1,2,5,8],[1,2,5,8],[1,2,5,8]], \n",
    "           [[1,2,5,8],[1,2,5,8],[1,2,5,8]]]\n",
    "print(np.array(tensor, int).shape)\n",
    "print(np.array(tensor, int).ndim)    # 차원 반환\n",
    "print(np.array(tensor, int).size)    # 데이터의 개수를 반환"
   ]
  },
  {
   "cell_type": "code",
   "execution_count": null,
   "metadata": {
    "id": "djuvjJDr00O6"
   },
   "outputs": [],
   "source": [
    "# .nbytes\n",
    "a = np.array([[1, 2, 3], [4.5, \"5\", \"6\"]], \n",
    "         dtype=np.float32)\n",
    "print(a.nbytes)\n",
    "\n",
    "b = np.array([[1, 2, 3], [4.5, \"5\", \"6\"]], \n",
    "         dtype=np.int8)\n",
    "print(b.nbytes)\n",
    "\n",
    "c = np.array([[1, 2, 3], [4.5, \"5\", \"6\"]], \n",
    "         dtype=np.float64)\n",
    "print(c.nbytes)"
   ]
  },
  {
   "cell_type": "code",
   "execution_count": null,
   "metadata": {
    "id": "qeeM9oCj00ih"
   },
   "outputs": [],
   "source": [
    "# .reshape\n",
    "## 예제1\n",
    "test_matrix = [[1,2,3,4], [1,2,5,8]]\n",
    "np.array(test_matrix).shape\n",
    "np.array(test_matrix).reshape(2,2,2)\n",
    "\n",
    "## 예제2\n",
    "np.array(test_matrix).reshape(2,4).shape\n",
    "\n",
    "## 예제3\n",
    "np.array(test_matrix).reshape(2,-1).shape\n",
    "\n",
    "## 예제4\n",
    "np.array(test_matrix).reshape(2,2,2)\n",
    "\n",
    "## 예제5\n",
    "np.array(test_matrix).reshape(2,2,2).shape\n",
    "\n",
    "## 예제6\n",
    "test = np.array(test_matrix).reshape(8,)\n",
    "test\n",
    "test.reshape(-1, 1)"
   ]
  },
  {
   "cell_type": "code",
   "execution_count": null,
   "metadata": {
    "id": "2FpEoWJ13PM2"
   },
   "outputs": [],
   "source": [
    "# .flatten()\n",
    "test_matrix = [[[1,2,3,4], [1,2,5,8]], [[1,2,3,4], [1,2,5,8]]]\n",
    "np.array(test_matrix).flatten()"
   ]
  },
  {
   "cell_type": "code",
   "execution_count": null,
   "metadata": {
    "id": "pV1N9wu33Pnl"
   },
   "outputs": [],
   "source": [
    "# indexing\n",
    "test_exmaple = np.array([[1, 2, 3], [4.5, 5, 6]], int)\n",
    "test_exmaple\n",
    "\n",
    "## 예제1\n",
    "test_exmaple[0][0]\n",
    "\n",
    "## 예제2\n",
    "test_exmaple[1,2]\n",
    "\n",
    "## 예제3\n",
    "test_exmaple[0,0] = 10 # Matrix 0,0 에 12 할당\n",
    "test_exmaple"
   ]
  },
  {
   "cell_type": "code",
   "execution_count": null,
   "metadata": {
    "id": "BowhnzEy3Pv2"
   },
   "outputs": [],
   "source": [
    "# slicing\n",
    "test_exmaple = np.array([\n",
    "    [1, 2, 5,8], [1, 2, 5,8],[1, 2, 5,8],[1, 2, 5,8]], int)\n",
    "test_exmaple.shape\n",
    "\n",
    "## 예제1\n",
    "test_exmaple[:,1:3] \n",
    "test_exmaple[1,:2]\n",
    "\n",
    "## 예제2\n",
    "test_exmaple = np.array([[1, 2, 3, 4, 5], [6, 7, 8, 9, 10]], int)\n",
    "test_exmaple[:,2:] # 전체 Row의 2열 이상\n",
    "\n",
    "## 예제3\n",
    "test_exmaple[1,1:3] # 1 Row의 1열 ~ 2열\n",
    "\n",
    "## 예제4\n",
    "test_exmaple[1:3] # 1 Row ~ 2Row의 전체"
   ]
  },
  {
   "cell_type": "code",
   "execution_count": null,
   "metadata": {
    "id": "T_D7V1GssS3h"
   },
   "outputs": [],
   "source": [
    "import numpy as np"
   ]
  },
  {
   "cell_type": "code",
   "execution_count": null,
   "metadata": {
    "colab": {
     "base_uri": "https://localhost:8080/",
     "height": 187
    },
    "id": "a9rGlVgYsUj5",
    "outputId": "18e2a1b2-a8ba-418f-a555-407671e75835"
   },
   "outputs": [
    {
     "data": {
      "text/plain": [
       "array([[ 0,  1,  2,  3,  4,  5,  6,  7,  8,  9],\n",
       "       [10, 11, 12, 13, 14, 15, 16, 17, 18, 19],\n",
       "       [20, 21, 22, 23, 24, 25, 26, 27, 28, 29],\n",
       "       [30, 31, 32, 33, 34, 35, 36, 37, 38, 39],\n",
       "       [40, 41, 42, 43, 44, 45, 46, 47, 48, 49],\n",
       "       [50, 51, 52, 53, 54, 55, 56, 57, 58, 59],\n",
       "       [60, 61, 62, 63, 64, 65, 66, 67, 68, 69],\n",
       "       [70, 71, 72, 73, 74, 75, 76, 77, 78, 79],\n",
       "       [80, 81, 82, 83, 84, 85, 86, 87, 88, 89],\n",
       "       [90, 91, 92, 93, 94, 95, 96, 97, 98, 99]])"
      ]
     },
     "execution_count": 2,
     "metadata": {
      "tags": []
     },
     "output_type": "execute_result"
    }
   ],
   "source": [
    "# np.arange\n",
    "## 예제1\n",
    "a = np.arange(100).reshape(10,10)\n",
    "a"
   ]
  },
  {
   "cell_type": "code",
   "execution_count": null,
   "metadata": {
    "colab": {
     "base_uri": "https://localhost:8080/",
     "height": 119
    },
    "id": "lS5wBmZ5sVkI",
    "outputId": "54dfb61c-c1e5-498f-82ba-3d22037e2975"
   },
   "outputs": [
    {
     "data": {
      "text/plain": [
       "array([[ 0,  1,  2,  3,  4],\n",
       "       [ 5,  6,  7,  8,  9],\n",
       "       [10, 11, 12, 13, 14],\n",
       "       [15, 16, 17, 18, 19],\n",
       "       [20, 21, 22, 23, 24],\n",
       "       [25, 26, 27, 28, 29]])"
      ]
     },
     "execution_count": 3,
     "metadata": {
      "tags": []
     },
     "output_type": "execute_result"
    }
   ],
   "source": [
    "np.arange(30).reshape(-1,5)\n"
   ]
  },
  {
   "cell_type": "code",
   "execution_count": null,
   "metadata": {
    "colab": {
     "base_uri": "https://localhost:8080/",
     "height": 68
    },
    "id": "2Y6glz2QsVqs",
    "outputId": "ea1f7634-ed29-4be0-9a48-b7ef525fda3f"
   },
   "outputs": [
    {
     "data": {
      "text/plain": [
       "array([[ 0,  1,  2,  3,  4,  5,  6,  7,  8,  9],\n",
       "       [10, 11, 12, 13, 14, 15, 16, 17, 18, 19],\n",
       "       [20, 21, 22, 23, 24, 25, 26, 27, 28, 29]])"
      ]
     },
     "execution_count": 4,
     "metadata": {
      "tags": []
     },
     "output_type": "execute_result"
    }
   ],
   "source": [
    "np.arange(30).reshape(3,-1)\n"
   ]
  },
  {
   "cell_type": "code",
   "execution_count": null,
   "metadata": {
    "id": "oS7nfcTvh_MG"
   },
   "outputs": [],
   "source": [
    "# np.arange\n",
    "## 예제1\n",
    "a = np.arange(100).reshape(10,10)\n",
    "a\n",
    "\n",
    "a[:, -1].reshape(-1,1)\n",
    "\n",
    "## 예제1\n",
    "np.arange(30).reshape(-1,5)\n",
    "\n",
    "## 예제2\n",
    "np.arange(0, 5, 0.5)\n",
    "\n",
    "## 예제3\n",
    "np.arange(30).reshape(5,6)"
   ]
  },
  {
   "cell_type": "code",
   "execution_count": null,
   "metadata": {
    "id": "kbf5BeiT5egx"
   },
   "outputs": [],
   "source": [
    "# np.zeros, np.ones, np.empty, np.zeros_like\n",
    "## 예제1\n",
    "np.zeros(shape=(10,), dtype=np.int8) # 10 - zero vector 생성\n",
    "\n",
    "## 예제2\n",
    "np.zeros((2,5)) # 2 by 5 - zero matrix 생성\n",
    "\n",
    "## 예제3\n",
    "np.ones(shape=(10,), dtype=np.int8)\n",
    "\n",
    "## 예제4\n",
    "np.ones((2,5))\n",
    "\n",
    "## 예제5\n",
    "np.empty(shape=(10,), dtype=np.int8)\n",
    "\n",
    "## 예제6\n",
    "np.empty((3,5))\n",
    "\n",
    "## 예제7\n",
    "test_matrix = np.arange(30).reshape(5,6)\n",
    "np.zeros_like(test_matrix)"
   ]
  },
  {
   "cell_type": "code",
   "execution_count": null,
   "metadata": {
    "id": "FPzC0_DK6Huk"
   },
   "outputs": [],
   "source": [
    "# np.identity, np.eye, np.diag\n",
    "## 예제1\n",
    "np.identity(n=3, dtype=np.int8)\n",
    "\n",
    "## 예제2\n",
    "np.identity(5)\n",
    "\n",
    "## 예제3\n",
    "np.eye(N=3, M=5, dtype=np.int8)\n",
    "\n",
    "## 예제4\n",
    "np.eye(3)\n",
    "\n",
    "## 예제5\n",
    "np.eye(3,5,k=2)\n",
    "\n",
    "## 예제6\n",
    "matrix = np.arange(9).reshape(3,3)\n",
    "np.diag(matrix), np.diag(matrix, k=1)"
   ]
  },
  {
   "cell_type": "code",
   "execution_count": null,
   "metadata": {
    "id": "yorXwWbA865t"
   },
   "outputs": [],
   "source": [
    "# .sum()\n",
    "## 예제1\n",
    "test_array = np.arange(1,11)\n",
    "test_array.sum(dtype=np.float)\n",
    "\n",
    "## 예제2\n",
    "test_array = np.arange(1,13).reshape(3,4)\n",
    "test_array\n",
    "\n",
    "test_array.sum(axis=1)\n",
    "test_array.sum(axis=0)\n",
    "\n",
    "## 예제3\n",
    "third_order_tensor = np.array([test_array,test_array,test_array])\n",
    "third_order_tensor\n",
    "\n",
    "third_order_tensor.sum(axis=0)\n",
    "third_order_tensor.sum(axis=1)\n",
    "third_order_tensor.sum(axis=2)\n",
    "\n",
    "## 예제4\n",
    "test_array = np.arange(1,13).reshape(3,4)\n",
    "test_array\n",
    "\n",
    "test_array.mean(), test_array.mean(axis=0)\n",
    "\n",
    "## 예제5\n",
    "test_a = np.array([[1,2,3],[4,5,6]], float)\n",
    "test_a + test_a # Matrix + Matrix 연산\n",
    "test_a - test_a # Matrix - Matrix 연산\n",
    "test_a * test_a # Matrix내 element들 간 같은 위치에 있는 값들끼리 연산"
   ]
  },
  {
   "cell_type": "code",
   "execution_count": null,
   "metadata": {
    "id": "cZviZLan-MeA"
   },
   "outputs": [],
   "source": [
    "# np.vstack(), np.hstack(), np.concatenate, \n",
    "## 예제1\n",
    "a = np.array([1, 2, 3])\n",
    "b = np.array([2, 3, 4])\n",
    "np.vstack((a,b))\n",
    "\n",
    "## 예제2\n",
    "a = np.array([ [1], [2], [3]])\n",
    "b = np.array([ [2], [3], [4]])\n",
    "np.hstack((a,b))\n",
    "\n",
    "## 예제3\n",
    "a = np.array([[1, 2]])\n",
    "b = np.array([[2, 3]])\n",
    "np.concatenate( (a,b) ,axis=0)\n",
    "\n",
    "## 예제4\n",
    "a = np.array([[1, 2], [3, 4]])\n",
    "b = np.array([[5, 6]])\n",
    "\n",
    "np.concatenate( (a,b.T) ,axis=1)    # .T: transpose"
   ]
  },
  {
   "cell_type": "code",
   "execution_count": null,
   "metadata": {
    "id": "cUMy6WNe-NDu"
   },
   "outputs": [],
   "source": [
    "# .tolist\n",
    "a = np.array([[1, 2], [3, 4]])\n",
    "a.tolist()"
   ]
  },
  {
   "cell_type": "code",
   "execution_count": null,
   "metadata": {
    "id": "8--ylOkA-MwI"
   },
   "outputs": [],
   "source": [
    "# .dot\n",
    "test_a = np.arange(1,7).reshape(2,3)\n",
    "test_b = np.arange(7,13).reshape(3,2)\n",
    "\n",
    "test_a.dot(test_b)"
   ]
  },
  {
   "cell_type": "code",
   "execution_count": null,
   "metadata": {
    "id": "72DFHwmL_msV"
   },
   "outputs": [],
   "source": [
    "# .transpose(), .T\n",
    "test_a = np.arange(1,7).reshape(2,3)\n",
    "test_a.transpose()\n",
    "test_a.T"
   ]
  },
  {
   "cell_type": "code",
   "execution_count": null,
   "metadata": {
    "id": "BNUQgHAoBCyO"
   },
   "outputs": [],
   "source": [
    "# .any(), .all()\n",
    "## 예시1\n",
    "a = np.arange(10)\n",
    "np.any(a>5), np.any(a<0)\n",
    "np.all(a>5) , np.all(a < 10)"
   ]
  },
  {
   "cell_type": "code",
   "execution_count": null,
   "metadata": {
    "id": "GajgpsZtCyE2"
   },
   "outputs": [],
   "source": [
    "# array들간의 비교\n",
    "## 예시1\n",
    "test_a = np.array([1, 3, 0], float)\n",
    "test_b = np.array([5, 2, 1], float)\n",
    "\n",
    "test_a ,test_b\n",
    "test_a == test_b\n",
    "test_a > test_b\n",
    "(test_a > test_b).any()"
   ]
  },
  {
   "cell_type": "code",
   "execution_count": null,
   "metadata": {
    "id": "Psf73_nnCxlG"
   },
   "outputs": [],
   "source": [
    "# np.where()\n",
    "## 예제1\n",
    "a = np.arange(10)\n",
    "np.where(a < 5, a, 10*a)\n",
    "\n",
    "## 예제2\n",
    "np.where(a>5)"
   ]
  },
  {
   "cell_type": "code",
   "execution_count": null,
   "metadata": {
    "id": "gZXmVlYFFYdj"
   },
   "outputs": [],
   "source": [
    "# np.argmax(), np.argmin()\n",
    "## 예시1\n",
    "a = np.array([1,2,4,5,8,78,23,3])\n",
    "np.argmax(a) , np.argmin(a)\n",
    "\n",
    "## 예시2\n",
    "a=np.array([[1,2,4,7],[9,88,6,45],[9,76,3,4]])\n",
    "np.argmax(a, axis=1) , np.argmin(a, axis=0)"
   ]
  },
  {
   "cell_type": "code",
   "execution_count": null,
   "metadata": {
    "id": "B5FxqOPXFYA2"
   },
   "outputs": [],
   "source": [
    "# boolean index\n",
    "## 예시1\n",
    "test_array = np.array([1, 4, 0, 2, 3, 8, 9, 7], float)\n",
    "test_array > 3\n",
    "\n",
    "test_array[test_array > 3]\n",
    "\n",
    "condition = test_array < 3 \n",
    "test_array[condition]"
   ]
  },
  {
   "cell_type": "code",
   "execution_count": null,
   "metadata": {
    "id": "W5Rng_CkH6m_"
   },
   "outputs": [],
   "source": [
    "# np.loadtxt(), np.load\n",
    "## 예시1\n",
    "a = np.loadtxt(\"./populations.txt\")\n",
    "a[:10]\n",
    "\n",
    "## 예시2\n",
    "npy_array = np.load(file=\"npy_test.npy\")\n",
    "npy_array[:3]"
   ]
  }
 ],
 "metadata": {
  "accelerator": "GPU",
  "colab": {
   "collapsed_sections": [
    "RYFuejL5sXMt",
    "aFbtD4uKrv3W"
   ],
   "name": "(원본) [Numpy] Python3 Codebook.ipynb",
   "provenance": []
  },
  "kernelspec": {
   "display_name": "Python 3",
   "language": "python",
   "name": "python3"
  },
  "language_info": {
   "codemirror_mode": {
    "name": "ipython",
    "version": 3
   },
   "file_extension": ".py",
   "mimetype": "text/x-python",
   "name": "python",
   "nbconvert_exporter": "python",
   "pygments_lexer": "ipython3",
   "version": "3.8.2"
  }
 },
 "nbformat": 4,
 "nbformat_minor": 1
}
