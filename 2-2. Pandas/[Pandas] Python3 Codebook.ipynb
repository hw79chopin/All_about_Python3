{
  "nbformat": 4,
  "nbformat_minor": 0,
  "metadata": {
    "colab": {
      "name": "(원본) [Pandas] Python3 Codebook.ipynb",
      "provenance": [],
      "collapsed_sections": [
        "RZ-5XqcmIK2a",
        "aFbtD4uKrv3W",
        "tfB7pD9n6awt",
        "Yd85foUJ6bB-",
        "ZBp7J99j6nY0",
        "orekXW7S6nk8",
        "fC_osfSf8TdI",
        "TiSWHHl-9FU6",
        "fpAwTgWWRXB9",
        "kO1ELDKIRBHh"
      ],
      "toc_visible": true
    },
    "kernelspec": {
      "name": "python3",
      "display_name": "Python 3"
    },
    "accelerator": "GPU"
  },
  "cells": [
    {
      "cell_type": "markdown",
      "metadata": {
        "id": "RYFuejL5sXMt"
      },
      "source": [
        "---\n",
        "# 📁 Hyun's Code collection (Pandas) \n",
        "---\n",
        "\n",
        "### <h3 align=\"right\">🥇 Authored by <strong>Hyun</strong></h3>"
      ]
    },
    {
      "cell_type": "markdown",
      "metadata": {
        "id": "RZ-5XqcmIK2a"
      },
      "source": [
        "# ✏️  What is **Pandas**?"
      ]
    },
    {
      "cell_type": "markdown",
      "metadata": {
        "id": "1Wt6wX0WkcuQ"
      },
      "source": [
        "- Pandas는 데이터 조작 및 분석을 위해 Python 프로그래밍 언어로 작성된 소프트웨어 라이브러리\n",
        "- 행과 열로 이루어진 데이터 객체를 만들어 다룰 수 있어 보다 안정적으로 대용량의 데이터들을 처리하는데 매우 편리한 도구\n",
        "- 대따대따대따 많이 쓰임"
      ]
    },
    {
      "cell_type": "markdown",
      "metadata": {
        "id": "aFbtD4uKrv3W"
      },
      "source": [
        "# ✏️ Importing Libraries"
      ]
    },
    {
      "cell_type": "code",
      "metadata": {
        "id": "gRO8gtPDrySn"
      },
      "source": [
        "# Basic Setting\n",
        "import openpyxl\n",
        "import pandas as pd\n",
        "from pandas import Series, DataFrame\n",
        "import pandas_profiling\n",
        "\n",
        "# Time Series Data\n",
        "import calendar\n",
        "import dateutil\n",
        "from dateutil.parser import parse\n",
        "import datetime\n",
        "\n",
        "# tqdm thing\n",
        "from tqdm.notebook import tqdm\n",
        "import time\n",
        "\n",
        "# row, column setting\n",
        "pd.set_option('display.max_columns', 200)\n",
        "pd.set_option('display.max_rows', 200)"
      ],
      "execution_count": null,
      "outputs": []
    },
    {
      "cell_type": "markdown",
      "metadata": {
        "id": "Pj7w8zO75w17"
      },
      "source": [
        "# ✏️  Methods and Examples\n"
      ]
    },
    {
      "cell_type": "markdown",
      "metadata": {
        "id": "sGTi6adD53nM"
      },
      "source": [
        "## 🔎 Basic Methods"
      ]
    },
    {
      "cell_type": "markdown",
      "metadata": {
        "id": "WhCGrwJc58qy"
      },
      "source": [
        "- **pd. Series ( data , index= [ index names ] )**: series data 만들기\n",
        "- **pd. DataFrame ( data , columns = [ \" column1 \" , \" column2 \" ] )**: dataframe 만들기\n",
        "- **.array** : Change to array\n",
        "- **.to_numpy( )** : Change to Numpy Array\n",
        "- **np .asarray( <Dataframe> )** : Change to Numpy Array\n",
        "- **series.name**: Show name for Series\n",
        "- **series.rename( < New Name > )**: Rename Series's name attribute\n",
        "- **type ( )**: type을 보여줌\n",
        "- **.shape**: 해당 dataframe의 row, column 수를 반환\n",
        "- **.columns**: columns를 보여줌 \n",
        "- **.info ( )**: index, columns 갯수, type 등을 반환\n",
        "- **.dtypes**: Columns들의 type을 보여줌\n",
        "- 🌟**.describe ( )**: 기술통계를 보여줌\n",
        "- **.describe ( include = [ \" object \" ] )**: Categorial data의 통계를 보여줌\n",
        "- **pandas_profiling.ProfileReport()**: pandas profiling 보기\n",
        "- **.corr ( )**: 상관관계를 보여줌\n",
        "- **a.corrwith ( b )**: a와 b의 상관관계를 보여줌\n",
        "- **.index**: index를 보여줌\n",
        "- **.values**: 각 index의 value 값들을 보여줌\n",
        "- **.tolist ( )**: 데이터 프레임을 리스트로 반환\n",
        "- **.to_dict ( )**: dataframe을 dictionary 형태로 반환\n",
        "- **.sum ( )**: 합\n",
        "- **.mean ( )**: mean (Column perspective)\n",
        "- 🌟**.mean ( 1 )**: mean (row perspective)\n",
        "- **.median ( )**: 중앙값\n",
        "- **.std ( )**: 표준편차\n",
        "- **.max ( )**: 최대값\n",
        "- **.min ( )**: 최소값\n",
        "- **.idxmin()** : return index of minimum value\n",
        "- **.idxmax()** : return index of maximum value\n",
        "- **.corr( )**: 피어슨 상관계수 구하기\n",
        "- **.DESCR**: 데이터 대략적인 묘사\n",
        "- **inplace=True**: 반환 받지 않고 데이터프레임을 바로 변형하게 하는 것\n",
        "\n",
        "- **divmod ( <pd.Sereis>, <num> ) **: Takes floor division and modulo operation at the same time. Return two-tuple\n",
        "\n",
        "- **.eq()** : Same (==)\n",
        "- **.ne()** : Different (!=)\n",
        "- **.lt()** : less than (<)\n",
        "- **.gt()** : greater than (>)\n",
        "- **.le()** : less or equal (<=)\n",
        "- **.ge()** : grater or equal (>=)\n",
        "\n",
        "- **.to_numpy()**: numpy array 형태로 바꿔준다. 단 index, column label은 없음.\n",
        "- 🌟**.sort_index(axis=1)**: Sort by columns\n",
        "- 🌟**.iat[ ]**: Fast iloc. Get Scalar value\n",
        "- 🌟**.at[ ]**: Fast loc. Get Scalar value\n",
        "\n",
        "- **df .at[ dates[0], < Column > ] = 0**: Setting values by label\n",
        "- **df .iat[ 1, 1 ] = 0**: Setting values by position\n",
        "\n",
        "- **.cat** : Select series as Categorical values\n",
        "- 🌟**pd .Categorical( < Column Name > )**: Changing Column type to Categorical \n",
        "\n",
        "- **.insert( < Location >, < Column Name >, < Column Value > )**: How to insert new column using insert method\n",
        "\n",
        "- **pd .set_option ( ' display .max_columns ' , 500 )** : Set max column upto 500\n",
        "- **pd .set_option ( ' display .max_rows ' , 500 )** : Set max rows upto 500\n",
        "- **pd .set_option ( ' compute .use_bottleneck ' , False)** : Don't use bottleneck\n",
        "- **pd .set_option ( ' compute .use_numexpr ' , False)** : don't use numexpr"
      ]
    },
    {
      "cell_type": "markdown",
      "metadata": {
        "id": "6K8GLAMWEZL9"
      },
      "source": [
        "### 📔 Examples"
      ]
    },
    {
      "cell_type": "code",
      "metadata": {
        "id": "EhdvVyEhWgES"
      },
      "source": [
        "# Ignoring pandas warnings\n",
        "import warnings\n",
        "warnings.filterwarnings('ignore')"
      ],
      "execution_count": null,
      "outputs": []
    },
    {
      "cell_type": "code",
      "metadata": {
        "id": "1FFTAEyWiUZ-"
      },
      "source": [
        "# Reading multiple files\n",
        "import glob\n",
        "import os\n",
        "\n",
        "files = glob.glob(\"file_*.csv\")\n",
        "result = pd.concat([pd.read_csv(f) for f in files], ignore_index=True)"
      ],
      "execution_count": null,
      "outputs": []
    },
    {
      "cell_type": "code",
      "metadata": {
        "id": "LhX15E-l-3h3"
      },
      "source": [
        "# Comparision between Dataframes\n",
        "df.gt(df2)\n",
        "\n",
        "df.ne(df2)"
      ],
      "execution_count": null,
      "outputs": []
    },
    {
      "cell_type": "code",
      "metadata": {
        "colab": {
          "base_uri": "https://localhost:8080/"
        },
        "id": "NNth2pJ29uHi",
        "outputId": "90905ba1-6691-41c0-81f8-e4e92c19effd"
      },
      "source": [
        "# divmod function example\n",
        "s = pd.Series(np.arange(10))\n",
        "\n",
        "div, rem = divmod(s, 3)\n",
        "print(\"div\", '\\n', div)\n",
        "print(\"rem\", '\\n', rem)"
      ],
      "execution_count": null,
      "outputs": [
        {
          "output_type": "stream",
          "text": [
            "div \n",
            " 0    0\n",
            "1    0\n",
            "2    0\n",
            "3    1\n",
            "4    1\n",
            "5    1\n",
            "6    2\n",
            "7    2\n",
            "8    2\n",
            "9    3\n",
            "dtype: int64\n",
            "rem \n",
            " 0    0\n",
            "1    1\n",
            "2    2\n",
            "3    0\n",
            "4    1\n",
            "5    2\n",
            "6    0\n",
            "7    1\n",
            "8    2\n",
            "9    0\n",
            "dtype: int64\n"
          ],
          "name": "stdout"
        }
      ]
    },
    {
      "cell_type": "code",
      "metadata": {
        "id": "-kRLVSVj9uDp"
      },
      "source": [
        "div, rem = divmod(s, 3)"
      ],
      "execution_count": null,
      "outputs": []
    },
    {
      "cell_type": "code",
      "metadata": {
        "id": "yQrmQsoFHpqH"
      },
      "source": [
        "# Using Boolean operators with dataframes\n",
        "df1 & df2"
      ],
      "execution_count": null,
      "outputs": []
    },
    {
      "cell_type": "code",
      "metadata": {
        "id": "TumbBqpKFmmf"
      },
      "source": [
        "import pandas as pd\n",
        "import numpy as np"
      ],
      "execution_count": null,
      "outputs": []
    },
    {
      "cell_type": "code",
      "metadata": {
        "colab": {
          "base_uri": "https://localhost:8080/",
          "height": 191
        },
        "id": "B6064kJOF2HQ",
        "outputId": "99e27d7f-bb7d-4752-ce78-1b93fff46ec8"
      },
      "source": [
        "# Creating MultiIndexed Frame\n",
        "pd.DataFrame(np.arange(16).reshape(4,4),\n",
        "\n",
        "                         index = [[1,1,2,2],['s1','s2','s1','s2']],\n",
        "\n",
        "                         columns = [['apple','apple','banana','banana'], ['price','qty','price','qty']],\n",
        "\n",
        "                         )\n"
      ],
      "execution_count": null,
      "outputs": [
        {
          "output_type": "execute_result",
          "data": {
            "text/html": [
              "<div>\n",
              "<style scoped>\n",
              "    .dataframe tbody tr th:only-of-type {\n",
              "        vertical-align: middle;\n",
              "    }\n",
              "\n",
              "    .dataframe tbody tr th {\n",
              "        vertical-align: top;\n",
              "    }\n",
              "\n",
              "    .dataframe thead tr th {\n",
              "        text-align: left;\n",
              "    }\n",
              "</style>\n",
              "<table border=\"1\" class=\"dataframe\">\n",
              "  <thead>\n",
              "    <tr>\n",
              "      <th></th>\n",
              "      <th></th>\n",
              "      <th colspan=\"2\" halign=\"left\">apple</th>\n",
              "      <th colspan=\"2\" halign=\"left\">banana</th>\n",
              "    </tr>\n",
              "    <tr>\n",
              "      <th></th>\n",
              "      <th></th>\n",
              "      <th>price</th>\n",
              "      <th>qty</th>\n",
              "      <th>price</th>\n",
              "      <th>qty</th>\n",
              "    </tr>\n",
              "  </thead>\n",
              "  <tbody>\n",
              "    <tr>\n",
              "      <th rowspan=\"2\" valign=\"top\">1</th>\n",
              "      <th>s1</th>\n",
              "      <td>0</td>\n",
              "      <td>1</td>\n",
              "      <td>2</td>\n",
              "      <td>3</td>\n",
              "    </tr>\n",
              "    <tr>\n",
              "      <th>s2</th>\n",
              "      <td>4</td>\n",
              "      <td>5</td>\n",
              "      <td>6</td>\n",
              "      <td>7</td>\n",
              "    </tr>\n",
              "    <tr>\n",
              "      <th rowspan=\"2\" valign=\"top\">2</th>\n",
              "      <th>s1</th>\n",
              "      <td>8</td>\n",
              "      <td>9</td>\n",
              "      <td>10</td>\n",
              "      <td>11</td>\n",
              "    </tr>\n",
              "    <tr>\n",
              "      <th>s2</th>\n",
              "      <td>12</td>\n",
              "      <td>13</td>\n",
              "      <td>14</td>\n",
              "      <td>15</td>\n",
              "    </tr>\n",
              "  </tbody>\n",
              "</table>\n",
              "</div>"
            ],
            "text/plain": [
              "     apple     banana    \n",
              "     price qty  price qty\n",
              "1 s1     0   1      2   3\n",
              "  s2     4   5      6   7\n",
              "2 s1     8   9     10  11\n",
              "  s2    12  13     14  15"
            ]
          },
          "metadata": {
            "tags": []
          },
          "execution_count": 6
        }
      ]
    },
    {
      "cell_type": "code",
      "metadata": {
        "colab": {
          "base_uri": "https://localhost:8080/",
          "height": 162
        },
        "id": "ZjwofA2eFdQv",
        "outputId": "bfa1921d-651a-4028-d814-aa294517aa28"
      },
      "source": [
        "# Creating MultiIndexed Frame\n",
        "pd.DataFrame(\n",
        "    {\n",
        "        (\"a\", \"b\"): {(\"A\", \"B\"): 1, (\"A\", \"C\"): 2},\n",
        "        (\"a\", \"a\"): {(\"A\", \"C\"): 3, (\"A\", \"B\"): 4},\n",
        "        (\"a\", \"c\"): {(\"A\", \"B\"): 5, (\"A\", \"C\"): 6},\n",
        "        (\"b\", \"a\"): {(\"A\", \"C\"): 7, (\"A\", \"B\"): 8},\n",
        "        (\"b\", \"b\"): {(\"A\", \"D\"): 9, (\"A\", \"B\"): 10},\n",
        "    }\n",
        ")"
      ],
      "execution_count": null,
      "outputs": [
        {
          "output_type": "execute_result",
          "data": {
            "text/html": [
              "<div>\n",
              "<style scoped>\n",
              "    .dataframe tbody tr th:only-of-type {\n",
              "        vertical-align: middle;\n",
              "    }\n",
              "\n",
              "    .dataframe tbody tr th {\n",
              "        vertical-align: top;\n",
              "    }\n",
              "\n",
              "    .dataframe thead tr th {\n",
              "        text-align: left;\n",
              "    }\n",
              "</style>\n",
              "<table border=\"1\" class=\"dataframe\">\n",
              "  <thead>\n",
              "    <tr>\n",
              "      <th></th>\n",
              "      <th></th>\n",
              "      <th colspan=\"3\" halign=\"left\">a</th>\n",
              "      <th colspan=\"2\" halign=\"left\">b</th>\n",
              "    </tr>\n",
              "    <tr>\n",
              "      <th></th>\n",
              "      <th></th>\n",
              "      <th>b</th>\n",
              "      <th>a</th>\n",
              "      <th>c</th>\n",
              "      <th>a</th>\n",
              "      <th>b</th>\n",
              "    </tr>\n",
              "  </thead>\n",
              "  <tbody>\n",
              "    <tr>\n",
              "      <th rowspan=\"3\" valign=\"top\">A</th>\n",
              "      <th>B</th>\n",
              "      <td>1.0</td>\n",
              "      <td>4.0</td>\n",
              "      <td>5.0</td>\n",
              "      <td>8.0</td>\n",
              "      <td>10.0</td>\n",
              "    </tr>\n",
              "    <tr>\n",
              "      <th>C</th>\n",
              "      <td>2.0</td>\n",
              "      <td>3.0</td>\n",
              "      <td>6.0</td>\n",
              "      <td>7.0</td>\n",
              "      <td>NaN</td>\n",
              "    </tr>\n",
              "    <tr>\n",
              "      <th>D</th>\n",
              "      <td>NaN</td>\n",
              "      <td>NaN</td>\n",
              "      <td>NaN</td>\n",
              "      <td>NaN</td>\n",
              "      <td>9.0</td>\n",
              "    </tr>\n",
              "  </tbody>\n",
              "</table>\n",
              "</div>"
            ],
            "text/plain": [
              "       a              b      \n",
              "       b    a    c    a     b\n",
              "A B  1.0  4.0  5.0  8.0  10.0\n",
              "  C  2.0  3.0  6.0  7.0   NaN\n",
              "  D  NaN  NaN  NaN  NaN   9.0"
            ]
          },
          "metadata": {
            "tags": []
          },
          "execution_count": 5
        }
      ]
    },
    {
      "cell_type": "code",
      "metadata": {
        "id": "QMNXJJQ3OULb"
      },
      "source": [
        "# Change ojbect column to Categorical Column\n",
        "'''\n",
        "Categorical Column consumes less data and performs much faster than plain text data\n",
        "'''\n",
        "df['BILL_NAME'] = pd.Categorical(df['BILL_NAME'])"
      ],
      "execution_count": null,
      "outputs": []
    },
    {
      "cell_type": "code",
      "metadata": {
        "id": "5_CizxBfL5T1"
      },
      "source": [
        "# Group by Categorical column\n",
        "df.groupby(\"grade\").size()"
      ],
      "execution_count": null,
      "outputs": []
    },
    {
      "cell_type": "code",
      "metadata": {
        "id": "rqcjB5nwLpMt"
      },
      "source": [
        "# Rename categories\n",
        "df['grade'].cat.categories = ['Top', \"Middle\", \"Bottom\"]"
      ],
      "execution_count": null,
      "outputs": []
    },
    {
      "cell_type": "code",
      "metadata": {
        "id": "exKN7eEdIaab"
      },
      "source": [
        "# Setting with Numpy Array\n",
        "df.loc[:, \"Column1\"] = np.array([5] * len(df))"
      ],
      "execution_count": null,
      "outputs": []
    },
    {
      "cell_type": "code",
      "metadata": {
        "colab": {
          "base_uri": "https://localhost:8080/"
        },
        "id": "VpbVrVyIGl20",
        "outputId": "9efa0dad-bf05-437f-cb7e-ce3cc3bc6438"
      },
      "source": [
        "# Using iat\n",
        "df.iat[1, 1]"
      ],
      "execution_count": null,
      "outputs": [
        {
          "output_type": "execute_result",
          "data": {
            "text/plain": [
              "0.17319709573267061"
            ]
          },
          "metadata": {
            "tags": []
          },
          "execution_count": 13
        }
      ]
    },
    {
      "cell_type": "code",
      "metadata": {
        "colab": {
          "base_uri": "https://localhost:8080/",
          "height": 162
        },
        "id": "aQs14NcdGPdH",
        "outputId": "7a7193cc-fab4-4a20-922c-3953384a2405"
      },
      "source": [
        "# Select by locations\n",
        "df.iloc[[0,1,2,5], [0,1,3]]"
      ],
      "execution_count": null,
      "outputs": [
        {
          "output_type": "execute_result",
          "data": {
            "text/html": [
              "<div>\n",
              "<style scoped>\n",
              "    .dataframe tbody tr th:only-of-type {\n",
              "        vertical-align: middle;\n",
              "    }\n",
              "\n",
              "    .dataframe tbody tr th {\n",
              "        vertical-align: top;\n",
              "    }\n",
              "\n",
              "    .dataframe thead th {\n",
              "        text-align: right;\n",
              "    }\n",
              "</style>\n",
              "<table border=\"1\" class=\"dataframe\">\n",
              "  <thead>\n",
              "    <tr style=\"text-align: right;\">\n",
              "      <th></th>\n",
              "      <th>가</th>\n",
              "      <th>나</th>\n",
              "      <th>라</th>\n",
              "    </tr>\n",
              "  </thead>\n",
              "  <tbody>\n",
              "    <tr>\n",
              "      <th>2021-01-01</th>\n",
              "      <td>0.431141</td>\n",
              "      <td>0.090399</td>\n",
              "      <td>0.228538</td>\n",
              "    </tr>\n",
              "    <tr>\n",
              "      <th>2021-01-02</th>\n",
              "      <td>0.752557</td>\n",
              "      <td>0.173197</td>\n",
              "      <td>0.943318</td>\n",
              "    </tr>\n",
              "    <tr>\n",
              "      <th>2021-01-03</th>\n",
              "      <td>0.989908</td>\n",
              "      <td>0.003252</td>\n",
              "      <td>0.815100</td>\n",
              "    </tr>\n",
              "    <tr>\n",
              "      <th>2021-01-06</th>\n",
              "      <td>0.982183</td>\n",
              "      <td>0.907697</td>\n",
              "      <td>0.027438</td>\n",
              "    </tr>\n",
              "  </tbody>\n",
              "</table>\n",
              "</div>"
            ],
            "text/plain": [
              "                   가         나         라\n",
              "2021-01-01  0.431141  0.090399  0.228538\n",
              "2021-01-02  0.752557  0.173197  0.943318\n",
              "2021-01-03  0.989908  0.003252  0.815100\n",
              "2021-01-06  0.982183  0.907697  0.027438"
            ]
          },
          "metadata": {
            "tags": []
          },
          "execution_count": 10
        }
      ]
    },
    {
      "cell_type": "code",
      "metadata": {
        "colab": {
          "base_uri": "https://localhost:8080/"
        },
        "id": "RrUeF0ILEdCX",
        "outputId": "b3736ead-868f-4cc8-ad93-327655b4e790"
      },
      "source": [
        "# Dataframe slicing by rows\n",
        "df = pd.DataFrame(np.random.rand(6, 4), index=pd.date_range(\"20210101\", periods=6), columns=list(\"가나다라\"))\n",
        "df[0:3], df['20210101':\"20210104\"]"
      ],
      "execution_count": null,
      "outputs": [
        {
          "output_type": "execute_result",
          "data": {
            "text/plain": [
              "(                   가         나         다         라\n",
              " 2021-01-01  0.431141  0.090399  0.808965  0.228538\n",
              " 2021-01-02  0.752557  0.173197  0.166219  0.943318\n",
              " 2021-01-03  0.989908  0.003252  0.468438  0.815100,\n",
              "                    가         나         다         라\n",
              " 2021-01-01  0.431141  0.090399  0.808965  0.228538\n",
              " 2021-01-02  0.752557  0.173197  0.166219  0.943318\n",
              " 2021-01-03  0.989908  0.003252  0.468438  0.815100\n",
              " 2021-01-04  0.294465  0.886099  0.652429  0.935328)"
            ]
          },
          "metadata": {
            "tags": []
          },
          "execution_count": 9
        }
      ]
    },
    {
      "cell_type": "code",
      "metadata": {
        "colab": {
          "base_uri": "https://localhost:8080/",
          "height": 220
        },
        "id": "LUa6_B1HD43F",
        "outputId": "92117629-1e59-4b3e-b2f8-3c883b671fc3"
      },
      "source": [
        "# Create column index with list\n",
        "df = pd.DataFrame(np.random.rand(6, 4), index=pd.date_range(\"20210101\", periods=6), columns=list(\"가나다라\"))\n",
        "df"
      ],
      "execution_count": null,
      "outputs": [
        {
          "output_type": "execute_result",
          "data": {
            "text/html": [
              "<div>\n",
              "<style scoped>\n",
              "    .dataframe tbody tr th:only-of-type {\n",
              "        vertical-align: middle;\n",
              "    }\n",
              "\n",
              "    .dataframe tbody tr th {\n",
              "        vertical-align: top;\n",
              "    }\n",
              "\n",
              "    .dataframe thead th {\n",
              "        text-align: right;\n",
              "    }\n",
              "</style>\n",
              "<table border=\"1\" class=\"dataframe\">\n",
              "  <thead>\n",
              "    <tr style=\"text-align: right;\">\n",
              "      <th></th>\n",
              "      <th>가</th>\n",
              "      <th>나</th>\n",
              "      <th>다</th>\n",
              "      <th>라</th>\n",
              "    </tr>\n",
              "  </thead>\n",
              "  <tbody>\n",
              "    <tr>\n",
              "      <th>2021-01-01</th>\n",
              "      <td>0.834211</td>\n",
              "      <td>0.094163</td>\n",
              "      <td>0.683797</td>\n",
              "      <td>0.265670</td>\n",
              "    </tr>\n",
              "    <tr>\n",
              "      <th>2021-01-02</th>\n",
              "      <td>0.906947</td>\n",
              "      <td>0.640139</td>\n",
              "      <td>0.216136</td>\n",
              "      <td>0.567177</td>\n",
              "    </tr>\n",
              "    <tr>\n",
              "      <th>2021-01-03</th>\n",
              "      <td>0.291280</td>\n",
              "      <td>0.625926</td>\n",
              "      <td>0.864745</td>\n",
              "      <td>0.133311</td>\n",
              "    </tr>\n",
              "    <tr>\n",
              "      <th>2021-01-04</th>\n",
              "      <td>0.494852</td>\n",
              "      <td>0.650316</td>\n",
              "      <td>0.539068</td>\n",
              "      <td>0.698920</td>\n",
              "    </tr>\n",
              "    <tr>\n",
              "      <th>2021-01-05</th>\n",
              "      <td>0.178426</td>\n",
              "      <td>0.173516</td>\n",
              "      <td>0.915425</td>\n",
              "      <td>0.777598</td>\n",
              "    </tr>\n",
              "    <tr>\n",
              "      <th>2021-01-06</th>\n",
              "      <td>0.803201</td>\n",
              "      <td>0.995424</td>\n",
              "      <td>0.952416</td>\n",
              "      <td>0.511463</td>\n",
              "    </tr>\n",
              "  </tbody>\n",
              "</table>\n",
              "</div>"
            ],
            "text/plain": [
              "                   가         나         다         라\n",
              "2021-01-01  0.834211  0.094163  0.683797  0.265670\n",
              "2021-01-02  0.906947  0.640139  0.216136  0.567177\n",
              "2021-01-03  0.291280  0.625926  0.864745  0.133311\n",
              "2021-01-04  0.494852  0.650316  0.539068  0.698920\n",
              "2021-01-05  0.178426  0.173516  0.915425  0.777598\n",
              "2021-01-06  0.803201  0.995424  0.952416  0.511463"
            ]
          },
          "metadata": {
            "tags": []
          },
          "execution_count": 4
        }
      ]
    },
    {
      "cell_type": "code",
      "metadata": {
        "colab": {
          "base_uri": "https://localhost:8080/"
        },
        "id": "R6EfYBWwDn89",
        "outputId": "e10765da-cedb-46ed-b804-8adcf82358e6"
      },
      "source": [
        "# Create Time Datarange\n",
        "pd.date_range(\"20210101\", periods=15)"
      ],
      "execution_count": null,
      "outputs": [
        {
          "output_type": "execute_result",
          "data": {
            "text/plain": [
              "DatetimeIndex(['2021-01-01', '2021-01-02', '2021-01-03', '2021-01-04',\n",
              "               '2021-01-05', '2021-01-06', '2021-01-07', '2021-01-08',\n",
              "               '2021-01-09', '2021-01-10', '2021-01-11', '2021-01-12',\n",
              "               '2021-01-13', '2021-01-14', '2021-01-15'],\n",
              "              dtype='datetime64[ns]', freq='D')"
            ]
          },
          "metadata": {
            "tags": []
          },
          "execution_count": 2
        }
      ]
    },
    {
      "cell_type": "code",
      "metadata": {
        "id": "RwJlOo1pDXgH"
      },
      "source": [
        "# Creating Series data\n",
        "pd.Series([6,1,5, np.nan, 11, 2])"
      ],
      "execution_count": null,
      "outputs": []
    },
    {
      "cell_type": "markdown",
      "metadata": {
        "id": "MNuwOe3H5_9M"
      },
      "source": [
        "## 🔎 Handle data by columns, rows, boolean"
      ]
    },
    {
      "cell_type": "markdown",
      "metadata": {
        "id": "w31CI2NL6UlQ"
      },
      "source": [
        "- **df [ [ ' ' , ' ' ] ]** : column 선택하기\n",
        "- **df .loc [ [ ' ' , ' ' ] ]** : row 선택하기\n",
        "- **df .loc [ [ ' ' ] , [ ' ' ] ]** : column/row 선택하기\n",
        "- **df mul( , axis = )**: row에 각각 다른 값을 곱할 때\n",
        "- **.sample ( frac = , random_state = )**: sample 뽑기\n",
        "- **df [ ' column ' ]**: 원하는 column 보기\n",
        "- **df [ ' column 이름 ' ] = np.nan** : 텅 빈 column 만들어주기\n",
        "- **df [ ' new column ' ]**: column 추가하기\n",
        "- **df [ [ 'column1' , 'column2' , 'column3' ] ]**: 원하는 column들 불러오기\n",
        "\n",
        "- 🌟 **.pipe( )**: 함수를 연속해서 실행하고자 할 때\n",
        "\n",
        "- **.set_index ( [ ' column ' ] )**: 해당 column을 index로 바꿔줌\n",
        "\n",
        "  **.set_index ( [ ' index1 ' , ' index2 ' ] )**: index를 여러 개로 설정하기\n",
        "- **.reset_index ( name = ' ' )**: 기존의 행 index를 제거하고 index를 데이터 열로 추가\n",
        "- **.loc [ 'index', 'columns' ]**: loc은 Index가 가지고 있는 값을 반환. selection by label\n",
        "\n",
        "  **.loc [ ' index1 ' , ' index2 ' ,  [ ' columns1 ' , ' columns2 ' ] ]**: 여러 개의 index를 가져오려면 이러로콤. index자리에 조건을 넣어줘도 됨\n",
        "  \n",
        "  **df.loc [ 'index' , ' column ' ] = 'value'**: 이렇게 해당 value를 바꿔줄 수도 있음\n",
        "\n",
        "  **df .loc [ 조건, ' columns ' ] = value** : 이렇게 조건에 해당하는 값을 바꿀 수 있음\n",
        "- **chain indexing**\n",
        "\n",
        "  **df [ ' column ' ]  [ ' index ' ] = 'value'**: 이렇게 해당 value를 바꿔줄 수도 있음. 이 방법보다는 loc을 추천\n",
        "  \n",
        "- **df [ ' index1 ' : ' index2 ']**: 원하는 index들 slicing하기\n",
        "\n",
        "- **.iloc [ ]**: iloc은 index의 위치 기준으로 동작합니다.(정수만 사용). selection by position\n",
        "- **str .contain( '정규식', na = False )**: column에 str을 매칭시키는 느낌\n",
        "- **.drop ( )**: 데이터 삭제\n",
        "\n",
        "  **.drop ( index )**: 해당 row, index를 삭제. axis=0이 default임\n",
        "  \n",
        "  **.drop ( columns = [ ' column1 ' , ' column2 ' ] )**: 해당 column을 삭제\n",
        " \n",
        "  🌟 **.drop ( [ <indexName> ] , axis = 0 )**: Delete rows\n",
        "  \n",
        "  **.drop ( [ <ColumnName> ] , axis = 1 )**: Delete columns\n",
        "\n",
        "  **.drop ( ' column1 ' , axis = 1)**: 이렇게 column 삭제도 가능\n",
        "- **.isnull ( ) .sum ( ) / len ( )**: null값 비율 구하기\n",
        "- **.dropna ( axis = 0 )**: 결측값 있는 행을 삭제\n",
        "  \n",
        "  **.dropna ( axis = 1 )**: 결측값 있는 열을 삭제\n",
        " \n",
        "  **.dropna ( how = ' all ' )**: 결측값 있는 모든 행과 열을 삭제\n",
        "\n",
        "  **.dropna ( subset = [ 'column1' , 'column2' ] )** : 특정 column의 nan값이 있는 row를 날려주기\n",
        "- **.unique ( )**: 해당 column, dataframe의 value들을 보여줌\n",
        "- **.nunique ( )**: 서로 다른 value의 갯수를 반환\n",
        "- **.value_counts( )**: value의 총 갯수를 반환. column 내 원하는 value의 수를 반환\n",
        "- **del**: 삭제시킴\n",
        "- **.repeat( )**: 가로 안에 들어가는 값만큼 반복함\n",
        "- **.index = df [ ' column1e ' ]** : 해당 column을 index로 \n",
        " \n",
        "  **.index = list ( range ( a , b ) )** : 이렇게 index를 설정할 수도 있음\n",
        "- **.rename ( columns = { ' column name ' : ' new name ' } )** : column 이름 변경하기\n",
        "\n",
        "  **.columns = [ ' 원하는 columns name 1 ' , ' 원하는 column name 2 ' , ... ]** : 이렇게 바꿔줄 수도 있음\n",
        "- **.duplicated ( [ ' columns1' ] )** : boolean 형태로 중복값에 True를 반환\n",
        "- **.drop_duplicates ( [ ' column1 ' , ' column2 ' ] )**: 중복값을 삭제 (나는 이 방법 비추천)\n",
        "- **df = df [ [ ' my_order1 ' , 'my_oder2' , 'my_order3' , 'my_order4' ] ]**: column 순서 바꾸기\n",
        "- **df.copy ( )**: df를 똑같이 복사함\n",
        "- **.isnull( ).sum( )**: 결측치 개수를 반환\n",
        "- **.notnull( ).sum( )**: 결측치가 아닌 값들 수를 반환\n",
        "- **.add_prefix ( \" prefix \" )**: column 이름에 모두 접두사를 추가\n",
        "- **.astype ( type )**: 입력한 type으로 변경해준다.\n",
        "- **.isdigit( )**: 숫자인지 아닌지 판별해주는 메소드\n",
        "- **get_dummies ( [ \" column name \" ] , prefix = \" prefix \")**: 더미변수 생성\n",
        "- **Boolean indexing**\n",
        " \n",
        " **df. column + 조건**: 조건을 넣어주면 됨. e.g.>, ==, !=, >=\n",
        "\n",
        " **df [ df .column + 조건 ]** 아니면 **df [ df [ ' column ' ] + 조건 ]**: 조건에 맞는 데이터 따로 빼기\n",
        "- **. fillna ( )**: 결측치 채우기\n",
        "\n",
        "  **.filnna( 조건 , inplace = True)**: 조건에 맞게 결측치를 채움\n",
        "- **inplace = True** : 변수를 직접 변경한다는 뜻\n",
        "- **df [ ' column ' ] . replace ( [ ' 기존 value ' ] , [ ' 바꾸고 싶은 value ' ] , inplace = True)**: 원하는 값으로 바꾸기\n",
        "\n",
        " **df [ ' column ' ] . replace ( { \" 기존 value \" : int, \"기존 value\" : \"str\" } , inplace = True)**: 이렇게 해도 됨\n",
        " \n",
        " **df [ ' column ' ] = df. column. map ( { \" 기존 value1 \" : 새 값 ( int ) , \" 기존 value2 \" : \" 새 값 ( str ) \" } )**: 원하는 값으로 바꾸는 다른 방법\n",
        " \n",
        "- **apply, applymap** : 원하는 함수를 적용할 때 사용\n",
        "- **df [ lambda x : x. column … ]**: 조건에 맞는 데이터만 뽑아 보기\n",
        "- **df [ ( df .column1 + 조건) & ( df [ ' column2 '] + 조건 ) ]**: 조건에 맞는 데이터 뽑기\n",
        "- **.isin( [ ' value1 ', ' value2 ' ] )**: value1이거나 value2인 값들을 반환\n",
        "- **.str .startswith ( ' str ' )**: str로 시작하는 value들을 반환\n",
        "- **.endswith ( ' str ' )**: str로 끝날 때\n",
        "- **.str .contains ( ' str ' )**: str를 포함하는 value들을 반환\n",
        "- **df .sort ( ' column ' )**: 순서대로 정렬\n",
        "- **pd.cut(data, bins, labels= )**: 실수값을 다음처럼 카테고리 값으로 바꿀 수 있음!! bins 인수는 카테고리를 나누는 기준값이고 영역을 넘는 값은 NaN으로 처리된다.\n",
        "- **.cut( 데이터, [ 범위 , 및 , 구간 ] , labels = [ 레이블 , 설정, 해주면 됨 ] )**: 원하는 구간별로 categoric 변수로 만들어 줄 수 있음\n",
        "- **.contains ( ' str, int' , regex=False  )** : value에서 특정 문자 혹은 숫자를 포함 여부에 따라 Boolean으로 반환. regex=True이면 정규식으로 인식\n",
        "- **.factorize()**: 카테고리를 다른 정숫값으로 매핑. Label encoding\n",
        "- **.lower( )** : Change to lowercase\n",
        "\n",
        "\n",
        "> Differnece btw map, apply methods\n",
        "- Map: Can be used only with Series Type\n",
        "- Apply: Can be also used with Dataframe Type\n"
      ]
    },
    {
      "cell_type": "markdown",
      "metadata": {
        "id": "d9JL9ioc7trO"
      },
      "source": [
        "### 📔 Examples"
      ]
    },
    {
      "cell_type": "code",
      "metadata": {
        "id": "dxGEYmeIx-2s"
      },
      "source": [
        "# Using eval( ) \n",
        "%timeit df1 + df2 + df3 + df4\n",
        "\n",
        "%timeit pd.eval(\"df1 + df2 + df3 + df4\")\n",
        "\n",
        "# eval( ) is 10 times faster than simple column computations"
      ],
      "execution_count": null,
      "outputs": []
    },
    {
      "cell_type": "code",
      "metadata": {
        "id": "cnRYcODBbDjx"
      },
      "source": [
        "# Query example\n",
        "for idx in df.query(\"법안내용.str.contains('전통시장') and 법안내용.str.contains('대규모') \", engine='python').index:\n",
        "    print(idx, df.loc[idx]['법안명'])\n",
        "    print(df.loc[idx]['법안내용'])\n",
        "    print(\"*\"*80)"
      ],
      "execution_count": null,
      "outputs": []
    },
    {
      "cell_type": "code",
      "metadata": {
        "id": "RMEIBANwE1Y4"
      },
      "source": [
        "# Display more than 2 dataframes at once\n",
        "from IPython.display import display_html\n",
        "def display_side_by_side(*args):\n",
        "    \"\"\"여러 데이터프레임 비교가 쉽게 옆쪽으로 표시한다\"\"\"\n",
        "    html_str=''\n",
        "    for df in args:\n",
        "        html_str += df.to_html()\n",
        "    display_html(html_str.replace('table','table style=\"display:inline\"'), raw=True)"
      ],
      "execution_count": null,
      "outputs": []
    },
    {
      "cell_type": "code",
      "metadata": {
        "id": "etHXce8pE3d0"
      },
      "source": [
        "## How to use query methods\n",
        "# Using variable name in query 1\n",
        "num_age = 10\n",
        "num_weight = 30\n",
        "str_expr = \"(age == @num_age) and (weight >= @num_weight)\"\n",
        "df_q = df.query(str_expr, inplace=True)     \n",
        "\n",
        "# Using variable name in query 2\n",
        "num_age = 10\n",
        "num_weight = 30\n",
        "str_expr = f\"(age == {num_age}) and (weight >= {num_weight})\"\n",
        "df_q = df.query(str_expr) \n",
        "\n",
        "# Using function in query\n",
        "def my_max(x, y):\n",
        "    return max(x,y)\n",
        "str_expr = \"age >= @my_max(1,22)\"\n",
        "df_q = df.query(str_expr) \n",
        "\n",
        "# Filter by index\n",
        "str_expr = \"index >= 2\" \n",
        "df_q = df.query(str_expr)  \n",
        "\n",
        "# query in string contains\n",
        "str_expr = \"name.str.contains('tiger')\" \n",
        "df_q = df.query(str_expr)  \n",
        "\n",
        "# query in string startswith/endswith\n",
        "str_expr = \"name.str.startswith('Tiger')\"\n",
        "df_q = df.query(str_expr)            \n",
        "\n",
        "str_expr = \"name.str.endswith('tiger')\" \n",
        "df_q = df.query(str_expr)"
      ],
      "execution_count": null,
      "outputs": []
    },
    {
      "cell_type": "code",
      "metadata": {
        "id": "pNMd2VH-CPAx"
      },
      "source": [
        "# Using query methods for filtering\n",
        "df[(df['a'] < df['b']) & (df['b'] < df['c'])]\n",
        "df.query('(a < b) & (b < c)')\n",
        "df.query('a < b and b < c')\n",
        "\n",
        "# Example 2\n",
        "df[~df['a'].isin(df['b'])]\n",
        "df.query('a not in b')\n",
        "\n",
        "# Example 3\n",
        "df[df['b'].isin([\"a\", \"b\", \"c\"])]\n",
        "df.query('c == [1, 2]')"
      ],
      "execution_count": null,
      "outputs": []
    },
    {
      "cell_type": "code",
      "metadata": {
        "id": "52OCbG6v-8GS"
      },
      "source": [
        "# Seleting by label\n",
        "df.loc['c':]\n",
        "\n",
        "# Selecting Rows and Columns\n",
        "df.loc[['a', 'b', 'd'], :]"
      ],
      "execution_count": null,
      "outputs": []
    },
    {
      "cell_type": "code",
      "metadata": {
        "id": "V-aLTk7w-oXp"
      },
      "source": [
        "# Setting value by slicing\n",
        "df[:5] = 0"
      ],
      "execution_count": null,
      "outputs": []
    },
    {
      "cell_type": "code",
      "metadata": {
        "id": "qeEEycJ1-gJl"
      },
      "source": [
        "# Slicing 2n rows\n",
        "df[::2]"
      ],
      "execution_count": null,
      "outputs": []
    },
    {
      "cell_type": "code",
      "metadata": {
        "id": "Hb0m6GbG-C90"
      },
      "source": [
        "# Changing Column value by iloc and dictionary\n",
        "df.iloc[1] = {'Column_A': 9, 'Column_B': 99}"
      ],
      "execution_count": null,
      "outputs": []
    },
    {
      "cell_type": "code",
      "metadata": {
        "id": "VE2VkgI1R647"
      },
      "source": [
        "# nlargest, nssmallest example\n",
        "df = pd.DataFrame(\n",
        "     {\n",
        "         \"a\": [-2, -1, 1, 10, 8, 11, -1],\n",
        "         \"b\": list(\"abdceff\"),\n",
        "         \"c\": [1.0, 2.0, 4.0, 3.2, np.nan, 3.0, 4.0],\n",
        "     }\n",
        " )"
      ],
      "execution_count": null,
      "outputs": []
    },
    {
      "cell_type": "code",
      "metadata": {
        "colab": {
          "base_uri": "https://localhost:8080/",
          "height": 248
        },
        "id": "ln7_sJP3SJaK",
        "outputId": "c7d18371-1d5a-466b-815a-c91dbe19ec32"
      },
      "source": [
        "df"
      ],
      "execution_count": null,
      "outputs": [
        {
          "output_type": "execute_result",
          "data": {
            "text/html": [
              "<div>\n",
              "<style scoped>\n",
              "    .dataframe tbody tr th:only-of-type {\n",
              "        vertical-align: middle;\n",
              "    }\n",
              "\n",
              "    .dataframe tbody tr th {\n",
              "        vertical-align: top;\n",
              "    }\n",
              "\n",
              "    .dataframe thead th {\n",
              "        text-align: right;\n",
              "    }\n",
              "</style>\n",
              "<table border=\"1\" class=\"dataframe\">\n",
              "  <thead>\n",
              "    <tr style=\"text-align: right;\">\n",
              "      <th></th>\n",
              "      <th>a</th>\n",
              "      <th>b</th>\n",
              "      <th>c</th>\n",
              "    </tr>\n",
              "  </thead>\n",
              "  <tbody>\n",
              "    <tr>\n",
              "      <th>0</th>\n",
              "      <td>-2</td>\n",
              "      <td>a</td>\n",
              "      <td>1.0</td>\n",
              "    </tr>\n",
              "    <tr>\n",
              "      <th>1</th>\n",
              "      <td>-1</td>\n",
              "      <td>b</td>\n",
              "      <td>2.0</td>\n",
              "    </tr>\n",
              "    <tr>\n",
              "      <th>2</th>\n",
              "      <td>1</td>\n",
              "      <td>d</td>\n",
              "      <td>4.0</td>\n",
              "    </tr>\n",
              "    <tr>\n",
              "      <th>3</th>\n",
              "      <td>10</td>\n",
              "      <td>c</td>\n",
              "      <td>3.2</td>\n",
              "    </tr>\n",
              "    <tr>\n",
              "      <th>4</th>\n",
              "      <td>8</td>\n",
              "      <td>e</td>\n",
              "      <td>NaN</td>\n",
              "    </tr>\n",
              "    <tr>\n",
              "      <th>5</th>\n",
              "      <td>11</td>\n",
              "      <td>f</td>\n",
              "      <td>3.0</td>\n",
              "    </tr>\n",
              "    <tr>\n",
              "      <th>6</th>\n",
              "      <td>-1</td>\n",
              "      <td>f</td>\n",
              "      <td>4.0</td>\n",
              "    </tr>\n",
              "  </tbody>\n",
              "</table>\n",
              "</div>"
            ],
            "text/plain": [
              "    a  b    c\n",
              "0  -2  a  1.0\n",
              "1  -1  b  2.0\n",
              "2   1  d  4.0\n",
              "3  10  c  3.2\n",
              "4   8  e  NaN\n",
              "5  11  f  3.0\n",
              "6  -1  f  4.0"
            ]
          },
          "metadata": {
            "tags": []
          },
          "execution_count": 8
        }
      ]
    },
    {
      "cell_type": "code",
      "metadata": {
        "colab": {
          "base_uri": "https://localhost:8080/",
          "height": 133
        },
        "id": "JZxfkGo9SD70",
        "outputId": "d930e1fe-7c37-463e-debd-fc631ab671bd"
      },
      "source": [
        "df.nlargest(3, \"a\")"
      ],
      "execution_count": null,
      "outputs": [
        {
          "output_type": "execute_result",
          "data": {
            "text/html": [
              "<div>\n",
              "<style scoped>\n",
              "    .dataframe tbody tr th:only-of-type {\n",
              "        vertical-align: middle;\n",
              "    }\n",
              "\n",
              "    .dataframe tbody tr th {\n",
              "        vertical-align: top;\n",
              "    }\n",
              "\n",
              "    .dataframe thead th {\n",
              "        text-align: right;\n",
              "    }\n",
              "</style>\n",
              "<table border=\"1\" class=\"dataframe\">\n",
              "  <thead>\n",
              "    <tr style=\"text-align: right;\">\n",
              "      <th></th>\n",
              "      <th>a</th>\n",
              "      <th>b</th>\n",
              "      <th>c</th>\n",
              "    </tr>\n",
              "  </thead>\n",
              "  <tbody>\n",
              "    <tr>\n",
              "      <th>5</th>\n",
              "      <td>11</td>\n",
              "      <td>f</td>\n",
              "      <td>3.0</td>\n",
              "    </tr>\n",
              "    <tr>\n",
              "      <th>3</th>\n",
              "      <td>10</td>\n",
              "      <td>c</td>\n",
              "      <td>3.2</td>\n",
              "    </tr>\n",
              "    <tr>\n",
              "      <th>4</th>\n",
              "      <td>8</td>\n",
              "      <td>e</td>\n",
              "      <td>NaN</td>\n",
              "    </tr>\n",
              "  </tbody>\n",
              "</table>\n",
              "</div>"
            ],
            "text/plain": [
              "    a  b    c\n",
              "5  11  f  3.0\n",
              "3  10  c  3.2\n",
              "4   8  e  NaN"
            ]
          },
          "metadata": {
            "tags": []
          },
          "execution_count": 4
        }
      ]
    },
    {
      "cell_type": "code",
      "metadata": {
        "colab": {
          "base_uri": "https://localhost:8080/",
          "height": 191
        },
        "id": "qGceNr-zSEEy",
        "outputId": "143887c3-80ca-4bf3-9272-6aa4edf7da45"
      },
      "source": [
        "df.nlargest(5, [\"a\", \"c\"])"
      ],
      "execution_count": null,
      "outputs": [
        {
          "output_type": "execute_result",
          "data": {
            "text/html": [
              "<div>\n",
              "<style scoped>\n",
              "    .dataframe tbody tr th:only-of-type {\n",
              "        vertical-align: middle;\n",
              "    }\n",
              "\n",
              "    .dataframe tbody tr th {\n",
              "        vertical-align: top;\n",
              "    }\n",
              "\n",
              "    .dataframe thead th {\n",
              "        text-align: right;\n",
              "    }\n",
              "</style>\n",
              "<table border=\"1\" class=\"dataframe\">\n",
              "  <thead>\n",
              "    <tr style=\"text-align: right;\">\n",
              "      <th></th>\n",
              "      <th>a</th>\n",
              "      <th>b</th>\n",
              "      <th>c</th>\n",
              "    </tr>\n",
              "  </thead>\n",
              "  <tbody>\n",
              "    <tr>\n",
              "      <th>5</th>\n",
              "      <td>11</td>\n",
              "      <td>f</td>\n",
              "      <td>3.0</td>\n",
              "    </tr>\n",
              "    <tr>\n",
              "      <th>3</th>\n",
              "      <td>10</td>\n",
              "      <td>c</td>\n",
              "      <td>3.2</td>\n",
              "    </tr>\n",
              "    <tr>\n",
              "      <th>4</th>\n",
              "      <td>8</td>\n",
              "      <td>e</td>\n",
              "      <td>NaN</td>\n",
              "    </tr>\n",
              "    <tr>\n",
              "      <th>2</th>\n",
              "      <td>1</td>\n",
              "      <td>d</td>\n",
              "      <td>4.0</td>\n",
              "    </tr>\n",
              "    <tr>\n",
              "      <th>6</th>\n",
              "      <td>-1</td>\n",
              "      <td>f</td>\n",
              "      <td>4.0</td>\n",
              "    </tr>\n",
              "  </tbody>\n",
              "</table>\n",
              "</div>"
            ],
            "text/plain": [
              "    a  b    c\n",
              "5  11  f  3.0\n",
              "3  10  c  3.2\n",
              "4   8  e  NaN\n",
              "2   1  d  4.0\n",
              "6  -1  f  4.0"
            ]
          },
          "metadata": {
            "tags": []
          },
          "execution_count": 5
        }
      ]
    },
    {
      "cell_type": "code",
      "metadata": {
        "colab": {
          "base_uri": "https://localhost:8080/",
          "height": 133
        },
        "id": "DiPYNnghSEVd",
        "outputId": "f9f1dcf7-f9b6-4710-d283-470a9031be6e"
      },
      "source": [
        "df.nsmallest(3, \"a\")"
      ],
      "execution_count": null,
      "outputs": [
        {
          "output_type": "execute_result",
          "data": {
            "text/html": [
              "<div>\n",
              "<style scoped>\n",
              "    .dataframe tbody tr th:only-of-type {\n",
              "        vertical-align: middle;\n",
              "    }\n",
              "\n",
              "    .dataframe tbody tr th {\n",
              "        vertical-align: top;\n",
              "    }\n",
              "\n",
              "    .dataframe thead th {\n",
              "        text-align: right;\n",
              "    }\n",
              "</style>\n",
              "<table border=\"1\" class=\"dataframe\">\n",
              "  <thead>\n",
              "    <tr style=\"text-align: right;\">\n",
              "      <th></th>\n",
              "      <th>a</th>\n",
              "      <th>b</th>\n",
              "      <th>c</th>\n",
              "    </tr>\n",
              "  </thead>\n",
              "  <tbody>\n",
              "    <tr>\n",
              "      <th>0</th>\n",
              "      <td>-2</td>\n",
              "      <td>a</td>\n",
              "      <td>1.0</td>\n",
              "    </tr>\n",
              "    <tr>\n",
              "      <th>1</th>\n",
              "      <td>-1</td>\n",
              "      <td>b</td>\n",
              "      <td>2.0</td>\n",
              "    </tr>\n",
              "    <tr>\n",
              "      <th>6</th>\n",
              "      <td>-1</td>\n",
              "      <td>f</td>\n",
              "      <td>4.0</td>\n",
              "    </tr>\n",
              "  </tbody>\n",
              "</table>\n",
              "</div>"
            ],
            "text/plain": [
              "   a  b    c\n",
              "0 -2  a  1.0\n",
              "1 -1  b  2.0\n",
              "6 -1  f  4.0"
            ]
          },
          "metadata": {
            "tags": []
          },
          "execution_count": 6
        }
      ]
    },
    {
      "cell_type": "code",
      "metadata": {
        "colab": {
          "base_uri": "https://localhost:8080/",
          "height": 191
        },
        "id": "7kLWRyOxSHON",
        "outputId": "8a4c12ea-2497-467a-9780-9d78d0c99a7f"
      },
      "source": [
        "df.nsmallest(5, [\"a\", \"c\"])"
      ],
      "execution_count": null,
      "outputs": [
        {
          "output_type": "execute_result",
          "data": {
            "text/html": [
              "<div>\n",
              "<style scoped>\n",
              "    .dataframe tbody tr th:only-of-type {\n",
              "        vertical-align: middle;\n",
              "    }\n",
              "\n",
              "    .dataframe tbody tr th {\n",
              "        vertical-align: top;\n",
              "    }\n",
              "\n",
              "    .dataframe thead th {\n",
              "        text-align: right;\n",
              "    }\n",
              "</style>\n",
              "<table border=\"1\" class=\"dataframe\">\n",
              "  <thead>\n",
              "    <tr style=\"text-align: right;\">\n",
              "      <th></th>\n",
              "      <th>a</th>\n",
              "      <th>b</th>\n",
              "      <th>c</th>\n",
              "    </tr>\n",
              "  </thead>\n",
              "  <tbody>\n",
              "    <tr>\n",
              "      <th>0</th>\n",
              "      <td>-2</td>\n",
              "      <td>a</td>\n",
              "      <td>1.0</td>\n",
              "    </tr>\n",
              "    <tr>\n",
              "      <th>1</th>\n",
              "      <td>-1</td>\n",
              "      <td>b</td>\n",
              "      <td>2.0</td>\n",
              "    </tr>\n",
              "    <tr>\n",
              "      <th>6</th>\n",
              "      <td>-1</td>\n",
              "      <td>f</td>\n",
              "      <td>4.0</td>\n",
              "    </tr>\n",
              "    <tr>\n",
              "      <th>2</th>\n",
              "      <td>1</td>\n",
              "      <td>d</td>\n",
              "      <td>4.0</td>\n",
              "    </tr>\n",
              "    <tr>\n",
              "      <th>4</th>\n",
              "      <td>8</td>\n",
              "      <td>e</td>\n",
              "      <td>NaN</td>\n",
              "    </tr>\n",
              "  </tbody>\n",
              "</table>\n",
              "</div>"
            ],
            "text/plain": [
              "   a  b    c\n",
              "0 -2  a  1.0\n",
              "1 -1  b  2.0\n",
              "6 -1  f  4.0\n",
              "2  1  d  4.0\n",
              "4  8  e  NaN"
            ]
          },
          "metadata": {
            "tags": []
          },
          "execution_count": 7
        }
      ]
    },
    {
      "cell_type": "code",
      "metadata": {
        "id": "aZ0gxw8OIs-N"
      },
      "source": [
        "# How to use .pipe()\n",
        "df_p.pipe(extract_city_name).pipe(add_country_name, country_name=\"US\")"
      ],
      "execution_count": null,
      "outputs": []
    },
    {
      "cell_type": "code",
      "metadata": {
        "id": "Q56nyj0u5PTF"
      },
      "source": [
        "# Add rows with list\n",
        "for n in range(11, 150):\n",
        "    pick = random.choice(list_user)\n",
        "    df_sponsorSenators.loc[n] = list([n+1, np.random.randint(300), pick[0], pick[1], pick[2],\n",
        "                                 random.choice(list_message),\n",
        "                                 random.choice(list_money),\n",
        "                                 random.choice(list_email),\n",
        "                                 random.choice(list_view)])"
      ],
      "execution_count": null,
      "outputs": []
    },
    {
      "cell_type": "code",
      "metadata": {
        "id": "e_o0Xjj6iAGv"
      },
      "source": [
        "# Load csv limiting number of rows\n",
        "data = pd.read_csv('Directory/name.csv', nrows=10000)"
      ],
      "execution_count": null,
      "outputs": []
    },
    {
      "cell_type": "code",
      "metadata": {
        "id": "7H6EEqJmoRJr"
      },
      "source": [
        "# Filter dataframe by dataframe example\n",
        "  keys = list(df1.columns.values)\n",
        "  i1 = df2.set_index(keys).index\n",
        "  i2 = df1.set_index(keys).index\n",
        "  df_year_replied_first_sent = df2[i1.isin(i2)]"
      ],
      "execution_count": null,
      "outputs": []
    },
    {
      "cell_type": "code",
      "metadata": {
        "id": "VdIEWJyHmFqT"
      },
      "source": [
        "# Pandas contains ignore case example\n",
        "temp_2020['re_counts'] = temp_2020['title'].str.findall('Re:', flags=re.I).str.len()\n",
        "temp_2020['org_title'] = temp_2020['title'].str.replace(r'(Re:|Fwd:)', '',flags=re.I).str.strip()"
      ],
      "execution_count": null,
      "outputs": []
    },
    {
      "cell_type": "code",
      "metadata": {
        "id": "F4XFUxdPi0yA"
      },
      "source": [
        "# to_dict() without index\n",
        "hr[['EP_ID', '조직코드']].to_dict('r')"
      ],
      "execution_count": null,
      "outputs": []
    },
    {
      "cell_type": "code",
      "metadata": {
        "id": "XxPXrIqStiDK"
      },
      "source": [
        "# Using function with multiple attributes in df using numpy vectorize\n",
        "def adding(x,y):\n",
        "    return x + ' ' + y\n",
        "\n",
        "mail_times['근무종료'] = np.vectorize(adding)(mail_times['근무종료'],mail_times['근무_종료시간'])"
      ],
      "execution_count": null,
      "outputs": []
    },
    {
      "cell_type": "code",
      "metadata": {
        "id": "Vwt4UMaI_MuC"
      },
      "source": [
        "# use map method in pandas by index\n",
        "df = pd.DataFrame({'one': {'A': 10, 'B': 20, 'C': 30, 'D': 40, 'E': 50}})\n",
        "map_dict = {'A': 'every', 'B': 'good', 'C': 'boy', 'D': 'does', 'E': 'fine'}\n",
        "\n",
        "df['two'] = df.index.to_series().map(map_dict)"
      ],
      "execution_count": null,
      "outputs": []
    },
    {
      "cell_type": "code",
      "metadata": {
        "id": "YRzB7NjCkEiU"
      },
      "source": [
        "# How to read csv with error_bad_lines\n",
        "df = pd.read_csv(data, error_bad_lines=False)"
      ],
      "execution_count": null,
      "outputs": []
    },
    {
      "cell_type": "code",
      "metadata": {
        "id": "_OaEz8fgFvNO"
      },
      "source": [
        "# use diff method to caculate difference between two continuous values in a column\n",
        "df_temp['차이'] = df_temp['하차총승객수'].diff().abs()"
      ],
      "execution_count": null,
      "outputs": []
    },
    {
      "cell_type": "code",
      "metadata": {
        "id": "m3pLssbkWD7P"
      },
      "source": [
        "# count duplicated rows\n",
        "df.groupby(df.columns.tolist()).size().reset_index().\\\n",
        "    rename(columns={0:'records'})"
      ],
      "execution_count": null,
      "outputs": []
    },
    {
      "cell_type": "code",
      "metadata": {
        "id": "lzEj2cP5sJut"
      },
      "source": [
        "# pandas contains a list of values\n",
        "df_temp = bills[bills['발의자'].str.contains('|'.join(senator_list))]"
      ],
      "execution_count": null,
      "outputs": []
    },
    {
      "cell_type": "code",
      "metadata": {
        "id": "ucJrkWKBVBsl"
      },
      "source": [
        "  # groupby applying multiple functions\n",
        "  dict_groupby_data[i] = dict_data[i].groupby('일시').agg({'기온(°Cx"
      ],
      "execution_count": null,
      "outputs": []
    },
    {
      "cell_type": "code",
      "metadata": {
        "id": "GX0GzFEE3rvZ"
      },
      "source": [
        "# row마다 코드를 실행시켜야 할 때 itertuples를 쓰자\n",
        "# iterrows보다 itertuples가 성능이 좋다.\n",
        "for row in df.itertuples():\n",
        "    yield TaggedDocument(words=dict(row._asdict())['all_orders'].split(),tags=[dict(row._asdict())['user_id']])\n",
        "\n",
        "for row in df.itertuples():\n",
        "    row._asdict()"
      ],
      "execution_count": null,
      "outputs": []
    },
    {
      "cell_type": "code",
      "metadata": {
        "id": "JamgPybF1tIX"
      },
      "source": [
        "# How to use apply method in groupby\n",
        "prior_orders.groupby(\"user_id\").apply(lambda order: ' '.join(order['product_id'].tolist()))"
      ],
      "execution_count": null,
      "outputs": []
    },
    {
      "cell_type": "code",
      "metadata": {
        "id": "JP0Wafc-ynuP"
      },
      "source": [
        "# column.dropLevel(0)\n",
        "feature_department.columns = feature_department.columns.droplevel(0)"
      ],
      "execution_count": null,
      "outputs": []
    },
    {
      "cell_type": "code",
      "metadata": {
        "id": "1dK1bNqDWQOp"
      },
      "source": [
        "# Making corpus using orders and products (Word2Vec 학습)\n",
        "product_corpus = []     \n",
        "sentence = []\n",
        "new_order_id = order_product_list[0][0]\n",
        "for (order_id, product_id) in tqdm(order_product_list):\n",
        "    '''\n",
        "    order_id가 같으면 계속 sentence에 넣고\n",
        "    order_id가 달라지면 sentence를 비우고 새로 넣기\n",
        "    즉, 같은 order에 있는 product들을 하나의 corpus로 만들어주는 작업이다.\n",
        "    '''\n",
        "    if new_order_id != order_id:\n",
        "        product_corpus.append(sentence)\n",
        "        sentence = []\n",
        "        new_order_id = order_id\n",
        "    sentence.append(str(product_id))\n",
        "\n",
        "\n",
        "# 위처럼 헤매지 말고 이렇게 하자 (Doc2Vec 학습)\n",
        "prior_orders.groupby(\"user_id\").apply(lambda order: ' '.join(order['product_id'].tolist()))"
      ],
      "execution_count": null,
      "outputs": []
    },
    {
      "cell_type": "code",
      "metadata": {
        "id": "YTcOoKDNUc7J"
      },
      "source": [
        "# Sort values by multiple columns\n",
        "# using ENTER in one code\n",
        " merge_order_product_ds\\\n",
        "    .sort_values(['user_id','order_id','add_to_cart_order'])"
      ],
      "execution_count": null,
      "outputs": []
    },
    {
      "cell_type": "code",
      "metadata": {
        "id": "99OCYaS1vsT3"
      },
      "source": [
        "# saving in different excel sheet\n",
        "with pd.ExcelWriter('approval ver4.0.xlsx') as writer:\n",
        "    emply.to_excel(writer, sheet_name = 'Employee')\n",
        "    approval.to_excel(writer, sheet_name = '결재') "
      ],
      "execution_count": null,
      "outputs": []
    },
    {
      "cell_type": "code",
      "metadata": {
        "id": "4wgIbYnZsfTg"
      },
      "source": [
        "# list minus list not using list comprehension\n",
        "outer_index = list(set(email_drop_dup.index) - set(inner.index))"
      ],
      "execution_count": null,
      "outputs": []
    },
    {
      "cell_type": "code",
      "metadata": {
        "id": "UmsfydXtDh2z"
      },
      "source": [
        "# 데이터프레임에서 데이터프레임 빼기f\n",
        "a = pd.DataFrame(data = {'col1' : [1, 2, 3, 4, 5], 'col2' : [10, 11, 12, 13, 14]}) \n",
        "b = pd.DataFrame(data = {'col1' : [1, 2, 3], 'col2' : [10, 11, 12]})\n",
        "\n",
        "common = a.merge(b,on=['col1','col2'])\n",
        "\n",
        "a[(~a.col1.isin(common.col1))&(~a.col2.isin(common.col2))]"
      ],
      "execution_count": null,
      "outputs": []
    },
    {
      "cell_type": "code",
      "metadata": {
        "id": "a39T1Fk2V5vS"
      },
      "source": [
        "# column에 특정 string이 포함 안되어있는 애들만 뽑기\n",
        "df[(~df[\"폴더명\"].str.contains('스팸')) & \n",
        "   (~df[\"폴더명\"].str.contains('차단')) &\n",
        "   (~df[\"폴더명\"].str.contains('악성')) &d\n",
        "   (~df[\"폴더명\"].str.contains('스팸신고'))]"
      ],
      "execution_count": null,
      "outputs": []
    },
    {
      "cell_type": "code",
      "metadata": {
        "id": "Ta1fMrAnGYDH"
      },
      "source": [
        "# pandas profiling 쓰는 법 (simple ver)\n",
        "# profile 만들기\n",
        "profile = df.profile_report()\n",
        "profile\n",
        "\n",
        "# 저장하기\n",
        "profile.to_file(\"profile.html\")"
      ],
      "execution_count": null,
      "outputs": []
    },
    {
      "cell_type": "code",
      "metadata": {
        "id": "FjaR9Dnlzuvz"
      },
      "source": [
        "# pandas profiling 쓰는 법\n",
        "import tqdm\n",
        "import pandas as pd\n",
        "import pandas_profiling\n",
        "############ 한글 폰트 지정하는 부분 #################\n",
        "import matplotlib\n",
        "from matplotlib import font_manager, rc\n",
        "import platform\n",
        "\n",
        "if platform.system() == 'Windows':\n",
        "# 윈도우인 경우\n",
        "    font_name = font_manager.FontProperties(fname=\"c:/Windows/Fonts/malgun.ttf\").get_name()\n",
        "    rc('font', family=font_name)\n",
        "else:    \n",
        "# Mac 인 경우\n",
        "    font_name = font_manager.FontProperties(fname=\"/Library/Fonts/NanumBarunGothic.ttf\").get_name()\n",
        "    rc('font', family='AppleGothic')\n",
        "    \n",
        "matplotlib.rcParams['axes.unicode_minus'] = False   \n",
        "#그래프에서 마이너스 기호가 표시되도록 하는 설정입니다.\n",
        "\n",
        "# profile 만들기\n",
        "profile = 식당.profile_report()\n",
        "profile\n",
        "\n",
        "# 저장하기\n",
        "profile.to_file(\"profile.html\")"
      ],
      "execution_count": null,
      "outputs": []
    },
    {
      "cell_type": "code",
      "metadata": {
        "id": "2fWe6KOgeWpk"
      },
      "source": [
        "# replacing column value not using map method\n",
        "df_temp.replace({\"메뉴명\": dict_menu})"
      ],
      "execution_count": null,
      "outputs": []
    },
    {
      "cell_type": "code",
      "metadata": {
        "id": "U0rZ0Tt0zjbo"
      },
      "source": [
        "# Dataframe to dictionary (for json)\n",
        "T2_model.everytime_scheduler(T2_model.all_combinations())[0].fillna('0').T.to_dict()"
      ],
      "execution_count": null,
      "outputs": []
    },
    {
      "cell_type": "code",
      "metadata": {
        "id": "HsWb6w5F252U"
      },
      "source": [
        "# list에 있는 column value를 str으로 풀어주는 방법\n",
        "df_without_nan['list2str'] = [' '.join(map(str, l)) for l in df_without_nan['proposed_senators']]\n",
        "\n",
        "# 이렇게도 가능\n",
        "def list2str(data):\n",
        "    result = ' '.join(data)\n",
        "    return result\n",
        "\n",
        "df['BOW'] = (df['ingredient'] + df['taglst']).apply(list2str)"
      ],
      "execution_count": null,
      "outputs": []
    },
    {
      "cell_type": "code",
      "metadata": {
        "id": "siWXzMr0hmDy"
      },
      "source": [
        "# changing value with loc in dataframe\n",
        "df_final.loc[(df_final['x'] == df_final.iloc[41]['x']) & (df_final['y']==df_final.iloc[41]['y']), ['소속위원회']] ='과학기술정보방송통신위원회'\n",
        "df_final.loc[(df_final['x'] == df_final.iloc[42]['x']) & (df_final['y']==df_final.iloc[42]['y']), ['소속위원회']] ='행정안전위원회'"
      ],
      "execution_count": null,
      "outputs": []
    },
    {
      "cell_type": "code",
      "metadata": {
        "id": "DtjhpTuDlOvA"
      },
      "source": [
        "# pandas progress_apply 함수 사용법\n",
        "from tqdm import tqdm\n",
        "\n",
        "tqdm.pandas()\n",
        "\n",
        "bills['tokenized'] = bills['법안명_법안내용'].progress_apply(tokenized_mecab)\n",
        "\n",
        "# lambda를 쓰는 법\n",
        "bills['cleared'] = bills['tokenized'].progress_apply(lambda x: out_stopwords(x, list_stopwords = list_stopword))"
      ],
      "execution_count": null,
      "outputs": []
    },
    {
      "cell_type": "code",
      "metadata": {
        "id": "ReFrQz3IJs8Y"
      },
      "source": [
        "# apply function with more than two arguments\n",
        "def subtract_and_divide(x, sub, divide=1):\n",
        "    return (x - sub) / divide\n",
        "\n",
        "df.apply(subtract_and_divide, args=(5,), divide=3)\n",
        "\n",
        "# Another example\n",
        "def subtract(x, y, z):\n",
        "    return x - y - z\n",
        "\n",
        "df = df.apply(subtract, args=(1, 2))\n",
        "\n",
        "# Another example\n",
        "df['NewCol'] = df.apply(lambda x: \\\n",
        "                        functionName(x['TimeCol'], x['ResponseCol']), axis=1)\n"
      ],
      "execution_count": null,
      "outputs": []
    },
    {
      "cell_type": "code",
      "metadata": {
        "id": "0VDIKrWYiq0d"
      },
      "source": [
        "# dataframe에 2가지 넘는 argument 함수 적용하기\n",
        "bills['cleared'] = bills.apply(lambda x: out_stopwords(bills['tokenized'].str, \"/Users/junghyunwoo/혀누에-의한-혀누를-위한-혀누의/공부공부공부공부/대학 이후/대학 관련/연세대학교/2020-1 3학년 2학기/데이터마이닝이론및응용 (손소영)/팀 프로젝트/기말 프로젝트/1차_stopwords 추가/stopwords ver1.0.txt\"), axis=1)\n",
        "\n",
        "# progress_apply를 활용하면서\n",
        "bills['cleared'] = bills['tokenized'].progress_apply(lambda x: out_stopwords(x, list_stopwords = list_stopword))"
      ],
      "execution_count": null,
      "outputs": []
    },
    {
      "cell_type": "code",
      "metadata": {
        "id": "tkMSmwRUqaj-"
      },
      "source": [
        "# ~ 예시\n",
        "phar = phar[~phar['상호명'].str.contains('전자담배')]"
      ],
      "execution_count": null,
      "outputs": []
    },
    {
      "cell_type": "code",
      "metadata": {
        "id": "23IgD1zupYtk"
      },
      "source": [
        "# dataframe 전체에 for문 적용할 때\n",
        "for index in df.index:\n",
        "  cost = df.loc[index].columnName\n",
        "  # 이런 식으로 index를 훑을 수 있다!"
      ],
      "execution_count": null,
      "outputs": []
    },
    {
      "cell_type": "code",
      "metadata": {
        "id": "fVOPPaiiyR-f"
      },
      "source": [
        "# multiple condition\n",
        "temp[(temp['freq_sns1'] =='facebook') or (temp['freq_sns1'] =='instagram') or (temp['freq_sns1'] =='kakaostory')]"
      ],
      "execution_count": null,
      "outputs": []
    },
    {
      "cell_type": "code",
      "metadata": {
        "id": "Hllh50g6jQsR"
      },
      "source": [
        "# drop_duplicates keep, subset 예시\n",
        "products.drop_duplicates(inplace=True, subset='StockCode', keep=\"last\")"
      ],
      "execution_count": null,
      "outputs": []
    },
    {
      "cell_type": "code",
      "metadata": {
        "id": "0OK4ZZ6GjO_k"
      },
      "source": [
        "# 원하는 시간대 가져오기\n",
        "data[pd.Timestamp(\"2012-01-01 09:00\"):pd.Timestamp(\"2012-01-01 19:00\")]\n",
        "\n",
        "data['2012-01-01 09:00':'2012-01-01 19:00']"
      ],
      "execution_count": null,
      "outputs": []
    },
    {
      "cell_type": "code",
      "metadata": {
        "id": "pHKt18_OJmCG"
      },
      "source": [
        "# scatter_matrix 예시\n",
        "from pandas.plotting import scatter_matrix\n",
        "\n",
        "attributes = [\"median_house_value\", \"median_income\", \"total_rooms\",\n",
        "              \"housing_median_age\"]\n",
        "scatter_matrix(housing[attributes], figsize=(12, 8))\n",
        "save_fig(\"scatter_matrix_plot\")"
      ],
      "execution_count": null,
      "outputs": []
    },
    {
      "cell_type": "code",
      "metadata": {
        "id": "_wyg_7HxGTF7"
      },
      "source": [
        "# corr_matrix 예시\n",
        "corr_matrix = housing.corr()\n",
        "corr_matrix[\"median_house_value\"].sort_values(ascending=False)"
      ],
      "execution_count": null,
      "outputs": []
    },
    {
      "cell_type": "code",
      "metadata": {
        "id": "wirzGiBPKsVw"
      },
      "source": [
        "# 특정한 것을 포함하는 행들을 찾고 싶을 때 contains 함수 사용\n",
        "df[df['Name'].str.contains('al')].head()"
      ],
      "execution_count": null,
      "outputs": []
    },
    {
      "cell_type": "code",
      "metadata": {
        "id": "b_7i8rRAKjSO"
      },
      "source": [
        "# startswith, str 예시\n",
        "df[df['Name'].str.startswith('B')].head()"
      ],
      "execution_count": null,
      "outputs": []
    },
    {
      "cell_type": "code",
      "metadata": {
        "id": "vM6iBjkyKTJR"
      },
      "source": [
        "# isin 예시\n",
        "df[df['Name'].isin(['Braund, Mr. Owen Harris','Heikkinen, Miss. Laina'])]"
      ],
      "execution_count": null,
      "outputs": []
    },
    {
      "cell_type": "code",
      "metadata": {
        "id": "rsDlUc74KLBD"
      },
      "source": [
        "# column drop 하기\n",
        "df = df.drop(columns=['index'])"
      ],
      "execution_count": null,
      "outputs": []
    },
    {
      "cell_type": "code",
      "metadata": {
        "id": "gqG-CSQDKJxc"
      },
      "source": [
        "# 특정 column을 기준으로 순서를 정렬하고 싶을 때\n",
        "df.sort_values('Name',ascending=True)"
      ],
      "execution_count": null,
      "outputs": []
    },
    {
      "cell_type": "code",
      "metadata": {
        "id": "zO9o1GRqtHPV"
      },
      "source": [
        "# .loc 예시\n",
        "df.loc[df['성별'] == 'male', '성별'] = 0 \n",
        "df.loc[df['성별'] == 'female', '성별'] = 1\n",
        "\n",
        "df.loc[df['관심사'] == '축구', '관심사'] = 0 \n",
        "df.loc[df['관심사'] == '야구'', '관심사'] = 1"
      ],
      "execution_count": null,
      "outputs": []
    },
    {
      "cell_type": "code",
      "metadata": {
        "id": "EItaYdBA5zZQ"
      },
      "source": [
        "# dropna, subset, nan값이 있는 column의 row를 날리기, \n",
        "temp_dropna = temp_dropna.dropna(subset=['quota', 'participants'])"
      ],
      "execution_count": null,
      "outputs": []
    },
    {
      "cell_type": "code",
      "metadata": {
        "id": "KktDs1Gh6w6b"
      },
      "source": [
        "# str, contain, na\n",
        "df_final.loc[df_final['Name'].str.contains('Mr\\.', na=False), 'Name' ] = 0\n",
        "df_final.loc[df_final['Name'].str.contains('Mrs\\.', na=False), 'Name' ] = 1\n",
        "df_final.loc[df_final['Name'].str.contains('Miss\\.', na=False), 'Name' ] = 2\n",
        "df_final.head()"
      ],
      "execution_count": null,
      "outputs": []
    },
    {
      "cell_type": "code",
      "metadata": {
        "id": "8ASNCd8btq1G"
      },
      "source": [
        "# .cut()\n",
        "## 예시1\n",
        "kills = sample.copy()\n",
        "kills['killsCategories'] = pd.cut(kills['kills'], \n",
        "                                  [-1, 0, 2, 5, 10, 60],\n",
        "                                  labels=['0_kills','1-2_kills', '3-5_kills', '6-10_kills', '10+_kills'])"
      ],
      "execution_count": null,
      "outputs": []
    },
    {
      "cell_type": "code",
      "metadata": {
        "id": "CYolRNDitmc8"
      },
      "source": [
        "# contain 예시\n",
        "cs_df = course_df.loc[course_df['id'].str.contains('CSI')]"
      ],
      "execution_count": null,
      "outputs": []
    },
    {
      "cell_type": "code",
      "metadata": {
        "id": "XSodAHT5X0vl"
      },
      "source": [
        "# loc 예시\n",
        "# temp(difference)가 -6보다 작은 데이터는 -6으로 통일시켜줍니다.\n",
        "train.loc[train[\"temp(difference)\"] < -6, \"temp(difference)\"] = -6\n",
        "\n",
        "# 비슷하게, temp(difference)가 0보다 큰 데이터는 0으로 통일시켜줍니다.\n",
        "train.loc[train[\"temp(difference)\"] >  0, \"temp(difference)\"] = 0"
      ],
      "execution_count": null,
      "outputs": []
    },
    {
      "cell_type": "code",
      "metadata": {
        "id": "ag_wWJnK7vnw"
      },
      "source": [
        "# mul 예시\n",
        "df.mul([1, 100], axis=0)"
      ],
      "execution_count": null,
      "outputs": []
    },
    {
      "cell_type": "code",
      "metadata": {
        "id": "TO_gngzxjrxy"
      },
      "source": [
        "# boolean column 만들기\n",
        "father_df['전화주문고객'] =  father_df['주문자ID'].str[:2] == 'pp'"
      ],
      "execution_count": null,
      "outputs": []
    },
    {
      "cell_type": "code",
      "metadata": {
        "id": "O_4Vm22MLHgc"
      },
      "source": [
        "# .quantile()\n",
        "data = sample.copy()\n",
        "data.loc[data['kills'] > data['kills'].quantile(0.99)] = '8+'\n",
        "plt.figure(figsize=(15,10))\n",
        "sns.countplot(data['kills'].astype('str').sort_values())d\n",
        "plt.title(\"Kill Count\",fontsize=15)\n",
        "plt.show()"
      ],
      "execution_count": null,
      "outputs": []
    },
    {
      "cell_type": "code",
      "metadata": {
        "id": "IUsVYP16KhdJ"
      },
      "source": [
        "# 샘플 뽑기\n",
        "sample = train.sample(frac=0.1, random_state=20191005)"
      ],
      "execution_count": null,
      "outputs": []
    },
    {
      "cell_type": "code",
      "metadata": {
        "id": "p71MFTVtnpHH"
      },
      "source": [
        "# outlier 제거하는 방법\n",
        "train_X = train_X[train_X['LotFrontage'] <= 300]\n",
        "train_X = train_X[train_X['Evaluate_Garage'] <= 200000]\n",
        "train_X = train_X[train_X['Evaluate_Bsmt'] <= 4000000]"
      ],
      "execution_count": null,
      "outputs": []
    },
    {
      "cell_type": "code",
      "metadata": {
        "id": "UvPPz7NCldQP"
      },
      "source": [
        "# .corrwith()\n",
        "corr_data = train_df[numerical_feature].corrwith(train_df['SalePrice']).sort_values(ascending=False)"
      ],
      "execution_count": null,
      "outputs": []
    },
    {
      "cell_type": "code",
      "metadata": {
        "id": "uEBN7ubrkUEP"
      },
      "source": [
        "# .index로 index 설정해주기\n",
        "Big_df.index = range(len(Big_df))"
      ],
      "execution_count": null,
      "outputs": []
    },
    {
      "cell_type": "code",
      "metadata": {
        "id": "3DcXPETRlTyH"
      },
      "source": [
        "# fillna()\n",
        "X_train['Age']=X_train.Age.fillna(X_train.Age.mean())"
      ],
      "execution_count": null,
      "outputs": []
    },
    {
      "cell_type": "code",
      "metadata": {
        "id": "ts-hOPphJNpG"
      },
      "source": [
        "# creating new column\n",
        "gender = {'male':0, 'female':1}\n",
        "df_train['Sex'] = [gender[item] for item in df_train.Sex]\n",
        "df_test['Sex'] = [gender[item] for item in df_test.Sex]\n",
        "df_train.head()"
      ],
      "execution_count": null,
      "outputs": []
    },
    {
      "cell_type": "code",
      "metadata": {
        "id": "bd5ZlpF4OIin"
      },
      "source": [
        "# pd.cut\n",
        "bins = [0, 25, 50, 75, 100]\n",
        "group_names = ['Low', 'Okay', 'Good', 'Great']\n",
        "categories = pd.cut(df['postTestScore'], bins, labels=group_names)\n",
        "categories"
      ],
      "execution_count": null,
      "outputs": []
    },
    {
      "cell_type": "code",
      "metadata": {
        "id": "efHfqLdHOlO2"
      },
      "source": [
        "# value_counts()\n",
        "df['categories'] = pd.cut(df['postTestScore'], bins, labels=group_names)\n",
        "pd.value_counts(df['categories'])"
      ],
      "execution_count": null,
      "outputs": []
    },
    {
      "cell_type": "code",
      "metadata": {
        "id": "6rNf3QQhJU1a"
      },
      "source": [
        "# pandas matplotlib\n",
        "fig = plt.figure()\n",
        "fig.set_size_inches(10,5)\n",
        "ax_1 = fig.add_subplot(1,2,1)\n",
        "ax_2 = fig.add_subplot(1,2,2)\n",
        "ax_1.plot(df_data[\"MEDV\"])\n",
        "ax_2.hist(df_data[\"MEDV\"], bins=50)\n",
        "ax_1.set_title(\"House price MEDV\")\n",
        "ax_2.set_title(\"Hous price MEDV\")"
      ],
      "execution_count": null,
      "outputs": []
    },
    {
      "cell_type": "code",
      "metadata": {
        "id": "8hCubY_bCTdj"
      },
      "source": [
        "# enumerate\n",
        "for i,child in enumerate(file[\"features\"]) :\n",
        "    print(i,child[\"properties\"][\"SIG_KOR_NM\"])"
      ],
      "execution_count": null,
      "outputs": []
    },
    {
      "cell_type": "code",
      "metadata": {
        "id": "6W-5kkhL8B9H"
      },
      "source": [
        "# .repeat\n",
        "## 예제1\n",
        "s = pd.Series(['a','b','c'])\n",
        "s = pd.concat([s.repeat(2), s.repeat(3)])\n",
        "s.head()\n",
        " \n",
        "## 예제2\n",
        "gangnam = pd.read_csv('data/gangnam_cctv.csv', encoding='cp949')\n",
        "gangnam2 = gangnam[['위도','경도','카메라대수']]\n",
        "gangnam2.shape\n",
        "gangnam3 = (\n",
        "    pd.concat([gangnam2[\"위도\"].repeat(gangnam2[\"카메라대수\"]), \n",
        "                           gangnam[\"경도\"].repeat(gangnam[\"카메라대수\"])], \n",
        "                           axis=1)\n",
        "        .reset_index(drop = True))\n",
        "gangnam3"
      ],
      "execution_count": null,
      "outputs": []
    },
    {
      "cell_type": "code",
      "metadata": {
        "id": "s4ZtzeAX1ngQ"
      },
      "source": [
        "# .factorize() ㅈ예시\n",
        "housing_cat_encoded, housing_categories = housing_cat.factorize()\n",
        "housing_cat_encoded[:10]"
      ],
      "execution_count": null,
      "outputs": []
    },
    {
      "cell_type": "code",
      "metadata": {
        "id": "h9sLtBJNEOJa"
      },
      "source": [
        "# .hist()\n",
        "df['Age'].hist()"
      ],
      "execution_count": null,
      "outputs": []
    },
    {
      "cell_type": "code",
      "metadata": {
        "id": "aYOQrefRDxdl"
      },
      "source": [
        "# set_index, reset_index\n",
        "df = df.set)index(['A', 'B'])\n",
        "\n",
        "result = df['C'].unstack()\n",
        "\n",
        "df = result.stack().reset_index(name='C')"
      ],
      "execution_count": null,
      "outputs": []
    },
    {
      "cell_type": "code",
      "metadata": {
        "id": "lhNSEPxmNoZI"
      },
      "source": [
        "# .map과 dict을 사용해서 column 채우기\n",
        "weight_dict = {3:\"M\", 4:\"L\", 5:\"XL\"}\n",
        "edges[\"weight_sign\"] = edges[\"weight\"].map(weight_dict)\n",
        "edges"
      ],
      "execution_count": null,
      "outputs": []
    },
    {
      "cell_type": "code",
      "metadata": {
        "id": "Ke55vlmv_uRc"
      },
      "source": [
        "# get_dummies()\n",
        "df_dum = pd.get_dummies(df['pclass'])\n",
        "\n",
        "df_train = pd.get_dummies(df_train, prefix = ['Cabin'], columns=['Cabin'])\n",
        "\n",
        "df_dum = pd.get_dummies(df)\n",
        "\n",
        "temp = pd.get_dummies(temp, columns = ['Age_cut'])"
      ],
      "execution_count": null,
      "outputs": []
    },
    {
      "cell_type": "code",
      "metadata": {
        "id": "S85Fz5vFMzV7",
        "colab": {
          "base_uri": "https://localhost:8080/",
          "height": 197
        },
        "outputId": "9e2d69ef-9b3b-4e7b-ef77-9b244a188546"
      },
      "source": [
        "# DataFrame 만들기\n",
        "\n",
        "## 예제1\n",
        "raw_data = {'first_name': ['Jason', 'Molly', 'Tina', 'Jake', 'Amy'],\n",
        "        'last_name': ['Miller', 'Jacobson', 'Ali', 'Milner', 'Cooze'],\n",
        "        'age': [42, 52, 36, 24, 73],\n",
        "        'city': ['San Francisco', 'Baltimore', 'Miami', 'Douglas', 'Boston']}\n",
        "df = pd.DataFrame(raw_data, columns = ['first_name', 'last_name', 'age', 'city'])\n",
        "df\n",
        "\n",
        "\n",
        "## 예제2\n",
        "raw_data = {\n",
        "        'subject_id': ['1', '2', '3', '4', '5'],\n",
        "        'first_name': ['Alex', 'Amy', 'Allen', 'Alice', 'Ayoung'], \n",
        "        'last_name': ['Anderson', 'Ackerman', 'Ali', 'Aoni', 'Atiches']}\n",
        "df_a = pd.DataFrame(raw_data, columns = ['subject_id', 'first_name', 'last_name'])\n",
        "df_a\n",
        "\n",
        "\n",
        "## 예제3\n",
        "data = {'country': ['Belgium', 'France', 'Germany', 'Netherlands', 'United Kingdom'],\n",
        "        'population': [11.3, 64.3, 81.3, 16.9, 64.9],\n",
        "        'area': [30510, 671308, 357050, 41526, 244820],\n",
        "        'capital': ['Brussels', 'Paris', 'Berlin', 'Amsterdam', 'London']}\n",
        "df_countries = pd.DataFrame(data)\n",
        "df_countries\n",
        ".pivot(index=, columns\n",
        "       \n",
        "       \n",
        "## 예제4\n",
        "df = pd.DataFrame({'Fare': [7.25, 71.2833, 51.8625, 30.0708, 7.8542, 13.0],\n",
        "                   'Pclass': [3, 1, 1, 2, 3, 2],\n",
        "                   'Sex': ['male', 'female', 'male', 'female', 'female', 'male'],\n",
        "                   'Survived': [0, 1, 0, 1, 0, 1]})\n",
        "       \n"
      ],
      "execution_count": null,
      "outputs": [
        {
          "output_type": "execute_result",
          "data": {
            "text/html": [
              "<div>\n",
              "<style scoped>\n",
              "    .dataframe tbody tr th:only-of-type {\n",
              "        vertical-align: middle;\n",
              "    }\n",
              "\n",
              "    .dataframe tbody tr th {\n",
              "        vertical-align: top;\n",
              "    }\n",
              "\n",
              "    .dataframe thead th {\n",
              "        text-align: right;\n",
              "    }\n",
              "</style>\n",
              "<table border=\"1\" class=\"dataframe\">\n",
              "  <thead>\n",
              "    <tr style=\"text-align: right;\">\n",
              "      <th></th>\n",
              "      <th>first_name</th>\n",
              "      <th>last_name</th>\n",
              "      <th>age</th>\n",
              "      <th>city</th>\n",
              "    </tr>\n",
              "  </thead>\n",
              "  <tbody>\n",
              "    <tr>\n",
              "      <th>0</th>\n",
              "      <td>Jason</td>\n",
              "      <td>Miller</td>\n",
              "      <td>42</td>\n",
              "      <td>San Francisco</td>\n",
              "    </tr>\n",
              "    <tr>\n",
              "      <th>1</th>\n",
              "      <td>Molly</td>\n",
              "      <td>Jacobson</td>\n",
              "      <td>52</td>\n",
              "      <td>Baltimore</td>\n",
              "    </tr>\n",
              "    <tr>\n",
              "      <th>2</th>\n",
              "      <td>Tina</td>\n",
              "      <td>Ali</td>\n",
              "      <td>36</td>\n",
              "      <td>Miami</td>\n",
              "    </tr>\n",
              "    <tr>\n",
              "      <th>3</th>\n",
              "      <td>Jake</td>\n",
              "      <td>Milner</td>\n",
              "      <td>24</td>\n",
              "      <td>Douglas</td>\n",
              "    </tr>\n",
              "    <tr>\n",
              "      <th>4</th>\n",
              "      <td>Amy</td>\n",
              "      <td>Cooze</td>\n",
              "      <td>73</td>\n",
              "      <td>Boston</td>\n",
              "    </tr>\n",
              "  </tbody>\n",
              "</table>\n",
              "</div>"
            ],
            "text/plain": [
              "  first_name last_name  age           city\n",
              "0      Jason    Miller   42  San Francisco\n",
              "1      Molly  Jacobson   52      Baltimore\n",
              "2       Tina       Ali   36          Miami\n",
              "3       Jake    Milner   24        Douglas\n",
              "4        Amy     Cooze   73         Boston"
            ]
          },
          "metadata": {
            "tags": []
          },
          "execution_count": 6
        }
      ]
    },
    {
      "cell_type": "code",
      "metadata": {
        "id": "F_wwgTbhM0B4",
        "colab": {
          "base_uri": "https://localhost:8080/",
          "height": 197
        },
        "outputId": "5e289c1f-d6ff-4433-d547-60df2151ad33"
      },
      "source": [
        "# del: 삭제하기\n",
        "del df['city']\n",
        "df"
      ],
      "execution_count": null,
      "outputs": [
        {
          "output_type": "execute_result",
          "data": {
            "text/html": [
              "<div>\n",
              "<style scoped>\n",
              "    .dataframe tbody tr th:only-of-type {\n",
              "        vertical-align: middle;\n",
              "    }\n",
              "\n",
              "    .dataframe tbody tr th {\n",
              "        vertical-align: top;\n",
              "    }\n",
              "\n",
              "    .dataframe thead th {\n",
              "        text-align: right;\n",
              "    }\n",
              "</style>\n",
              "<table border=\"1\" class=\"dataframe\">\n",
              "  <thead>\n",
              "    <tr style=\"text-align: right;\">\n",
              "      <th></th>\n",
              "      <th>first_name</th>\n",
              "      <th>last_name</th>\n",
              "      <th>age</th>\n",
              "    </tr>\n",
              "  </thead>\n",
              "  <tbody>\n",
              "    <tr>\n",
              "      <th>0</th>\n",
              "      <td>Jason</td>\n",
              "      <td>Miller</td>\n",
              "      <td>42</td>\n",
              "    </tr>\n",
              "    <tr>\n",
              "      <th>1</th>\n",
              "      <td>Molly</td>\n",
              "      <td>Jacobson</td>\n",
              "      <td>52</td>\n",
              "    </tr>\n",
              "    <tr>\n",
              "      <th>2</th>\n",
              "      <td>Tina</td>\n",
              "      <td>Ali</td>\n",
              "      <td>36</td>\n",
              "    </tr>\n",
              "    <tr>\n",
              "      <th>3</th>\n",
              "      <td>Jake</td>\n",
              "      <td>Milner</td>\n",
              "      <td>24</td>\n",
              "    </tr>\n",
              "    <tr>\n",
              "      <th>4</th>\n",
              "      <td>Amy</td>\n",
              "      <td>Cooze</td>\n",
              "      <td>73</td>\n",
              "    </tr>\n",
              "  </tbody>\n",
              "</table>\n",
              "</div>"
            ],
            "text/plain": [
              "  first_name last_name  age\n",
              "0      Jason    Miller   42\n",
              "1      Molly  Jacobson   52\n",
              "2       Tina       Ali   36\n",
              "3       Jake    Milner   24\n",
              "4        Amy     Cooze   73"
            ]
          },
          "metadata": {
            "tags": []
          },
          "execution_count": 7
        }
      ]
    },
    {
      "cell_type": "code",
      "metadata": {
        "id": "zQhwLF6lh5RP",
        "colab": {
          "base_uri": "https://localhost:8080/",
          "height": 197
        },
        "outputId": "4428a9e8-5498-4342-a142-c44f8b1e4fcd"
      },
      "source": [
        "raw_data = {'first_name': ['Jason', 'Molly', 'Tina', 'Jake', 'Amy'],\n",
        "        'last_name': ['Miller', 'Jacobson', 'Ali', 'Milner', 'Cooze'],\n",
        "        'age': [42, 52, 36, 24, 73],\n",
        "        'city': ['San Francisco', 'Baltimore', 'Miami', 'Douglas', 'Boston']}\n",
        "df = pd.DataFrame(raw_data, columns = ['first_name', 'last_name', 'age', 'city'])\n",
        "df"
      ],
      "execution_count": null,
      "outputs": [
        {
          "output_type": "execute_result",
          "data": {
            "text/html": [
              "<div>\n",
              "<style scoped>\n",
              "    .dataframe tbody tr th:only-of-type {\n",
              "        vertical-align: middle;\n",
              "    }\n",
              "\n",
              "    .dataframe tbody tr th {\n",
              "        vertical-align: top;\n",
              "    }\n",
              "\n",
              "    .dataframe thead th {\n",
              "        text-align: right;\n",
              "    }\n",
              "</style>\n",
              "<table border=\"1\" class=\"dataframe\">\n",
              "  <thead>\n",
              "    <tr style=\"text-align: right;\">\n",
              "      <th></th>\n",
              "      <th>first_name</th>\n",
              "      <th>last_name</th>\n",
              "      <th>age</th>\n",
              "      <th>city</th>\n",
              "    </tr>\n",
              "  </thead>\n",
              "  <tbody>\n",
              "    <tr>\n",
              "      <th>0</th>\n",
              "      <td>Jason</td>\n",
              "      <td>Miller</td>\n",
              "      <td>42</td>\n",
              "      <td>San Francisco</td>\n",
              "    </tr>\n",
              "    <tr>\n",
              "      <th>1</th>\n",
              "      <td>Molly</td>\n",
              "      <td>Jacobson</td>\n",
              "      <td>52</td>\n",
              "      <td>Baltimore</td>\n",
              "    </tr>\n",
              "    <tr>\n",
              "      <th>2</th>\n",
              "      <td>Tina</td>\n",
              "      <td>Ali</td>\n",
              "      <td>36</td>\n",
              "      <td>Miami</td>\n",
              "    </tr>\n",
              "    <tr>\n",
              "      <th>3</th>\n",
              "      <td>Jake</td>\n",
              "      <td>Milner</td>\n",
              "      <td>24</td>\n",
              "      <td>Douglas</td>\n",
              "    </tr>\n",
              "    <tr>\n",
              "      <th>4</th>\n",
              "      <td>Amy</td>\n",
              "      <td>Cooze</td>\n",
              "      <td>73</td>\n",
              "      <td>Boston</td>\n",
              "    </tr>\n",
              "  </tbody>\n",
              "</table>\n",
              "</div>"
            ],
            "text/plain": [
              "  first_name last_name  age           city\n",
              "0      Jason    Miller   42  San Francisco\n",
              "1      Molly  Jacobson   52      Baltimore\n",
              "2       Tina       Ali   36          Miami\n",
              "3       Jake    Milner   24        Douglas\n",
              "4        Amy     Cooze   73         Boston"
            ]
          },
          "metadata": {
            "tags": []
          },
          "execution_count": 14
        }
      ]
    },
    {
      "cell_type": "code",
      "metadata": {
        "id": "nGAb81N8Mz62",
        "colab": {
          "base_uri": "https://localhost:8080/",
          "height": 123
        },
        "outputId": "a0feb2d7-2f66-494a-a8e2-522002a4454b"
      },
      "source": [
        "df.age > 40"
      ],
      "execution_count": null,
      "outputs": [
        {
          "output_type": "execute_result",
          "data": {
            "text/plain": [
              "0     True\n",
              "1     True\n",
              "2    False\n",
              "3    False\n",
              "4     True\n",
              "Name: age, dtype: bool"
            ]
          },
          "metadata": {
            "tags": []
          },
          "execution_count": 9
        }
      ]
    },
    {
      "cell_type": "code",
      "metadata": {
        "id": "70Rh9rnWMzxM",
        "colab": {
          "base_uri": "https://localhost:8080/",
          "height": 197
        },
        "outputId": "10030833-4e82-4b93-ac87-28d213eea307"
      },
      "source": [
        "df['debt'] = df.age > 40\n",
        "df"
      ],
      "execution_count": null,
      "outputs": [
        {
          "output_type": "execute_result",
          "data": {
            "text/html": [
              "<div>\n",
              "<style scoped>\n",
              "    .dataframe tbody tr th:only-of-type {\n",
              "        vertical-align: middle;\n",
              "    }\n",
              "\n",
              "    .dataframe tbody tr th {\n",
              "        vertical-align: top;\n",
              "    }\n",
              "\n",
              "    .dataframe thead th {\n",
              "        text-align: right;\n",
              "    }\n",
              "</style>\n",
              "<table border=\"1\" class=\"dataframe\">\n",
              "  <thead>\n",
              "    <tr style=\"text-align: right;\">\n",
              "      <th></th>\n",
              "      <th>first_name</th>\n",
              "      <th>last_name</th>\n",
              "      <th>age</th>\n",
              "      <th>city</th>\n",
              "      <th>debt</th>\n",
              "    </tr>\n",
              "  </thead>\n",
              "  <tbody>\n",
              "    <tr>\n",
              "      <th>0</th>\n",
              "      <td>Jason</td>\n",
              "      <td>Miller</td>\n",
              "      <td>42</td>\n",
              "      <td>San Francisco</td>\n",
              "      <td>True</td>\n",
              "    </tr>\n",
              "    <tr>\n",
              "      <th>1</th>\n",
              "      <td>Molly</td>\n",
              "      <td>Jacobson</td>\n",
              "      <td>52</td>\n",
              "      <td>Baltimore</td>\n",
              "      <td>True</td>\n",
              "    </tr>\n",
              "    <tr>\n",
              "      <th>2</th>\n",
              "      <td>Tina</td>\n",
              "      <td>Ali</td>\n",
              "      <td>36</td>\n",
              "      <td>Miami</td>\n",
              "      <td>False</td>\n",
              "    </tr>\n",
              "    <tr>\n",
              "      <th>3</th>\n",
              "      <td>Jake</td>\n",
              "      <td>Milner</td>\n",
              "      <td>24</td>\n",
              "      <td>Douglas</td>\n",
              "      <td>False</td>\n",
              "    </tr>\n",
              "    <tr>\n",
              "      <th>4</th>\n",
              "      <td>Amy</td>\n",
              "      <td>Cooze</td>\n",
              "      <td>73</td>\n",
              "      <td>Boston</td>\n",
              "      <td>True</td>\n",
              "    </tr>\n",
              "  </tbody>\n",
              "</table>\n",
              "</div>"
            ],
            "text/plain": [
              "  first_name last_name  age           city   debt\n",
              "0      Jason    Miller   42  San Francisco   True\n",
              "1      Molly  Jacobson   52      Baltimore   True\n",
              "2       Tina       Ali   36          Miami  False\n",
              "3       Jake    Milner   24        Douglas  False\n",
              "4        Amy     Cooze   73         Boston   True"
            ]
          },
          "metadata": {
            "tags": []
          },
          "execution_count": 11
        }
      ]
    },
    {
      "cell_type": "code",
      "metadata": {
        "id": "ZM7ASb5UMzn-"
      },
      "source": [
        "df_train['Age_mean'] = df_train.Age_mean.fillna(df_train.Title.map({'Master':5, 'Miss':22, 'Mr':33, 'Mrs':36, 'Other':46}))"
      ],
      "execution_count": null,
      "outputs": []
    },
    {
      "cell_type": "code",
      "metadata": {
        "id": "dxr3Zgc7sZQ_",
        "colab": {
          "base_uri": "https://localhost:8080/",
          "height": 123
        },
        "outputId": "176c4a57-bf02-49f6-ae9d-e25ab18e9bdc"
      },
      "source": [
        "dict_data = {\"a\":1, \"b\":2, \"c\":3, \"d\":4, \"e\":5}\n",
        "example_obj = Series(dict_data, dtype=np.float32, name=\"example_data\")\n",
        "example_obj"
      ],
      "execution_count": null,
      "outputs": [
        {
          "output_type": "execute_result",
          "data": {
            "text/plain": [
              "a    1.0\n",
              "b    2.0\n",
              "c    3.0\n",
              "d    4.0\n",
              "e    5.0\n",
              "Name: example_data, dtype: float32"
            ]
          },
          "metadata": {
            "tags": []
          },
          "execution_count": 2
        }
      ]
    },
    {
      "cell_type": "code",
      "metadata": {
        "id": "pCARy7Tmse74"
      },
      "source": [
        "example_obj.to_dict()"
      ],
      "execution_count": null,
      "outputs": []
    },
    {
      "cell_type": "code",
      "metadata": {
        "id": "DBj-J5T6se4l"
      },
      "source": [
        "example_obj.values"
      ],
      "execution_count": null,
      "outputs": []
    },
    {
      "cell_type": "code",
      "metadata": {
        "id": "HNdVJD_YseuK"
      },
      "source": [
        "example_obj.index"
      ],
      "execution_count": null,
      "outputs": []
    },
    {
      "cell_type": "code",
      "metadata": {
        "id": "6s68YUFksgyV"
      },
      "source": [
        "example_obj.name = \"number\"\n",
        "example_obj.index.name = \"alphabet\"\n",
        "example_obj"
      ],
      "execution_count": null,
      "outputs": []
    },
    {
      "cell_type": "code",
      "metadata": {
        "id": "ZnMqyp30skIs"
      },
      "source": [
        "s = pd.Series([0.1, 0.2, 0.3, 0.4])"
      ],
      "execution_count": null,
      "outputs": []
    },
    {
      "cell_type": "code",
      "metadata": {
        "id": "NYtngjH8pJDh",
        "colab": {
          "base_uri": "https://localhost:8080/",
          "height": 34
        },
        "outputId": "f396f3b6-075d-4ead-91b6-d1573870d585"
      },
      "source": [
        "# .index: Index 정보를 알려줌\n",
        "s.index"
      ],
      "execution_count": null,
      "outputs": [
        {
          "output_type": "execute_result",
          "data": {
            "text/plain": [
              "RangeIndex(start=0, stop=4, step=1)"
            ]
          },
          "metadata": {
            "tags": []
          },
          "execution_count": 32
        }
      ]
    },
    {
      "cell_type": "code",
      "metadata": {
        "id": "BxiVIiGvpXeH",
        "colab": {
          "base_uri": "https://localhost:8080/",
          "height": 34
        },
        "outputId": "9a1423ce-fbf7-494d-da84-8e49881348a3"
      },
      "source": [
        "# .values: Value 값들을 보여줌\n",
        "s.values"
      ],
      "execution_count": null,
      "outputs": [
        {
          "output_type": "execute_result",
          "data": {
            "text/plain": [
              "array([0.1, 0.2, 0.3, 0.4])"
            ]
          },
          "metadata": {
            "tags": []
          },
          "execution_count": 33
        }
      ]
    },
    {
      "cell_type": "code",
      "metadata": {
        "id": "xn64SbVgpyLC",
        "colab": {
          "base_uri": "https://localhost:8080/",
          "height": 34
        },
        "outputId": "84e2f19c-0a44-41d3-b37d-74ca8848362d"
      },
      "source": [
        "# Indexing\n",
        "s[0]"
      ],
      "execution_count": null,
      "outputs": [
        {
          "output_type": "execute_result",
          "data": {
            "text/plain": [
              "0.1"
            ]
          },
          "metadata": {
            "tags": []
          },
          "execution_count": 34
        }
      ]
    },
    {
      "cell_type": "code",
      "metadata": {
        "id": "4Drt9Tpmp4sC",
        "colab": {
          "base_uri": "https://localhost:8080/",
          "height": 123
        },
        "outputId": "0788196f-5bc5-43e6-cc2b-5232516d0c90"
      },
      "source": [
        "# Dict을 Series data로 만드는 방법\n",
        "pop_dict = {'Germany': 81.3, \n",
        "            'Belgium': 11.3, \n",
        "            'France': 64.3, \n",
        "            'United Kingdom': 64.9, \n",
        "            'Netherlands': 16.9}\n",
        "population = pd.Series(pop_dict)\n",
        "population"
      ],
      "execution_count": null,
      "outputs": [
        {
          "output_type": "execute_result",
          "data": {
            "text/plain": [
              "Germany           81.3\n",
              "Belgium           11.3\n",
              "France            64.3\n",
              "United Kingdom    64.9\n",
              "Netherlands       16.9\n",
              "dtype: float64"
            ]
          },
          "metadata": {
            "tags": []
          },
          "execution_count": 35
        }
      ]
    },
    {
      "cell_type": "code",
      "metadata": {
        "id": "ARZBVWxdu6zi",
        "colab": {
          "base_uri": "https://localhost:8080/",
          "height": 123
        },
        "outputId": "dbdac692-4c24-4ca0-aab7-31dbd4f401f4"
      },
      "source": [
        "population / 100"
      ],
      "execution_count": null,
      "outputs": [
        {
          "output_type": "execute_result",
          "data": {
            "text/plain": [
              "Germany           0.813\n",
              "Belgium           0.113\n",
              "France            0.643\n",
              "United Kingdom    0.649\n",
              "Netherlands       0.169\n",
              "dtype: float64"
            ]
          },
          "metadata": {
            "tags": []
          },
          "execution_count": 23
        }
      ]
    },
    {
      "cell_type": "code",
      "metadata": {
        "id": "ZhqJKFVevppZ",
        "colab": {
          "base_uri": "https://localhost:8080/",
          "height": 34
        },
        "outputId": "86c7653e-54b1-4e92-acfa-9106669ae3b3"
      },
      "source": [
        "# .mean(): 바로 연산을 해도 됨\n",
        "population.mean()"
      ],
      "execution_count": null,
      "outputs": [
        {
          "output_type": "execute_result",
          "data": {
            "text/plain": [
              "47.739999999999995"
            ]
          },
          "metadata": {
            "tags": []
          },
          "execution_count": 36
        }
      ]
    },
    {
      "cell_type": "code",
      "metadata": {
        "id": "k2MjEUFErBAN",
        "colab": {
          "base_uri": "https://localhost:8080/",
          "height": 197
        },
        "outputId": "d9338c2e-c3c5-4794-d46b-e26165e8dbe0"
      },
      "source": [
        "# Dataframe 만들기\n",
        "data = {'country': ['Belgium', 'France', 'Germany', 'Netherlands', 'United Kingdom'],\n",
        "        'population': [11.3, 64.3, 81.3, 16.9, 64.9],\n",
        "        'area': [30510, 671308, 357050, 41526, 244820],\n",
        "        'capital': ['Brussels', 'Paris', 'Berlin', 'Amsterdam', 'London']}\n",
        "countries = pd.DataFrame(data)\n",
        "countries"
      ],
      "execution_count": null,
      "outputs": [
        {
          "output_type": "execute_result",
          "data": {
            "text/html": [
              "<div>\n",
              "<style scoped>\n",
              "    .dataframe tbody tr th:only-of-type {\n",
              "        vertical-align: middle;\n",
              "    }\n",
              "\n",
              "    .dataframe tbody tr th {\n",
              "        vertical-align: top;\n",
              "    }\n",
              "\n",
              "    .dataframe thead th {\n",
              "        text-align: right;\n",
              "    }\n",
              "</style>\n",
              "<table border=\"1\" class=\"dataframe\">\n",
              "  <thead>\n",
              "    <tr style=\"text-align: right;\">\n",
              "      <th></th>\n",
              "      <th>country</th>\n",
              "      <th>population</th>\n",
              "      <th>area</th>\n",
              "      <th>capital</th>\n",
              "    </tr>\n",
              "  </thead>\n",
              "  <tbody>\n",
              "    <tr>\n",
              "      <th>0</th>\n",
              "      <td>Belgium</td>\n",
              "      <td>11.3</td>\n",
              "      <td>30510</td>\n",
              "      <td>Brussels</td>\n",
              "    </tr>\n",
              "    <tr>\n",
              "      <th>1</th>\n",
              "      <td>France</td>\n",
              "      <td>64.3</td>\n",
              "      <td>671308</td>\n",
              "      <td>Paris</td>\n",
              "    </tr>\n",
              "    <tr>\n",
              "      <th>2</th>\n",
              "      <td>Germany</td>\n",
              "      <td>81.3</td>\n",
              "      <td>357050</td>\n",
              "      <td>Berlin</td>\n",
              "    </tr>\n",
              "    <tr>\n",
              "      <th>3</th>\n",
              "      <td>Netherlands</td>\n",
              "      <td>16.9</td>\n",
              "      <td>41526</td>\n",
              "      <td>Amsterdam</td>\n",
              "    </tr>\n",
              "    <tr>\n",
              "      <th>4</th>\n",
              "      <td>United Kingdom</td>\n",
              "      <td>64.9</td>\n",
              "      <td>244820</td>\n",
              "      <td>London</td>\n",
              "    </tr>\n",
              "  </tbody>\n",
              "</table>\n",
              "</div>"
            ],
            "text/plain": [
              "          country  population    area    capital\n",
              "0         Belgium        11.3   30510   Brussels\n",
              "1          France        64.3  671308      Paris\n",
              "2         Germany        81.3  357050     Berlin\n",
              "3     Netherlands        16.9   41526  Amsterdam\n",
              "4  United Kingdom        64.9  244820     London"
            ]
          },
          "metadata": {
            "tags": []
          },
          "execution_count": 43
        }
      ]
    },
    {
      "cell_type": "code",
      "metadata": {
        "id": "2zaz6sIzrv0V",
        "colab": {
          "base_uri": "https://localhost:8080/",
          "height": 34
        },
        "outputId": "30244479-7f8f-425b-874f-3555dca5e675"
      },
      "source": [
        "# .index: index를 보여줌\n",
        "countries.index"
      ],
      "execution_count": null,
      "outputs": [
        {
          "output_type": "execute_result",
          "data": {
            "text/plain": [
              "Index(['Belgium', 'France', 'Germany', 'Netherlands', 'United Kingdom'], dtype='object', name='country')"
            ]
          },
          "metadata": {
            "tags": []
          },
          "execution_count": 37
        }
      ]
    },
    {
      "cell_type": "code",
      "metadata": {
        "id": "wu804284r1Tc",
        "colab": {
          "base_uri": "https://localhost:8080/",
          "height": 34
        },
        "outputId": "a42f694c-8b08-4958-9908-169df1c4927f"
      },
      "source": [
        "# .columns: columns를 보여줌\n",
        "countries.columns"
      ],
      "execution_count": null,
      "outputs": [
        {
          "output_type": "execute_result",
          "data": {
            "text/plain": [
              "Index(['population', 'area', 'capital'], dtype='object')"
            ]
          },
          "metadata": {
            "tags": []
          },
          "execution_count": 38
        }
      ]
    },
    {
      "cell_type": "code",
      "metadata": {
        "id": "88tBl9k9tWRj",
        "colab": {
          "base_uri": "https://localhost:8080/",
          "height": 87
        },
        "outputId": "7a60e836-52c2-41e3-eb90-c3e6a82a5488"
      },
      "source": [
        "# .dtypes: Columns들의 type을 보여줌\n",
        "countries.dtypes"
      ],
      "execution_count": null,
      "outputs": [
        {
          "output_type": "execute_result",
          "data": {
            "text/plain": [
              "population    float64\n",
              "area            int64\n",
              "capital        object\n",
              "dtype: object"
            ]
          },
          "metadata": {
            "tags": []
          },
          "execution_count": 16
        }
      ]
    },
    {
      "cell_type": "code",
      "metadata": {
        "id": "U7M17yIptYzP",
        "colab": {
          "base_uri": "https://localhost:8080/",
          "height": 158
        },
        "outputId": "3ec09c5b-ec8b-4219-8dc6-01b949bf431c"
      },
      "source": [
        "# .info(): index, columns 갯수, type 등을 보여줌\n",
        "countries.info()"
      ],
      "execution_count": null,
      "outputs": [
        {
          "output_type": "stream",
          "text": [
            "<class 'pandas.core.frame.DataFrame'>\n",
            "Index: 5 entries, Belgium to United Kingdom\n",
            "Data columns (total 3 columns):\n",
            "population    5 non-null float64\n",
            "area          5 non-null int64\n",
            "capital       5 non-null object\n",
            "dtypes: float64(1), int64(1), object(1)\n",
            "memory usage: 320.0+ bytes\n"
          ],
          "name": "stdout"
        }
      ]
    },
    {
      "cell_type": "code",
      "metadata": {
        "id": "wH0SqamktY7e",
        "colab": {
          "base_uri": "https://localhost:8080/",
          "height": 105
        },
        "outputId": "2115c4a8-a1d6-4fad-99cd-582c726f3d4a"
      },
      "source": [
        "# .values: 각 index의 value 값들을 보여줌\n",
        "countries.values"
      ],
      "execution_count": null,
      "outputs": [
        {
          "output_type": "execute_result",
          "data": {
            "text/plain": [
              "array([[11.3, 30510, 'Brussels'],\n",
              "       [64.3, 671308, 'Paris'],\n",
              "       [81.3, 357050, 'Berlin'],\n",
              "       [16.9, 41526, 'Amsterdam'],\n",
              "       [64.9, 244820, 'London']], dtype=object)"
            ]
          },
          "metadata": {
            "tags": []
          },
          "execution_count": 40
        }
      ]
    },
    {
      "cell_type": "code",
      "metadata": {
        "id": "31fKuuqkwzF2",
        "colab": {
          "base_uri": "https://localhost:8080/",
          "height": 34
        },
        "outputId": "98ffddb3-1586-462d-8176-8087733e6381"
      },
      "source": [
        "countries.columns"
      ],
      "execution_count": null,
      "outputs": [
        {
          "output_type": "execute_result",
          "data": {
            "text/plain": [
              "Index(['population', 'area', 'capital'], dtype='object')"
            ]
          },
          "metadata": {
            "tags": []
          },
          "execution_count": 42
        }
      ]
    },
    {
      "cell_type": "code",
      "metadata": {
        "id": "4zARIXRVtZCb",
        "colab": {
          "base_uri": "https://localhost:8080/",
          "height": 227
        },
        "outputId": "0d5cb0a0-ed4d-4d8d-fab7-0a714552d031"
      },
      "source": [
        "# .set_index(' '): 해당 column을 index로 바꿔줌\n",
        "countries = countries.set_index('country')\n",
        "countries"
      ],
      "execution_count": null,
      "outputs": [
        {
          "output_type": "execute_result",
          "data": {
            "text/html": [
              "<div>\n",
              "<style scoped>\n",
              "    .dataframe tbody tr th:only-of-type {\n",
              "        vertical-align: middle;\n",
              "    }\n",
              "\n",
              "    .dataframe tbody tr th {\n",
              "        vertical-align: top;\n",
              "    }\n",
              "\n",
              "    .dataframe thead th {\n",
              "        text-align: right;\n",
              "    }\n",
              "</style>\n",
              "<table border=\"1\" class=\"dataframe\">\n",
              "  <thead>\n",
              "    <tr style=\"text-align: right;\">\n",
              "      <th></th>\n",
              "      <th>population</th>\n",
              "      <th>area</th>\n",
              "      <th>capital</th>\n",
              "    </tr>\n",
              "    <tr>\n",
              "      <th>country</th>\n",
              "      <th></th>\n",
              "      <th></th>\n",
              "      <th></th>\n",
              "    </tr>\n",
              "  </thead>\n",
              "  <tbody>\n",
              "    <tr>\n",
              "      <th>Belgium</th>\n",
              "      <td>11.3</td>\n",
              "      <td>30510</td>\n",
              "      <td>Brussels</td>\n",
              "    </tr>\n",
              "    <tr>\n",
              "      <th>France</th>\n",
              "      <td>64.3</td>\n",
              "      <td>671308</td>\n",
              "      <td>Paris</td>\n",
              "    </tr>\n",
              "    <tr>\n",
              "      <th>Germany</th>\n",
              "      <td>81.3</td>\n",
              "      <td>357050</td>\n",
              "      <td>Berlin</td>\n",
              "    </tr>\n",
              "    <tr>\n",
              "      <th>Netherlands</th>\n",
              "      <td>16.9</td>\n",
              "      <td>41526</td>\n",
              "      <td>Amsterdam</td>\n",
              "    </tr>\n",
              "    <tr>\n",
              "      <th>United Kingdom</th>\n",
              "      <td>64.9</td>\n",
              "      <td>244820</td>\n",
              "      <td>London</td>\n",
              "    </tr>\n",
              "  </tbody>\n",
              "</table>\n",
              "</div>"
            ],
            "text/plain": [
              "                population    area    capital\n",
              "country                                      \n",
              "Belgium               11.3   30510   Brussels\n",
              "France                64.3  671308      Paris\n",
              "Germany               81.3  357050     Berlin\n",
              "Netherlands           16.9   41526  Amsterdam\n",
              "United Kingdom        64.9  244820     London"
            ]
          },
          "metadata": {
            "tags": []
          },
          "execution_count": 45
        }
      ]
    },
    {
      "cell_type": "code",
      "metadata": {
        "id": "JUnLECRdtZKp",
        "colab": {
          "base_uri": "https://localhost:8080/",
          "height": 141
        },
        "outputId": "46d3f31b-c155-4824-b09e-a2cfbc0348b2"
      },
      "source": [
        "countries['area']"
      ],
      "execution_count": null,
      "outputs": [
        {
          "output_type": "execute_result",
          "data": {
            "text/plain": [
              "country\n",
              "Belgium            30510\n",
              "France            671308\n",
              "Germany           357050\n",
              "Netherlands        41526\n",
              "United Kingdom    244820\n",
              "Name: area, dtype: int64"
            ]
          },
          "metadata": {
            "tags": []
          },
          "execution_count": 26
        }
      ]
    },
    {
      "cell_type": "code",
      "metadata": {
        "id": "GIpVzo81vIIA",
        "colab": {
          "base_uri": "https://localhost:8080/",
          "height": 141
        },
        "outputId": "0b573334-ceb5-4f22-a36e-64449076c421"
      },
      "source": [
        "countries['population'] / countries['area']"
      ],
      "execution_count": null,
      "outputs": [
        {
          "output_type": "execute_result",
          "data": {
            "text/plain": [
              "country\n",
              "Belgium           0.000370\n",
              "France            0.000096\n",
              "Germany           0.000228\n",
              "Netherlands       0.000407\n",
              "United Kingdom    0.000265\n",
              "dtype: float64"
            ]
          },
          "metadata": {
            "tags": []
          },
          "execution_count": 27
        }
      ]
    },
    {
      "cell_type": "code",
      "metadata": {
        "id": "tiYJ6ZPWvyX8",
        "colab": {
          "base_uri": "https://localhost:8080/",
          "height": 34
        },
        "outputId": "64a1d1fc-2490-4b7f-950c-cd4415912538"
      },
      "source": [
        "# 1개의 column을 뽑아서 min, max, mean, median 등의 연산도 가능\n",
        "countries['area'].min()"
      ],
      "execution_count": null,
      "outputs": [
        {
          "output_type": "execute_result",
          "data": {
            "text/plain": [
              "30510"
            ]
          },
          "metadata": {
            "tags": []
          },
          "execution_count": 29
        }
      ]
    },
    {
      "cell_type": "code",
      "metadata": {
        "id": "ILFEmC_BHeaR",
        "colab": {
          "base_uri": "https://localhost:8080/",
          "height": 235
        },
        "outputId": "42c2cadc-4f9c-42c3-8c3b-a28f39ac3ddb"
      },
      "source": [
        "# .loc 예시\n",
        "# redefining the example objects\n",
        "\n",
        "# series\n",
        "population = pd.Series({'Germany': 81.3, 'Belgium': 11.3, 'France': 64.3, \n",
        "                        'United Kingdom': 64.9, 'Netherlands': 16.9})\n",
        "\n",
        "# dataframe\n",
        "data = {'country': ['Belgium', 'France', 'Germany', 'Netherlands', 'United Kingdom'],\n",
        "        'population': [11.3, 64.3, 81.3, 16.9, 64.9],\n",
        "        'area': [30510, 671308, 357050, 41526, 244820],\n",
        "        'capital': ['Brussels', 'Paris', 'Berlin', 'Amsterdam', 'London']}\n",
        "countries = pd.DataFrame(data)\n",
        "countries = countries.set_index('country')\n",
        "countries"
      ],
      "execution_count": null,
      "outputs": [
        {
          "output_type": "execute_result",
          "data": {
            "text/html": [
              "<div>\n",
              "<style scoped>\n",
              "    .dataframe tbody tr th:only-of-type {\n",
              "        vertical-align: middle;\n",
              "    }\n",
              "\n",
              "    .dataframe tbody tr th {\n",
              "        vertical-align: top;\n",
              "    }\n",
              "\n",
              "    .dataframe thead th {\n",
              "        text-align: right;\n",
              "    }\n",
              "</style>\n",
              "<table border=\"1\" class=\"dataframe\">\n",
              "  <thead>\n",
              "    <tr style=\"text-align: right;\">\n",
              "      <th></th>\n",
              "      <th>population</th>\n",
              "      <th>area</th>\n",
              "      <th>capital</th>\n",
              "    </tr>\n",
              "    <tr>\n",
              "      <th>country</th>\n",
              "      <th></th>\n",
              "      <th></th>\n",
              "      <th></th>\n",
              "    </tr>\n",
              "  </thead>\n",
              "  <tbody>\n",
              "    <tr>\n",
              "      <th>Belgium</th>\n",
              "      <td>11.3</td>\n",
              "      <td>30510</td>\n",
              "      <td>Brussels</td>\n",
              "    </tr>\n",
              "    <tr>\n",
              "      <th>France</th>\n",
              "      <td>64.3</td>\n",
              "      <td>671308</td>\n",
              "      <td>Paris</td>\n",
              "    </tr>\n",
              "    <tr>\n",
              "      <th>Germany</th>\n",
              "      <td>81.3</td>\n",
              "      <td>357050</td>\n",
              "      <td>Berlin</td>\n",
              "    </tr>\n",
              "    <tr>\n",
              "      <th>Netherlands</th>\n",
              "      <td>16.9</td>\n",
              "      <td>41526</td>\n",
              "      <td>Amsterdam</td>\n",
              "    </tr>\n",
              "    <tr>\n",
              "      <th>United Kingdom</th>\n",
              "      <td>64.9</td>\n",
              "      <td>244820</td>\n",
              "      <td>London</td>\n",
              "    </tr>\n",
              "  </tbody>\n",
              "</table>\n",
              "</div>"
            ],
            "text/plain": [
              "                population    area    capital\n",
              "country                                      \n",
              "Belgium               11.3   30510   Brussels\n",
              "France                64.3  671308      Paris\n",
              "Germany               81.3  357050     Berlin\n",
              "Netherlands           16.9   41526  Amsterdam\n",
              "United Kingdom        64.9  244820     London"
            ]
          },
          "metadata": {
            "tags": []
          },
          "execution_count": 10
        }
      ]
    },
    {
      "cell_type": "code",
      "metadata": {
        "id": "-JTutGLCHltK",
        "colab": {
          "base_uri": "https://localhost:8080/",
          "height": 35
        },
        "outputId": "fa41bbf9-e927-42a5-e0f5-4a303870abbf"
      },
      "source": [
        "countries.loc['Germany', 'area']"
      ],
      "execution_count": null,
      "outputs": [
        {
          "output_type": "execute_result",
          "data": {
            "text/plain": [
              "357050"
            ]
          },
          "metadata": {
            "tags": []
          },
          "execution_count": 11
        }
      ]
    },
    {
      "cell_type": "markdown",
      "metadata": {
        "id": "JRpw3jvuO5ax"
      },
      "source": [
        ""
      ]
    },
    {
      "cell_type": "code",
      "metadata": {
        "id": "4CvR7tzLO9dl",
        "colab": {
          "base_uri": "https://localhost:8080/",
          "height": 137
        },
        "outputId": "710f8dd9-0b56-455d-933a-bf3e40a31c82"
      },
      "source": [
        "countries.loc[countries['density'] > 300, ['capital', 'population']]"
      ],
      "execution_count": null,
      "outputs": [
        {
          "output_type": "execute_result",
          "data": {
            "text/html": [
              "<div>\n",
              "<style scoped>\n",
              "    .dataframe tbody tr th:only-of-type {\n",
              "        vertical-align: middle;\n",
              "    }\n",
              "\n",
              "    .dataframe tbody tr th {\n",
              "        vertical-align: top;\n",
              "    }\n",
              "\n",
              "    .dataframe thead th {\n",
              "        text-align: right;\n",
              "    }\n",
              "</style>\n",
              "<table border=\"1\" class=\"dataframe\">\n",
              "  <thead>\n",
              "    <tr style=\"text-align: right;\">\n",
              "      <th></th>\n",
              "      <th>capital</th>\n",
              "      <th>population</th>\n",
              "    </tr>\n",
              "    <tr>\n",
              "      <th>country</th>\n",
              "      <th></th>\n",
              "      <th></th>\n",
              "    </tr>\n",
              "  </thead>\n",
              "  <tbody>\n",
              "    <tr>\n",
              "      <th>Belgium</th>\n",
              "      <td>Brussels</td>\n",
              "      <td>11.3</td>\n",
              "    </tr>\n",
              "    <tr>\n",
              "      <th>Netherlands</th>\n",
              "      <td>Amsterdam</td>\n",
              "      <td>16.9</td>\n",
              "    </tr>\n",
              "  </tbody>\n",
              "</table>\n",
              "</div>"
            ],
            "text/plain": [
              "               capital  population\n",
              "country                           \n",
              "Belgium       Brussels        11.3\n",
              "Netherlands  Amsterdam        16.9"
            ]
          },
          "metadata": {
            "tags": []
          },
          "execution_count": 16
        }
      ]
    },
    {
      "cell_type": "code",
      "metadata": {
        "id": "RgRSCzSYHmpi",
        "colab": {
          "base_uri": "https://localhost:8080/",
          "height": 142
        },
        "outputId": "a7ed7ce7-da89-4bac-e5b9-daf2cac70bb0"
      },
      "source": [
        "countries.loc['France':'Germany', ['area', 'population']]"
      ],
      "execution_count": null,
      "outputs": [
        {
          "output_type": "execute_result",
          "data": {
            "text/html": [
              "<div>\n",
              "<style scoped>\n",
              "    .dataframe tbody tr th:only-of-type {\n",
              "        vertical-align: middle;\n",
              "    }\n",
              "\n",
              "    .dataframe tbody tr th {\n",
              "        vertical-align: top;\n",
              "    }\n",
              "\n",
              "    .dataframe thead th {\n",
              "        text-align: right;\n",
              "    }\n",
              "</style>\n",
              "<table border=\"1\" class=\"dataframe\">\n",
              "  <thead>\n",
              "    <tr style=\"text-align: right;\">\n",
              "      <th></th>\n",
              "      <th>area</th>\n",
              "      <th>population</th>\n",
              "    </tr>\n",
              "    <tr>\n",
              "      <th>country</th>\n",
              "      <th></th>\n",
              "      <th></th>\n",
              "    </tr>\n",
              "  </thead>\n",
              "  <tbody>\n",
              "    <tr>\n",
              "      <th>France</th>\n",
              "      <td>671308</td>\n",
              "      <td>64.3</td>\n",
              "    </tr>\n",
              "    <tr>\n",
              "      <th>Germany</th>\n",
              "      <td>357050</td>\n",
              "      <td>81.3</td>\n",
              "    </tr>\n",
              "  </tbody>\n",
              "</table>\n",
              "</div>"
            ],
            "text/plain": [
              "           area  population\n",
              "country                    \n",
              "France   671308        64.3\n",
              "Germany  357050        81.3"
            ]
          },
          "metadata": {
            "tags": []
          },
          "execution_count": 12
        }
      ]
    },
    {
      "cell_type": "code",
      "metadata": {
        "id": "QeGOxaZxHmjO",
        "colab": {
          "base_uri": "https://localhost:8080/",
          "height": 235
        },
        "outputId": "d0fb2ab1-8bea-433c-e0d7-f5452852f2be"
      },
      "source": [
        "# .iloc 예시\n",
        "countries"
      ],
      "execution_count": null,
      "outputs": [
        {
          "output_type": "execute_result",
          "data": {
            "text/html": [
              "<div>\n",
              "<style scoped>\n",
              "    .dataframe tbody tr th:only-of-type {\n",
              "        vertical-align: middle;\n",
              "    }\n",
              "\n",
              "    .dataframe tbody tr th {\n",
              "        vertical-align: top;\n",
              "    }\n",
              "\n",
              "    .dataframe thead th {\n",
              "        text-align: right;\n",
              "    }\n",
              "</style>\n",
              "<table border=\"1\" class=\"dataframe\">\n",
              "  <thead>\n",
              "    <tr style=\"text-align: right;\">\n",
              "      <th></th>\n",
              "      <th>population</th>\n",
              "      <th>area</th>\n",
              "      <th>capital</th>\n",
              "    </tr>\n",
              "    <tr>\n",
              "      <th>country</th>\n",
              "      <th></th>\n",
              "      <th></th>\n",
              "      <th></th>\n",
              "    </tr>\n",
              "  </thead>\n",
              "  <tbody>\n",
              "    <tr>\n",
              "      <th>Belgium</th>\n",
              "      <td>11.3</td>\n",
              "      <td>30510</td>\n",
              "      <td>Brussels</td>\n",
              "    </tr>\n",
              "    <tr>\n",
              "      <th>France</th>\n",
              "      <td>64.3</td>\n",
              "      <td>671308</td>\n",
              "      <td>Paris</td>\n",
              "    </tr>\n",
              "    <tr>\n",
              "      <th>Germany</th>\n",
              "      <td>81.3</td>\n",
              "      <td>357050</td>\n",
              "      <td>Berlin</td>\n",
              "    </tr>\n",
              "    <tr>\n",
              "      <th>Netherlands</th>\n",
              "      <td>16.9</td>\n",
              "      <td>41526</td>\n",
              "      <td>Amsterdam</td>\n",
              "    </tr>\n",
              "    <tr>\n",
              "      <th>United Kingdom</th>\n",
              "      <td>64.9</td>\n",
              "      <td>244820</td>\n",
              "      <td>London</td>\n",
              "    </tr>\n",
              "  </tbody>\n",
              "</table>\n",
              "</div>"
            ],
            "text/plain": [
              "                population    area    capital\n",
              "country                                      \n",
              "Belgium               11.3   30510   Brussels\n",
              "France                64.3  671308      Paris\n",
              "Germany               81.3  357050     Berlin\n",
              "Netherlands           16.9   41526  Amsterdam\n",
              "United Kingdom        64.9  244820     London"
            ]
          },
          "metadata": {
            "tags": []
          },
          "execution_count": 13
        }
      ]
    },
    {
      "cell_type": "code",
      "metadata": {
        "id": "oLtOlpNnIkvh",
        "colab": {
          "base_uri": "https://localhost:8080/",
          "height": 142
        },
        "outputId": "6e1ac81e-c953-4b01-e7c8-fbb4ab8d1921"
      },
      "source": [
        "countries.iloc[0:2,1:3]"
      ],
      "execution_count": null,
      "outputs": [
        {
          "output_type": "execute_result",
          "data": {
            "text/html": [
              "<div>\n",
              "<style scoped>\n",
              "    .dataframe tbody tr th:only-of-type {\n",
              "        vertical-align: middle;\n",
              "    }\n",
              "\n",
              "    .dataframe tbody tr th {\n",
              "        vertical-align: top;\n",
              "    }\n",
              "\n",
              "    .dataframe thead th {\n",
              "        text-align: right;\n",
              "    }\n",
              "</style>\n",
              "<table border=\"1\" class=\"dataframe\">\n",
              "  <thead>\n",
              "    <tr style=\"text-align: right;\">\n",
              "      <th></th>\n",
              "      <th>area</th>\n",
              "      <th>capital</th>\n",
              "    </tr>\n",
              "    <tr>\n",
              "      <th>country</th>\n",
              "      <th></th>\n",
              "      <th></th>\n",
              "    </tr>\n",
              "  </thead>\n",
              "  <tbody>\n",
              "    <tr>\n",
              "      <th>Belgium</th>\n",
              "      <td>30510</td>\n",
              "      <td>Brussels</td>\n",
              "    </tr>\n",
              "    <tr>\n",
              "      <th>France</th>\n",
              "      <td>671308</td>\n",
              "      <td>Paris</td>\n",
              "    </tr>\n",
              "  </tbody>\n",
              "</table>\n",
              "</div>"
            ],
            "text/plain": [
              "           area   capital\n",
              "country                  \n",
              "Belgium   30510  Brussels\n",
              "France   671308     Paris"
            ]
          },
          "metadata": {
            "tags": []
          },
          "execution_count": 14
        }
      ]
    },
    {
      "cell_type": "code",
      "metadata": {
        "id": "Xc-nwN1CYy50"
      },
      "source": [
        "# 조건에 맞는 데이터 뽑기\n",
        "## List the supporting roles (having n=2) played by Cary Grant in the 1940s, in order by year.\n",
        "cast = cast[cast.name == 'Cary Grant']\n",
        "cast = cast[cast.year // 10 == 194]\n",
        "cast = cast[cast.n == 2]\n",
        "cast = cast.sort('year')\n",
        "cast"
      ],
      "execution_count": null,
      "outputs": []
    },
    {
      "cell_type": "code",
      "metadata": {
        "id": "jBwF1DgocKqV"
      },
      "source": [
        "# 조건에 맞는 데이터 뽑기\n",
        "df = df[df.line_race != 0]"
      ],
      "execution_count": null,
      "outputs": []
    },
    {
      "cell_type": "code",
      "metadata": {
        "id": "M3c_R1eMqP0F",
        "colab": {
          "base_uri": "https://localhost:8080/",
          "height": 297
        },
        "outputId": "b1ca10c8-b9e1-414e-ca81-7184a34e568e"
      },
      "source": [
        "df = pd.read_csv(\"data/titanic.csv\")\n",
        "df.head()"
      ],
      "execution_count": null,
      "outputs": [
        {
          "output_type": "execute_result",
          "data": {
            "text/html": [
              "<div>\n",
              "<style scoped>\n",
              "    .dataframe tbody tr th:only-of-type {\n",
              "        vertical-align: middle;\n",
              "    }\n",
              "\n",
              "    .dataframe tbody tr th {\n",
              "        vertical-align: top;\n",
              "    }\n",
              "\n",
              "    .dataframe thead th {\n",
              "        text-align: right;\n",
              "    }\n",
              "</style>\n",
              "<table border=\"1\" class=\"dataframe\">\n",
              "  <thead>\n",
              "    <tr style=\"text-align: right;\">\n",
              "      <th></th>\n",
              "      <th>PassengerId</th>\n",
              "      <th>Survived</th>\n",
              "      <th>Pclass</th>\n",
              "      <th>Name</th>\n",
              "      <th>Sex</th>\n",
              "      <th>Age</th>\n",
              "      <th>SibSp</th>\n",
              "      <th>Parch</th>\n",
              "      <th>Ticket</th>\n",
              "      <th>Fare</th>\n",
              "      <th>Cabin</th>\n",
              "      <th>Embarked</th>\n",
              "    </tr>\n",
              "  </thead>\n",
              "  <tbody>\n",
              "    <tr>\n",
              "      <th>0</th>\n",
              "      <td>1</td>\n",
              "      <td>0</td>\n",
              "      <td>3</td>\n",
              "      <td>Braund, Mr. Owen Harris</td>\n",
              "      <td>male</td>\n",
              "      <td>22.0</td>\n",
              "      <td>1</td>\n",
              "      <td>0</td>\n",
              "      <td>A/5 21171</td>\n",
              "      <td>7.2500</td>\n",
              "      <td>NaN</td>\n",
              "      <td>S</td>\n",
              "    </tr>\n",
              "    <tr>\n",
              "      <th>1</th>\n",
              "      <td>2</td>\n",
              "      <td>1</td>\n",
              "      <td>1</td>\n",
              "      <td>Cumings, Mrs. John Bradley (Florence Briggs Th...</td>\n",
              "      <td>female</td>\n",
              "      <td>38.0</td>\n",
              "      <td>1</td>\n",
              "      <td>0</td>\n",
              "      <td>PC 17599</td>\n",
              "      <td>71.2833</td>\n",
              "      <td>C85</td>\n",
              "      <td>C</td>\n",
              "    </tr>\n",
              "    <tr>\n",
              "      <th>2</th>\n",
              "      <td>3</td>\n",
              "      <td>1</td>\n",
              "      <td>3</td>\n",
              "      <td>Heikkinen, Miss. Laina</td>\n",
              "      <td>female</td>\n",
              "      <td>26.0</td>\n",
              "      <td>0</td>\n",
              "      <td>0</td>\n",
              "      <td>STON/O2. 3101282</td>\n",
              "      <td>7.9250</td>\n",
              "      <td>NaN</td>\n",
              "      <td>S</td>\n",
              "    </tr>\n",
              "    <tr>\n",
              "      <th>3</th>\n",
              "      <td>4</td>\n",
              "      <td>1</td>\n",
              "      <td>1</td>\n",
              "      <td>Futrelle, Mrs. Jacques Heath (Lily May Peel)</td>\n",
              "      <td>female</td>\n",
              "      <td>35.0</td>\n",
              "      <td>1</td>\n",
              "      <td>0</td>\n",
              "      <td>113803</td>\n",
              "      <td>53.1000</td>\n",
              "      <td>C123</td>\n",
              "      <td>S</td>\n",
              "    </tr>\n",
              "    <tr>\n",
              "      <th>4</th>\n",
              "      <td>5</td>\n",
              "      <td>0</td>\n",
              "      <td>3</td>\n",
              "      <td>Allen, Mr. William Henry</td>\n",
              "      <td>male</td>\n",
              "      <td>35.0</td>\n",
              "      <td>0</td>\n",
              "      <td>0</td>\n",
              "      <td>373450</td>\n",
              "      <td>8.0500</td>\n",
              "      <td>NaN</td>\n",
              "      <td>S</td>\n",
              "    </tr>\n",
              "  </tbody>\n",
              "</table>\n",
              "</div>"
            ],
            "text/plain": [
              "   PassengerId  Survived  Pclass  ...     Fare Cabin  Embarked\n",
              "0            1         0       3  ...   7.2500   NaN         S\n",
              "1            2         1       1  ...  71.2833   C85         C\n",
              "2            3         1       3  ...   7.9250   NaN         S\n",
              "3            4         1       1  ...  53.1000  C123         S\n",
              "4            5         0       3  ...   8.0500   NaN         S\n",
              "\n",
              "[5 rows x 12 columns]"
            ]
          },
          "metadata": {
            "tags": []
          },
          "execution_count": 24
        }
      ]
    },
    {
      "cell_type": "code",
      "metadata": {
        "id": "kgTjZ6DkqkQp",
        "colab": {
          "base_uri": "https://localhost:8080/",
          "height": 197
        },
        "outputId": "d42eb901-f8a3-4a49-dde7-fa50446b6f47"
      },
      "source": [
        "df_info = df[[\"Age\",\"Fare\"]]\n",
        "df_info.head()"
      ],
      "execution_count": null,
      "outputs": [
        {
          "output_type": "execute_result",
          "data": {
            "text/html": [
              "<div>\n",
              "<style scoped>\n",
              "    .dataframe tbody tr th:only-of-type {\n",
              "        vertical-align: middle;\n",
              "    }\n",
              "\n",
              "    .dataframe tbody tr th {\n",
              "        vertical-align: top;\n",
              "    }\n",
              "\n",
              "    .dataframe thead th {\n",
              "        text-align: right;\n",
              "    }\n",
              "</style>\n",
              "<table border=\"1\" class=\"dataframe\">\n",
              "  <thead>\n",
              "    <tr style=\"text-align: right;\">\n",
              "      <th></th>\n",
              "      <th>Age</th>\n",
              "      <th>Fare</th>\n",
              "    </tr>\n",
              "  </thead>\n",
              "  <tbody>\n",
              "    <tr>\n",
              "      <th>0</th>\n",
              "      <td>22.0</td>\n",
              "      <td>7.2500</td>\n",
              "    </tr>\n",
              "    <tr>\n",
              "      <th>1</th>\n",
              "      <td>38.0</td>\n",
              "      <td>71.2833</td>\n",
              "    </tr>\n",
              "    <tr>\n",
              "      <th>2</th>\n",
              "      <td>26.0</td>\n",
              "      <td>7.9250</td>\n",
              "    </tr>\n",
              "    <tr>\n",
              "      <th>3</th>\n",
              "      <td>35.0</td>\n",
              "      <td>53.1000</td>\n",
              "    </tr>\n",
              "    <tr>\n",
              "      <th>4</th>\n",
              "      <td>35.0</td>\n",
              "      <td>8.0500</td>\n",
              "    </tr>\n",
              "  </tbody>\n",
              "</table>\n",
              "</div>"
            ],
            "text/plain": [
              "    Age     Fare\n",
              "0  22.0   7.2500\n",
              "1  38.0  71.2833\n",
              "2  26.0   7.9250\n",
              "3  35.0  53.1000\n",
              "4  35.0   8.0500"
            ]
          },
          "metadata": {
            "tags": []
          },
          "execution_count": 25
        }
      ]
    },
    {
      "cell_type": "code",
      "metadata": {
        "id": "G2qUabNaqkX4",
        "colab": {
          "base_uri": "https://localhost:8080/",
          "height": 70
        },
        "outputId": "92fd8f2a-a95e-498a-fa71-194603229e61"
      },
      "source": [
        "f = lambda x : x.max() - x.min()\n",
        "df_info.apply(f)"
      ],
      "execution_count": null,
      "outputs": [
        {
          "output_type": "execute_result",
          "data": {
            "text/plain": [
              "Age      79.5800\n",
              "Fare    512.3292\n",
              "dtype: float64"
            ]
          },
          "metadata": {
            "tags": []
          },
          "execution_count": 26
        }
      ]
    },
    {
      "cell_type": "code",
      "metadata": {
        "id": "1dJVHt1EqkhM",
        "colab": {
          "base_uri": "https://localhost:8080/",
          "height": 70
        },
        "outputId": "6d10ee98-c759-4a83-bff1-1ac5dca76ddb"
      },
      "source": [
        "df_info.apply(sum)"
      ],
      "execution_count": null,
      "outputs": [
        {
          "output_type": "execute_result",
          "data": {
            "text/plain": [
              "Age            NaN\n",
              "Fare    28693.9493\n",
              "dtype: float64"
            ]
          },
          "metadata": {
            "tags": []
          },
          "execution_count": 27
        }
      ]
    },
    {
      "cell_type": "code",
      "metadata": {
        "id": "_lq3N6vNqklF",
        "colab": {
          "base_uri": "https://localhost:8080/",
          "height": 137
        },
        "outputId": "1b08cbff-eef7-4c96-a647-b218d4b2b4ee"
      },
      "source": [
        "def f(x):\n",
        "    return Series([x.min(), x.max(), x.mean()], \n",
        "                    index=[\"min\", \"max\", \"mean\"])\n",
        "df_info.apply(f)"
      ],
      "execution_count": null,
      "outputs": [
        {
          "output_type": "execute_result",
          "data": {
            "text/html": [
              "<div>\n",
              "<style scoped>\n",
              "    .dataframe tbody tr th:only-of-type {\n",
              "        vertical-align: middle;\n",
              "    }\n",
              "\n",
              "    .dataframe tbody tr th {\n",
              "        vertical-align: top;\n",
              "    }\n",
              "\n",
              "    .dataframe thead th {\n",
              "        text-align: right;\n",
              "    }\n",
              "</style>\n",
              "<table border=\"1\" class=\"dataframe\">\n",
              "  <thead>\n",
              "    <tr style=\"text-align: right;\">\n",
              "      <th></th>\n",
              "      <th>Age</th>\n",
              "      <th>Fare</th>\n",
              "    </tr>\n",
              "  </thead>\n",
              "  <tbody>\n",
              "    <tr>\n",
              "      <th>min</th>\n",
              "      <td>0.420000</td>\n",
              "      <td>0.000000</td>\n",
              "    </tr>\n",
              "    <tr>\n",
              "      <th>max</th>\n",
              "      <td>80.000000</td>\n",
              "      <td>512.329200</td>\n",
              "    </tr>\n",
              "    <tr>\n",
              "      <th>mean</th>\n",
              "      <td>29.699118</td>\n",
              "      <td>32.204208</td>\n",
              "    </tr>\n",
              "  </tbody>\n",
              "</table>\n",
              "</div>"
            ],
            "text/plain": [
              "            Age        Fare\n",
              "min    0.420000    0.000000\n",
              "max   80.000000  512.329200\n",
              "mean  29.699118   32.204208"
            ]
          },
          "metadata": {
            "tags": []
          },
          "execution_count": 28
        }
      ]
    },
    {
      "cell_type": "code",
      "metadata": {
        "id": "Vg1O4QXjqku3",
        "colab": {
          "base_uri": "https://localhost:8080/",
          "height": 197
        },
        "outputId": "c8755308-3cc0-4d7d-a97a-5e4759c73ae4"
      },
      "source": [
        "f = lambda x : -x\n",
        "df_info.applymap(f).head(5)"
      ],
      "execution_count": null,
      "outputs": [
        {
          "output_type": "execute_result",
          "data": {
            "text/html": [
              "<div>\n",
              "<style scoped>\n",
              "    .dataframe tbody tr th:only-of-type {\n",
              "        vertical-align: middle;\n",
              "    }\n",
              "\n",
              "    .dataframe tbody tr th {\n",
              "        vertical-align: top;\n",
              "    }\n",
              "\n",
              "    .dataframe thead th {\n",
              "        text-align: right;\n",
              "    }\n",
              "</style>\n",
              "<table border=\"1\" class=\"dataframe\">\n",
              "  <thead>\n",
              "    <tr style=\"text-align: right;\">\n",
              "      <th></th>\n",
              "      <th>Age</th>\n",
              "      <th>Fare</th>\n",
              "    </tr>\n",
              "  </thead>\n",
              "  <tbody>\n",
              "    <tr>\n",
              "      <th>0</th>\n",
              "      <td>-22.0</td>\n",
              "      <td>-7.2500</td>\n",
              "    </tr>\n",
              "    <tr>\n",
              "      <th>1</th>\n",
              "      <td>-38.0</td>\n",
              "      <td>-71.2833</td>\n",
              "    </tr>\n",
              "    <tr>\n",
              "      <th>2</th>\n",
              "      <td>-26.0</td>\n",
              "      <td>-7.9250</td>\n",
              "    </tr>\n",
              "    <tr>\n",
              "      <th>3</th>\n",
              "      <td>-35.0</td>\n",
              "      <td>-53.1000</td>\n",
              "    </tr>\n",
              "    <tr>\n",
              "      <th>4</th>\n",
              "      <td>-35.0</td>\n",
              "      <td>-8.0500</td>\n",
              "    </tr>\n",
              "  </tbody>\n",
              "</table>\n",
              "</div>"
            ],
            "text/plain": [
              "    Age     Fare\n",
              "0 -22.0  -7.2500\n",
              "1 -38.0 -71.2833\n",
              "2 -26.0  -7.9250\n",
              "3 -35.0 -53.1000\n",
              "4 -35.0  -8.0500"
            ]
          },
          "metadata": {
            "tags": []
          },
          "execution_count": 29
        }
      ]
    },
    {
      "cell_type": "code",
      "metadata": {
        "id": "VMxkyuS4qkyL",
        "colab": {
          "base_uri": "https://localhost:8080/",
          "height": 123
        },
        "outputId": "0fa0eb6f-ca2d-42bf-c482-220b17dfed38"
      },
      "source": [
        "f = lambda x : -x\n",
        "df_info[\"Age\"].apply(f).head(5)"
      ],
      "execution_count": null,
      "outputs": [
        {
          "output_type": "execute_result",
          "data": {
            "text/plain": [
              "0   -22.0\n",
              "1   -38.0\n",
              "2   -26.0\n",
              "3   -35.0\n",
              "4   -35.0\n",
              "Name: Age, dtype: float64"
            ]
          },
          "metadata": {
            "tags": []
          },
          "execution_count": 31
        }
      ]
    },
    {
      "cell_type": "code",
      "metadata": {
        "id": "-k4vp3IDODoq"
      },
      "source": [
        "users[lambda x: x.gender == 'F']"
      ],
      "execution_count": null,
      "outputs": []
    },
    {
      "cell_type": "code",
      "metadata": {
        "id": "w5dwOOHASfC7",
        "colab": {
          "base_uri": "https://localhost:8080/",
          "height": 142
        },
        "outputId": "be811867-ef72-49b8-ca96-d034b7f559da"
      },
      "source": [
        "# isin\n",
        "countries[lambda x: x.capital.isin(['Berlin', \"London\"])]"
      ],
      "execution_count": null,
      "outputs": [
        {
          "output_type": "execute_result",
          "data": {
            "text/html": [
              "<div>\n",
              "<style scoped>\n",
              "    .dataframe tbody tr th:only-of-type {\n",
              "        vertical-align: middle;\n",
              "    }\n",
              "\n",
              "    .dataframe tbody tr th {\n",
              "        vertical-align: top;\n",
              "    }\n",
              "\n",
              "    .dataframe thead th {\n",
              "        text-align: right;\n",
              "    }\n",
              "</style>\n",
              "<table border=\"1\" class=\"dataframe\">\n",
              "  <thead>\n",
              "    <tr style=\"text-align: right;\">\n",
              "      <th></th>\n",
              "      <th>population</th>\n",
              "      <th>area</th>\n",
              "      <th>capital</th>\n",
              "      <th>density</th>\n",
              "    </tr>\n",
              "    <tr>\n",
              "      <th>country</th>\n",
              "      <th></th>\n",
              "      <th></th>\n",
              "      <th></th>\n",
              "      <th></th>\n",
              "    </tr>\n",
              "  </thead>\n",
              "  <tbody>\n",
              "    <tr>\n",
              "      <th>Germany</th>\n",
              "      <td>81.3</td>\n",
              "      <td>357050</td>\n",
              "      <td>Berlin</td>\n",
              "      <td>227.699202</td>\n",
              "    </tr>\n",
              "    <tr>\n",
              "      <th>United Kingdom</th>\n",
              "      <td>64.9</td>\n",
              "      <td>244820</td>\n",
              "      <td>London</td>\n",
              "      <td>265.092721</td>\n",
              "    </tr>\n",
              "  </tbody>\n",
              "</table>\n",
              "</div>"
            ],
            "text/plain": [
              "                population    area capital     density\n",
              "country                                               \n",
              "Germany               81.3  357050  Berlin  227.699202\n",
              "United Kingdom        64.9  244820  London  265.092721"
            ]
          },
          "metadata": {
            "tags": []
          },
          "execution_count": 19
        }
      ]
    },
    {
      "cell_type": "code",
      "metadata": {
        "id": "-kbvVoo9UmFA",
        "colab": {
          "base_uri": "https://localhost:8080/",
          "height": 143
        },
        "outputId": "584e45f8-ad8a-411a-9ebb-00038900018f"
      },
      "source": [
        "#stratswith\n",
        "countries['capital'].str.startswith('B')"
      ],
      "execution_count": null,
      "outputs": [
        {
          "output_type": "execute_result",
          "data": {
            "text/plain": [
              "country\n",
              "Belgium            True\n",
              "France            False\n",
              "Germany            True\n",
              "Netherlands       False\n",
              "United Kingdom    False\n",
              "Name: capital, dtype: bool"
            ]
          },
          "metadata": {
            "tags": []
          },
          "execution_count": 20
        }
      ]
    },
    {
      "cell_type": "code",
      "metadata": {
        "id": "pLEPX-qSU0Xl",
        "colab": {
          "base_uri": "https://localhost:8080/",
          "height": 142
        },
        "outputId": "54c3b88f-40df-4fbe-8932-6810bd7c4a16"
      },
      "source": [
        "countries[countries['capital'].str.len() > 7]"
      ],
      "execution_count": null,
      "outputs": [
        {
          "output_type": "execute_result",
          "data": {
            "text/html": [
              "<div>\n",
              "<style scoped>\n",
              "    .dataframe tbody tr th:only-of-type {\n",
              "        vertical-align: middle;\n",
              "    }\n",
              "\n",
              "    .dataframe tbody tr th {\n",
              "        vertical-align: top;\n",
              "    }\n",
              "\n",
              "    .dataframe thead th {\n",
              "        text-align: right;\n",
              "    }\n",
              "</style>\n",
              "<table border=\"1\" class=\"dataframe\">\n",
              "  <thead>\n",
              "    <tr style=\"text-align: right;\">\n",
              "      <th></th>\n",
              "      <th>population</th>\n",
              "      <th>area</th>\n",
              "      <th>capital</th>\n",
              "      <th>density</th>\n",
              "    </tr>\n",
              "    <tr>\n",
              "      <th>country</th>\n",
              "      <th></th>\n",
              "      <th></th>\n",
              "      <th></th>\n",
              "      <th></th>\n",
              "    </tr>\n",
              "  </thead>\n",
              "  <tbody>\n",
              "    <tr>\n",
              "      <th>Belgium</th>\n",
              "      <td>11.3</td>\n",
              "      <td>30510</td>\n",
              "      <td>Brussels</td>\n",
              "      <td>370.370370</td>\n",
              "    </tr>\n",
              "    <tr>\n",
              "      <th>Netherlands</th>\n",
              "      <td>16.9</td>\n",
              "      <td>41526</td>\n",
              "      <td>Amsterdam</td>\n",
              "      <td>406.973944</td>\n",
              "    </tr>\n",
              "  </tbody>\n",
              "</table>\n",
              "</div>"
            ],
            "text/plain": [
              "             population   area    capital     density\n",
              "country                                              \n",
              "Belgium            11.3  30510   Brussels  370.370370\n",
              "Netherlands        16.9  41526  Amsterdam  406.973944"
            ]
          },
          "metadata": {
            "tags": []
          },
          "execution_count": 21
        }
      ]
    },
    {
      "cell_type": "code",
      "metadata": {
        "id": "wjm6FdhcVPLf",
        "colab": {
          "base_uri": "https://localhost:8080/",
          "height": 111
        },
        "outputId": "ba3a7f07-145a-4cad-da02-575cb962ffd2"
      },
      "source": [
        "countries[countries['capital'].str.contains('am')]"
      ],
      "execution_count": null,
      "outputs": [
        {
          "output_type": "execute_result",
          "data": {
            "text/html": [
              "<div>\n",
              "<style scoped>\n",
              "    .dataframe tbody tr th:only-of-type {\n",
              "        vertical-align: middle;\n",
              "    }\n",
              "\n",
              "    .dataframe tbody tr th {\n",
              "        vertical-align: top;\n",
              "    }\n",
              "\n",
              "    .dataframe thead th {\n",
              "        text-align: right;\n",
              "    }\n",
              "</style>\n",
              "<table border=\"1\" class=\"dataframe\">\n",
              "  <thead>\n",
              "    <tr style=\"text-align: right;\">\n",
              "      <th></th>\n",
              "      <th>population</th>\n",
              "      <th>area</th>\n",
              "      <th>capital</th>\n",
              "      <th>density</th>\n",
              "    </tr>\n",
              "    <tr>\n",
              "      <th>country</th>\n",
              "      <th></th>\n",
              "      <th></th>\n",
              "      <th></th>\n",
              "      <th></th>\n",
              "    </tr>\n",
              "  </thead>\n",
              "  <tbody>\n",
              "    <tr>\n",
              "      <th>Netherlands</th>\n",
              "      <td>16.9</td>\n",
              "      <td>41526</td>\n",
              "      <td>Amsterdam</td>\n",
              "      <td>406.973944</td>\n",
              "    </tr>\n",
              "  </tbody>\n",
              "</table>\n",
              "</div>"
            ],
            "text/plain": [
              "             population   area    capital     density\n",
              "country                                              \n",
              "Netherlands        16.9  41526  Amsterdam  406.973944"
            ]
          },
          "metadata": {
            "tags": []
          },
          "execution_count": 22
        }
      ]
    },
    {
      "cell_type": "code",
      "metadata": {
        "id": "KLYYvIvzXor0"
      },
      "source": [
        "# sort\n",
        "titles[titles.title == 'Treasure Island'].sort('year')"
      ],
      "execution_count": null,
      "outputs": []
    },
    {
      "cell_type": "code",
      "metadata": {
        "id": "veaIdZeVXozd"
      },
      "source": [
        "# sort\n",
        "titles.sort('year').head(2)"
      ],
      "execution_count": null,
      "outputs": []
    },
    {
      "cell_type": "code",
      "metadata": {
        "id": "_S2Ogp5akIcu"
      },
      "source": [
        "# 조건에 맞는 데이터 groupby하기\n",
        "df_phone[df_phone['item'] == 'call'].groupby('month')['duration'].sum()"
      ],
      "execution_count": null,
      "outputs": []
    },
    {
      "cell_type": "code",
      "metadata": {
        "id": "QM204fUgzf7c"
      },
      "source": [
        "# endswith\n",
        "files = [file_name for file_name in os.listdir(\"./data\") if file_name.endswith(\"xlsx\")]\n",
        "files.remove(\"excel-comp-data.xlsx\")\n",
        "files.remove('df_routes.xlsx')\n",
        "files"
      ],
      "execution_count": null,
      "outputs": []
    },
    {
      "cell_type": "code",
      "metadata": {
        "id": "Km85m9NslMmV"
      },
      "source": [
        "# astype(), str 형태로 column 바꾸기\n",
        "## 예제1\n",
        "df[['A','C'].astype(str) \n",
        "\n",
        "## 예제2\n",
        "int_but_object_data =['BsmtFullBath', 'BsmtHalfBath', 'MSSubClass']\n",
        "for col in int_but_object_data:\n",
        "    Big_df[col] = Big_df[col].astype('object')"
      ],
      "execution_count": null,
      "outputs": []
    },
    {
      "cell_type": "code",
      "metadata": {
        "id": "g0sdpIMCVXbQ"
      },
      "source": [
        "# .isin\n",
        "df = df[df[\"subclass\"].isin(list(\"ABCEDFGHIJKLMNOPQRSTUVWXYZ\"))]"
      ],
      "execution_count": null,
      "outputs": []
    },
    {
      "cell_type": "code",
      "metadata": {
        "id": "BkWsVhaZVtGM"
      },
      "source": [
        "# .tolist\n",
        "dz_list = dizhi.values.tolist()"
      ],
      "execution_count": null,
      "outputs": []
    },
    {
      "cell_type": "markdown",
      "metadata": {
        "id": "tfB7pD9n6awt"
      },
      "source": [
        "## 🔎 Save and Read files"
      ]
    },
    {
      "cell_type": "markdown",
      "metadata": {
        "id": "vg4_4HSu7WAS"
      },
      "source": [
        "- **pd. read_csv ( \" 데이터 이름 및 주소 \" , sep = ' 빈공간으로 지정 ' , header = ' ', index_col = , parse_dates=True, usecols = [ ' ' ] ,  na_values= \" \" )**: 파일 불러오기, parse_dates를 True로 놓으면 datetime으로 읽어온다. 아니면 parse_date=['칼럼 이름'] 이렇게 해도 된다.\n",
        "<br>\n",
        "na_values를 설정해주면 해당 값을 NaN으로 변환해서 불러온다.\n",
        "\n",
        "  **pd. read_csv ( \" index_col = [ 0 ] )** : 이렇게 하면 앞에 unnamed:0 column을 없앨 수 있음\n",
        "- **.to_excel ( \" 제목.xlsx \" ,  sheet_name = ' 이름 ' )**: 엑셀로 저장하기\n",
        "- **.to_csv ( \" 제목.csv \" , index = False , encoding = \" euc-kr \")**: 엑셀로 저장하기. 뒤에 encoding 저렇게 하면 그냥 열었을 때 한글이 안 깨짐"
      ]
    },
    {
      "cell_type": "markdown",
      "metadata": {
        "id": "LxRUf-y4UcZD"
      },
      "source": [
        "<h2> Using Openpyxl </h2>\n",
        "\n",
        "- **openpyx .Workbook()** : 새로운 excel workbook을 만들어냄\n",
        "- **sheet .active**: 현재 활성화된 worksheet을 보여줌\n",
        "- **sheet .append**: 리스트 형식으로 붙임\n",
        "- **sheet .title**: sheet 이름을 변경\n",
        "- **openpyxl .Workbook() .create_sheet ( \" sheet 이름 \" )**: 새로운 시트를 만들기\n",
        "- **sheet [ ' cell location ' ] = str or int**: 특정 cell에 값을 넣어주고 싶을 때\n",
        " \n",
        "  **sheet. cell ( row = , column = ) .value = str or int**: 이렇게 cell에 값을 넣어줄 수도 있음\n",
        "- **openpyxl.Workbook().save('이름.형식')** : 저장하기"
      ]
    },
    {
      "cell_type": "markdown",
      "metadata": {
        "id": "mCyqGjqDUtnV"
      },
      "source": [
        "### 📔 Examples"
      ]
    },
    {
      "cell_type": "code",
      "metadata": {
        "id": "AwdGKgEBwaQR"
      },
      "source": [
        "# 예시 4\n",
        "wb = openpyxl.Workbook()\n",
        "\n",
        "# sheet1은 활성화되 있는 시트를 선택\n",
        "sheet1 = wb.active\n",
        "# sheet1의 시트이름 변경\n",
        "sheet1.title = \"1st sheet\"\n",
        "\n",
        "# 새로운 시트 만들고 sheet2에 저장\n",
        "sheet2 = wb.create_sheet(\"2nd sheet\")\n",
        "\n",
        "# sheet1과 sheet2에 동시에 데이터 쓰기\n",
        "for i in range(1, 10):\n",
        "    sheet1.cell(row=i, column=1).value = i\n",
        "    sheet2.cell(row=1, column=i).value = i\n",
        "\n",
        "wb.save('test.xlsx')"
      ],
      "execution_count": null,
      "outputs": []
    },
    {
      "cell_type": "code",
      "metadata": {
        "id": "pz_Qi3WKvmki"
      },
      "source": [
        "# 예시 3\n",
        "# openpyxl을 가져옵니다.\n",
        "import openpyxl\n",
        "\n",
        "# 워크북(엑셀파일)을 새로 만듭니다.\n",
        "wb = openpyxl.Workbook()\n",
        "\n",
        "# 현재 활성화된 시트를 선택합니다.\n",
        "sheet = wb.active\n",
        "# A1셀에 hello world!를 입력합니다.\n",
        "sheet['A1'] = 'hello world!'\n",
        "\n",
        "sheet.cell(row=3, column=3).value = \"hello world\"\n",
        "\n",
        "\n",
        "# 워크북(엑셀파일)을 원하는 이름으로 저장합니다.\n",
        "wb.save('test.xlsx')"
      ],
      "execution_count": null,
      "outputs": []
    },
    {
      "cell_type": "code",
      "metadata": {
        "id": "m7eak_mQvPym"
      },
      "source": [
        "# Openpyxl 예시 1\n",
        "# 네이버 e북 데이터 수집 결과 파일로 저장하기\n",
        "wb = openpyxl.Workbook()\n",
        "sheet = wb.active\n",
        "sheet.append([\"책제목\", \"저자\"])\n",
        "\n",
        "for n in range(1, 6):\n",
        "    raw = requests.get(\"https://series.naver.com/ebook/top100List.nhn?page=\"+str(n), \n",
        "                  headers={'User-Agent':'Mozilla/5.0'})\n",
        "    html = BeautifulSoup(raw.text, \"html.parser\")\n",
        "    container = html.select(\"div.lst_thum_wrap li\")\n",
        "    try:\n",
        "        for cont in container:\n",
        "            title = cont.select_one(\"a strong\").text.strip()\n",
        "            author = cont.select_one(\"span.writer\").text.strip()\n",
        "            sheet.append([title, author])\n",
        "    except:\n",
        "        continue\n",
        "\n",
        "wb.save(\"week4_homework_1.xlsx\")"
      ],
      "execution_count": null,
      "outputs": []
    },
    {
      "cell_type": "code",
      "metadata": {
        "id": "3IAdcxFEvSRD"
      },
      "source": [
        "# Openpyxl 예시 2\n",
        "# 컨테이너, 제목, 기사요약\n",
        "# 페이지 넘어가기\n",
        "wb = openpyxl.Workbook()\n",
        "sheet = wb.active\n",
        "sheet.append([\"기사\", \"내용\"])\n",
        "\n",
        "for n in range(1, 6):\n",
        "    raw = requests.get(\"https://search.daum.net/search?w=news&q=코알라&p=\"+str(n))\n",
        "    html = BeautifulSoup(raw.text, 'html.parser')\n",
        "    container = html.select(\"div.wrap_cont\")\n",
        "    \n",
        "    for cont in container:\n",
        "        title = cont.select_one(\"a.f_link_b\").text.strip()\n",
        "        summary = cont.select_one(\"p.f_eb.desc\").text.strip()\n",
        "        sheet.append([title, summary])\n",
        "wb.save(\"week4_homework_2.xlsx\")"
      ],
      "execution_count": null,
      "outputs": []
    },
    {
      "cell_type": "markdown",
      "metadata": {
        "id": "Yd85foUJ6bB-"
      },
      "source": [
        "## 🔎 Simple Plotting & Styling"
      ]
    },
    {
      "cell_type": "markdown",
      "metadata": {
        "id": "KaRMTQJW7We4"
      },
      "source": [
        "- **plt .figure ( ) .set_size_inches ( , )**: 그림이 그려질 사이즈를 정함\n",
        "- **.add_supbplot ( )**: 그림이 어디에 위치할지 정해줌\n",
        "- **.set_title ( \" 제목 \" )**: 제목을 달아줌\n",
        "- **.scatter ( data1 , data2, color = ' ' , label = ' ' )**: scatter plot 그리기\n",
        "- **.hist ( data, bins = )**: histogram을 그려줌, bins는 기둥의 갯수\n",
        "- **.plot ( )**: 전체 데이터의 graph를 그려줌\n",
        " \n",
        "  **.plot ( kind = ' ' , xlim = [ , ], ylim = [ , ] , figsize = ( , ) )**: 원하는 plot을 그려줌\n",
        "  - kind: bar, pie, hist, kde, box, scatter, area\n",
        "  - xlim: x축의 최소값~최대값을 설정\n",
        "  - ylim: y축의 최소값~최대값을 설정\n",
        "  - figsize: 크기를 결정\n",
        "- **pd .scatter_matirx ( data, diagonal = \" \", alpha = , figsize = ( , ))**: scatter matrix그리기!"
      ]
    },
    {
      "cell_type": "markdown",
      "metadata": {
        "id": "Xvs1SVJyVEDE"
      },
      "source": [
        "### 📔 Examples"
      ]
    },
    {
      "cell_type": "code",
      "metadata": {
        "id": "vFbcRGsg_oc_"
      },
      "source": [
        "# Simple styling\n",
        "def color_negative_red(val):\n",
        "    \"\"\"\n",
        "    Takes a scalar and returns a string with\n",
        "    the css property `'color: red'` for negative\n",
        "    strings, black otherwise.\n",
        "    \"\"\"\n",
        "    color = 'red' if val < 0 else 'black'\n",
        "    return 'color: %s' % color\n",
        "\n",
        "def highlight_max(s):\n",
        "    '''\n",
        "    highlight the maximum in a Series yellow.\n",
        "    '''\n",
        "    is_max = s == s.max()\n",
        "    return ['background-color: yellow' if v else '' for v in is_max]"
      ],
      "execution_count": null,
      "outputs": []
    },
    {
      "cell_type": "code",
      "metadata": {
        "colab": {
          "base_uri": "https://localhost:8080/",
          "height": 211
        },
        "id": "UtvZ2q6w_1ce",
        "outputId": "b65def26-a5b9-4889-cdfa-3f719619b643"
      },
      "source": [
        "# Styling example 1\n",
        "df.style.\\\n",
        "    applymap(color_negative_red).\\\n",
        "    apply(highlight_max)"
      ],
      "execution_count": null,
      "outputs": [
        {
          "output_type": "execute_result",
          "data": {
            "text/html": [
              "<style  type=\"text/css\" >\n",
              "#T_b8574468_6b77_11eb_8b10_0242ac1c0002row0_col0,#T_b8574468_6b77_11eb_8b10_0242ac1c0002row0_col1,#T_b8574468_6b77_11eb_8b10_0242ac1c0002row0_col2,#T_b8574468_6b77_11eb_8b10_0242ac1c0002row1_col0,#T_b8574468_6b77_11eb_8b10_0242ac1c0002row1_col3,#T_b8574468_6b77_11eb_8b10_0242ac1c0002row1_col4,#T_b8574468_6b77_11eb_8b10_0242ac1c0002row2_col0,#T_b8574468_6b77_11eb_8b10_0242ac1c0002row2_col2,#T_b8574468_6b77_11eb_8b10_0242ac1c0002row2_col3,#T_b8574468_6b77_11eb_8b10_0242ac1c0002row3_col0,#T_b8574468_6b77_11eb_8b10_0242ac1c0002row3_col1,#T_b8574468_6b77_11eb_8b10_0242ac1c0002row3_col2,#T_b8574468_6b77_11eb_8b10_0242ac1c0002row3_col3,#T_b8574468_6b77_11eb_8b10_0242ac1c0002row3_col4,#T_b8574468_6b77_11eb_8b10_0242ac1c0002row4_col0,#T_b8574468_6b77_11eb_8b10_0242ac1c0002row4_col1,#T_b8574468_6b77_11eb_8b10_0242ac1c0002row4_col2,#T_b8574468_6b77_11eb_8b10_0242ac1c0002row4_col3,#T_b8574468_6b77_11eb_8b10_0242ac1c0002row4_col4,#T_b8574468_6b77_11eb_8b10_0242ac1c0002row5_col0,#T_b8574468_6b77_11eb_8b10_0242ac1c0002row5_col2,#T_b8574468_6b77_11eb_8b10_0242ac1c0002row5_col3,#T_b8574468_6b77_11eb_8b10_0242ac1c0002row6_col0,#T_b8574468_6b77_11eb_8b10_0242ac1c0002row6_col1,#T_b8574468_6b77_11eb_8b10_0242ac1c0002row6_col4,#T_b8574468_6b77_11eb_8b10_0242ac1c0002row7_col0,#T_b8574468_6b77_11eb_8b10_0242ac1c0002row7_col1,#T_b8574468_6b77_11eb_8b10_0242ac1c0002row7_col2,#T_b8574468_6b77_11eb_8b10_0242ac1c0002row7_col4,#T_b8574468_6b77_11eb_8b10_0242ac1c0002row8_col0,#T_b8574468_6b77_11eb_8b10_0242ac1c0002row9_col2,#T_b8574468_6b77_11eb_8b10_0242ac1c0002row9_col4{\n",
              "            color:  black;\n",
              "        }#T_b8574468_6b77_11eb_8b10_0242ac1c0002row0_col3,#T_b8574468_6b77_11eb_8b10_0242ac1c0002row0_col4,#T_b8574468_6b77_11eb_8b10_0242ac1c0002row1_col1,#T_b8574468_6b77_11eb_8b10_0242ac1c0002row1_col2,#T_b8574468_6b77_11eb_8b10_0242ac1c0002row2_col1,#T_b8574468_6b77_11eb_8b10_0242ac1c0002row5_col1,#T_b8574468_6b77_11eb_8b10_0242ac1c0002row5_col4,#T_b8574468_6b77_11eb_8b10_0242ac1c0002row6_col3,#T_b8574468_6b77_11eb_8b10_0242ac1c0002row7_col3,#T_b8574468_6b77_11eb_8b10_0242ac1c0002row8_col2,#T_b8574468_6b77_11eb_8b10_0242ac1c0002row8_col4,#T_b8574468_6b77_11eb_8b10_0242ac1c0002row9_col1,#T_b8574468_6b77_11eb_8b10_0242ac1c0002row9_col3{\n",
              "            color:  red;\n",
              "        }#T_b8574468_6b77_11eb_8b10_0242ac1c0002row2_col4,#T_b8574468_6b77_11eb_8b10_0242ac1c0002row6_col2,#T_b8574468_6b77_11eb_8b10_0242ac1c0002row8_col1,#T_b8574468_6b77_11eb_8b10_0242ac1c0002row8_col3,#T_b8574468_6b77_11eb_8b10_0242ac1c0002row9_col0{\n",
              "            color:  black;\n",
              "            background-color:  yellow;\n",
              "        }</style><table id=\"T_b8574468_6b77_11eb_8b10_0242ac1c0002\" ><thead>    <tr>        <th class=\"blank level0\" ></th>        <th class=\"col_heading level0 col0\" >A</th>        <th class=\"col_heading level0 col1\" >B</th>        <th class=\"col_heading level0 col2\" >C</th>        <th class=\"col_heading level0 col3\" >D</th>        <th class=\"col_heading level0 col4\" >E</th>    </tr></thead><tbody>\n",
              "                <tr>\n",
              "                        <th id=\"T_b8574468_6b77_11eb_8b10_0242ac1c0002level0_row0\" class=\"row_heading level0 row0\" >0</th>\n",
              "                        <td id=\"T_b8574468_6b77_11eb_8b10_0242ac1c0002row0_col0\" class=\"data row0 col0\" >1.000000</td>\n",
              "                        <td id=\"T_b8574468_6b77_11eb_8b10_0242ac1c0002row0_col1\" class=\"data row0 col1\" >1.329212</td>\n",
              "                        <td id=\"T_b8574468_6b77_11eb_8b10_0242ac1c0002row0_col2\" class=\"data row0 col2\" >nan</td>\n",
              "                        <td id=\"T_b8574468_6b77_11eb_8b10_0242ac1c0002row0_col3\" class=\"data row0 col3\" >-0.316280</td>\n",
              "                        <td id=\"T_b8574468_6b77_11eb_8b10_0242ac1c0002row0_col4\" class=\"data row0 col4\" >-0.990810</td>\n",
              "            </tr>\n",
              "            <tr>\n",
              "                        <th id=\"T_b8574468_6b77_11eb_8b10_0242ac1c0002level0_row1\" class=\"row_heading level0 row1\" >1</th>\n",
              "                        <td id=\"T_b8574468_6b77_11eb_8b10_0242ac1c0002row1_col0\" class=\"data row1 col0\" >2.000000</td>\n",
              "                        <td id=\"T_b8574468_6b77_11eb_8b10_0242ac1c0002row1_col1\" class=\"data row1 col1\" >-1.070816</td>\n",
              "                        <td id=\"T_b8574468_6b77_11eb_8b10_0242ac1c0002row1_col2\" class=\"data row1 col2\" >-1.438713</td>\n",
              "                        <td id=\"T_b8574468_6b77_11eb_8b10_0242ac1c0002row1_col3\" class=\"data row1 col3\" >0.564417</td>\n",
              "                        <td id=\"T_b8574468_6b77_11eb_8b10_0242ac1c0002row1_col4\" class=\"data row1 col4\" >0.295722</td>\n",
              "            </tr>\n",
              "            <tr>\n",
              "                        <th id=\"T_b8574468_6b77_11eb_8b10_0242ac1c0002level0_row2\" class=\"row_heading level0 row2\" >2</th>\n",
              "                        <td id=\"T_b8574468_6b77_11eb_8b10_0242ac1c0002row2_col0\" class=\"data row2 col0\" >3.000000</td>\n",
              "                        <td id=\"T_b8574468_6b77_11eb_8b10_0242ac1c0002row2_col1\" class=\"data row2 col1\" >-1.626404</td>\n",
              "                        <td id=\"T_b8574468_6b77_11eb_8b10_0242ac1c0002row2_col2\" class=\"data row2 col2\" >0.219565</td>\n",
              "                        <td id=\"T_b8574468_6b77_11eb_8b10_0242ac1c0002row2_col3\" class=\"data row2 col3\" >0.678805</td>\n",
              "                        <td id=\"T_b8574468_6b77_11eb_8b10_0242ac1c0002row2_col4\" class=\"data row2 col4\" >1.889273</td>\n",
              "            </tr>\n",
              "            <tr>\n",
              "                        <th id=\"T_b8574468_6b77_11eb_8b10_0242ac1c0002level0_row3\" class=\"row_heading level0 row3\" >3</th>\n",
              "                        <td id=\"T_b8574468_6b77_11eb_8b10_0242ac1c0002row3_col0\" class=\"data row3 col0\" >4.000000</td>\n",
              "                        <td id=\"T_b8574468_6b77_11eb_8b10_0242ac1c0002row3_col1\" class=\"data row3 col1\" >0.961538</td>\n",
              "                        <td id=\"T_b8574468_6b77_11eb_8b10_0242ac1c0002row3_col2\" class=\"data row3 col2\" >0.104011</td>\n",
              "                        <td id=\"T_b8574468_6b77_11eb_8b10_0242ac1c0002row3_col3\" class=\"data row3 col3\" >nan</td>\n",
              "                        <td id=\"T_b8574468_6b77_11eb_8b10_0242ac1c0002row3_col4\" class=\"data row3 col4\" >0.850229</td>\n",
              "            </tr>\n",
              "            <tr>\n",
              "                        <th id=\"T_b8574468_6b77_11eb_8b10_0242ac1c0002level0_row4\" class=\"row_heading level0 row4\" >4</th>\n",
              "                        <td id=\"T_b8574468_6b77_11eb_8b10_0242ac1c0002row4_col0\" class=\"data row4 col0\" >5.000000</td>\n",
              "                        <td id=\"T_b8574468_6b77_11eb_8b10_0242ac1c0002row4_col1\" class=\"data row4 col1\" >1.453425</td>\n",
              "                        <td id=\"T_b8574468_6b77_11eb_8b10_0242ac1c0002row4_col2\" class=\"data row4 col2\" >1.057737</td>\n",
              "                        <td id=\"T_b8574468_6b77_11eb_8b10_0242ac1c0002row4_col3\" class=\"data row4 col3\" >0.165562</td>\n",
              "                        <td id=\"T_b8574468_6b77_11eb_8b10_0242ac1c0002row4_col4\" class=\"data row4 col4\" >0.515018</td>\n",
              "            </tr>\n",
              "            <tr>\n",
              "                        <th id=\"T_b8574468_6b77_11eb_8b10_0242ac1c0002level0_row5\" class=\"row_heading level0 row5\" >5</th>\n",
              "                        <td id=\"T_b8574468_6b77_11eb_8b10_0242ac1c0002row5_col0\" class=\"data row5 col0\" >6.000000</td>\n",
              "                        <td id=\"T_b8574468_6b77_11eb_8b10_0242ac1c0002row5_col1\" class=\"data row5 col1\" >-1.336936</td>\n",
              "                        <td id=\"T_b8574468_6b77_11eb_8b10_0242ac1c0002row5_col2\" class=\"data row5 col2\" >0.562861</td>\n",
              "                        <td id=\"T_b8574468_6b77_11eb_8b10_0242ac1c0002row5_col3\" class=\"data row5 col3\" >1.392855</td>\n",
              "                        <td id=\"T_b8574468_6b77_11eb_8b10_0242ac1c0002row5_col4\" class=\"data row5 col4\" >-0.063328</td>\n",
              "            </tr>\n",
              "            <tr>\n",
              "                        <th id=\"T_b8574468_6b77_11eb_8b10_0242ac1c0002level0_row6\" class=\"row_heading level0 row6\" >6</th>\n",
              "                        <td id=\"T_b8574468_6b77_11eb_8b10_0242ac1c0002row6_col0\" class=\"data row6 col0\" >7.000000</td>\n",
              "                        <td id=\"T_b8574468_6b77_11eb_8b10_0242ac1c0002row6_col1\" class=\"data row6 col1\" >0.121668</td>\n",
              "                        <td id=\"T_b8574468_6b77_11eb_8b10_0242ac1c0002row6_col2\" class=\"data row6 col2\" >1.207603</td>\n",
              "                        <td id=\"T_b8574468_6b77_11eb_8b10_0242ac1c0002row6_col3\" class=\"data row6 col3\" >-0.002040</td>\n",
              "                        <td id=\"T_b8574468_6b77_11eb_8b10_0242ac1c0002row6_col4\" class=\"data row6 col4\" >1.627796</td>\n",
              "            </tr>\n",
              "            <tr>\n",
              "                        <th id=\"T_b8574468_6b77_11eb_8b10_0242ac1c0002level0_row7\" class=\"row_heading level0 row7\" >7</th>\n",
              "                        <td id=\"T_b8574468_6b77_11eb_8b10_0242ac1c0002row7_col0\" class=\"data row7 col0\" >8.000000</td>\n",
              "                        <td id=\"T_b8574468_6b77_11eb_8b10_0242ac1c0002row7_col1\" class=\"data row7 col1\" >0.354493</td>\n",
              "                        <td id=\"T_b8574468_6b77_11eb_8b10_0242ac1c0002row7_col2\" class=\"data row7 col2\" >1.037528</td>\n",
              "                        <td id=\"T_b8574468_6b77_11eb_8b10_0242ac1c0002row7_col3\" class=\"data row7 col3\" >-0.385684</td>\n",
              "                        <td id=\"T_b8574468_6b77_11eb_8b10_0242ac1c0002row7_col4\" class=\"data row7 col4\" >0.519818</td>\n",
              "            </tr>\n",
              "            <tr>\n",
              "                        <th id=\"T_b8574468_6b77_11eb_8b10_0242ac1c0002level0_row8\" class=\"row_heading level0 row8\" >8</th>\n",
              "                        <td id=\"T_b8574468_6b77_11eb_8b10_0242ac1c0002row8_col0\" class=\"data row8 col0\" >9.000000</td>\n",
              "                        <td id=\"T_b8574468_6b77_11eb_8b10_0242ac1c0002row8_col1\" class=\"data row8 col1\" >1.686583</td>\n",
              "                        <td id=\"T_b8574468_6b77_11eb_8b10_0242ac1c0002row8_col2\" class=\"data row8 col2\" >-1.325963</td>\n",
              "                        <td id=\"T_b8574468_6b77_11eb_8b10_0242ac1c0002row8_col3\" class=\"data row8 col3\" >1.428984</td>\n",
              "                        <td id=\"T_b8574468_6b77_11eb_8b10_0242ac1c0002row8_col4\" class=\"data row8 col4\" >-2.089354</td>\n",
              "            </tr>\n",
              "            <tr>\n",
              "                        <th id=\"T_b8574468_6b77_11eb_8b10_0242ac1c0002level0_row9\" class=\"row_heading level0 row9\" >9</th>\n",
              "                        <td id=\"T_b8574468_6b77_11eb_8b10_0242ac1c0002row9_col0\" class=\"data row9 col0\" >10.000000</td>\n",
              "                        <td id=\"T_b8574468_6b77_11eb_8b10_0242ac1c0002row9_col1\" class=\"data row9 col1\" >-0.129820</td>\n",
              "                        <td id=\"T_b8574468_6b77_11eb_8b10_0242ac1c0002row9_col2\" class=\"data row9 col2\" >0.631523</td>\n",
              "                        <td id=\"T_b8574468_6b77_11eb_8b10_0242ac1c0002row9_col3\" class=\"data row9 col3\" >-0.586538</td>\n",
              "                        <td id=\"T_b8574468_6b77_11eb_8b10_0242ac1c0002row9_col4\" class=\"data row9 col4\" >0.290720</td>\n",
              "            </tr>\n",
              "    </tbody></table>"
            ],
            "text/plain": [
              "<pandas.io.formats.style.Styler at 0x7f98037316d8>"
            ]
          },
          "metadata": {
            "tags": []
          },
          "execution_count": 5
        }
      ]
    },
    {
      "cell_type": "code",
      "metadata": {
        "colab": {
          "base_uri": "https://localhost:8080/",
          "height": 211
        },
        "id": "7Hk5d2eb_9Qx",
        "outputId": "464ffc6a-f02f-4936-b933-6002e3c0b0e8"
      },
      "source": [
        "# Styling example 2\n",
        "df.style.apply(highlight_max, subset=['B', 'C', 'D'])"
      ],
      "execution_count": null,
      "outputs": [
        {
          "output_type": "execute_result",
          "data": {
            "text/html": [
              "<style  type=\"text/css\" >\n",
              "#T_c0b9b9e2_6b77_11eb_8b10_0242ac1c0002row6_col2,#T_c0b9b9e2_6b77_11eb_8b10_0242ac1c0002row8_col1,#T_c0b9b9e2_6b77_11eb_8b10_0242ac1c0002row8_col3{\n",
              "            background-color:  yellow;\n",
              "        }</style><table id=\"T_c0b9b9e2_6b77_11eb_8b10_0242ac1c0002\" ><thead>    <tr>        <th class=\"blank level0\" ></th>        <th class=\"col_heading level0 col0\" >A</th>        <th class=\"col_heading level0 col1\" >B</th>        <th class=\"col_heading level0 col2\" >C</th>        <th class=\"col_heading level0 col3\" >D</th>        <th class=\"col_heading level0 col4\" >E</th>    </tr></thead><tbody>\n",
              "                <tr>\n",
              "                        <th id=\"T_c0b9b9e2_6b77_11eb_8b10_0242ac1c0002level0_row0\" class=\"row_heading level0 row0\" >0</th>\n",
              "                        <td id=\"T_c0b9b9e2_6b77_11eb_8b10_0242ac1c0002row0_col0\" class=\"data row0 col0\" >1.000000</td>\n",
              "                        <td id=\"T_c0b9b9e2_6b77_11eb_8b10_0242ac1c0002row0_col1\" class=\"data row0 col1\" >1.329212</td>\n",
              "                        <td id=\"T_c0b9b9e2_6b77_11eb_8b10_0242ac1c0002row0_col2\" class=\"data row0 col2\" >nan</td>\n",
              "                        <td id=\"T_c0b9b9e2_6b77_11eb_8b10_0242ac1c0002row0_col3\" class=\"data row0 col3\" >-0.316280</td>\n",
              "                        <td id=\"T_c0b9b9e2_6b77_11eb_8b10_0242ac1c0002row0_col4\" class=\"data row0 col4\" >-0.990810</td>\n",
              "            </tr>\n",
              "            <tr>\n",
              "                        <th id=\"T_c0b9b9e2_6b77_11eb_8b10_0242ac1c0002level0_row1\" class=\"row_heading level0 row1\" >1</th>\n",
              "                        <td id=\"T_c0b9b9e2_6b77_11eb_8b10_0242ac1c0002row1_col0\" class=\"data row1 col0\" >2.000000</td>\n",
              "                        <td id=\"T_c0b9b9e2_6b77_11eb_8b10_0242ac1c0002row1_col1\" class=\"data row1 col1\" >-1.070816</td>\n",
              "                        <td id=\"T_c0b9b9e2_6b77_11eb_8b10_0242ac1c0002row1_col2\" class=\"data row1 col2\" >-1.438713</td>\n",
              "                        <td id=\"T_c0b9b9e2_6b77_11eb_8b10_0242ac1c0002row1_col3\" class=\"data row1 col3\" >0.564417</td>\n",
              "                        <td id=\"T_c0b9b9e2_6b77_11eb_8b10_0242ac1c0002row1_col4\" class=\"data row1 col4\" >0.295722</td>\n",
              "            </tr>\n",
              "            <tr>\n",
              "                        <th id=\"T_c0b9b9e2_6b77_11eb_8b10_0242ac1c0002level0_row2\" class=\"row_heading level0 row2\" >2</th>\n",
              "                        <td id=\"T_c0b9b9e2_6b77_11eb_8b10_0242ac1c0002row2_col0\" class=\"data row2 col0\" >3.000000</td>\n",
              "                        <td id=\"T_c0b9b9e2_6b77_11eb_8b10_0242ac1c0002row2_col1\" class=\"data row2 col1\" >-1.626404</td>\n",
              "                        <td id=\"T_c0b9b9e2_6b77_11eb_8b10_0242ac1c0002row2_col2\" class=\"data row2 col2\" >0.219565</td>\n",
              "                        <td id=\"T_c0b9b9e2_6b77_11eb_8b10_0242ac1c0002row2_col3\" class=\"data row2 col3\" >0.678805</td>\n",
              "                        <td id=\"T_c0b9b9e2_6b77_11eb_8b10_0242ac1c0002row2_col4\" class=\"data row2 col4\" >1.889273</td>\n",
              "            </tr>\n",
              "            <tr>\n",
              "                        <th id=\"T_c0b9b9e2_6b77_11eb_8b10_0242ac1c0002level0_row3\" class=\"row_heading level0 row3\" >3</th>\n",
              "                        <td id=\"T_c0b9b9e2_6b77_11eb_8b10_0242ac1c0002row3_col0\" class=\"data row3 col0\" >4.000000</td>\n",
              "                        <td id=\"T_c0b9b9e2_6b77_11eb_8b10_0242ac1c0002row3_col1\" class=\"data row3 col1\" >0.961538</td>\n",
              "                        <td id=\"T_c0b9b9e2_6b77_11eb_8b10_0242ac1c0002row3_col2\" class=\"data row3 col2\" >0.104011</td>\n",
              "                        <td id=\"T_c0b9b9e2_6b77_11eb_8b10_0242ac1c0002row3_col3\" class=\"data row3 col3\" >nan</td>\n",
              "                        <td id=\"T_c0b9b9e2_6b77_11eb_8b10_0242ac1c0002row3_col4\" class=\"data row3 col4\" >0.850229</td>\n",
              "            </tr>\n",
              "            <tr>\n",
              "                        <th id=\"T_c0b9b9e2_6b77_11eb_8b10_0242ac1c0002level0_row4\" class=\"row_heading level0 row4\" >4</th>\n",
              "                        <td id=\"T_c0b9b9e2_6b77_11eb_8b10_0242ac1c0002row4_col0\" class=\"data row4 col0\" >5.000000</td>\n",
              "                        <td id=\"T_c0b9b9e2_6b77_11eb_8b10_0242ac1c0002row4_col1\" class=\"data row4 col1\" >1.453425</td>\n",
              "                        <td id=\"T_c0b9b9e2_6b77_11eb_8b10_0242ac1c0002row4_col2\" class=\"data row4 col2\" >1.057737</td>\n",
              "                        <td id=\"T_c0b9b9e2_6b77_11eb_8b10_0242ac1c0002row4_col3\" class=\"data row4 col3\" >0.165562</td>\n",
              "                        <td id=\"T_c0b9b9e2_6b77_11eb_8b10_0242ac1c0002row4_col4\" class=\"data row4 col4\" >0.515018</td>\n",
              "            </tr>\n",
              "            <tr>\n",
              "                        <th id=\"T_c0b9b9e2_6b77_11eb_8b10_0242ac1c0002level0_row5\" class=\"row_heading level0 row5\" >5</th>\n",
              "                        <td id=\"T_c0b9b9e2_6b77_11eb_8b10_0242ac1c0002row5_col0\" class=\"data row5 col0\" >6.000000</td>\n",
              "                        <td id=\"T_c0b9b9e2_6b77_11eb_8b10_0242ac1c0002row5_col1\" class=\"data row5 col1\" >-1.336936</td>\n",
              "                        <td id=\"T_c0b9b9e2_6b77_11eb_8b10_0242ac1c0002row5_col2\" class=\"data row5 col2\" >0.562861</td>\n",
              "                        <td id=\"T_c0b9b9e2_6b77_11eb_8b10_0242ac1c0002row5_col3\" class=\"data row5 col3\" >1.392855</td>\n",
              "                        <td id=\"T_c0b9b9e2_6b77_11eb_8b10_0242ac1c0002row5_col4\" class=\"data row5 col4\" >-0.063328</td>\n",
              "            </tr>\n",
              "            <tr>\n",
              "                        <th id=\"T_c0b9b9e2_6b77_11eb_8b10_0242ac1c0002level0_row6\" class=\"row_heading level0 row6\" >6</th>\n",
              "                        <td id=\"T_c0b9b9e2_6b77_11eb_8b10_0242ac1c0002row6_col0\" class=\"data row6 col0\" >7.000000</td>\n",
              "                        <td id=\"T_c0b9b9e2_6b77_11eb_8b10_0242ac1c0002row6_col1\" class=\"data row6 col1\" >0.121668</td>\n",
              "                        <td id=\"T_c0b9b9e2_6b77_11eb_8b10_0242ac1c0002row6_col2\" class=\"data row6 col2\" >1.207603</td>\n",
              "                        <td id=\"T_c0b9b9e2_6b77_11eb_8b10_0242ac1c0002row6_col3\" class=\"data row6 col3\" >-0.002040</td>\n",
              "                        <td id=\"T_c0b9b9e2_6b77_11eb_8b10_0242ac1c0002row6_col4\" class=\"data row6 col4\" >1.627796</td>\n",
              "            </tr>\n",
              "            <tr>\n",
              "                        <th id=\"T_c0b9b9e2_6b77_11eb_8b10_0242ac1c0002level0_row7\" class=\"row_heading level0 row7\" >7</th>\n",
              "                        <td id=\"T_c0b9b9e2_6b77_11eb_8b10_0242ac1c0002row7_col0\" class=\"data row7 col0\" >8.000000</td>\n",
              "                        <td id=\"T_c0b9b9e2_6b77_11eb_8b10_0242ac1c0002row7_col1\" class=\"data row7 col1\" >0.354493</td>\n",
              "                        <td id=\"T_c0b9b9e2_6b77_11eb_8b10_0242ac1c0002row7_col2\" class=\"data row7 col2\" >1.037528</td>\n",
              "                        <td id=\"T_c0b9b9e2_6b77_11eb_8b10_0242ac1c0002row7_col3\" class=\"data row7 col3\" >-0.385684</td>\n",
              "                        <td id=\"T_c0b9b9e2_6b77_11eb_8b10_0242ac1c0002row7_col4\" class=\"data row7 col4\" >0.519818</td>\n",
              "            </tr>\n",
              "            <tr>\n",
              "                        <th id=\"T_c0b9b9e2_6b77_11eb_8b10_0242ac1c0002level0_row8\" class=\"row_heading level0 row8\" >8</th>\n",
              "                        <td id=\"T_c0b9b9e2_6b77_11eb_8b10_0242ac1c0002row8_col0\" class=\"data row8 col0\" >9.000000</td>\n",
              "                        <td id=\"T_c0b9b9e2_6b77_11eb_8b10_0242ac1c0002row8_col1\" class=\"data row8 col1\" >1.686583</td>\n",
              "                        <td id=\"T_c0b9b9e2_6b77_11eb_8b10_0242ac1c0002row8_col2\" class=\"data row8 col2\" >-1.325963</td>\n",
              "                        <td id=\"T_c0b9b9e2_6b77_11eb_8b10_0242ac1c0002row8_col3\" class=\"data row8 col3\" >1.428984</td>\n",
              "                        <td id=\"T_c0b9b9e2_6b77_11eb_8b10_0242ac1c0002row8_col4\" class=\"data row8 col4\" >-2.089354</td>\n",
              "            </tr>\n",
              "            <tr>\n",
              "                        <th id=\"T_c0b9b9e2_6b77_11eb_8b10_0242ac1c0002level0_row9\" class=\"row_heading level0 row9\" >9</th>\n",
              "                        <td id=\"T_c0b9b9e2_6b77_11eb_8b10_0242ac1c0002row9_col0\" class=\"data row9 col0\" >10.000000</td>\n",
              "                        <td id=\"T_c0b9b9e2_6b77_11eb_8b10_0242ac1c0002row9_col1\" class=\"data row9 col1\" >-0.129820</td>\n",
              "                        <td id=\"T_c0b9b9e2_6b77_11eb_8b10_0242ac1c0002row9_col2\" class=\"data row9 col2\" >0.631523</td>\n",
              "                        <td id=\"T_c0b9b9e2_6b77_11eb_8b10_0242ac1c0002row9_col3\" class=\"data row9 col3\" >-0.586538</td>\n",
              "                        <td id=\"T_c0b9b9e2_6b77_11eb_8b10_0242ac1c0002row9_col4\" class=\"data row9 col4\" >0.290720</td>\n",
              "            </tr>\n",
              "    </tbody></table>"
            ],
            "text/plain": [
              "<pandas.io.formats.style.Styler at 0x7f9803721d30>"
            ]
          },
          "metadata": {
            "tags": []
          },
          "execution_count": 6
        }
      ]
    },
    {
      "cell_type": "code",
      "metadata": {
        "colab": {
          "base_uri": "https://localhost:8080/",
          "height": 211
        },
        "id": "Eg9VEaRhAP79",
        "outputId": "5e45513e-9d12-40d1-88c1-3ad6d98eca3d"
      },
      "source": [
        "# Bar charts\n",
        "df.style.bar(subset=['A', 'B'], color='#d65f5f')"
      ],
      "execution_count": null,
      "outputs": [
        {
          "output_type": "execute_result",
          "data": {
            "text/html": [
              "<style  type=\"text/css\" >\n",
              "#T_eebe4114_6b77_11eb_8b10_0242ac1c0002row0_col0,#T_eebe4114_6b77_11eb_8b10_0242ac1c0002row2_col1{\n",
              "            width:  10em;\n",
              "             height:  80%;\n",
              "        }#T_eebe4114_6b77_11eb_8b10_0242ac1c0002row0_col1{\n",
              "            width:  10em;\n",
              "             height:  80%;\n",
              "            background:  linear-gradient(90deg,#d65f5f 89.2%, transparent 89.2%);\n",
              "        }#T_eebe4114_6b77_11eb_8b10_0242ac1c0002row1_col0{\n",
              "            width:  10em;\n",
              "             height:  80%;\n",
              "            background:  linear-gradient(90deg,#d65f5f 11.1%, transparent 11.1%);\n",
              "        }#T_eebe4114_6b77_11eb_8b10_0242ac1c0002row1_col1{\n",
              "            width:  10em;\n",
              "             height:  80%;\n",
              "            background:  linear-gradient(90deg,#d65f5f 16.8%, transparent 16.8%);\n",
              "        }#T_eebe4114_6b77_11eb_8b10_0242ac1c0002row2_col0{\n",
              "            width:  10em;\n",
              "             height:  80%;\n",
              "            background:  linear-gradient(90deg,#d65f5f 22.2%, transparent 22.2%);\n",
              "        }#T_eebe4114_6b77_11eb_8b10_0242ac1c0002row3_col0{\n",
              "            width:  10em;\n",
              "             height:  80%;\n",
              "            background:  linear-gradient(90deg,#d65f5f 33.3%, transparent 33.3%);\n",
              "        }#T_eebe4114_6b77_11eb_8b10_0242ac1c0002row3_col1{\n",
              "            width:  10em;\n",
              "             height:  80%;\n",
              "            background:  linear-gradient(90deg,#d65f5f 78.1%, transparent 78.1%);\n",
              "        }#T_eebe4114_6b77_11eb_8b10_0242ac1c0002row4_col0{\n",
              "            width:  10em;\n",
              "             height:  80%;\n",
              "            background:  linear-gradient(90deg,#d65f5f 44.4%, transparent 44.4%);\n",
              "        }#T_eebe4114_6b77_11eb_8b10_0242ac1c0002row4_col1{\n",
              "            width:  10em;\n",
              "             height:  80%;\n",
              "            background:  linear-gradient(90deg,#d65f5f 93.0%, transparent 93.0%);\n",
              "        }#T_eebe4114_6b77_11eb_8b10_0242ac1c0002row5_col0{\n",
              "            width:  10em;\n",
              "             height:  80%;\n",
              "            background:  linear-gradient(90deg,#d65f5f 55.6%, transparent 55.6%);\n",
              "        }#T_eebe4114_6b77_11eb_8b10_0242ac1c0002row5_col1{\n",
              "            width:  10em;\n",
              "             height:  80%;\n",
              "            background:  linear-gradient(90deg,#d65f5f 8.7%, transparent 8.7%);\n",
              "        }#T_eebe4114_6b77_11eb_8b10_0242ac1c0002row6_col0{\n",
              "            width:  10em;\n",
              "             height:  80%;\n",
              "            background:  linear-gradient(90deg,#d65f5f 66.7%, transparent 66.7%);\n",
              "        }#T_eebe4114_6b77_11eb_8b10_0242ac1c0002row6_col1{\n",
              "            width:  10em;\n",
              "             height:  80%;\n",
              "            background:  linear-gradient(90deg,#d65f5f 52.8%, transparent 52.8%);\n",
              "        }#T_eebe4114_6b77_11eb_8b10_0242ac1c0002row7_col0{\n",
              "            width:  10em;\n",
              "             height:  80%;\n",
              "            background:  linear-gradient(90deg,#d65f5f 77.8%, transparent 77.8%);\n",
              "        }#T_eebe4114_6b77_11eb_8b10_0242ac1c0002row7_col1{\n",
              "            width:  10em;\n",
              "             height:  80%;\n",
              "            background:  linear-gradient(90deg,#d65f5f 59.8%, transparent 59.8%);\n",
              "        }#T_eebe4114_6b77_11eb_8b10_0242ac1c0002row8_col0{\n",
              "            width:  10em;\n",
              "             height:  80%;\n",
              "            background:  linear-gradient(90deg,#d65f5f 88.9%, transparent 88.9%);\n",
              "        }#T_eebe4114_6b77_11eb_8b10_0242ac1c0002row8_col1,#T_eebe4114_6b77_11eb_8b10_0242ac1c0002row9_col0{\n",
              "            width:  10em;\n",
              "             height:  80%;\n",
              "            background:  linear-gradient(90deg,#d65f5f 100.0%, transparent 100.0%);\n",
              "        }#T_eebe4114_6b77_11eb_8b10_0242ac1c0002row9_col1{\n",
              "            width:  10em;\n",
              "             height:  80%;\n",
              "            background:  linear-gradient(90deg,#d65f5f 45.2%, transparent 45.2%);\n",
              "        }</style><table id=\"T_eebe4114_6b77_11eb_8b10_0242ac1c0002\" ><thead>    <tr>        <th class=\"blank level0\" ></th>        <th class=\"col_heading level0 col0\" >A</th>        <th class=\"col_heading level0 col1\" >B</th>        <th class=\"col_heading level0 col2\" >C</th>        <th class=\"col_heading level0 col3\" >D</th>        <th class=\"col_heading level0 col4\" >E</th>    </tr></thead><tbody>\n",
              "                <tr>\n",
              "                        <th id=\"T_eebe4114_6b77_11eb_8b10_0242ac1c0002level0_row0\" class=\"row_heading level0 row0\" >0</th>\n",
              "                        <td id=\"T_eebe4114_6b77_11eb_8b10_0242ac1c0002row0_col0\" class=\"data row0 col0\" >1.000000</td>\n",
              "                        <td id=\"T_eebe4114_6b77_11eb_8b10_0242ac1c0002row0_col1\" class=\"data row0 col1\" >1.329212</td>\n",
              "                        <td id=\"T_eebe4114_6b77_11eb_8b10_0242ac1c0002row0_col2\" class=\"data row0 col2\" >nan</td>\n",
              "                        <td id=\"T_eebe4114_6b77_11eb_8b10_0242ac1c0002row0_col3\" class=\"data row0 col3\" >-0.316280</td>\n",
              "                        <td id=\"T_eebe4114_6b77_11eb_8b10_0242ac1c0002row0_col4\" class=\"data row0 col4\" >-0.990810</td>\n",
              "            </tr>\n",
              "            <tr>\n",
              "                        <th id=\"T_eebe4114_6b77_11eb_8b10_0242ac1c0002level0_row1\" class=\"row_heading level0 row1\" >1</th>\n",
              "                        <td id=\"T_eebe4114_6b77_11eb_8b10_0242ac1c0002row1_col0\" class=\"data row1 col0\" >2.000000</td>\n",
              "                        <td id=\"T_eebe4114_6b77_11eb_8b10_0242ac1c0002row1_col1\" class=\"data row1 col1\" >-1.070816</td>\n",
              "                        <td id=\"T_eebe4114_6b77_11eb_8b10_0242ac1c0002row1_col2\" class=\"data row1 col2\" >-1.438713</td>\n",
              "                        <td id=\"T_eebe4114_6b77_11eb_8b10_0242ac1c0002row1_col3\" class=\"data row1 col3\" >0.564417</td>\n",
              "                        <td id=\"T_eebe4114_6b77_11eb_8b10_0242ac1c0002row1_col4\" class=\"data row1 col4\" >0.295722</td>\n",
              "            </tr>\n",
              "            <tr>\n",
              "                        <th id=\"T_eebe4114_6b77_11eb_8b10_0242ac1c0002level0_row2\" class=\"row_heading level0 row2\" >2</th>\n",
              "                        <td id=\"T_eebe4114_6b77_11eb_8b10_0242ac1c0002row2_col0\" class=\"data row2 col0\" >3.000000</td>\n",
              "                        <td id=\"T_eebe4114_6b77_11eb_8b10_0242ac1c0002row2_col1\" class=\"data row2 col1\" >-1.626404</td>\n",
              "                        <td id=\"T_eebe4114_6b77_11eb_8b10_0242ac1c0002row2_col2\" class=\"data row2 col2\" >0.219565</td>\n",
              "                        <td id=\"T_eebe4114_6b77_11eb_8b10_0242ac1c0002row2_col3\" class=\"data row2 col3\" >0.678805</td>\n",
              "                        <td id=\"T_eebe4114_6b77_11eb_8b10_0242ac1c0002row2_col4\" class=\"data row2 col4\" >1.889273</td>\n",
              "            </tr>\n",
              "            <tr>\n",
              "                        <th id=\"T_eebe4114_6b77_11eb_8b10_0242ac1c0002level0_row3\" class=\"row_heading level0 row3\" >3</th>\n",
              "                        <td id=\"T_eebe4114_6b77_11eb_8b10_0242ac1c0002row3_col0\" class=\"data row3 col0\" >4.000000</td>\n",
              "                        <td id=\"T_eebe4114_6b77_11eb_8b10_0242ac1c0002row3_col1\" class=\"data row3 col1\" >0.961538</td>\n",
              "                        <td id=\"T_eebe4114_6b77_11eb_8b10_0242ac1c0002row3_col2\" class=\"data row3 col2\" >0.104011</td>\n",
              "                        <td id=\"T_eebe4114_6b77_11eb_8b10_0242ac1c0002row3_col3\" class=\"data row3 col3\" >nan</td>\n",
              "                        <td id=\"T_eebe4114_6b77_11eb_8b10_0242ac1c0002row3_col4\" class=\"data row3 col4\" >0.850229</td>\n",
              "            </tr>\n",
              "            <tr>\n",
              "                        <th id=\"T_eebe4114_6b77_11eb_8b10_0242ac1c0002level0_row4\" class=\"row_heading level0 row4\" >4</th>\n",
              "                        <td id=\"T_eebe4114_6b77_11eb_8b10_0242ac1c0002row4_col0\" class=\"data row4 col0\" >5.000000</td>\n",
              "                        <td id=\"T_eebe4114_6b77_11eb_8b10_0242ac1c0002row4_col1\" class=\"data row4 col1\" >1.453425</td>\n",
              "                        <td id=\"T_eebe4114_6b77_11eb_8b10_0242ac1c0002row4_col2\" class=\"data row4 col2\" >1.057737</td>\n",
              "                        <td id=\"T_eebe4114_6b77_11eb_8b10_0242ac1c0002row4_col3\" class=\"data row4 col3\" >0.165562</td>\n",
              "                        <td id=\"T_eebe4114_6b77_11eb_8b10_0242ac1c0002row4_col4\" class=\"data row4 col4\" >0.515018</td>\n",
              "            </tr>\n",
              "            <tr>\n",
              "                        <th id=\"T_eebe4114_6b77_11eb_8b10_0242ac1c0002level0_row5\" class=\"row_heading level0 row5\" >5</th>\n",
              "                        <td id=\"T_eebe4114_6b77_11eb_8b10_0242ac1c0002row5_col0\" class=\"data row5 col0\" >6.000000</td>\n",
              "                        <td id=\"T_eebe4114_6b77_11eb_8b10_0242ac1c0002row5_col1\" class=\"data row5 col1\" >-1.336936</td>\n",
              "                        <td id=\"T_eebe4114_6b77_11eb_8b10_0242ac1c0002row5_col2\" class=\"data row5 col2\" >0.562861</td>\n",
              "                        <td id=\"T_eebe4114_6b77_11eb_8b10_0242ac1c0002row5_col3\" class=\"data row5 col3\" >1.392855</td>\n",
              "                        <td id=\"T_eebe4114_6b77_11eb_8b10_0242ac1c0002row5_col4\" class=\"data row5 col4\" >-0.063328</td>\n",
              "            </tr>\n",
              "            <tr>\n",
              "                        <th id=\"T_eebe4114_6b77_11eb_8b10_0242ac1c0002level0_row6\" class=\"row_heading level0 row6\" >6</th>\n",
              "                        <td id=\"T_eebe4114_6b77_11eb_8b10_0242ac1c0002row6_col0\" class=\"data row6 col0\" >7.000000</td>\n",
              "                        <td id=\"T_eebe4114_6b77_11eb_8b10_0242ac1c0002row6_col1\" class=\"data row6 col1\" >0.121668</td>\n",
              "                        <td id=\"T_eebe4114_6b77_11eb_8b10_0242ac1c0002row6_col2\" class=\"data row6 col2\" >1.207603</td>\n",
              "                        <td id=\"T_eebe4114_6b77_11eb_8b10_0242ac1c0002row6_col3\" class=\"data row6 col3\" >-0.002040</td>\n",
              "                        <td id=\"T_eebe4114_6b77_11eb_8b10_0242ac1c0002row6_col4\" class=\"data row6 col4\" >1.627796</td>\n",
              "            </tr>\n",
              "            <tr>\n",
              "                        <th id=\"T_eebe4114_6b77_11eb_8b10_0242ac1c0002level0_row7\" class=\"row_heading level0 row7\" >7</th>\n",
              "                        <td id=\"T_eebe4114_6b77_11eb_8b10_0242ac1c0002row7_col0\" class=\"data row7 col0\" >8.000000</td>\n",
              "                        <td id=\"T_eebe4114_6b77_11eb_8b10_0242ac1c0002row7_col1\" class=\"data row7 col1\" >0.354493</td>\n",
              "                        <td id=\"T_eebe4114_6b77_11eb_8b10_0242ac1c0002row7_col2\" class=\"data row7 col2\" >1.037528</td>\n",
              "                        <td id=\"T_eebe4114_6b77_11eb_8b10_0242ac1c0002row7_col3\" class=\"data row7 col3\" >-0.385684</td>\n",
              "                        <td id=\"T_eebe4114_6b77_11eb_8b10_0242ac1c0002row7_col4\" class=\"data row7 col4\" >0.519818</td>\n",
              "            </tr>\n",
              "            <tr>\n",
              "                        <th id=\"T_eebe4114_6b77_11eb_8b10_0242ac1c0002level0_row8\" class=\"row_heading level0 row8\" >8</th>\n",
              "                        <td id=\"T_eebe4114_6b77_11eb_8b10_0242ac1c0002row8_col0\" class=\"data row8 col0\" >9.000000</td>\n",
              "                        <td id=\"T_eebe4114_6b77_11eb_8b10_0242ac1c0002row8_col1\" class=\"data row8 col1\" >1.686583</td>\n",
              "                        <td id=\"T_eebe4114_6b77_11eb_8b10_0242ac1c0002row8_col2\" class=\"data row8 col2\" >-1.325963</td>\n",
              "                        <td id=\"T_eebe4114_6b77_11eb_8b10_0242ac1c0002row8_col3\" class=\"data row8 col3\" >1.428984</td>\n",
              "                        <td id=\"T_eebe4114_6b77_11eb_8b10_0242ac1c0002row8_col4\" class=\"data row8 col4\" >-2.089354</td>\n",
              "            </tr>\n",
              "            <tr>\n",
              "                        <th id=\"T_eebe4114_6b77_11eb_8b10_0242ac1c0002level0_row9\" class=\"row_heading level0 row9\" >9</th>\n",
              "                        <td id=\"T_eebe4114_6b77_11eb_8b10_0242ac1c0002row9_col0\" class=\"data row9 col0\" >10.000000</td>\n",
              "                        <td id=\"T_eebe4114_6b77_11eb_8b10_0242ac1c0002row9_col1\" class=\"data row9 col1\" >-0.129820</td>\n",
              "                        <td id=\"T_eebe4114_6b77_11eb_8b10_0242ac1c0002row9_col2\" class=\"data row9 col2\" >0.631523</td>\n",
              "                        <td id=\"T_eebe4114_6b77_11eb_8b10_0242ac1c0002row9_col3\" class=\"data row9 col3\" >-0.586538</td>\n",
              "                        <td id=\"T_eebe4114_6b77_11eb_8b10_0242ac1c0002row9_col4\" class=\"data row9 col4\" >0.290720</td>\n",
              "            </tr>\n",
              "    </tbody></table>"
            ],
            "text/plain": [
              "<pandas.io.formats.style.Styler at 0x7f9803721a90>"
            ]
          },
          "metadata": {
            "tags": []
          },
          "execution_count": 7
        }
      ]
    },
    {
      "cell_type": "code",
      "metadata": {
        "colab": {
          "base_uri": "https://localhost:8080/",
          "height": 211
        },
        "id": "zaAK1Q-ZAWDT",
        "outputId": "8bc21531-006f-49d1-d368-26c101eb5770"
      },
      "source": [
        "df.style.bar(subset=['A', 'B'], align='mid', color=['#d65f5f', '#5fba7d'])"
      ],
      "execution_count": null,
      "outputs": [
        {
          "output_type": "execute_result",
          "data": {
            "text/html": [
              "<style  type=\"text/css\" >\n",
              "#T_fb435c30_6b77_11eb_8b10_0242ac1c0002row0_col0{\n",
              "            width:  10em;\n",
              "             height:  80%;\n",
              "            background:  linear-gradient(90deg,#5fba7d 10.0%, transparent 10.0%);\n",
              "        }#T_fb435c30_6b77_11eb_8b10_0242ac1c0002row0_col1{\n",
              "            width:  10em;\n",
              "             height:  80%;\n",
              "            background:  linear-gradient(90deg, transparent 49.1%, #5fba7d 49.1%, #5fba7d 89.2%, transparent 89.2%);\n",
              "        }#T_fb435c30_6b77_11eb_8b10_0242ac1c0002row1_col0{\n",
              "            width:  10em;\n",
              "             height:  80%;\n",
              "            background:  linear-gradient(90deg,#5fba7d 20.0%, transparent 20.0%);\n",
              "        }#T_fb435c30_6b77_11eb_8b10_0242ac1c0002row1_col1{\n",
              "            width:  10em;\n",
              "             height:  80%;\n",
              "            background:  linear-gradient(90deg, transparent 16.8%, #d65f5f 16.8%, #d65f5f 49.1%, transparent 49.1%);\n",
              "        }#T_fb435c30_6b77_11eb_8b10_0242ac1c0002row2_col0{\n",
              "            width:  10em;\n",
              "             height:  80%;\n",
              "            background:  linear-gradient(90deg,#5fba7d 30.0%, transparent 30.0%);\n",
              "        }#T_fb435c30_6b77_11eb_8b10_0242ac1c0002row2_col1{\n",
              "            width:  10em;\n",
              "             height:  80%;\n",
              "            background:  linear-gradient(90deg,#d65f5f 49.1%, transparent 49.1%);\n",
              "        }#T_fb435c30_6b77_11eb_8b10_0242ac1c0002row3_col0{\n",
              "            width:  10em;\n",
              "             height:  80%;\n",
              "            background:  linear-gradient(90deg,#5fba7d 40.0%, transparent 40.0%);\n",
              "        }#T_fb435c30_6b77_11eb_8b10_0242ac1c0002row3_col1{\n",
              "            width:  10em;\n",
              "             height:  80%;\n",
              "            background:  linear-gradient(90deg, transparent 49.1%, #5fba7d 49.1%, #5fba7d 78.1%, transparent 78.1%);\n",
              "        }#T_fb435c30_6b77_11eb_8b10_0242ac1c0002row4_col0{\n",
              "            width:  10em;\n",
              "             height:  80%;\n",
              "            background:  linear-gradient(90deg,#5fba7d 50.0%, transparent 50.0%);\n",
              "        }#T_fb435c30_6b77_11eb_8b10_0242ac1c0002row4_col1{\n",
              "            width:  10em;\n",
              "             height:  80%;\n",
              "            background:  linear-gradient(90deg, transparent 49.1%, #5fba7d 49.1%, #5fba7d 93.0%, transparent 93.0%);\n",
              "        }#T_fb435c30_6b77_11eb_8b10_0242ac1c0002row5_col0{\n",
              "            width:  10em;\n",
              "             height:  80%;\n",
              "            background:  linear-gradient(90deg,#5fba7d 60.0%, transparent 60.0%);\n",
              "        }#T_fb435c30_6b77_11eb_8b10_0242ac1c0002row5_col1{\n",
              "            width:  10em;\n",
              "             height:  80%;\n",
              "            background:  linear-gradient(90deg, transparent 8.7%, #d65f5f 8.7%, #d65f5f 49.1%, transparent 49.1%);\n",
              "        }#T_fb435c30_6b77_11eb_8b10_0242ac1c0002row6_col0{\n",
              "            width:  10em;\n",
              "             height:  80%;\n",
              "            background:  linear-gradient(90deg,#5fba7d 70.0%, transparent 70.0%);\n",
              "        }#T_fb435c30_6b77_11eb_8b10_0242ac1c0002row6_col1{\n",
              "            width:  10em;\n",
              "             height:  80%;\n",
              "            background:  linear-gradient(90deg, transparent 49.1%, #5fba7d 49.1%, #5fba7d 52.8%, transparent 52.8%);\n",
              "        }#T_fb435c30_6b77_11eb_8b10_0242ac1c0002row7_col0{\n",
              "            width:  10em;\n",
              "             height:  80%;\n",
              "            background:  linear-gradient(90deg,#5fba7d 80.0%, transparent 80.0%);\n",
              "        }#T_fb435c30_6b77_11eb_8b10_0242ac1c0002row7_col1{\n",
              "            width:  10em;\n",
              "             height:  80%;\n",
              "            background:  linear-gradient(90deg, transparent 49.1%, #5fba7d 49.1%, #5fba7d 59.8%, transparent 59.8%);\n",
              "        }#T_fb435c30_6b77_11eb_8b10_0242ac1c0002row8_col0{\n",
              "            width:  10em;\n",
              "             height:  80%;\n",
              "            background:  linear-gradient(90deg,#5fba7d 90.0%, transparent 90.0%);\n",
              "        }#T_fb435c30_6b77_11eb_8b10_0242ac1c0002row8_col1{\n",
              "            width:  10em;\n",
              "             height:  80%;\n",
              "            background:  linear-gradient(90deg, transparent 49.1%, #5fba7d 49.1%, #5fba7d 100.0%, transparent 100.0%);\n",
              "        }#T_fb435c30_6b77_11eb_8b10_0242ac1c0002row9_col0{\n",
              "            width:  10em;\n",
              "             height:  80%;\n",
              "            background:  linear-gradient(90deg,#5fba7d 100.0%, transparent 100.0%);\n",
              "        }#T_fb435c30_6b77_11eb_8b10_0242ac1c0002row9_col1{\n",
              "            width:  10em;\n",
              "             height:  80%;\n",
              "            background:  linear-gradient(90deg, transparent 45.2%, #d65f5f 45.2%, #d65f5f 49.1%, transparent 49.1%);\n",
              "        }</style><table id=\"T_fb435c30_6b77_11eb_8b10_0242ac1c0002\" ><thead>    <tr>        <th class=\"blank level0\" ></th>        <th class=\"col_heading level0 col0\" >A</th>        <th class=\"col_heading level0 col1\" >B</th>        <th class=\"col_heading level0 col2\" >C</th>        <th class=\"col_heading level0 col3\" >D</th>        <th class=\"col_heading level0 col4\" >E</th>    </tr></thead><tbody>\n",
              "                <tr>\n",
              "                        <th id=\"T_fb435c30_6b77_11eb_8b10_0242ac1c0002level0_row0\" class=\"row_heading level0 row0\" >0</th>\n",
              "                        <td id=\"T_fb435c30_6b77_11eb_8b10_0242ac1c0002row0_col0\" class=\"data row0 col0\" >1.000000</td>\n",
              "                        <td id=\"T_fb435c30_6b77_11eb_8b10_0242ac1c0002row0_col1\" class=\"data row0 col1\" >1.329212</td>\n",
              "                        <td id=\"T_fb435c30_6b77_11eb_8b10_0242ac1c0002row0_col2\" class=\"data row0 col2\" >nan</td>\n",
              "                        <td id=\"T_fb435c30_6b77_11eb_8b10_0242ac1c0002row0_col3\" class=\"data row0 col3\" >-0.316280</td>\n",
              "                        <td id=\"T_fb435c30_6b77_11eb_8b10_0242ac1c0002row0_col4\" class=\"data row0 col4\" >-0.990810</td>\n",
              "            </tr>\n",
              "            <tr>\n",
              "                        <th id=\"T_fb435c30_6b77_11eb_8b10_0242ac1c0002level0_row1\" class=\"row_heading level0 row1\" >1</th>\n",
              "                        <td id=\"T_fb435c30_6b77_11eb_8b10_0242ac1c0002row1_col0\" class=\"data row1 col0\" >2.000000</td>\n",
              "                        <td id=\"T_fb435c30_6b77_11eb_8b10_0242ac1c0002row1_col1\" class=\"data row1 col1\" >-1.070816</td>\n",
              "                        <td id=\"T_fb435c30_6b77_11eb_8b10_0242ac1c0002row1_col2\" class=\"data row1 col2\" >-1.438713</td>\n",
              "                        <td id=\"T_fb435c30_6b77_11eb_8b10_0242ac1c0002row1_col3\" class=\"data row1 col3\" >0.564417</td>\n",
              "                        <td id=\"T_fb435c30_6b77_11eb_8b10_0242ac1c0002row1_col4\" class=\"data row1 col4\" >0.295722</td>\n",
              "            </tr>\n",
              "            <tr>\n",
              "                        <th id=\"T_fb435c30_6b77_11eb_8b10_0242ac1c0002level0_row2\" class=\"row_heading level0 row2\" >2</th>\n",
              "                        <td id=\"T_fb435c30_6b77_11eb_8b10_0242ac1c0002row2_col0\" class=\"data row2 col0\" >3.000000</td>\n",
              "                        <td id=\"T_fb435c30_6b77_11eb_8b10_0242ac1c0002row2_col1\" class=\"data row2 col1\" >-1.626404</td>\n",
              "                        <td id=\"T_fb435c30_6b77_11eb_8b10_0242ac1c0002row2_col2\" class=\"data row2 col2\" >0.219565</td>\n",
              "                        <td id=\"T_fb435c30_6b77_11eb_8b10_0242ac1c0002row2_col3\" class=\"data row2 col3\" >0.678805</td>\n",
              "                        <td id=\"T_fb435c30_6b77_11eb_8b10_0242ac1c0002row2_col4\" class=\"data row2 col4\" >1.889273</td>\n",
              "            </tr>\n",
              "            <tr>\n",
              "                        <th id=\"T_fb435c30_6b77_11eb_8b10_0242ac1c0002level0_row3\" class=\"row_heading level0 row3\" >3</th>\n",
              "                        <td id=\"T_fb435c30_6b77_11eb_8b10_0242ac1c0002row3_col0\" class=\"data row3 col0\" >4.000000</td>\n",
              "                        <td id=\"T_fb435c30_6b77_11eb_8b10_0242ac1c0002row3_col1\" class=\"data row3 col1\" >0.961538</td>\n",
              "                        <td id=\"T_fb435c30_6b77_11eb_8b10_0242ac1c0002row3_col2\" class=\"data row3 col2\" >0.104011</td>\n",
              "                        <td id=\"T_fb435c30_6b77_11eb_8b10_0242ac1c0002row3_col3\" class=\"data row3 col3\" >nan</td>\n",
              "                        <td id=\"T_fb435c30_6b77_11eb_8b10_0242ac1c0002row3_col4\" class=\"data row3 col4\" >0.850229</td>\n",
              "            </tr>\n",
              "            <tr>\n",
              "                        <th id=\"T_fb435c30_6b77_11eb_8b10_0242ac1c0002level0_row4\" class=\"row_heading level0 row4\" >4</th>\n",
              "                        <td id=\"T_fb435c30_6b77_11eb_8b10_0242ac1c0002row4_col0\" class=\"data row4 col0\" >5.000000</td>\n",
              "                        <td id=\"T_fb435c30_6b77_11eb_8b10_0242ac1c0002row4_col1\" class=\"data row4 col1\" >1.453425</td>\n",
              "                        <td id=\"T_fb435c30_6b77_11eb_8b10_0242ac1c0002row4_col2\" class=\"data row4 col2\" >1.057737</td>\n",
              "                        <td id=\"T_fb435c30_6b77_11eb_8b10_0242ac1c0002row4_col3\" class=\"data row4 col3\" >0.165562</td>\n",
              "                        <td id=\"T_fb435c30_6b77_11eb_8b10_0242ac1c0002row4_col4\" class=\"data row4 col4\" >0.515018</td>\n",
              "            </tr>\n",
              "            <tr>\n",
              "                        <th id=\"T_fb435c30_6b77_11eb_8b10_0242ac1c0002level0_row5\" class=\"row_heading level0 row5\" >5</th>\n",
              "                        <td id=\"T_fb435c30_6b77_11eb_8b10_0242ac1c0002row5_col0\" class=\"data row5 col0\" >6.000000</td>\n",
              "                        <td id=\"T_fb435c30_6b77_11eb_8b10_0242ac1c0002row5_col1\" class=\"data row5 col1\" >-1.336936</td>\n",
              "                        <td id=\"T_fb435c30_6b77_11eb_8b10_0242ac1c0002row5_col2\" class=\"data row5 col2\" >0.562861</td>\n",
              "                        <td id=\"T_fb435c30_6b77_11eb_8b10_0242ac1c0002row5_col3\" class=\"data row5 col3\" >1.392855</td>\n",
              "                        <td id=\"T_fb435c30_6b77_11eb_8b10_0242ac1c0002row5_col4\" class=\"data row5 col4\" >-0.063328</td>\n",
              "            </tr>\n",
              "            <tr>\n",
              "                        <th id=\"T_fb435c30_6b77_11eb_8b10_0242ac1c0002level0_row6\" class=\"row_heading level0 row6\" >6</th>\n",
              "                        <td id=\"T_fb435c30_6b77_11eb_8b10_0242ac1c0002row6_col0\" class=\"data row6 col0\" >7.000000</td>\n",
              "                        <td id=\"T_fb435c30_6b77_11eb_8b10_0242ac1c0002row6_col1\" class=\"data row6 col1\" >0.121668</td>\n",
              "                        <td id=\"T_fb435c30_6b77_11eb_8b10_0242ac1c0002row6_col2\" class=\"data row6 col2\" >1.207603</td>\n",
              "                        <td id=\"T_fb435c30_6b77_11eb_8b10_0242ac1c0002row6_col3\" class=\"data row6 col3\" >-0.002040</td>\n",
              "                        <td id=\"T_fb435c30_6b77_11eb_8b10_0242ac1c0002row6_col4\" class=\"data row6 col4\" >1.627796</td>\n",
              "            </tr>\n",
              "            <tr>\n",
              "                        <th id=\"T_fb435c30_6b77_11eb_8b10_0242ac1c0002level0_row7\" class=\"row_heading level0 row7\" >7</th>\n",
              "                        <td id=\"T_fb435c30_6b77_11eb_8b10_0242ac1c0002row7_col0\" class=\"data row7 col0\" >8.000000</td>\n",
              "                        <td id=\"T_fb435c30_6b77_11eb_8b10_0242ac1c0002row7_col1\" class=\"data row7 col1\" >0.354493</td>\n",
              "                        <td id=\"T_fb435c30_6b77_11eb_8b10_0242ac1c0002row7_col2\" class=\"data row7 col2\" >1.037528</td>\n",
              "                        <td id=\"T_fb435c30_6b77_11eb_8b10_0242ac1c0002row7_col3\" class=\"data row7 col3\" >-0.385684</td>\n",
              "                        <td id=\"T_fb435c30_6b77_11eb_8b10_0242ac1c0002row7_col4\" class=\"data row7 col4\" >0.519818</td>\n",
              "            </tr>\n",
              "            <tr>\n",
              "                        <th id=\"T_fb435c30_6b77_11eb_8b10_0242ac1c0002level0_row8\" class=\"row_heading level0 row8\" >8</th>\n",
              "                        <td id=\"T_fb435c30_6b77_11eb_8b10_0242ac1c0002row8_col0\" class=\"data row8 col0\" >9.000000</td>\n",
              "                        <td id=\"T_fb435c30_6b77_11eb_8b10_0242ac1c0002row8_col1\" class=\"data row8 col1\" >1.686583</td>\n",
              "                        <td id=\"T_fb435c30_6b77_11eb_8b10_0242ac1c0002row8_col2\" class=\"data row8 col2\" >-1.325963</td>\n",
              "                        <td id=\"T_fb435c30_6b77_11eb_8b10_0242ac1c0002row8_col3\" class=\"data row8 col3\" >1.428984</td>\n",
              "                        <td id=\"T_fb435c30_6b77_11eb_8b10_0242ac1c0002row8_col4\" class=\"data row8 col4\" >-2.089354</td>\n",
              "            </tr>\n",
              "            <tr>\n",
              "                        <th id=\"T_fb435c30_6b77_11eb_8b10_0242ac1c0002level0_row9\" class=\"row_heading level0 row9\" >9</th>\n",
              "                        <td id=\"T_fb435c30_6b77_11eb_8b10_0242ac1c0002row9_col0\" class=\"data row9 col0\" >10.000000</td>\n",
              "                        <td id=\"T_fb435c30_6b77_11eb_8b10_0242ac1c0002row9_col1\" class=\"data row9 col1\" >-0.129820</td>\n",
              "                        <td id=\"T_fb435c30_6b77_11eb_8b10_0242ac1c0002row9_col2\" class=\"data row9 col2\" >0.631523</td>\n",
              "                        <td id=\"T_fb435c30_6b77_11eb_8b10_0242ac1c0002row9_col3\" class=\"data row9 col3\" >-0.586538</td>\n",
              "                        <td id=\"T_fb435c30_6b77_11eb_8b10_0242ac1c0002row9_col4\" class=\"data row9 col4\" >0.290720</td>\n",
              "            </tr>\n",
              "    </tbody></table>"
            ],
            "text/plain": [
              "<pandas.io.formats.style.Styler at 0x7f9803752a90>"
            ]
          },
          "metadata": {
            "tags": []
          },
          "execution_count": 8
        }
      ]
    },
    {
      "cell_type": "code",
      "metadata": {
        "colab": {
          "base_uri": "https://localhost:8080/",
          "height": 323
        },
        "id": "pCjVN6rcAj2E",
        "outputId": "7492bfaa-9b61-4508-9f67-16b147c6f177"
      },
      "source": [
        "# Styling tables\n",
        "from IPython.display import HTML\n",
        "\n",
        "def hover(hover_color=\"#ffff99\"):\n",
        "    return dict(selector=\"tr:hover\",\n",
        "                props=[(\"background-color\", \"%s\" % hover_color)])\n",
        "\n",
        "styles = [\n",
        "    hover(),\n",
        "    dict(selector=\"th\", props=[(\"font-size\", \"150%\"),\n",
        "                               (\"text-align\", \"center\")]),\n",
        "    dict(selector=\"caption\", props=[(\"caption-side\", \"bottom\")])\n",
        "]\n",
        "df.style.set_table_styles(styles)\\\n",
        "          .set_caption(\"Hover to highlight.\")"
      ],
      "execution_count": null,
      "outputs": [
        {
          "output_type": "execute_result",
          "data": {
            "text/html": [
              "<style  type=\"text/css\" >\n",
              "    #T_241917c6_6b78_11eb_8b10_0242ac1c0002 tr:hover {\n",
              "          background-color: #ffff99;\n",
              "    }    #T_241917c6_6b78_11eb_8b10_0242ac1c0002 th {\n",
              "          font-size: 150%;\n",
              "          text-align: center;\n",
              "    }    #T_241917c6_6b78_11eb_8b10_0242ac1c0002 caption {\n",
              "          caption-side: bottom;\n",
              "    }</style><table id=\"T_241917c6_6b78_11eb_8b10_0242ac1c0002\" ><caption>Hover to highlight.</caption><thead>    <tr>        <th class=\"blank level0\" ></th>        <th class=\"col_heading level0 col0\" >A</th>        <th class=\"col_heading level0 col1\" >B</th>        <th class=\"col_heading level0 col2\" >C</th>        <th class=\"col_heading level0 col3\" >D</th>        <th class=\"col_heading level0 col4\" >E</th>    </tr></thead><tbody>\n",
              "                <tr>\n",
              "                        <th id=\"T_241917c6_6b78_11eb_8b10_0242ac1c0002level0_row0\" class=\"row_heading level0 row0\" >0</th>\n",
              "                        <td id=\"T_241917c6_6b78_11eb_8b10_0242ac1c0002row0_col0\" class=\"data row0 col0\" >1.000000</td>\n",
              "                        <td id=\"T_241917c6_6b78_11eb_8b10_0242ac1c0002row0_col1\" class=\"data row0 col1\" >1.329212</td>\n",
              "                        <td id=\"T_241917c6_6b78_11eb_8b10_0242ac1c0002row0_col2\" class=\"data row0 col2\" >nan</td>\n",
              "                        <td id=\"T_241917c6_6b78_11eb_8b10_0242ac1c0002row0_col3\" class=\"data row0 col3\" >-0.316280</td>\n",
              "                        <td id=\"T_241917c6_6b78_11eb_8b10_0242ac1c0002row0_col4\" class=\"data row0 col4\" >-0.990810</td>\n",
              "            </tr>\n",
              "            <tr>\n",
              "                        <th id=\"T_241917c6_6b78_11eb_8b10_0242ac1c0002level0_row1\" class=\"row_heading level0 row1\" >1</th>\n",
              "                        <td id=\"T_241917c6_6b78_11eb_8b10_0242ac1c0002row1_col0\" class=\"data row1 col0\" >2.000000</td>\n",
              "                        <td id=\"T_241917c6_6b78_11eb_8b10_0242ac1c0002row1_col1\" class=\"data row1 col1\" >-1.070816</td>\n",
              "                        <td id=\"T_241917c6_6b78_11eb_8b10_0242ac1c0002row1_col2\" class=\"data row1 col2\" >-1.438713</td>\n",
              "                        <td id=\"T_241917c6_6b78_11eb_8b10_0242ac1c0002row1_col3\" class=\"data row1 col3\" >0.564417</td>\n",
              "                        <td id=\"T_241917c6_6b78_11eb_8b10_0242ac1c0002row1_col4\" class=\"data row1 col4\" >0.295722</td>\n",
              "            </tr>\n",
              "            <tr>\n",
              "                        <th id=\"T_241917c6_6b78_11eb_8b10_0242ac1c0002level0_row2\" class=\"row_heading level0 row2\" >2</th>\n",
              "                        <td id=\"T_241917c6_6b78_11eb_8b10_0242ac1c0002row2_col0\" class=\"data row2 col0\" >3.000000</td>\n",
              "                        <td id=\"T_241917c6_6b78_11eb_8b10_0242ac1c0002row2_col1\" class=\"data row2 col1\" >-1.626404</td>\n",
              "                        <td id=\"T_241917c6_6b78_11eb_8b10_0242ac1c0002row2_col2\" class=\"data row2 col2\" >0.219565</td>\n",
              "                        <td id=\"T_241917c6_6b78_11eb_8b10_0242ac1c0002row2_col3\" class=\"data row2 col3\" >0.678805</td>\n",
              "                        <td id=\"T_241917c6_6b78_11eb_8b10_0242ac1c0002row2_col4\" class=\"data row2 col4\" >1.889273</td>\n",
              "            </tr>\n",
              "            <tr>\n",
              "                        <th id=\"T_241917c6_6b78_11eb_8b10_0242ac1c0002level0_row3\" class=\"row_heading level0 row3\" >3</th>\n",
              "                        <td id=\"T_241917c6_6b78_11eb_8b10_0242ac1c0002row3_col0\" class=\"data row3 col0\" >4.000000</td>\n",
              "                        <td id=\"T_241917c6_6b78_11eb_8b10_0242ac1c0002row3_col1\" class=\"data row3 col1\" >0.961538</td>\n",
              "                        <td id=\"T_241917c6_6b78_11eb_8b10_0242ac1c0002row3_col2\" class=\"data row3 col2\" >0.104011</td>\n",
              "                        <td id=\"T_241917c6_6b78_11eb_8b10_0242ac1c0002row3_col3\" class=\"data row3 col3\" >nan</td>\n",
              "                        <td id=\"T_241917c6_6b78_11eb_8b10_0242ac1c0002row3_col4\" class=\"data row3 col4\" >0.850229</td>\n",
              "            </tr>\n",
              "            <tr>\n",
              "                        <th id=\"T_241917c6_6b78_11eb_8b10_0242ac1c0002level0_row4\" class=\"row_heading level0 row4\" >4</th>\n",
              "                        <td id=\"T_241917c6_6b78_11eb_8b10_0242ac1c0002row4_col0\" class=\"data row4 col0\" >5.000000</td>\n",
              "                        <td id=\"T_241917c6_6b78_11eb_8b10_0242ac1c0002row4_col1\" class=\"data row4 col1\" >1.453425</td>\n",
              "                        <td id=\"T_241917c6_6b78_11eb_8b10_0242ac1c0002row4_col2\" class=\"data row4 col2\" >1.057737</td>\n",
              "                        <td id=\"T_241917c6_6b78_11eb_8b10_0242ac1c0002row4_col3\" class=\"data row4 col3\" >0.165562</td>\n",
              "                        <td id=\"T_241917c6_6b78_11eb_8b10_0242ac1c0002row4_col4\" class=\"data row4 col4\" >0.515018</td>\n",
              "            </tr>\n",
              "            <tr>\n",
              "                        <th id=\"T_241917c6_6b78_11eb_8b10_0242ac1c0002level0_row5\" class=\"row_heading level0 row5\" >5</th>\n",
              "                        <td id=\"T_241917c6_6b78_11eb_8b10_0242ac1c0002row5_col0\" class=\"data row5 col0\" >6.000000</td>\n",
              "                        <td id=\"T_241917c6_6b78_11eb_8b10_0242ac1c0002row5_col1\" class=\"data row5 col1\" >-1.336936</td>\n",
              "                        <td id=\"T_241917c6_6b78_11eb_8b10_0242ac1c0002row5_col2\" class=\"data row5 col2\" >0.562861</td>\n",
              "                        <td id=\"T_241917c6_6b78_11eb_8b10_0242ac1c0002row5_col3\" class=\"data row5 col3\" >1.392855</td>\n",
              "                        <td id=\"T_241917c6_6b78_11eb_8b10_0242ac1c0002row5_col4\" class=\"data row5 col4\" >-0.063328</td>\n",
              "            </tr>\n",
              "            <tr>\n",
              "                        <th id=\"T_241917c6_6b78_11eb_8b10_0242ac1c0002level0_row6\" class=\"row_heading level0 row6\" >6</th>\n",
              "                        <td id=\"T_241917c6_6b78_11eb_8b10_0242ac1c0002row6_col0\" class=\"data row6 col0\" >7.000000</td>\n",
              "                        <td id=\"T_241917c6_6b78_11eb_8b10_0242ac1c0002row6_col1\" class=\"data row6 col1\" >0.121668</td>\n",
              "                        <td id=\"T_241917c6_6b78_11eb_8b10_0242ac1c0002row6_col2\" class=\"data row6 col2\" >1.207603</td>\n",
              "                        <td id=\"T_241917c6_6b78_11eb_8b10_0242ac1c0002row6_col3\" class=\"data row6 col3\" >-0.002040</td>\n",
              "                        <td id=\"T_241917c6_6b78_11eb_8b10_0242ac1c0002row6_col4\" class=\"data row6 col4\" >1.627796</td>\n",
              "            </tr>\n",
              "            <tr>\n",
              "                        <th id=\"T_241917c6_6b78_11eb_8b10_0242ac1c0002level0_row7\" class=\"row_heading level0 row7\" >7</th>\n",
              "                        <td id=\"T_241917c6_6b78_11eb_8b10_0242ac1c0002row7_col0\" class=\"data row7 col0\" >8.000000</td>\n",
              "                        <td id=\"T_241917c6_6b78_11eb_8b10_0242ac1c0002row7_col1\" class=\"data row7 col1\" >0.354493</td>\n",
              "                        <td id=\"T_241917c6_6b78_11eb_8b10_0242ac1c0002row7_col2\" class=\"data row7 col2\" >1.037528</td>\n",
              "                        <td id=\"T_241917c6_6b78_11eb_8b10_0242ac1c0002row7_col3\" class=\"data row7 col3\" >-0.385684</td>\n",
              "                        <td id=\"T_241917c6_6b78_11eb_8b10_0242ac1c0002row7_col4\" class=\"data row7 col4\" >0.519818</td>\n",
              "            </tr>\n",
              "            <tr>\n",
              "                        <th id=\"T_241917c6_6b78_11eb_8b10_0242ac1c0002level0_row8\" class=\"row_heading level0 row8\" >8</th>\n",
              "                        <td id=\"T_241917c6_6b78_11eb_8b10_0242ac1c0002row8_col0\" class=\"data row8 col0\" >9.000000</td>\n",
              "                        <td id=\"T_241917c6_6b78_11eb_8b10_0242ac1c0002row8_col1\" class=\"data row8 col1\" >1.686583</td>\n",
              "                        <td id=\"T_241917c6_6b78_11eb_8b10_0242ac1c0002row8_col2\" class=\"data row8 col2\" >-1.325963</td>\n",
              "                        <td id=\"T_241917c6_6b78_11eb_8b10_0242ac1c0002row8_col3\" class=\"data row8 col3\" >1.428984</td>\n",
              "                        <td id=\"T_241917c6_6b78_11eb_8b10_0242ac1c0002row8_col4\" class=\"data row8 col4\" >-2.089354</td>\n",
              "            </tr>\n",
              "            <tr>\n",
              "                        <th id=\"T_241917c6_6b78_11eb_8b10_0242ac1c0002level0_row9\" class=\"row_heading level0 row9\" >9</th>\n",
              "                        <td id=\"T_241917c6_6b78_11eb_8b10_0242ac1c0002row9_col0\" class=\"data row9 col0\" >10.000000</td>\n",
              "                        <td id=\"T_241917c6_6b78_11eb_8b10_0242ac1c0002row9_col1\" class=\"data row9 col1\" >-0.129820</td>\n",
              "                        <td id=\"T_241917c6_6b78_11eb_8b10_0242ac1c0002row9_col2\" class=\"data row9 col2\" >0.631523</td>\n",
              "                        <td id=\"T_241917c6_6b78_11eb_8b10_0242ac1c0002row9_col3\" class=\"data row9 col3\" >-0.586538</td>\n",
              "                        <td id=\"T_241917c6_6b78_11eb_8b10_0242ac1c0002row9_col4\" class=\"data row9 col4\" >0.290720</td>\n",
              "            </tr>\n",
              "    </tbody></table>"
            ],
            "text/plain": [
              "<pandas.io.formats.style.Styler at 0x7f98037687b8>"
            ]
          },
          "metadata": {
            "tags": []
          },
          "execution_count": 10
        }
      ]
    },
    {
      "cell_type": "code",
      "metadata": {
        "colab": {
          "base_uri": "https://localhost:8080/",
          "height": 211
        },
        "id": "HVfclf4PAtyb",
        "outputId": "e59be223-6e55-40a8-ce08-621c465cac34"
      },
      "source": [
        "# Hiding index\n",
        "df.style.hide_index()"
      ],
      "execution_count": null,
      "outputs": [
        {
          "output_type": "execute_result",
          "data": {
            "text/html": [
              "<style  type=\"text/css\" >\n",
              "</style><table id=\"T_37b606d6_6b78_11eb_8b10_0242ac1c0002\" ><thead>    <tr>        <th class=\"col_heading level0 col0\" >A</th>        <th class=\"col_heading level0 col1\" >B</th>        <th class=\"col_heading level0 col2\" >C</th>        <th class=\"col_heading level0 col3\" >D</th>        <th class=\"col_heading level0 col4\" >E</th>    </tr></thead><tbody>\n",
              "                <tr>\n",
              "                                <td id=\"T_37b606d6_6b78_11eb_8b10_0242ac1c0002row0_col0\" class=\"data row0 col0\" >1.000000</td>\n",
              "                        <td id=\"T_37b606d6_6b78_11eb_8b10_0242ac1c0002row0_col1\" class=\"data row0 col1\" >1.329212</td>\n",
              "                        <td id=\"T_37b606d6_6b78_11eb_8b10_0242ac1c0002row0_col2\" class=\"data row0 col2\" >nan</td>\n",
              "                        <td id=\"T_37b606d6_6b78_11eb_8b10_0242ac1c0002row0_col3\" class=\"data row0 col3\" >-0.316280</td>\n",
              "                        <td id=\"T_37b606d6_6b78_11eb_8b10_0242ac1c0002row0_col4\" class=\"data row0 col4\" >-0.990810</td>\n",
              "            </tr>\n",
              "            <tr>\n",
              "                                <td id=\"T_37b606d6_6b78_11eb_8b10_0242ac1c0002row1_col0\" class=\"data row1 col0\" >2.000000</td>\n",
              "                        <td id=\"T_37b606d6_6b78_11eb_8b10_0242ac1c0002row1_col1\" class=\"data row1 col1\" >-1.070816</td>\n",
              "                        <td id=\"T_37b606d6_6b78_11eb_8b10_0242ac1c0002row1_col2\" class=\"data row1 col2\" >-1.438713</td>\n",
              "                        <td id=\"T_37b606d6_6b78_11eb_8b10_0242ac1c0002row1_col3\" class=\"data row1 col3\" >0.564417</td>\n",
              "                        <td id=\"T_37b606d6_6b78_11eb_8b10_0242ac1c0002row1_col4\" class=\"data row1 col4\" >0.295722</td>\n",
              "            </tr>\n",
              "            <tr>\n",
              "                                <td id=\"T_37b606d6_6b78_11eb_8b10_0242ac1c0002row2_col0\" class=\"data row2 col0\" >3.000000</td>\n",
              "                        <td id=\"T_37b606d6_6b78_11eb_8b10_0242ac1c0002row2_col1\" class=\"data row2 col1\" >-1.626404</td>\n",
              "                        <td id=\"T_37b606d6_6b78_11eb_8b10_0242ac1c0002row2_col2\" class=\"data row2 col2\" >0.219565</td>\n",
              "                        <td id=\"T_37b606d6_6b78_11eb_8b10_0242ac1c0002row2_col3\" class=\"data row2 col3\" >0.678805</td>\n",
              "                        <td id=\"T_37b606d6_6b78_11eb_8b10_0242ac1c0002row2_col4\" class=\"data row2 col4\" >1.889273</td>\n",
              "            </tr>\n",
              "            <tr>\n",
              "                                <td id=\"T_37b606d6_6b78_11eb_8b10_0242ac1c0002row3_col0\" class=\"data row3 col0\" >4.000000</td>\n",
              "                        <td id=\"T_37b606d6_6b78_11eb_8b10_0242ac1c0002row3_col1\" class=\"data row3 col1\" >0.961538</td>\n",
              "                        <td id=\"T_37b606d6_6b78_11eb_8b10_0242ac1c0002row3_col2\" class=\"data row3 col2\" >0.104011</td>\n",
              "                        <td id=\"T_37b606d6_6b78_11eb_8b10_0242ac1c0002row3_col3\" class=\"data row3 col3\" >nan</td>\n",
              "                        <td id=\"T_37b606d6_6b78_11eb_8b10_0242ac1c0002row3_col4\" class=\"data row3 col4\" >0.850229</td>\n",
              "            </tr>\n",
              "            <tr>\n",
              "                                <td id=\"T_37b606d6_6b78_11eb_8b10_0242ac1c0002row4_col0\" class=\"data row4 col0\" >5.000000</td>\n",
              "                        <td id=\"T_37b606d6_6b78_11eb_8b10_0242ac1c0002row4_col1\" class=\"data row4 col1\" >1.453425</td>\n",
              "                        <td id=\"T_37b606d6_6b78_11eb_8b10_0242ac1c0002row4_col2\" class=\"data row4 col2\" >1.057737</td>\n",
              "                        <td id=\"T_37b606d6_6b78_11eb_8b10_0242ac1c0002row4_col3\" class=\"data row4 col3\" >0.165562</td>\n",
              "                        <td id=\"T_37b606d6_6b78_11eb_8b10_0242ac1c0002row4_col4\" class=\"data row4 col4\" >0.515018</td>\n",
              "            </tr>\n",
              "            <tr>\n",
              "                                <td id=\"T_37b606d6_6b78_11eb_8b10_0242ac1c0002row5_col0\" class=\"data row5 col0\" >6.000000</td>\n",
              "                        <td id=\"T_37b606d6_6b78_11eb_8b10_0242ac1c0002row5_col1\" class=\"data row5 col1\" >-1.336936</td>\n",
              "                        <td id=\"T_37b606d6_6b78_11eb_8b10_0242ac1c0002row5_col2\" class=\"data row5 col2\" >0.562861</td>\n",
              "                        <td id=\"T_37b606d6_6b78_11eb_8b10_0242ac1c0002row5_col3\" class=\"data row5 col3\" >1.392855</td>\n",
              "                        <td id=\"T_37b606d6_6b78_11eb_8b10_0242ac1c0002row5_col4\" class=\"data row5 col4\" >-0.063328</td>\n",
              "            </tr>\n",
              "            <tr>\n",
              "                                <td id=\"T_37b606d6_6b78_11eb_8b10_0242ac1c0002row6_col0\" class=\"data row6 col0\" >7.000000</td>\n",
              "                        <td id=\"T_37b606d6_6b78_11eb_8b10_0242ac1c0002row6_col1\" class=\"data row6 col1\" >0.121668</td>\n",
              "                        <td id=\"T_37b606d6_6b78_11eb_8b10_0242ac1c0002row6_col2\" class=\"data row6 col2\" >1.207603</td>\n",
              "                        <td id=\"T_37b606d6_6b78_11eb_8b10_0242ac1c0002row6_col3\" class=\"data row6 col3\" >-0.002040</td>\n",
              "                        <td id=\"T_37b606d6_6b78_11eb_8b10_0242ac1c0002row6_col4\" class=\"data row6 col4\" >1.627796</td>\n",
              "            </tr>\n",
              "            <tr>\n",
              "                                <td id=\"T_37b606d6_6b78_11eb_8b10_0242ac1c0002row7_col0\" class=\"data row7 col0\" >8.000000</td>\n",
              "                        <td id=\"T_37b606d6_6b78_11eb_8b10_0242ac1c0002row7_col1\" class=\"data row7 col1\" >0.354493</td>\n",
              "                        <td id=\"T_37b606d6_6b78_11eb_8b10_0242ac1c0002row7_col2\" class=\"data row7 col2\" >1.037528</td>\n",
              "                        <td id=\"T_37b606d6_6b78_11eb_8b10_0242ac1c0002row7_col3\" class=\"data row7 col3\" >-0.385684</td>\n",
              "                        <td id=\"T_37b606d6_6b78_11eb_8b10_0242ac1c0002row7_col4\" class=\"data row7 col4\" >0.519818</td>\n",
              "            </tr>\n",
              "            <tr>\n",
              "                                <td id=\"T_37b606d6_6b78_11eb_8b10_0242ac1c0002row8_col0\" class=\"data row8 col0\" >9.000000</td>\n",
              "                        <td id=\"T_37b606d6_6b78_11eb_8b10_0242ac1c0002row8_col1\" class=\"data row8 col1\" >1.686583</td>\n",
              "                        <td id=\"T_37b606d6_6b78_11eb_8b10_0242ac1c0002row8_col2\" class=\"data row8 col2\" >-1.325963</td>\n",
              "                        <td id=\"T_37b606d6_6b78_11eb_8b10_0242ac1c0002row8_col3\" class=\"data row8 col3\" >1.428984</td>\n",
              "                        <td id=\"T_37b606d6_6b78_11eb_8b10_0242ac1c0002row8_col4\" class=\"data row8 col4\" >-2.089354</td>\n",
              "            </tr>\n",
              "            <tr>\n",
              "                                <td id=\"T_37b606d6_6b78_11eb_8b10_0242ac1c0002row9_col0\" class=\"data row9 col0\" >10.000000</td>\n",
              "                        <td id=\"T_37b606d6_6b78_11eb_8b10_0242ac1c0002row9_col1\" class=\"data row9 col1\" >-0.129820</td>\n",
              "                        <td id=\"T_37b606d6_6b78_11eb_8b10_0242ac1c0002row9_col2\" class=\"data row9 col2\" >0.631523</td>\n",
              "                        <td id=\"T_37b606d6_6b78_11eb_8b10_0242ac1c0002row9_col3\" class=\"data row9 col3\" >-0.586538</td>\n",
              "                        <td id=\"T_37b606d6_6b78_11eb_8b10_0242ac1c0002row9_col4\" class=\"data row9 col4\" >0.290720</td>\n",
              "            </tr>\n",
              "    </tbody></table>"
            ],
            "text/plain": [
              "<pandas.io.formats.style.Styler at 0x7f98037522e8>"
            ]
          },
          "metadata": {
            "tags": []
          },
          "execution_count": 11
        }
      ]
    },
    {
      "cell_type": "code",
      "metadata": {
        "id": "R9RCZXmuBJwZ"
      },
      "source": [
        "# exports to excel with style\n",
        "df.style.\\\n",
        "    applymap(color_negative_red).\\\n",
        "    apply(highlight_max).\\\n",
        "    to_excel('styled.xlsx', engine='openpyxl')"
      ],
      "execution_count": null,
      "outputs": []
    },
    {
      "cell_type": "code",
      "metadata": {
        "id": "ygGKC4MrE6gm"
      },
      "source": [
        "# .plot\n",
        "## 예제1\n",
        "no2['BASCH'].plot(kind='hist', bins=50)\n",
        "\n",
        "## 예제2\n",
        "no2.plot(figsize=(20,6))\n",
        "\n",
        "## 예제3\n",
        "no2[-500:].plot(figsize=(12,6))        # 가장 최근 500개 데이터만 불러오기\n",
        "\n",
        "## 예제4\n",
        "df.plot(kind='box', ylim=[0,250])\n",
        "\n",
        "## 예제5, 시계열, time series\n",
        "data['1999':].resample('M').mena().plot(ylim=[0,120])"
      ],
      "execution_count": null,
      "outputs": []
    },
    {
      "cell_type": "code",
      "metadata": {
        "id": "5FXEWqFxI74n"
      },
      "source": [
        "# 원하는 Data 뽑기\n",
        "fig, ax = plt.subplots()\n",
        "data.loc['2011':'2012', 'L06_347'].resample('M').mean().plot(ax=ax)\n",
        "data.loc['2011':'2012', 'L06_347'].resample('M').median().plot(ax=ax)\n",
        "ax.legend([\"mean\", \"median\"])\n",
        "\n",
        "# 이렇게도 가능!\n",
        "data.loc['2011':'2012', 'L06_347'].resample('M').agg(['mean', 'median']).plot()"
      ],
      "execution_count": null,
      "outputs": []
    },
    {
      "cell_type": "code",
      "metadata": {
        "id": "OTHbqzHdKBVU"
      },
      "source": [
        "# 원하는 data만 뽑아서 가로 bar plot 그리기\n",
        "fig, ax = plt.subplots()\n",
        "data['2013'].mean().plot(kind='barh', ax=ax)"
      ],
      "execution_count": null,
      "outputs": []
    },
    {
      "cell_type": "markdown",
      "metadata": {
        "id": "ZBp7J99j6nY0"
      },
      "source": [
        "## 🔎 Pandas with Regular Expression"
      ]
    },
    {
      "cell_type": "markdown",
      "metadata": {
        "id": "tB8hDeM499wz"
      },
      "source": [
        "[정규식은 여기 참조!](https://wikidocs.net/4308)\n",
        "> 문자 클래스 [ ]\n",
        "- [ ]사이의 문자들과 매치하라는 의미\n",
        "- [ ]안의 두 문자 사이에 하이픈(-)을 사용하면 두 문자 사이의 범위를 의미함\n",
        "- [a-zA-Z]: 알파벳 모두\n",
        "- [0-9]: 숫자 모두\n",
        "\n",
        "> .\n",
        "- . 메타 문자는 줄바꿈 문자인 \\n을 제외한 모든 문자와 매치함을 의미\n",
        "\n",
        "> *\n",
        "- 정규표현식의 *은 * 바로 앞에 있는 문자가 0부터 무한대로 반복될 수 있다는 의미\n",
        "\n",
        "> +\n",
        "- +는 최소 1번 이상 반복될 때 사용한다. 즉 *가 반복 횟수 0부터라면 +는 반복 횟수 1부터인 것이다.\n",
        "\n",
        "> {m,n}\n",
        "- m회에서 n회까지만 반복됨을 의미\n",
        "\n",
        "> ?\n",
        "- 반복이 될수도, 안될수도 있다는 의미. {0,1}과 같은 용도\n",
        "\n",
        "> $\n",
        "- 문자열의 마지막을 의미."
      ]
    },
    {
      "cell_type": "markdown",
      "metadata": {
        "id": "-i2-zJzL8ryT"
      },
      "source": [
        "### 📔 Examples"
      ]
    },
    {
      "cell_type": "code",
      "metadata": {
        "id": "Uc87JxUd9hrN"
      },
      "source": [
        "# replace string with regex\n",
        "df.str.replace(r\"-\\$\", \"-\", regex=True)"
      ],
      "execution_count": null,
      "outputs": []
    },
    {
      "cell_type": "code",
      "metadata": {
        "id": "92JLK4tY-DJO"
      },
      "source": [
        "# 종목번호에 K 또는 L이 들어간 주식을 찾고 싶다면\n",
        "df[df['종목번호'].str.contains('[KL]', regex=True)]"
      ],
      "execution_count": null,
      "outputs": []
    },
    {
      "cell_type": "code",
      "metadata": {
        "id": "6rhJWpmg-DNl"
      },
      "source": [
        "# 코로 시작해서 피로 끝나는 것을 찾고 싶다면\n",
        "df[df['시장구분'].str.contains('코.피', regex=True)]"
      ],
      "execution_count": null,
      "outputs": []
    },
    {
      "cell_type": "code",
      "metadata": {
        "id": "XCn5scqe-DQr"
      },
      "source": [
        "# 케이하고 씨가 반복되는 것을 찾고 싶으면\n",
        "df[df['종목명'].str.contains('케이씨*', regex=True)]\n",
        "\n",
        "# 케이씨가 반복되는 것을 찾으려면\n",
        "df[df['종목명'].str.contains('(케이씨)*', regex=True)]"
      ],
      "execution_count": null,
      "outputs": []
    },
    {
      "cell_type": "code",
      "metadata": {
        "id": "qgOYRNJVBLPd"
      },
      "source": [
        "# 종목 중에서 '케이'하고 '씨'가 1번 이상 반복되는 종목들\n",
        "df[df['종목명'].str.contains('케이씨+', regex=True)]"
      ],
      "execution_count": null,
      "outputs": []
    },
    {
      "cell_type": "code",
      "metadata": {
        "id": "LQnJLlK3BZA4"
      },
      "source": [
        "# '케이' 뒤에 '씨'가 2번 반복하는 것을 찾기\n",
        "df[df['종목명'].str.contains('케이씨{2}', regex=True)]"
      ],
      "execution_count": null,
      "outputs": []
    },
    {
      "cell_type": "code",
      "metadata": {
        "id": "TQcgd9p3CxK0"
      },
      "source": [
        "# '스'로 끝나는 종목을 찾기\n",
        "df[df['종목명'].str.contains('스$', regex=True)]"
      ],
      "execution_count": null,
      "outputs": []
    },
    {
      "cell_type": "code",
      "metadata": {
        "id": "7QUeRCUZAdUK"
      },
      "source": [
        "# 종목 중에서 '우'로 끝나거나 '우' 뒤에 1글자가 더 붙을 때\n",
        "df[df['종목명'].str.contains('우.?$', regex=True)]"
      ],
      "execution_count": null,
      "outputs": []
    },
    {
      "cell_type": "markdown",
      "metadata": {
        "id": "orekXW7S6nk8"
      },
      "source": [
        "## 🔎 Groupby, Pivot table, crosstab"
      ]
    },
    {
      "cell_type": "markdown",
      "metadata": {
        "id": "mwR14_XvR1RQ"
      },
      "source": [
        "> groupby란?  \n",
        "- 사용자가 행 인덱스, 열 인덱스로 사용하여 해당하는 데이터 반환\n",
        "\n",
        "- **.groupby ( key ) [ column ] .operation( )**: Groupby의 기본 문법\n",
        "- **.groupby ( key , as_index = Falese ) [ column ] .operation( )**: 이러면 index 설정을 막을 수 있음\n",
        "- **.groupby ( key ) [ [ column ] ] .operation( )**\tGroupby 결과를 Dataframe으로 보기\n",
        "- **.groupby ( ' key ' ) .aggregate ( )**: aggregate 안에 원하는 분석 메소드를 넣을 수 있음 e.g) np.sum\n",
        "- **.groupby ( [ ' key1 ' , ' key2 ' ] ) .agg([oper1] )**: agg에 원하는 분석 메소드를 넣을 수 있음\n",
        "\n",
        "  **.agg([oper1, oper2, oper3]**: operation을 많이 넣고 싶으면 이렇게 하면 됨!\n",
        "- **.groupby ( [ ' value ' , ' value2 ' ] ) .agg ( { ' column1 ' : oper1, ' column2 ': oper2, ' column3 ' : oper3 } )**: 각각 다른 column에 func, operation을 다르게 하고 싶을 때\n",
        "\n",
        " **.groupby ( [ ' value1 ' , ' value2 ' ] ) .agg ( { ' column1 ' : oper1 , ' column2 ': oper2, ' column3 ' : [oper3, ' oper4 ', oper5] } )**: 여러 개 operation을 넣고 싶으면 이렇게 하면 됨!\n",
        " \n",
        " **.groupby ( ' key ' ) .agg ( { \"column\" :  [oper1 , oper2 ] } )**: 간단하게 정리하면 요로로콤!\n",
        " \n",
        "- **.unstack( )**: dataframe으로 만들어줌\n",
        "- **.stack( )**: dataframe을 부숨\n",
        "- **.swaplevel()**: 순서대로 정리\n",
        "- **.sort_values()**: value를 순서대로 정리\n",
        "\n",
        "  **.sort_values(by=['column1', 'column2'], ascending=False)**: sort_value에서 column을 지정해줄 수 있고 ascending을 false로 해서 내림차순으로 정리가능\n",
        "- **.sort_index()**: index 순서대로 정리\n",
        "- **.transform(func)**: value를 func에 따라서 변환\n",
        "- **.filter(func)**: func에 맞는 value만 반환\n",
        "- **.droplevel ( level = )**: level을 drop한다.\n",
        "\n",
        "\n",
        "> Pivot table, crosstab  \n",
        "- 두 개의 열을 행 index, 열 index를 사용하여 표로 나타낸 것.\n",
        "\n",
        "- **pivot_table ( data, index = None, columns = None, values = None, aggfunc = ' mean ', fill_value = None, margins = False, margins_name = ' All ')**\n",
        "  - data: 분석할 데이터프레임 (메서드일 때는 필요하지 않음)\n",
        "  - values: 분석할 데이터프레임에서 분석할 열\n",
        "  - index: 행 인덱스로 들어갈 키 열 또는 키 열의 리스트\n",
        "  - columns: 열 인덱스로 들어갈 키 열 또는 키 열의 리스트\n",
        "  - aggfunc: 분석 메서드\n",
        "  - fill_value: NaN 대체 값\n",
        "  - margins: 모든 데이터를 분석한 결과를 오른쪽과 아래에 붙일지 여부\n",
        "  - margins_name: 마진 열(행)의 이름\n",
        "\n",
        "- **.pivot_table ( [ 'Title' ], index = , columns = , aggfunc = ' ', fill_value = )**: pivot table 만들기\n",
        "\n",
        "  **.pivot_table ( [ 'Title' ], index = , columns = , values = , aggfunc = ' ' )**: pivot table 만들기\n",
        "- **pd .met ( )**: pivot table을 pivot하기 전 원래의 형태로 돌려준다.\n",
        "\n",
        "- **pd.crosstab ( index, columns, values = , aggrunc = )**: crosstab 만드는 기본 공식\n",
        "\n",
        "\n"
      ]
    },
    {
      "cell_type": "markdown",
      "metadata": {
        "id": "gCEig-3x8wiF"
      },
      "source": [
        "### 📔 Examples"
      ]
    },
    {
      "cell_type": "code",
      "metadata": {
        "id": "BiMgwARNDR-m"
      },
      "source": [
        "# pd.melt\n",
        "pd.melt(pivoted)"
      ],
      "execution_count": null,
      "outputs": []
    },
    {
      "cell_type": "code",
      "metadata": {
        "id": "95ObtRQ2d0PP"
      },
      "source": [
        "# groupby\n",
        "users.groupby('gender')['age'].mean()"
      ],
      "execution_count": null,
      "outputs": []
    },
    {
      "cell_type": "code",
      "metadata": {
        "id": "dGvasyhWd2MH"
      },
      "source": [
        "# groupby\n",
        "df.groupby([\"Student\", \"Active\"]).size().unstack()"
      ],
      "execution_count": null,
      "outputs": []
    },
    {
      "cell_type": "code",
      "metadata": {
        "id": "TTyKiyxFd2SA"
      },
      "source": [
        "# groupby\n",
        "df.groupby(['Pclass', 'Sex'])['Survived'].mean()"
      ],
      "execution_count": null,
      "outputs": []
    },
    {
      "cell_type": "code",
      "metadata": {
        "id": "wA-b3kf2d2d6"
      },
      "source": [
        "# groupby\n",
        "users.groupby('gender')[['age']].mean()"
      ],
      "execution_count": null,
      "outputs": []
    },
    {
      "cell_type": "code",
      "metadata": {
        "id": "Ao_RBhQRd2kv"
      },
      "source": [
        "# groupby\n",
        "df.groupby('key').aggregate(np.sum)"
      ],
      "execution_count": null,
      "outputs": []
    },
    {
      "cell_type": "code",
      "metadata": {
        "id": "6EzrEClAd2Xi"
      },
      "source": [
        "# groupby, aggregate\n",
        "def ratio(x):\n",
        " \t\t\t       return x.sum() / x.count()\n",
        "df.groupby('Sex')['Survived'].aggregate(ratio)"
      ],
      "execution_count": null,
      "outputs": []
    },
    {
      "cell_type": "code",
      "metadata": {
        "id": "vx-lAbrofR5n"
      },
      "source": [
        "# groupby, agg\n",
        "df.groupby('A').agg(['min', 'max'])"
      ],
      "execution_count": null,
      "outputs": []
    },
    {
      "cell_type": "code",
      "metadata": {
        "id": "9arZ6E9TfR1K"
      },
      "source": [
        "# groupby, agg\n",
        "df.groupby('A').agg({'B': ['min', 'max'], 'C': 'sum'})"
      ],
      "execution_count": null,
      "outputs": []
    },
    {
      "cell_type": "code",
      "metadata": {
        "id": "zQSsN4WbfkVW"
      },
      "source": [
        "# groupby, agg\n",
        "df_movie.groupby([\"critic\",\"title\"]).agg({\"rating\":\"first\"}).unstack().fillna(0)"
      ],
      "execution_count": null,
      "outputs": []
    },
    {
      "cell_type": "code",
      "metadata": {
        "id": "Qv2xR4OXfRub"
      },
      "source": [
        "# groupby, agg\n",
        "grouped = abalone.groupby(['sex', 'length_cat'])\n",
        "\n",
        "function_list = ['size', 'mean', 'std']\n",
        "\n",
        "groupby_result = grouped['whole_weight', 'shell_weight'].agg(function_list)\n",
        "\n",
        "groupby_result"
      ],
      "execution_count": null,
      "outputs": []
    },
    {
      "cell_type": "code",
      "metadata": {
        "id": "ZblnNFn-h7QM"
      },
      "source": [
        "# transform\n",
        "score = lambda x: (x - x.mean()) / x.std()\n",
        "grouped.transform(score)"
      ],
      "execution_count": null,
      "outputs": []
    },
    {
      "cell_type": "code",
      "metadata": {
        "id": "qK5fKedIirD9"
      },
      "source": [
        "# filter\n",
        "df.groupby('Team').filter(lambda x: len(x) >= 3)"
      ],
      "execution_count": null,
      "outputs": []
    },
    {
      "cell_type": "code",
      "metadata": {
        "id": "TWc7FtC4i0MP"
      },
      "source": [
        "# filter\n",
        "df.groupby('Team').filter(lambda x: x[\"Points\"].max() > 800)"
      ],
      "execution_count": null,
      "outputs": []
    },
    {
      "cell_type": "code",
      "metadata": {
        "id": "vBNfMV6RmY_3"
      },
      "source": [
        "# 여러 column과 그에 따른 다른 함수가 올 수 있게 하기\n",
        "df_phone.groupby(['month', 'item']).agg({'duration':sum,      # find the sum of the durations for each group\n",
        "                                     'network_type': \"count\", # find the number of network type entries\n",
        "                                     'date': 'first'})    # get the first date per group"
      ],
      "execution_count": null,
      "outputs": []
    },
    {
      "cell_type": "code",
      "metadata": {
        "id": "SzMfK8KemLqV"
      },
      "source": [
        "# 여러 개 column, operation 넣기\n",
        "df_phone.groupby(['month', 'item']).agg({'duration': [min],      # find the min, max, and sum of the duration column\n",
        "                                     'network_type': \"count\", # find the number of network type entries\n",
        "                                     'date': [min, 'first', 'nunique']})    # get the min, first, and number of unique dates"
      ],
      "execution_count": null,
      "outputs": []
    },
    {
      "cell_type": "code",
      "metadata": {
        "id": "5jnE1q3ftZpy"
      },
      "source": [
        "# pivot table 만들기\n",
        "df.pivot_table ( [ \"title\" ] ,\n",
        "                index = [ df.column1, df.columns2 ] ,\n",
        "                columns = df.column3, aggfunc = \"sum\", fill_value = 0)"
      ],
      "execution_count": null,
      "outputs": []
    },
    {
      "cell_type": "code",
      "metadata": {
        "id": "Wp23ov7LCjgj"
      },
      "source": [
        "# pivot example\n",
        "## 예제1\n",
        "df.pivot(index='Pclass', columns='Sex', values='Fare')\n",
        "\n",
        "## 예제2\n",
        "df.pivot_table(index='Sex', columns='Pclass', values='Fare', aggfunc='count')\n",
        "\n",
        "## 예제3\n",
        "df.pivot_table(index='Pclass', columns='Sex', values='Survived', aggfunc='mean')\n"
      ],
      "execution_count": null,
      "outputs": []
    },
    {
      "cell_type": "code",
      "metadata": {
        "id": "qa1uO9Fut3ZZ"
      },
      "source": [
        "# groupby, reset_index(), sort_values(by=), ascending=Flase\n",
        "merge_df.groupby([\"status\",\"name_x\"])[\"quantity\",\"ext price\"].sum().reset_index().sort_values(\n",
        "    by=[\"status\",\"quantity\"], ascending=False)"
      ],
      "execution_count": null,
      "outputs": []
    },
    {
      "cell_type": "markdown",
      "metadata": {
        "id": "fC_osfSf8TdI"
      },
      "source": [
        "## 🔎 Merge, Concat, Append"
      ]
    },
    {
      "cell_type": "markdown",
      "metadata": {
        "id": "w3yRgeO6yOZ1"
      },
      "source": [
        "> Merge란?\n",
        "- 위 그림은 여러가지 merge의 방법에 대해 나타낸 그림입니다. <br>\n",
        "- 하나의 column을 기준으로 두 dataframe을 하나로 합칠 때\n",
        "- <font color = '#d9544d'>한쪽에만 존재하는 데이터를 어떻게 처리할 것인가</font>에 따라 그 결과가 달라집니다. <br>\n",
        "- <br>\n",
        "- 예를 들어 scores와 years를 'name' column을 기준으로 합친다고 할 때, <br>\n",
        "- scores나 years 중 한 데이터셋에만 존재하는 사람(지효, 쯔위)을 처리하는 방법에 따라 <br>\n",
        "- merge의 종류가 정해집니다.<br>\n",
        "- <br>\n",
        "- 아래는 그 예시입니다. <br>\n",
        "- how는 merge의 방법, on은 기준이 되는 column 이름을 나타냅니다. <br>\n",
        "![join](https://letsdobigdata.files.wordpress.com/2016/03/joins.png)\n",
        " - pd.merge(df1, df2, on='고객명')\n",
        " \n",
        "- **pd.merge ( df1 , df2 , on = ' column name ' )**: 가장 basic한 merge 공식\n",
        "   \n",
        "   **pd.merge ( df1 , df2 , on = ' column name ' , how = ' ' , sort = True, indicator = True )**: 여기서 how란?\n",
        "     - left, right: 기준이 되는 dataframe(df1 or df2)를 정하는 것\n",
        "     - outer: 두 dataframe 중 어느 한 곳에 존재하는 데이터 \n",
        "     - inner: 두 dataframe에 모두 존재하는 데이터\n",
        "     - sort: False로 두어야 성능이 높아진다.\n",
        "     - indicator: merge한 뒤에 칼럼별로 어느 데이터프레임에 있는 애들인지 태그를 \n",
        " 남김\n",
        " \n",
        " \n",
        " > Concat이란?\n",
        " - concatenate의 줄임말로 서로 다른 두개의 dataframe을 아래로 이어붙일 때 사용\n",
        " - append와 유사하다\n",
        " \n",
        " - **pd.concat ( [ df1 , df2 ] ) .reset_index ( )**: 이렇게 concat하면 됨\n",
        " \n",
        "   **pd.concat ( [ df1 , df2 ] , axis = 1 )**: 이렇게 하면 열 옆으로 붙임. 뚱뚱해짐\n",
        " - **df1.append ( df2, ignore_index = True)**: 이렇게 append하면 됨\n"
      ]
    },
    {
      "cell_type": "markdown",
      "metadata": {
        "id": "EI-l1Pau8-o3"
      },
      "source": [
        "### 📔 Examples"
      ]
    },
    {
      "cell_type": "code",
      "metadata": {
        "id": "KN81wguCResb"
      },
      "source": [
        "# Compare Example 1\n",
        "df.compare(df2, align_axis=0)\n",
        "\n",
        "# Compare Example 2\n",
        "df.compare(df2, keep_shape=True)"
      ],
      "execution_count": null,
      "outputs": []
    },
    {
      "cell_type": "code",
      "metadata": {
        "id": "WN_5-1G8FPIh"
      },
      "source": [
        "# Merge indicator examples\n",
        "pd.merge(df1, df2, on=\"col1\", how=\"outer\", indicator=\"indicator_column\")"
      ],
      "execution_count": null,
      "outputs": []
    },
    {
      "cell_type": "code",
      "metadata": {
        "id": "10pYJs0gDhVH"
      },
      "source": [
        "# How to append dictionary to dataframe\n",
        "dicts = [{\"A\": 1, \"B\": 2, \"C\": 3, \"X\": 4}, {\"A\": 5, \"B\": 6, \"C\": 7, \"Y\": 8}]\n",
        "\n",
        "result = df1.append(dicts, ignore_index=True, sort=False)"
      ],
      "execution_count": null,
      "outputs": []
    },
    {
      "cell_type": "markdown",
      "metadata": {
        "id": "B3nuUp_eDz5p"
      },
      "source": [
        "![](https://pandas.pydata.org/docs/_images/merging_append_dits.png)"
      ]
    },
    {
      "cell_type": "code",
      "metadata": {
        "id": "MVpg3vJe4aVM"
      },
      "source": [
        "# crosstab\n",
        "pd.crosstab(df_train['Title'], df_train['Sex']).T.style.background_gradient(cmap='summer_r')"
      ],
      "execution_count": null,
      "outputs": []
    },
    {
      "cell_type": "code",
      "metadata": {
        "id": "EfNYXYinGQNs"
      },
      "source": [
        "# inner join - 두 데이터프레임에 모두 존재하는 데이터만\n",
        "scores.merge(years, how='inner', on='name')"
      ],
      "execution_count": null,
      "outputs": []
    },
    {
      "cell_type": "code",
      "metadata": {
        "id": "v1ecnuqRGreL"
      },
      "source": [
        "# left join - scores에 존재하는 데이터 기준\n",
        "scores.merge(years, how='left', on='name')"
      ],
      "execution_count": null,
      "outputs": []
    },
    {
      "cell_type": "code",
      "metadata": {
        "id": "WAnAQi9CGrlD"
      },
      "source": [
        "# right join - years에 존재하는 데이터 기준\n",
        "scores.merge(years, how='right', on='name')"
      ],
      "execution_count": null,
      "outputs": []
    },
    {
      "cell_type": "code",
      "metadata": {
        "id": "gOTlkELCGrsE"
      },
      "source": [
        "# full join - 두 데이터프레임 중 어느 한 곳에 존재하는 \n",
        "scores.merge(years, how='outer', on='name')"
      ],
      "execution_count": null,
      "outputs": []
    },
    {
      "cell_type": "markdown",
      "metadata": {
        "id": "T0bCElG-Gx5o"
      },
      "source": [
        "**Q. 두 dataframe의 key column명이 다른 경우는 어떻게 할까요?**\n",
        "\n",
        "(key column은 기준이 되는 column을 말합니다.) <br>\n",
        "예를 들어 years의 'name' column 이명을 바꿔 years1 로 저장해보겠습니다. <br>\n",
        "이때 'on' 대신에 'left_on'과 'right_on'을 사용하면 됩니다."
      ]
    },
    {
      "cell_type": "code",
      "metadata": {
        "id": "bENGdQurGryf"
      },
      "source": [
        "years1 = years.rename(columns={'name':'이름'})\n",
        "scores.merge(years1, left_on=\"name\", right_on=\"이름\", how=\"inner\")"
      ],
      "execution_count": null,
      "outputs": []
    },
    {
      "cell_type": "markdown",
      "metadata": {
        "id": "TiSWHHl-9FU6"
      },
      "source": [
        "## 🔎 Dealing with Time series data"
      ]
    },
    {
      "cell_type": "markdown",
      "metadata": {
        "id": "1D2enGNMGr_t"
      },
      "source": [
        "\n",
        "> 시간 순서가 있는 데이터들. 'datatime', 'dateutil' module을 사용한다.\n",
        "  - datatime: 사용자가 형식 문자열을 제공해야 하지만\n",
        "  - dateutil: 자동으로 형식 문자열을 찾아서 datetime.datetime 클래스 객체를 생성\n",
        "\n",
        "- **datetime .datetime ( year = , month = , day = , hour = , minute = , seconde = , microsecond = )**: 시간 설정하기\n",
        "- **.weekday ( )**: 요일 반환 (0:월, 1:화, 2:수, 3:목, 4:금, 5:토, 6:일)\n",
        "- **.strftime()**: 문자열로 바꿔준다!\n",
        "  - %Y:\t연도 \n",
        "  - %m:\t월 \n",
        "  - %d:\t일 \n",
        "  - %H:\t시간 \n",
        "  - %M:\t분 \n",
        "  - %S:\t초 \n",
        "  - %A:\t요일\n",
        "  - %B:\t월 \n",
        "- **df .column .apply ( dateutil .parser .parse, dayfirst = True )** : 시간 데이터로 변환해주기\n",
        " \n",
        "  **pd.to_datetime(df.column)**: 이렇게 바꿔줄 수도 있음\n",
        "- **df .groupby ( ' time ' ) [ ' columns ' ] .operation( )**: dateutil을 한 다음에는 이제 time에 date, month, year 등으로 groupby 가능\n",
        "- **datetime.timedelta (days = , seconds = )**: \n",
        "  - .days: 일수\n",
        "  - .seconds: 초\n",
        "  - .microseconds: 마이크로초\n",
        "  - .total_seconds(): 모든 속성을 초단위로 환산\n",
        "- **pd.Timestamp()**: time stamp를 반환\n",
        "- **pd .to_datetime ( \" YYYY - MM - DD \", dayfist = True, formot = )**: datetime으로 바꿔줌, dayfirst를 true로 하면 제일 처음에 나오는 str를 day로 인식. format은 .strftime 형식에 맞추면 가능\n",
        "- **.dt.hour**: 시간을 반환\n",
        "- **.day**: 날짜를 반환\n",
        "- **.dayofyear**: 1년 단위로 날짜를 반환\n",
        "- **.year**: 연도를 반환\n",
        "- **.dt.weekday**: 요일을 반환\n",
        "\n",
        "  **.dt.day_name()**: 요일을 반환\n",
        "- **pd .date_range ( start = \"YYYY-MM-DD\", periods = , freq = ' ' )**: 시간대를 만들어줄 수도 있음!!!\n",
        "\n",
        "  **pd .date_range ( \" YYYY-MM-DD \" : \" YYYY-MM-DD \" )**: 이렇게 만들어줄 수도 있음!\n",
        "- **df [ ' time_stamp1 ' : ' time_stamp2 ' ]**: time series data에서 data 골라오는 편한 방법! time data indexing\n",
        "  \n",
        "  **df [ ' 20xx ' ]**: 이게 더 편함\n",
        "- **.between_time ( ' time1 ' , ' time2 ' )**: time1~time2까지의 데이터를 뽑아줌\n",
        "- **resample()**: 지정해준 time frequency대로 데이터를 재배열한다.\n",
        "  - 'D': 일 단위\n",
        "  - 'W': 주 단위\n",
        "  - 'M': 월 단위\n",
        "  - 'Y', 'A': 연 단위\n",
        "  - 'H': 시간 단위\n",
        "  - 'T': 분 단위\n",
        "  - 'S': 초 단위\n",
        "  - '10T': 10분 단위"
      ]
    },
    {
      "cell_type": "markdown",
      "metadata": {
        "id": "1UA6k_jo9AfR"
      },
      "source": [
        "### 📔 Examples"
      ]
    },
    {
      "cell_type": "code",
      "metadata": {
        "colab": {
          "base_uri": "https://localhost:8080/"
        },
        "id": "4bY91RsVLSCM",
        "outputId": "bad00281-fa83-40cc-fe76-3cc47d6b623f"
      },
      "source": [
        "srs"
      ],
      "execution_count": null,
      "outputs": [
        {
          "output_type": "execute_result",
          "data": {
            "text/plain": [
              "2021-01-01   -0.501085\n",
              "2021-01-02    1.439763\n",
              "2021-01-03    1.054725\n",
              "2021-01-04    0.017595\n",
              "2021-01-05    0.468109\n",
              "                ...   \n",
              "2021-03-17   -1.021388\n",
              "2021-03-18    0.395117\n",
              "2021-03-19   -0.545944\n",
              "2021-03-20    0.994538\n",
              "2021-03-21   -0.183844\n",
              "Freq: D, Length: 80, dtype: float64"
            ]
          },
          "metadata": {
            "tags": []
          },
          "execution_count": 22
        }
      ]
    },
    {
      "cell_type": "code",
      "metadata": {
        "colab": {
          "base_uri": "https://localhost:8080/"
        },
        "id": "fvgAaeSgK181",
        "outputId": "55bdbd99-3c75-4f14-ae19-7135fa136c48"
      },
      "source": [
        "rng = pd.date_range('20210101', periods=80)\n",
        "srs = pd.Series(np.random.randn(len(rng)), rng)\n",
        "srs.to_period()"
      ],
      "execution_count": null,
      "outputs": [
        {
          "output_type": "execute_result",
          "data": {
            "text/plain": [
              "2021-01-01   -0.501085\n",
              "2021-01-02    1.439763\n",
              "2021-01-03    1.054725\n",
              "2021-01-04    0.017595\n",
              "2021-01-05    0.468109\n",
              "                ...   \n",
              "2021-03-17   -1.021388\n",
              "2021-03-18    0.395117\n",
              "2021-03-19   -0.545944\n",
              "2021-03-20    0.994538\n",
              "2021-03-21   -0.183844\n",
              "Freq: D, Length: 80, dtype: float64"
            ]
          },
          "metadata": {
            "tags": []
          },
          "execution_count": 21
        }
      ]
    },
    {
      "cell_type": "code",
      "metadata": {
        "id": "JkJBUM4nYDWS"
      },
      "source": [
        "# day_name() 예시\n",
        "train[\"datetime-dayofweek\"] = train[\"datetime\"].dt.day_name()"
      ],
      "execution_count": null,
      "outputs": []
    },
    {
      "cell_type": "code",
      "metadata": {
        "id": "m4Be51vl7mPG",
        "colab": {
          "base_uri": "https://localhost:8080/",
          "height": 35
        },
        "outputId": "278115b4-c15f-4df5-f5c2-bc6e895b8b4c"
      },
      "source": [
        "# datetime\n",
        "dt = datetime.datetime(year=2016, month=12, day=19, hour=13, minute=30)\n",
        "print(dt)"
      ],
      "execution_count": null,
      "outputs": [
        {
          "output_type": "stream",
          "text": [
            "2016-12-19 13:30:00\n"
          ],
          "name": "stdout"
        }
      ]
    },
    {
      "cell_type": "code",
      "metadata": {
        "id": "sYbh5-O--95d",
        "colab": {
          "base_uri": "https://localhost:8080/",
          "height": 35
        },
        "outputId": "cbb2a4fb-1f15-4f4d-f128-ddc83bb8f104"
      },
      "source": [
        "# weekday\n",
        "print(dt.weekday())"
      ],
      "execution_count": null,
      "outputs": [
        {
          "output_type": "stream",
          "text": [
            "0\n"
          ],
          "name": "stdout"
        }
      ]
    },
    {
      "cell_type": "code",
      "metadata": {
        "id": "CcXXzJXk7069",
        "colab": {
          "base_uri": "https://localhost:8080/",
          "height": 35
        },
        "outputId": "0a3429e0-a898-4ced-c142-3e4ba1d2f809"
      },
      "source": [
        "# strftime\n",
        "print(dt.strftime(\"%d %B %Y\"))"
      ],
      "execution_count": null,
      "outputs": [
        {
          "output_type": "stream",
          "text": [
            "19 December 2016\n"
          ],
          "name": "stdout"
        }
      ]
    },
    {
      "cell_type": "code",
      "metadata": {
        "id": "GzfkQobH7r4Q",
        "colab": {
          "base_uri": "https://localhost:8080/",
          "height": 35
        },
        "outputId": "981e2f52-ef4f-4f7d-d23c-109465621539"
      },
      "source": [
        "print(dt.strftime(\"%d %B %Y\"))"
      ],
      "execution_count": null,
      "outputs": [
        {
          "output_type": "stream",
          "text": [
            "19 December 2016\n"
          ],
          "name": "stdout"
        }
      ]
    },
    {
      "cell_type": "code",
      "metadata": {
        "id": "w9DNUlLlau1M"
      },
      "source": [
        "df_phone['date'] = df_phone['date'].apply(dateutil.parser.parse, dayfirst=True)\n",
        "df_phone.head()"
      ],
      "execution_count": null,
      "outputs": []
    },
    {
      "cell_type": "code",
      "metadata": {
        "id": "1HZ9ahdSkCnO"
      },
      "source": [
        "# 조건에 맞는 데이터 groupby하기\n",
        "df_phone[df_phone['item'] == 'call'].groupby('month')['duration'].sum()"
      ],
      "execution_count": null,
      "outputs": []
    },
    {
      "cell_type": "code",
      "metadata": {
        "id": "ieefc_Gnkc8c"
      },
      "source": [
        "# 원하는 형태로 groupby하기. date, count\n",
        "df_phone.groupby(['month', 'item'])['date'].count().unstack()"
      ],
      "execution_count": null,
      "outputs": []
    },
    {
      "cell_type": "code",
      "metadata": {
        "id": "NafEoGeTkwr0"
      },
      "source": [
        "# \n",
        "df_phone.groupby('month', as_index=False).agg({\"duration\": \"sum\"})"
      ],
      "execution_count": null,
      "outputs": []
    },
    {
      "cell_type": "code",
      "metadata": {
        "id": "RNcdy4vBlPv3"
      },
      "source": [
        "# 여러 column과 그에 따른 다른 함수가 올 수 있게 하기\n",
        "df_phone.groupby(['month', 'item']).agg({'duration':sum,      # find the sum of the durations for each group\n",
        "                                     'network_type': \"count\", # find the number of network type entries\n",
        "                                     'date': 'first'})    # get the first date per group"
      ],
      "execution_count": null,
      "outputs": []
    },
    {
      "cell_type": "code",
      "metadata": {
        "id": "WaVAyP4EmXpg"
      },
      "source": [
        "# 여러 개 column, operation 넣기\n",
        "df_phone.groupby(['month', 'item']).agg({'duration': [min],      # find the min, max, and sum of the duration column\n",
        "                                     'network_type': \"count\", # find the number of network type entries\n",
        "                                     'date': [min, 'first', 'nunique']})    # get the min, first, and number of unique dates"
      ],
      "execution_count": null,
      "outputs": []
    },
    {
      "cell_type": "code",
      "metadata": {
        "id": "nmoDC780992d",
        "colab": {
          "base_uri": "https://localhost:8080/",
          "height": 35
        },
        "outputId": "9daad9c0-dfc3-4dee-ec00-b0bc3738737d"
      },
      "source": [
        "# parse\n",
        "parse('2016-04-16')"
      ],
      "execution_count": null,
      "outputs": [
        {
          "output_type": "execute_result",
          "data": {
            "text/plain": [
              "datetime.datetime(2016, 4, 16, 0, 0)"
            ]
          },
          "metadata": {
            "tags": []
          },
          "execution_count": 41
        }
      ]
    },
    {
      "cell_type": "code",
      "metadata": {
        "id": "_BVrAiSI-ReV",
        "colab": {
          "base_uri": "https://localhost:8080/",
          "height": 35
        },
        "outputId": "1cdde759-c56a-49eb-b7d9-f5ee4e1d3275"
      },
      "source": [
        "# parse\n",
        "parse(\"Apr 16, 2016 04:05:32 PM\")"
      ],
      "execution_count": null,
      "outputs": [
        {
          "output_type": "execute_result",
          "data": {
            "text/plain": [
              "datetime.datetime(2016, 4, 16, 16, 5, 32)"
            ]
          },
          "metadata": {
            "tags": []
          },
          "execution_count": 42
        }
      ]
    },
    {
      "cell_type": "code",
      "metadata": {
        "id": "MwAoYA2s925k"
      },
      "source": [
        "# timedelta\n",
        "dt1 = datetime.datetime(2016, 2, 19, 14)\n",
        "dt2 = datetime.datetime(2016, 1, 2, 13)\n",
        "td = dt1 - dt2"
      ],
      "execution_count": null,
      "outputs": []
    },
    {
      "cell_type": "code",
      "metadata": {
        "id": "Grbe2-XK93Aq",
        "colab": {
          "base_uri": "https://localhost:8080/",
          "height": 35
        },
        "outputId": "8020ade2-7cb0-4476-8913-e1ae72e17335"
      },
      "source": [
        "# timedelta\n",
        "td.days, td.seconds, td.microseconds"
      ],
      "execution_count": null,
      "outputs": [
        {
          "output_type": "execute_result",
          "data": {
            "text/plain": [
              "(48, 3600, 0)"
            ]
          },
          "metadata": {
            "tags": []
          },
          "execution_count": 46
        }
      ]
    },
    {
      "cell_type": "code",
      "metadata": {
        "id": "ly0bOlKc93Ic",
        "colab": {
          "base_uri": "https://localhost:8080/",
          "height": 35
        },
        "outputId": "9df83669-55e6-45a1-d5fb-fe99958d60bf"
      },
      "source": [
        "# timedelta\n",
        "to_date"
      ],
      "execution_count": null,
      "outputs": [
        {
          "output_type": "execute_result",
          "data": {
            "text/plain": [
              "datetime.datetime(2018, 11, 30, 14, 0)"
            ]
          },
          "metadata": {
            "tags": []
          },
          "execution_count": 47
        }
      ]
    },
    {
      "cell_type": "code",
      "metadata": {
        "id": "phAK-OVK93O_",
        "colab": {
          "base_uri": "https://localhost:8080/",
          "height": 53
        },
        "outputId": "30c76756-1225-466c-d721-e36c04713fc0"
      },
      "source": [
        "# Timestamp\n",
        "ts = pd.Timestamp('2016-12-19')\n",
        "print(ts.month)\n",
        "print(ts + pd.Timedelta('5 days'))"
      ],
      "execution_count": null,
      "outputs": [
        {
          "output_type": "stream",
          "text": [
            "12\n",
            "2016-12-24 00:00:00\n"
          ],
          "name": "stdout"
        }
      ]
    },
    {
      "cell_type": "code",
      "metadata": {
        "id": "o9ASBLDA_WUG",
        "colab": {
          "base_uri": "https://localhost:8080/",
          "height": 35
        },
        "outputId": "eaca7c85-40f3-4840-c357-0d55d92f2910"
      },
      "source": [
        "td.days"
      ],
      "execution_count": null,
      "outputs": [
        {
          "output_type": "execute_result",
          "data": {
            "text/plain": [
              "48"
            ]
          },
          "metadata": {
            "tags": []
          },
          "execution_count": 52
        }
      ]
    },
    {
      "cell_type": "code",
      "metadata": {
        "id": "v2c_AOF1mQ59"
      },
      "source": [
        "# .to_datetime\n",
        "## 예제1\n",
        "pd.to_datetime(df.col1)\n",
        "\n",
        "## 예제2\n",
        "pd.to_datetime(\"2016-12-09\")\n",
        "\n",
        "## 예제3\n",
        "pd.to_datetime(\"09/12/2016\", format=\"%d/%m/%Y\")\n",
        "\n",
        "## 예제4\n",
        "data['Time'] = pd.to_datetime(data['Time'])"
      ],
      "execution_count": null,
      "outputs": []
    },
    {
      "cell_type": "code",
      "metadata": {
        "id": "Ve77F-3VAD4m",
        "colab": {
          "base_uri": "https://localhost:8080/",
          "height": 215
        },
        "outputId": "f8f6a26b-3377-4773-bd5a-9aafc0e8c276"
      },
      "source": [
        "# pd.date_range\n",
        "pd.Series(pd.date_range(start=\"2016-01-01\", periods=10, freq='3H'))"
      ],
      "execution_count": null,
      "outputs": [
        {
          "output_type": "execute_result",
          "data": {
            "text/plain": [
              "0   2016-01-01 00:00:00\n",
              "1   2016-01-01 03:00:00\n",
              "2   2016-01-01 06:00:00\n",
              "3   2016-01-01 09:00:00\n",
              "4   2016-01-01 12:00:00\n",
              "5   2016-01-01 15:00:00\n",
              "6   2016-01-01 18:00:00\n",
              "7   2016-01-01 21:00:00\n",
              "8   2016-01-02 00:00:00\n",
              "9   2016-01-02 03:00:00\n",
              "dtype: datetime64[ns]"
            ]
          },
          "metadata": {
            "tags": []
          },
          "execution_count": 57
        }
      ]
    },
    {
      "cell_type": "code",
      "metadata": {
        "id": "Me5TVPKRGDKC"
      },
      "source": [
        "# pd.date_range\n",
        "pd.date_range(\"2018-4-1\", \"2018-4-30\")\n",
        "pd.date_range(start=\"2018-4-1\", periods=30)"
      ],
      "execution_count": null,
      "outputs": []
    },
    {
      "cell_type": "code",
      "metadata": {
        "id": "c5dWjbLTAD-s"
      },
      "source": [
        "# column을 datetime으로 변형하기\n",
        "data = pd.read_csv(\"data/flowdata.csv\")"
      ],
      "execution_count": null,
      "outputs": []
    },
    {
      "cell_type": "code",
      "metadata": {
        "id": "ua2fu2UdAEEv"
      },
      "source": [
        "# 1월 데이터만 불러오기\n",
        "data[data.index.month == 1]"
      ],
      "execution_count": null,
      "outputs": []
    },
    {
      "cell_type": "code",
      "metadata": {
        "id": "vnxpiDUbAEK4"
      },
      "source": [
        "# 원하는 month 데이터만 불러오기  e.g 1,2,3월 / .isin\n",
        "data['months'] = data.index.month\n",
        "data[data['months'].isin([1, 2, 3])]"
      ],
      "execution_count": null,
      "outputs": []
    },
    {
      "cell_type": "code",
      "metadata": {
        "id": "8vJquALjAERt"
      },
      "source": [
        "# resample\n",
        "## 예제1\n",
        "data.resample('D').mean().head()\n",
        "\n",
        "## 예제2\n",
        "data.resample('D').max().head()"
      ],
      "execution_count": null,
      "outputs": []
    },
    {
      "cell_type": "markdown",
      "metadata": {
        "id": "fpAwTgWWRXB9"
      },
      "source": [
        "## 🔎 Save and Read as Different Data Form"
      ]
    },
    {
      "cell_type": "markdown",
      "metadata": {
        "id": "0O1okEUAR_ig"
      },
      "source": [
        "- 전반적으로 Feather가 데이터 용량, 저장속도, 로딩속도 등에서 performance가 제일 좋다. \n",
        "  (Among CSV, Feather, HDF, messagePack, Parquet, Pickle)\n",
        "- String을 전부 Categorical로 바꾸면 성능이 더 좋다."
      ]
    },
    {
      "cell_type": "markdown",
      "metadata": {
        "id": "WdJgmqOjS3sU"
      },
      "source": [
        "> Feather\n",
        "- **.to_feather**: Save as Feather\n",
        "- **.read_feather**: Read feather file\n",
        "\n",
        "> SAS\n",
        "- **.read_sas( )**: Read SAS file"
      ]
    },
    {
      "cell_type": "markdown",
      "metadata": {
        "id": "cCUfxXwGUTFm"
      },
      "source": [
        "### 📔 Examples"
      ]
    },
    {
      "cell_type": "code",
      "metadata": {
        "id": "pWQMR4t5UEvm"
      },
      "source": [
        "# Save as Feather\n",
        "df.to_feather(\"df.ftr\")"
      ],
      "execution_count": null,
      "outputs": []
    },
    {
      "cell_type": "code",
      "metadata": {
        "id": "xF5gDDIQUF9R"
      },
      "source": [
        "pd.read_feather(\"df.ftr\", use_threads=True)"
      ],
      "execution_count": null,
      "outputs": []
    },
    {
      "cell_type": "code",
      "metadata": {
        "id": "aTpO3f49nFC-"
      },
      "source": [
        "df = pd.read_sas(\"sas_data.sas7bdat\")"
      ],
      "execution_count": null,
      "outputs": []
    },
    {
      "cell_type": "markdown",
      "metadata": {
        "id": "a47b-WYKK3BW"
      },
      "source": [
        "## 🔎 Optimize speed and memory"
      ]
    },
    {
      "cell_type": "markdown",
      "metadata": {
        "id": "HxJpCodtQjO2"
      },
      "source": [
        "<h3> Performance Comparision Table </h3>"
      ]
    },
    {
      "cell_type": "markdown",
      "metadata": {
        "id": "Cpm3fWSZQWTY"
      },
      "source": [
        "![](https://miro.medium.com/max/1400/1*p4zjrqG97C4bFmOXU5UQog.png)"
      ]
    },
    {
      "cell_type": "code",
      "metadata": {
        "id": "RBish6DxQnrW"
      },
      "source": [
        "# Crude looping\n",
        "def haversine_looping(df):\n",
        "    distance_list = []\n",
        "    for i in range(0, len(df)):\n",
        "        d = haversine(40.671, -73.985, df.iloc[i]['latitude'], df.iloc[i]['longitude'])\n",
        "        distance_list.append(d)\n",
        "    return distance_list\n",
        "\n",
        "df['distance'] = haversine_looping(df)\n",
        "\n",
        "# Looping with  iterrows()\n",
        "haversine_series = []\n",
        "for index, row in df.iterrows():\n",
        "    haversine_series.append(haversine(40.671, -73.985, row['latitude'], row['longitude']))\n",
        "df['distance'] = haversine_series\n",
        "\n",
        "# Looping with apply()\n",
        "df['distance'] = df.apply(lambda row: haversine(40.671, -73.985, row['latitude'], row['longitude']), axis=1)\n",
        "%lprun -f haversine df.apply(lambda row: haversine(40.671, -73.985, row['latitude'], row['longitude']), axis=1)\n",
        "\n",
        "# Vectorization with Pandas series\n",
        "df['distance'] = haversine(40.671, -73.985, df['latitude'], df['longitude'])\n",
        "\n",
        "# Vectorization with NumPy arrays\n",
        "df['distance'] = haversine(40.671, -73.985, df['latitude'].values, df['longitude'].values)"
      ],
      "execution_count": null,
      "outputs": []
    },
    {
      "cell_type": "markdown",
      "metadata": {
        "id": "FKc10_8aPUee"
      },
      "source": [
        "<h3> Memory Optimization</h3>\n",
        "\n",
        "- Codes below are column optimizating code that can reduce memory."
      ]
    },
    {
      "cell_type": "code",
      "metadata": {
        "id": "ISm2YAXFPS_n"
      },
      "source": [
        "import pandas as pd\n",
        "from typing import List\n",
        "\n",
        "\n",
        "def optimize_floats(df: pd.DataFrame) -> pd.DataFrame:\n",
        "    floats = df.select_dtypes(include=['float64']).columns.tolist()\n",
        "    df[floats] = df[floats].apply(pd.to_numeric, downcast='float')\n",
        "    return df\n",
        "\n",
        "\n",
        "def optimize_ints(df: pd.DataFrame) -> pd.DataFrame:\n",
        "    ints = df.select_dtypes(include=['int64']).columns.tolist()\n",
        "    df[ints] = df[ints].apply(pd.to_numeric, downcast='integer')\n",
        "    return df\n",
        "\n",
        "\n",
        "def optimize_objects(df: pd.DataFrame, datetime_features: List[str]) -> pd.DataFrame:\n",
        "    for col in df.select_dtypes(include=['object']):\n",
        "        if col not in datetime_features:\n",
        "            num_unique_values = len(df[col].unique())\n",
        "            num_total_values = len(df[col])\n",
        "            if float(num_unique_values) / num_total_values < 0.5:\n",
        "                df[col] = df[col].astype('category')\n",
        "        else:\n",
        "            df[col] = pd.to_datetime(df[col])\n",
        "    return df\n",
        "\n",
        "\n",
        "\n",
        "def optimize(df: pd.DataFrame, datetime_features: List[str] = []):\n",
        "    return optimize_floats(optimize_ints(optimize_objects(df, datetime_features)))\n",
        "view rawadvanced-pandas-memory-methods.py hosted with ❤ by GitHub"
      ],
      "execution_count": null,
      "outputs": []
    },
    {
      "cell_type": "markdown",
      "metadata": {
        "id": "kbhu8uC-K9C4"
      },
      "source": [
        "<h3> Merge or Lookup</h3>\n",
        "\n",
        "- Since pandas has optimized operations based on indices, using index will improve speed in lookup or merging tables.  \n",
        "- Set primary key as index and using .at methods for lookup performs best."
      ]
    },
    {
      "cell_type": "code",
      "metadata": {
        "id": "OMtxSf1iLFi4"
      },
      "source": [
        "%%timeit\n",
        "listings.merge(reviews, on='listing_id')\n",
        "# 439 ms ± 24.5 ms per loop (mean ± std. dev. of 7 runs, 1 loop each)\n",
        "\n",
        "%%timeit\n",
        "reviews_ = reviews.set_index('listing_id')\n",
        "listings_ = listings.set_index('listing_id')\n",
        "listings_.merge(reviews_, left_index=True, right_index=True)\n",
        "# 393 ms ± 17.4 ms per loop (mean ± std. dev. of 7 runs, 1 loop each)"
      ],
      "execution_count": null,
      "outputs": []
    },
    {
      "cell_type": "code",
      "metadata": {
        "id": "4pUSR37LLYEF"
      },
      "source": [
        "listings = listings.set_index('listing_id', drop=False)\n",
        "\n",
        "%%timeit\n",
        "listings.loc[29844866, 'name']\n",
        "# 10.1 µs ± 1.25 µs per loop (mean ± std. dev. of 7 runs, 100000 loops each)\n",
        "\n",
        "%%timeit\n",
        "listings.at[29844866, 'name']\n",
        "# 5.34 µs ± 474 ns per loop (mean ± std. dev. of 7 runs, 100000 loops each)\n",
        "\n",
        "listings = listings.reset_index(drop=True)\n",
        "\n",
        "%%timeit\n",
        "listings.loc[listings['listing_id'] == 29844866, 'name']\n",
        "# 593 µs ± 30 µs per loop (mean ± std. dev. of 7 runs, 1000 loops each)\n",
        "\n",
        "%%timeit \n",
        "listings.iloc[22529]['name']\n",
        "# 252 µs ± 45.9 µs per loop (mean ± std. dev. of 7 runs, 1000 loops each)"
      ],
      "execution_count": null,
      "outputs": []
    },
    {
      "cell_type": "markdown",
      "metadata": {
        "id": "l8FFk8kbMRZh"
      },
      "source": [
        "<h3> Vectorize Operations</h3>\n",
        "\n",
        "- `for` loops are costly for reading and writing operations.  \n",
        "- Examples below compare operation time using .iloc[ ], .iterrows( ), .loc[ ], .map( ), .apply( ) "
      ]
    },
    {
      "cell_type": "code",
      "metadata": {
        "id": "3uTaBAJTMQXm"
      },
      "source": [
        "# .iloc[]\n",
        "%%timeit\n",
        "norm_prices = np.zeros(len(listings,))\n",
        "for i in range(len(listings)):\n",
        "    norm_prices[i] = (listings.iloc[i]['price'] - min_price) / (max_price - min_price)\n",
        "listings['norm_price'] = norm_prices\n",
        "# 8.91 s ± 479 ms per loop (mean ± std. dev. of 7 runs, 1 loop each)\n",
        "\n",
        "# iterrows()\n",
        "%%timeit\n",
        "norm_prices = np.zeros(len(listings,))\n",
        "for i, row in listings.iterrows():\n",
        "    norm_prices[i] = (row['price'] - min_price) / (max_price - min_price)\n",
        "listings['norm_price'] = norm_prices\n",
        "# 3.99 s ± 346 ms per loop (mean ± std. dev. of 7 runs, 1 loop each)\n",
        "\n",
        "# .loc[]\n",
        "%%timeit\n",
        "norm_prices = np.zeros(len(listings,))\n",
        "for i in range(len(norm_prices)):\n",
        "    norm_prices[i] = (listings.loc[i, 'price'] - min_price) / (max_price - min_price)\n",
        "listings['norm_price'] = norm_prices\n",
        "# 408 ms ± 61.2 ms per loop (mean ± std. dev. of 7 runs, 1 loop each)\n",
        "\n",
        "# .map()\n",
        "%%timeit \n",
        "listings['norm_price'] = listings['price'].map(lambda x: (x - min_price) / (max_price - min_price))\n",
        "# 39.8 ms ± 2.33 ms per loop (mean ± std. dev. of 7 runs, 10 loops each)\n",
        "\n",
        "# Vectorize\n",
        "%%timeit\n",
        "listings['norm_price'] = (listings['price'] - min_price) / (max_price - min_price)\n",
        "# 1.76 ms ± 107 µs per loop (mean ± std. dev. of 7 runs, 100 loops each)\n",
        "view rawadvanced-pandas-operations.py hosted with ❤ by GitHub"
      ],
      "execution_count": null,
      "outputs": []
    },
    {
      "cell_type": "markdown",
      "metadata": {
        "id": "oOCqPL8eRzFf"
      },
      "source": [
        "<h3> 📌 REMEMBER </h3>\n",
        "\n",
        "Before doing something with dataframe\n",
        "\n",
        "- Step 1) Normalize dataframes and optimize column types\n",
        "- Step 2) Merge Dataframes if necessary (Don't forget to use index when merging)\n",
        "- Step 3) When doing operations, try using Numpy vectorization as possible, if not use .at method or map( )"
      ]
    },
    {
      "cell_type": "markdown",
      "metadata": {
        "id": "s4ew9y67PaTs"
      },
      "source": [
        "### 📔 Examples"
      ]
    },
    {
      "cell_type": "markdown",
      "metadata": {
        "id": "rCtughv4PeRU"
      },
      "source": [
        "- functionName(df.to_numpy()) is the fasttest!"
      ]
    },
    {
      "cell_type": "code",
      "metadata": {
        "id": "EZq0gotjSLIe"
      },
      "source": [
        "# Custom function without numba\n",
        "%timeit df[\"col1_doubled\"] = df[\"a\"].apply(double_every_value_nonumba)  # noqa E501\n",
        "1000 loops, best of 3: 797 us per loop\n",
        "\n",
        "# Standard implementation (faster than a custom function)\n",
        "%timeit df[\"col1_doubled\"] = df[\"a\"] * 2\n",
        "1000 loops, best of 3: 233 us per loop\n",
        "\n",
        "# Custom function with numba\n",
        "%timeit df[\"col1_doubled\"] = double_every_value_withnumba(df[\"a\"].to_numpy())\n",
        "1000 loops, best of 3: 145 us per loop"
      ],
      "execution_count": null,
      "outputs": []
    },
    {
      "cell_type": "markdown",
      "metadata": {
        "id": "kO1ELDKIRBHh"
      },
      "source": [
        "# ✏️ Tips collection"
      ]
    },
    {
      "cell_type": "markdown",
      "metadata": {
        "id": "MjhrBBxLREWT"
      },
      "source": [
        "- 데이터 타입, 인덱싱 등으로 최적화하는거 무조건 기억!\n",
        "- apply는 numpy( )로 바꿔서 함수 속에 df 넣기\n",
        "- at이 제일 접근속도가 빠르다.\n",
        "- pipe( )를 써서 코드는 한줄로 깔끔히!\n",
        "- Merge할 때는 .merge(sort = False)하면 성능이 향상된다."
      ]
    }
  ]
}