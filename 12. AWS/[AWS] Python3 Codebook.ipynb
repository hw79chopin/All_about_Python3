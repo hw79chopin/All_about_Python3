{
  "nbformat": 4,
  "nbformat_minor": 0,
  "metadata": {
    "colab": {
      "name": "(원본) [Pymongo] Python3 Codebook.ipynb",
      "provenance": [],
      "collapsed_sections": [
        "JelDCixO8lXi",
        "PutzmCgk8ocO",
        "oHVL77_TRz8y",
        "f_5q7omBRy7W",
        "h85REdloR12g",
        "JPHCl8OfR3A2",
        "9C1drpVDR6ZL",
        "WUNEH6tJR7eh"
      ]
    },
    "kernelspec": {
      "name": "python3",
      "display_name": "Python 3"
    },
    "accelerator": "GPU"
  },
  "cells": [
    {
      "cell_type": "markdown",
      "metadata": {
        "id": "InlIoTet9H0y"
      },
      "source": [
        "---\n",
        "# 📁 Hyun's Code collection (Pymongo) \n",
        "---\n",
        "\n",
        "### <h3 align=\"right\">🥇 Authored by <strong>Hyun</strong></h3>"
      ]
    },
    {
      "cell_type": "markdown",
      "metadata": {
        "id": "JelDCixO8lXi"
      },
      "source": [
        "# ✏️ What is **Pymongo**?"
      ]
    },
    {
      "cell_type": "markdown",
      "metadata": {
        "id": "kT3bvUiBZr-l"
      },
      "source": [
        "- Mongo DB와 연동해서 데이터를 읽고 저장하는 쿼리 실행을 도와주는 라이브러리"
      ]
    },
    {
      "cell_type": "markdown",
      "metadata": {
        "id": "GEZWLRaB8nbB"
      },
      "source": [
        "# ✏️ Import Libraries"
      ]
    },
    {
      "cell_type": "code",
      "metadata": {
        "id": "-07sxnZXaCyj"
      },
      "source": [
        "import pymongo\n",
        "from pymongo import MongoClient"
      ],
      "execution_count": null,
      "outputs": []
    },
    {
      "cell_type": "markdown",
      "metadata": {
        "id": "PutzmCgk8ocO"
      },
      "source": [
        "# ✏️ Methods and Examples"
      ]
    },
    {
      "cell_type": "markdown",
      "metadata": {
        "id": "oHVL77_TRz8y"
      },
      "source": [
        "## 🔎 Connect to MongoDB"
      ]
    },
    {
      "cell_type": "code",
      "metadata": {
        "id": "ys11DQFZRlY5"
      },
      "source": [
        "# 접속 정보를 변수로 만들어 준다.aa\n",
        "# connection \n",
        "client = MongoClient(\"mongodb://localhost:27017\")"
      ],
      "execution_count": null,
      "outputs": []
    },
    {
      "cell_type": "markdown",
      "metadata": {
        "id": "f_5q7omBRy7W"
      },
      "source": [
        "## 🔎 DB created and connect"
      ]
    },
    {
      "cell_type": "code",
      "metadata": {
        "id": "mi_CzoPgRlY5"
      },
      "source": [
        "# 기존 생성된 DB가 있다면 연결이되고, 없다면 새로 생성해줌\n",
        "db = client['team_k']\n",
        "print(db)"
      ],
      "execution_count": null,
      "outputs": []
    },
    {
      "cell_type": "code",
      "metadata": {
        "id": "WsBnTfeZRlY6"
      },
      "source": [
        "## collection 생성\n",
        "team = db['dtream_team']\n",
        "team"
      ],
      "execution_count": null,
      "outputs": []
    },
    {
      "cell_type": "code",
      "metadata": {
        "id": "RuTf9isxRlY6"
      },
      "source": [
        "## 데이터 갯수 확인\n",
        "team.estimated_document_count()"
      ],
      "execution_count": null,
      "outputs": []
    },
    {
      "cell_type": "markdown",
      "metadata": {
        "id": "h85REdloR12g"
      },
      "source": [
        "## 🔎 Insert Data"
      ]
    },
    {
      "cell_type": "code",
      "metadata": {
        "id": "3weE__ueRlY6"
      },
      "source": [
        "## 1. 하나씩 넣기 insert_one\n",
        "## 2. 여러개 넣기 insert_many\n",
        "\n",
        "# 1. 하나씩 넣기 \n",
        "# query 만들기\n",
        "insertData = {\n",
        "    \"team_name\" : \"Jamong United\",\n",
        "    \"team_rank\" : 1,\n",
        "    \"team_squad\" : [\"Luckey Jamong\", \"Tom Watermelon\", \"Zack Mango\"]\n",
        "}\n",
        "# insert_one\n",
        "team.insert_one(insertData)\n",
        "\n",
        "# 쿼리를 바로 삽입해도 됨\n",
        "team.insert_one({\n",
        "    \"team_name\" : \"Wooju United\",\n",
        "    \"team_rank\" : 4,\n",
        "    \"team_squad\" : [\"Wooju Kim\", \"Youngju Yoon\", \"Yonsei Eagle\"]\n",
        "})\n",
        "\n",
        "# 2. 여러개 동시에 넣기\n",
        "# query 데이터 생성\n",
        "team_data = list()\n",
        "team_data.append({\n",
        "    \"team_name\" : \"Apple FC\",\n",
        "    \"team_rank\" : 2,\n",
        "    \"team_squad\" : [\"Jimmy Apple\", \"Gary Pineapple\", \"David Kiwi\"]\n",
        "})\n",
        "team_data.append({\n",
        "    \"team_name\" : \"Grape United\",\n",
        "    \"team_rank\" : 3,\n",
        "    \"team_squad\" : [\"John Grape\", \"Larry Pair\", \"Evan Peach\"]\n",
        "})\n",
        "team_data.append({\n",
        "    \"team_name\" : \"Mongo United\",\n",
        "    \"team_rank\" : 2,\n",
        "    \"team_squad\" : [\"Intsert Grape\", \"Update Pair\", \"Delete Peach\"]\n",
        "})\n",
        "\n",
        "# insert_many\n",
        "team.insert_many(team_data)"
      ],
      "execution_count": null,
      "outputs": []
    },
    {
      "cell_type": "markdown",
      "metadata": {
        "id": "JPHCl8OfR3A2"
      },
      "source": [
        "## 🔎 Find Data by condition\n",
        "\n"
      ]
    },
    {
      "cell_type": "code",
      "metadata": {
        "id": "lawPHT13RlY7"
      },
      "source": [
        "## 모두 확인 => find(), 하나만 확인 => find_one() \n",
        "\n",
        "# 하나의 데이터만 확인 => 첫번째 데이터 보여줌*\n",
        "team.find_one()\n",
        "\n",
        "from pprint import pprint\n",
        "\n",
        "# 모든 데이터 확인\n",
        "result = team.find()\n",
        "\n",
        "for row in result:\n",
        "    print(row)\n",
        "    \n",
        "pprint(row)"
      ],
      "execution_count": null,
      "outputs": []
    },
    {
      "cell_type": "code",
      "metadata": {
        "id": "XMnV__PWRlY7"
      },
      "source": [
        "# fine_one(조건) 사용시 하나만 출력\n",
        "# find(조건) 사용시 조건을 만족하는 데이터 모두를 보여줌\n",
        "\n",
        "# 조건 1: Wooju United를 찾아줘 \n",
        "team.find_one({\"team_name\": \"Wooju United\"})\n",
        "\n",
        "# 조건 2: team_rank가 2위인 팀\n",
        "result = team.find({\"team_rank\":2})\n",
        "\n",
        "for row in result:\n",
        "    print(row)\n",
        "    \n",
        "# 조건 3: team_rank가 2위 보다 높은 팀 보기 $lt\n",
        "result = team.find({\"team_rank\" : {\"$lt\" : 2}})\n",
        "for row in result:\n",
        "    print(row)\n",
        "    \n",
        "# 조건 4: team_rank가 2위 이상 팀 보기 $lte\n",
        "result = team.find({\"team_rank\" : {\"$lte\" : 2}})\n",
        "for row in result:\n",
        "    print(row)\n",
        "    \n",
        "# 조건 5: team_rank가 2위 보다 낮은 팀 보기 $gt\n",
        "result = team.find({\"team_rank\" : {\"$gt\" : 2}})\n",
        "for row in result:\n",
        "    print(row)\n",
        "    \n",
        "# 조건 4: team_rank가 2위 보다 낮은 팀 보기 $gte\n",
        "result = team.find({\"team_rank\" : {\"$gte\" : 2}})\n",
        "for row in result:\n",
        "    print(row)\n",
        "    \n",
        "# 조건 5: team_rank가 2위, Mongo 팀 보기  $and\n",
        "team.find_one({\"team_rank\": 2, \"team_name\": \"Mongo United\"})\n",
        "\n",
        "# 조건 6: team_rank가 1위와 4위 보기 $or\n",
        "result = team.find({\"$or\": [{\"team_rank\": 1}, {\"team_rank\": 4}]})\n",
        "for row in result:\n",
        "    print(row)\n",
        "    \n",
        "result = team.find()\n",
        "\n",
        "for row in result:\n",
        "    print(row)"
      ],
      "execution_count": null,
      "outputs": []
    },
    {
      "cell_type": "markdown",
      "metadata": {
        "id": "9C1drpVDR6ZL"
      },
      "source": [
        "## 🔎 Update Data\n"
      ]
    },
    {
      "cell_type": "code",
      "metadata": {
        "id": "Il4otNPqRlY7"
      },
      "source": [
        "## 1. 하나씩 수정 update_one\n",
        "## 2. 여러개 수정 update_many\n",
        "\n",
        "# 1. 하나씩 수정 update_one\n",
        "# 수정 내용 : Wooju United를 1위로 변경 \n",
        "team.update_one({\"team_name\": \"Wooju United\"}, {\"$set\":{\"team_rank\": 1}})\n",
        "\n",
        "# 4위에서 1위로 변경됨\n",
        "team.find_one({\"team_name\": \"Wooju United\"})\n",
        "\n",
        "# 2. 여러개 수정 update_many\n",
        "# 조건 순위가 2위인 팀들을 3위로 변경\n",
        "team.update_many({\"team_rank\":2},{\"$set\": {\"team_rank\": 3}})\n",
        "\n",
        "result = team.find({\"team_rank\":3})\n",
        "\n",
        "for row in result:\n",
        "    print(row)\n",
        "    \n",
        "result = team.find()\n",
        "\n",
        "for row in result:\n",
        "    print(row)"
      ],
      "execution_count": null,
      "outputs": []
    },
    {
      "cell_type": "markdown",
      "metadata": {
        "id": "WUNEH6tJR7eh"
      },
      "source": [
        "## 🔎 Delete Data\n"
      ]
    },
    {
      "cell_type": "code",
      "metadata": {
        "id": "PistLzeGRlY8"
      },
      "source": [
        "## 1. 하나씩 삭제 delete_one\n",
        "## 2. 여러개 삭제 delete_many\n",
        "\n",
        "# 1. 하나씩 삭제 delete_one\n",
        "# 조건: mongo United를 삭제\n",
        "team.delete_one({\"team_name\": \"Mongo United\"})\n",
        "\n",
        "team.find_one({\"team_name\": \"Mongo United\"})\n",
        "\n",
        "# 2. 여러개 삭제 delete_many\n",
        "# 조건 : 팀 순위 3위인 팀 모두 삭제\n",
        "team.delete_many({\"team_rank\": 3})"
      ],
      "execution_count": null,
      "outputs": []
    }
  ]
}