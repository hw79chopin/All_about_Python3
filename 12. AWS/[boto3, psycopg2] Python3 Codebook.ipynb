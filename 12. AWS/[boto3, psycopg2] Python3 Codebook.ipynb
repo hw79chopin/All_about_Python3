{
 "cells": [
  {
   "cell_type": "markdown",
   "metadata": {
    "id": "InlIoTet9H0y"
   },
   "source": [
    "---\n",
    "# 📁 boto3, psycopg2\n",
    "---\n",
    "### <h3 align=\"right\">🥇 Authored by <strong>Hyun</strong></h3>"
   ]
  },
  {
   "cell_type": "markdown",
   "metadata": {},
   "source": [
    "# 📚 Table of contents\n",
    "- 1. boto3\n",
    "- 2. psycopg2"
   ]
  },
  {
   "cell_type": "markdown",
   "metadata": {
    "id": "JelDCixO8lXi"
   },
   "source": [
    "# ✏️ 1. About **boto3**"
   ]
  },
  {
   "cell_type": "markdown",
   "metadata": {
    "id": "kT3bvUiBZr-l"
   },
   "source": [
    "- boto3 is a library which helps you to control DynamoDB in AWS"
   ]
  },
  {
   "cell_type": "markdown",
   "metadata": {},
   "source": [
    "## 🔎 import"
   ]
  },
  {
   "cell_type": "code",
   "execution_count": null,
   "metadata": {},
   "outputs": [],
   "source": [
    "import boto3"
   ]
  },
  {
   "cell_type": "markdown",
   "metadata": {
    "id": "f_5q7omBRy7W"
   },
   "source": [
    "## 🔎 Connecting to Dynamo"
   ]
  },
  {
   "cell_type": "code",
   "execution_count": null,
   "metadata": {},
   "outputs": [],
   "source": [
    "# this is to load .env file which has config information.\n",
    "# .env is used to avoid hard coding inside your code \n",
    "# .env looks like this\n",
    "'''\n",
    "DYNAMO_REGION_NAME=ap-northeast-2\n",
    "AWS_ACCESS_KEY_ID=accessKeyBlablabla\n",
    "AWS_SECRET_ACCESS_KEY=secretKeyBlablabla\n",
    "'''\n",
    "\n",
    "# load .env file\n",
    "load_dotenv(verbose=True) \n",
    "\n",
    "# config information\n",
    "DYNAMO_REGION_NAME = os.getenv('DYNAMO_REGION_NAME')\n",
    "AWS_ACCESS_KEY_ID = os.getenv('AWS_ACCESS_KEY_ID')\n",
    "AWS_SECRET_ACCESS_KEY = os.getenv('AWS_SECRET_ACCESS_KEY')\n",
    "\n",
    "# connecting to DynamoDB\n",
    "client = boto3.client('dynamodb', region_name=DYNAMO_REGION_NAME_1)\n",
    "DB = boto3.resource('dynamodb',\n",
    "                    region_name=DYNAMO_REGION_NAME,\n",
    "                    aws_access_key_id=AWS_ACCESS_KEY_ID,\n",
    "                    aws_secret_access_key= AWS_SECRET_ACCESS_KEY)\n",
    "\n",
    "# specify the table that you want to connect\n",
    "table = DB.Table('mlresult')"
   ]
  },
  {
   "cell_type": "markdown",
   "metadata": {
    "id": "oHVL77_TRz8y"
   },
   "source": [
    "## 🔎 save data to Dynamo\n"
   ]
  },
  {
   "cell_type": "code",
   "execution_count": null,
   "metadata": {},
   "outputs": [],
   "source": [
    "data = {\n",
    "    'user_id': int(user_id), \n",
    "    \"user_data\" : updated_data\n",
    "}\n",
    "\n",
    "response = table.put_item(Item = data)    "
   ]
  },
  {
   "cell_type": "markdown",
   "metadata": {},
   "source": [
    "# ✏️ 2. About **psycopg2**"
   ]
  },
  {
   "cell_type": "markdown",
   "metadata": {
    "id": "kT3bvUiBZr-l"
   },
   "source": [
    "- psycopg2 is alibrary which helps you to control RDS in AWS"
   ]
  },
  {
   "cell_type": "markdown",
   "metadata": {},
   "source": [
    "## 🔎 import"
   ]
  },
  {
   "cell_type": "code",
   "execution_count": null,
   "metadata": {
    "id": "-07sxnZXaCyj"
   },
   "outputs": [],
   "source": [
    "import psycopg2"
   ]
  },
  {
   "cell_type": "markdown",
   "metadata": {
    "id": "oHVL77_TRz8y"
   },
   "source": [
    "## 🔎 Connecting to RDS"
   ]
  },
  {
   "cell_type": "code",
   "execution_count": null,
   "metadata": {
    "id": "ys11DQFZRlY5"
   },
   "outputs": [],
   "source": [
    "# this is to load .env file which has config information.\n",
    "# .env is used to avoid hard coding inside your code \n",
    "# .env looks like this\n",
    "'''\n",
    "PSQL_HOST=some-name.someletter.ap-northeast-2.rds.amazonaws.com\n",
    "PSQL_DB_NAME=postgres\n",
    "PSQL_USER=root\n",
    "PSQL_PWD=superSecretPwd\n",
    "PSQL_PORT=5432\n",
    "'''\n",
    "\n",
    "# load .env file\n",
    "load_dotenv(verbose=True) \n",
    "\n",
    "# config information\n",
    "PSQL_HOST = os.getenv('PSQL_HOST') \n",
    "PSQL_DB_NAME = os.getenv('PSQL_DB_NAME')\n",
    "PSQL_USER = os.getenv('PSQL_USER')\n",
    "PSQL_PWD = os.getenv('PSQL_PWD')\n",
    "PSQL_PORT = os.getenv('PSQL_PORT')\n",
    "\n",
    "# connecting to RDS\n",
    "conn = psycopg2.connect(host=PSQL_HOST,\n",
    "                        dbname=PSQL_DB_NAME, \n",
    "                        user=PSQL_USER, \n",
    "                        password=PSQL_PWD,\n",
    "                        port=PSQL_PORT)"
   ]
  },
  {
   "cell_type": "markdown",
   "metadata": {
    "id": "oHVL77_TRz8y"
   },
   "source": [
    "## 🔎 query data"
   ]
  },
  {
   "cell_type": "code",
   "execution_count": null,
   "metadata": {},
   "outputs": [],
   "source": [
    "# create cursor\n",
    "cursor = conn.cursor()\n",
    "\n",
    "# get data using SQL\n",
    "cursor.execute('SELECT * FROM users ;')\n",
    "data_sql_mock_user_course = cursor.fetchall()\n",
    "\n",
    "# put data into DataFramec\n",
    "df = pd.DataFrame(data_sql_mock_user_course, \n",
    "                  columns=['user_id','user_name','register_date'])"
   ]
  }
 ],
 "metadata": {
  "accelerator": "GPU",
  "colab": {
   "collapsed_sections": [
    "JelDCixO8lXi",
    "PutzmCgk8ocO",
    "oHVL77_TRz8y",
    "f_5q7omBRy7W",
    "h85REdloR12g",
    "JPHCl8OfR3A2",
    "9C1drpVDR6ZL",
    "WUNEH6tJR7eh"
   ],
   "name": "(원본) [Pymongo] Python3 Codebook.ipynb",
   "provenance": []
  },
  "kernelspec": {
   "display_name": "Python 3 (ipykernel)",
   "language": "python",
   "name": "python3"
  },
  "language_info": {
   "codemirror_mode": {
    "name": "ipython",
    "version": 3
   },
   "file_extension": ".py",
   "mimetype": "text/x-python",
   "name": "python",
   "nbconvert_exporter": "python",
   "pygments_lexer": "ipython3",
   "version": "3.10.0"
  }
 },
 "nbformat": 4,
 "nbformat_minor": 1
}
