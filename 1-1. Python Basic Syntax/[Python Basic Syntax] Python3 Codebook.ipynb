{
  "nbformat": 4,
  "nbformat_minor": 0,
  "metadata": {
    "colab": {
      "name": "(원본) [Python Basic Syntax] Python3 Codebook.ipynb",
      "provenance": [],
      "collapsed_sections": [
        "dpGtozgdIYtr",
        "YBPO2AYzIczn",
        "0pdLFa9KJ9Ug",
        "yGTo7ldEJ9Q0",
        "ZOxXllzLJ9L0",
        "h2BX7tuwKF1V",
        "N3NgYviRKF6Q",
        "4orValqiKfaQ",
        "gwkD1XMgKfV1",
        "HPpDoycLKfR9",
        "8vHtXj6HJwZJ"
      ],
      "toc_visible": true
    },
    "kernelspec": {
      "name": "python3",
      "display_name": "Python 3"
    },
    "accelerator": "GPU"
  },
  "cells": [
    {
      "cell_type": "markdown",
      "metadata": {
        "id": "RYFuejL5sXMt"
      },
      "source": [
        "---\n",
        "# 📁 Hyun's Code collection (Python Basic Syntax) \n",
        "---\n",
        "\n",
        "### <h3 align=\"right\">🥇 Authored by <strong>Hyun</strong></h3>"
      ]
    },
    {
      "cell_type": "markdown",
      "metadata": {
        "id": "Hrbka4_ZIJmv"
      },
      "source": [
        "# ✏️  What is **Python Basic Syntax**?"
      ]
    },
    {
      "cell_type": "markdown",
      "metadata": {
        "id": "mpZRIwxJIHwU"
      },
      "source": [
        "- 다른 많은 Python 라이브러리들을 이용하기 전 필요한 Python 기본 문법들, 내장메소드들을 모아봤다."
      ]
    },
    {
      "cell_type": "markdown",
      "metadata": {
        "id": "dpGtozgdIYtr"
      },
      "source": [
        "# ✏️  Methods and Examples"
      ]
    },
    {
      "cell_type": "markdown",
      "metadata": {
        "id": "YBPO2AYzIczn"
      },
      "source": [
        "## 🔎 Basic Data Structures"
      ]
    },
    {
      "cell_type": "markdown",
      "metadata": {
        "id": "BUtNTBv6IlHO"
      },
      "source": [
        "<h2>🎈 Int </h2>\n",
        "\n",
        "- 숫자 중 정수\n",
        "\n",
        "<h2>🎈 Float </h2>\n",
        "\n",
        "- 숫자 중 소수\n",
        "\n",
        "<h2>🎈 String </h2>\n",
        "\n",
        "- 문자열  \n",
        "\n",
        "<h2>🎈 List </h2>\n",
        "\n",
        "- []에 String, Float, Int, Dataframe 등 다양한 데이터들이 element로 들어가있음\n",
        "- 다른 프로그래밍 언어에서 Array를 지칭\n",
        "> List comprehension\n",
        "  - 코드를 한 줄에 간단하게 적는 방법\n",
        "  - 밑에 예시들 참조\n",
        "\n",
        "<h2>🎈 Tuple </h2>\n",
        "\n",
        "- 여러 개의 자료를 하나의 변수로 관리할 때 사용합니다.\n",
        "- ( )로 둘러 쌓여있고 그 값을 바꿀 수가 없다.\n",
        "- 1개의 요소만 가질 때는 요소 뒤에 콤마(,)를 반드시 붙여야 함\n",
        "- 괄호를 사용하지 않아도 컴마(,)로 값을 나열하면 파이썬은 튜플로 인식한다. (예시)\n",
        "\n",
        "<h2>🎈 Dictionary </h2>\n",
        "\n",
        "- 데이터를 Key, Value의 쌍으로 입력\n",
        "\n",
        "<h2>🎈 Set </h2>\n",
        "\n",
        "- 키워드를 통해서 만들 수 있다. 중복을 허용하지 않고 순서도 없음"
      ]
    },
    {
      "cell_type": "markdown",
      "metadata": {
        "id": "0pdLFa9KJ9Ug"
      },
      "source": [
        "## 🔎 Basic Syntax"
      ]
    },
    {
      "cell_type": "markdown",
      "metadata": {
        "id": "6n_dcVLHKK85"
      },
      "source": [
        "- **type ( )**: 자료형을 반환\n",
        "- **dir ( )**: 클래스 내의 메소드를 보여준다.\n",
        "- **len()**: 길이를 반환\n",
        "- **a in x**: x에 a값이 있는지 boolean 형태로 반환\n",
        "- **list ( )**: list로 변환\n",
        "- **tuple ( )**: tuple로 변환\n",
        "- **set ( )**: 집합으로 변환\n",
        "- **str ( )**: 문자열 형태 바꿔줌\n",
        "- **input()**: 입력값들을 모두 문자열 취급\n",
        "- **print ( a, dtype )**: a의 자료형 알아내기\n",
        "- **end = ' '**: 한 줄에 결과값을 출력할 때, 출력하고 마지막에 무엇을 쓰고 끝낼지 정할 수 있음\n",
        "- **open ( 파일 이름, 모드 )**: 파일을 열 때 사용\n",
        "  - r: 읽기 모드\n",
        "  - w: 쓰기 모드\n",
        "  - a: 새로운 내용 추가\n",
        "  - encoding: 한글 읽고 싶을 때는 'utf-8'로 해주면 됨.\n",
        "- **.map ( fx , iterable )**: map 함수, 함수와 반복 가능한 자료형을 입력으로 받아 입력받은 자료형의 각 요소를 함수 fx가 수행한 결과를 반환\n",
        "- **all ( )**: 자료형 x가 모두 참이면 True, 하나라도 거짓이면 False\n",
        "- **any ( )**: 자료형 x 중 하나라도 참이면  True, 모두 거짓이면 False\n",
        "- **chr ( )**: 아스키 코드 값을 입력받아 해당 문자를 출력\n",
        "- **ord ( )**: 아스키 코드 값을 돌려주는 함수 (chr과 반대 함수)\n",
        "- **abs ( )**: 절대값을 반환\n",
        "- **divmod ( a , b )**: 2개의 숫자를 입력 후 a를 b로 나눈 몫, 나머지를 반환\n",
        "- **enumerate**: 순서가 있는 자료형을 입력으로 받아 인덱스 값을 포함하는 enumerate 객체를 돌려줌\n",
        "- **eval**: 실행가능한 문자열을 입력으로 받아 문자열을 실행한 값을 반환\n",
        "- **filter ( fx, iterable )**: 어떤 함수의 조건에 일치하는 값만 반환\n",
        "- **hex**: 정수 값을 입력 받아서 16진수로 반환\n",
        "- **id**: 고유 주소 값을 반환\n",
        "- **int ( )**: 정수 형태로 바꿔줌\n",
        "- **isinstance ( object , class )**: 인스턴스가 해당 클래스인지 판단하여 참이면 True\n",
        "- **pow ( x , y ):**: x의 y 제곱한 결과값을 반환\n",
        "- **range ( start , stop , step )**: 해당 값을 반복 가능한 객체로 반환\n",
        "- **round ( num )**: num을 반올림해줌\n",
        "- **zip ( )**: 동일한 개수로 이루어진 자료형을 묶어줌\n",
        "- **oct( )**: 정수 형태의 숫자를 8진수 문자열로 바꾸어 반환\n",
        "- **time.time()** : 그 시점의 시간을 저장\n",
        "- **%timeit**: 걸린 시간을 반환. 앞에 써주면 됨\n",
        "- **.size()**: 개수\n",
        "- **.sum()**: 합\n",
        "- **.mean()**: 평균\n",
        "- **.median()**: 중앙값\n",
        "- **.std()**: 표준편차\n",
        "- **.max()**: 최대값\n",
        "- **.min()**: 최소값\n",
        "- **calendar .calendar ( Y , M )**: 해당 연, 월의 달력을 볼 수 있다.\n",
        "- **calendar .weekday ( YY , MM , DD )**: 해당 날짜의 요일 정보를 볼 수 있다.\n",
        "- **random . random ( )**: 0~1 실수 중에서 난수 값을 반환\n",
        "- **random . randint ( , )**: 범위 내 실수 중에서 난수 값을 반환\n",
        "- **random . shuffle ( )**: 리스트 항목을 무작위로 섞음\n",
        "- **str .extract**: 정규식을 만족하는 것을 추출\n",
        "- **class 새_클래스_이름(상속할_기존_클래스)**: class inheritance, 클래스 상속\n",
        "- **.sample ( frac = ,  random_sate = )**: sample 뽑기\n",
        "- **.quantile( x )**: 상위 (100-x)%를 뽑아준다.\n",
        "- **assert 조건, '에러 메세지'** : 조건에 맞지 않으면 error를 내줘!라는 뜻"
      ]
    },
    {
      "cell_type": "markdown",
      "metadata": {
        "id": "yGTo7ldEJ9Q0"
      },
      "source": [
        "## 🔎 Basic Syntax for String"
      ]
    },
    {
      "cell_type": "markdown",
      "metadata": {
        "id": "8K-Q0xwpKNlH"
      },
      "source": [
        "- **.count ( )**: string에서 해당 문자가 얼마나 있는지 세줌\n",
        "- **.capitalize ( )**: 첫번째 문자만 대문자로 변환\n",
        "- **.count ( a )**: a값의 개수를 반환\n",
        "- **.find ( )**: 문자열이 처음 나오는 위치를 반환\n",
        "- **.index ( )**: 특정 값의 인덱스를 반환, 해당 값이 여러 개 있다면 첫번째 값의 인덱스를 반환\n",
        "- **sorted ( )**: 가로 안 값들을 정렬해줌\n",
        "- **.items ( )**: 딕셔너리의 Key, Value 쌍 얻기\n",
        "- **.stratswith ( )**: 시작하는 거 찾을 때\n",
        "- **.endswith ( )**: 끝나는 거 찾을 때\n",
        "- **\" \" .join ( )**: 문자 사이에 문자열을 삽입  \n",
        "df_final.loc[df_final['Name'].str.contains('Miss\\.', na=False), 'Name' ] = 2\n",
        "- **.upper ( )**: 문자열을 대문자로 바꾸기\n",
        "- **.lower ( )**: 문자열을 소문자로 바꾸기\n",
        "- **.lstrip ( )**: 왼쪽 공백 지우기\n",
        "- **.rstrip ( )**: 오른쪽 공백 지우기\n",
        "- **.strip ( )**: 양쪽 공백 지우기\n",
        "- **.replace ( \"기존 문구\" , \"원하는 문구\", 바꿀 횟수 )**: 문자열 바꾸기\n",
        "- **.split ( \" str \", 횟수 )**: 주어진 값을 기준으로 문자열을 나눈다. 횟수를 지정해주면 그만큼만 split함\n",
        "- **.rsplit ( ' 문자 ', 횟수 )**: 뒤에서부터 split하기!\n",
        "- **: 제곱\n",
        "- **%**: 나머지 반환\n",
        "- **//**: 목 반환\n",
        "- **\\n, ＼n**: escape 코드. 줄을 바꿈\n",
        "- **''' ''', \"\"\" \"\"\"**: 줄을 바궈주는 용도!\n",
        "- **[ ]**: indexing할 때\n",
        "- **{0:<10}**: 왼쪽 정렬\n",
        "  \n",
        "  **ljust()**: 왼쪽 정렬\n",
        "- **{0:>10}**: 오른쪽 정렬\n",
        "\n",
        "  **rjust()**: 오른쪽 정렬\n",
        "- **.center ( , )**: 앞에 매개 변수는 숫자, 뒤에 매개 변수는 공백을 채울 str을 넣어주면 된다.\n",
        "\n",
        "  **{0:^10}**: 가운데 정렬\n",
        "- **{0:=^10}**: 공백 채우기\n",
        "- **{0:!^10}**: 공백 채우기\n",
        "\n",
        "<br> \n",
        "\n",
        "- **%d**: 문자열 포맷 코드, 정수 삽입\n",
        "- **%f**: 문자열 포맷 코드, 소수 삽입\n",
        "- **%s**: 문자열 포맷 코드, 문자열 삽입\n",
        "- **str.format**: 파이썬3 이후부터 쓰는 새로운 formatting\n",
        "- **f-string**: 파이쩐 3.6이상 버전에서 지원하는 문법.\n",
        "- **\"%.3f\"**: 소수점 3자리까지 표시"
      ]
    },
    {
      "cell_type": "code",
      "metadata": {
        "colab": {
          "base_uri": "https://localhost:8080/"
        },
        "id": "orIXutVgaO_4",
        "outputId": "410f5e08-680f-4566-ded0-b90e69f0720a"
      },
      "source": [
        "# .count() example\n",
        "x = \"learning python is fun!\"\n",
        "x.count(\"n\")"
      ],
      "execution_count": null,
      "outputs": [
        {
          "output_type": "execute_result",
          "data": {
            "text/plain": [
              "4"
            ]
          },
          "metadata": {
            "tags": []
          },
          "execution_count": 1
        }
      ]
    },
    {
      "cell_type": "markdown",
      "metadata": {
        "id": "ZOxXllzLJ9L0"
      },
      "source": [
        "## 🔎 Basic Syntax for List"
      ]
    },
    {
      "cell_type": "markdown",
      "metadata": {
        "id": "dsCXEYbTKZDz"
      },
      "source": [
        "- '*' : 리스트를 반복하기\n",
        "- **.len ( )**: list의 길이 반환\n",
        "- **del ( )**: list 특정 요소 삭제하기    예) del a[1] -> 2번째 요소를 삭제\n",
        "- **.append()**: list 맨 뒤에 object를 추가한다.\n",
        "- **.extend()**: list 뒤에 iterable 객체(list, tuple, dict 등)의 elemenet를 추가한다.\n",
        "- **.insert ( , )**: 원하는 위치에 값을 넣을 수 있음\n",
        "- **.sort ( )**: list 요소를 순서대로 정렬\n",
        "- **.reverse ( )**: list를 역순으로 정렬. 현재의 list를 그냥 뒤집음\n",
        "- **.index ( x )**: x의 위치를 반환.\n",
        "- **.insert ( a, b )**: a번째 위치에 b를 삽입\n",
        "- **.remove ( x )** : 첫번째로 나오는 x를 삭제\n",
        "- **.pop ( )**: list의 맨 마지막 요소를 돌려주고 그 요소는 삭제\n",
        "- **.pop ( x )**: list의 x번째 요소를 돌려주고 그 요소는 삭제\n",
        "- **.count ( x )**: list 안에 x가 몇 개 있는지 조사해서 그 개수를 반환"
      ]
    },
    {
      "cell_type": "markdown",
      "metadata": {
        "id": "h2BX7tuwKF1V"
      },
      "source": [
        "## 🔎 Basic Syntax for Dictionary"
      ]
    },
    {
      "cell_type": "markdown",
      "metadata": {
        "id": "3ski8RraKaQ0"
      },
      "source": [
        "- **.keys ( )**: key를 list로 만들기\n",
        "- **.values ( )**: value를 list로 만들기\n",
        "- **.items ( )**: key, value 쌍을 반환\n",
        "- **.clear ( )**: key, value 쌍을 모두 삭제\n",
        "- **.get ( x , '디폴트')**:  x에 해당하는 key 값이 없을 때 디폴트 값을 가져감\n",
        "- **in**: 해당 key가 있는지 조사"
      ]
    },
    {
      "cell_type": "markdown",
      "metadata": {
        "id": "N3NgYviRKF6Q"
      },
      "source": [
        "## 🔎 Basic Syntax for Set"
      ]
    },
    {
      "cell_type": "markdown",
      "metadata": {
        "id": "OpKIh-HHKbp0"
      },
      "source": [
        "- **a & b**: a와 b의 교집합\n",
        "- **a | b**: a와 b의 합집합\n",
        "  \n",
        "  **a .union ( b )**: a와 b의 합집합\n",
        "- **a - b**: a와 b의 차집합\n",
        "  \n",
        "  **a .difference ( b )**: a와 b의 차집합\n",
        "- **.add ( )**: 1개의 값을 추가\n",
        "- **.update ( )**: 여러 개의 값을 추가\n",
        "- **.remove ( )**: 특정값을 제거"
      ]
    },
    {
      "cell_type": "markdown",
      "metadata": {
        "id": "4orValqiKfaQ"
      },
      "source": [
        "## 🔎 Basic Syntax for If statement"
      ]
    },
    {
      "cell_type": "markdown",
      "metadata": {
        "id": "RIuUd-bzKlrr"
      },
      "source": [
        "- **pass**: 아무 일도 일어나지 않게 설정\n",
        "- **elif**: 이전 조건문이 거짓일 때 수행\n",
        "- **in**, **not in**\n",
        "- **or**, **&**"
      ]
    },
    {
      "cell_type": "markdown",
      "metadata": {
        "id": "gwkD1XMgKfV1"
      },
      "source": [
        "## 🔎 Basic Syntax for While Loop"
      ]
    },
    {
      "cell_type": "markdown",
      "metadata": {
        "id": "dMATrEuZKnLi"
      },
      "source": [
        "- **break**: while에서 빠져나오게 하기\n",
        "- **continue**: while 맨 처음으로 돌아가기\n",
        "- **while(true):**: 특정 조건을 만족할 때까지 반복문을 실행하고 싶을 때 사용"
      ]
    },
    {
      "cell_type": "markdown",
      "metadata": {
        "id": "HPpDoycLKfR9"
      },
      "source": [
        "## 🔎 Basic Syntax for Def"
      ]
    },
    {
      "cell_type": "markdown",
      "metadata": {
        "id": "nj7-fRmfKoWp"
      },
      "source": [
        "- '*'를 붙이면 입력값을 전부 모아서 tuple로 만듦\n",
        "\n",
        "  '**'를 붙이면 값들이 모두 dict으로 만들어져서 출력\n",
        "- 함수의 반환은 오로지 **return**에 의해서만 생성\n",
        "\n",
        "\n",
        "> Function Annotation\n",
        "- **: expression**: argument의 type을 지정해주거나 직접 int, sting 값을 부여할 수 있다.\n",
        "- **-> expression**: Return 값의 type을 명시한다.\n",
        "- 강제성은 없다."
      ]
    },
    {
      "cell_type": "markdown",
      "metadata": {
        "id": "8vHtXj6HJwZJ"
      },
      "source": [
        "### 📔 Examples"
      ]
    },
    {
      "cell_type": "code",
      "metadata": {
        "colab": {
          "base_uri": "https://localhost:8080/"
        },
        "id": "YEOjISYKWcT-",
        "outputId": "4b85a03c-be88-485d-8013-238abebb69c3"
      },
      "source": [
        "# print in a line\n",
        "for i in range(5):\n",
        "    print(i, end=\"\")"
      ],
      "execution_count": 1,
      "outputs": [
        {
          "output_type": "stream",
          "text": [
            "01234"
          ],
          "name": "stdout"
        }
      ]
    },
    {
      "cell_type": "code",
      "metadata": {
        "colab": {
          "base_uri": "https://localhost:8080/"
        },
        "id": "op6uJ7LrWirn",
        "outputId": "e2022885-7b4c-45d4-db75-125125a21dce"
      },
      "source": [
        "# print in a line\n",
        "for i in range(5):\n",
        "    print(i, end=\"/\")"
      ],
      "execution_count": 2,
      "outputs": [
        {
          "output_type": "stream",
          "text": [
            "0/1/2/3/4/"
          ],
          "name": "stdout"
        }
      ]
    },
    {
      "cell_type": "code",
      "metadata": {
        "id": "p40Y0m7B6wXB"
      },
      "source": [
        "# Function Annotation Example\n",
        "def optimize_floats(df: pd.DataFrame) -> pd.DataFrame:\n",
        "    floats = df.select_dtypes(include=['float64']).columns.tolist()\n",
        "    df[floats] = df[floats].apply(pd.to_numeric, downcast='float')\n",
        "    return df\n",
        "\n",
        "def func(arg1: str, arg2: 1+2, arg3: 'this is annotation') -> bool:\n",
        "    print(f'arg1 = {arg1}')\n",
        "    print(f'arg2 = {arg2}') \n",
        "    print(f'arg3 = {arg3}') \n",
        "    return True"
      ],
      "execution_count": null,
      "outputs": []
    },
    {
      "cell_type": "code",
      "metadata": {
        "id": "QzQI0RpIRMu6"
      },
      "source": [
        "# Round dictionary key values\n",
        "dict_pval = dict() \n",
        "for key in model_results.pvalues.to_dict(): \n",
        "      \n",
        "    # rounding to K using round() \n",
        "    res[key] = round(model_results.pvalues.to_dict()[key], 6) "
      ],
      "execution_count": null,
      "outputs": []
    },
    {
      "cell_type": "code",
      "metadata": {
        "id": "HIFSjPBlk8R-"
      },
      "source": [
        "# Dictionary key to list\n",
        "list(dict_name)     # 이렇게 하면 Key values가 전부 나온다."
      ],
      "execution_count": null,
      "outputs": []
    },
    {
      "cell_type": "code",
      "metadata": {
        "id": "zXriXh4GY524"
      },
      "source": [
        "# Dictionary comprehension\n",
        "item2vector_dict = {arg : model.wv[arg] for arg in vocab}"
      ],
      "execution_count": null,
      "outputs": []
    },
    {
      "cell_type": "code",
      "metadata": {
        "id": "1cKeVmxmjnGL"
      },
      "source": [
        "# how to play with set add, update\n",
        "def make_node(data):\n",
        "    set_nodes = set()\n",
        "    if len(data.split(', ')) == 1:\n",
        "        set_nodes.add(data)\n",
        "    elif len(data.split(', ')) > 1:\n",
        "        set_nodes.update(set(data.split(', ')))\n",
        "    return set_nodes"
      ],
      "execution_count": null,
      "outputs": []
    },
    {
      "cell_type": "code",
      "metadata": {
        "id": "bIjr4vy9027R"
      },
      "source": [
        "# class에 있는 함수를 다른 함수에서 쓰려면 앞에 self. 붙여야 됨!\n",
        "class Form_filter():\n",
        "    def __init__(self, data):\n",
        "        self.data = data\n",
        "        self.df = pd.DataFrame(data).T\n",
        "        \n",
        "    def recommend_by_condition(self, disease_input):\n",
        "        good_items = []\n",
        "        for item in self.df.index:\n",
        "            good = False\n",
        "            for disease in disease_input:\n",
        "                if disease in self.df.loc[item]['tag_list']:\n",
        "                    good = True\n",
        "            if good == True:\n",
        "                good_items.append(item)\n",
        "        return good_items\n",
        "    \n",
        "    def filter_allergy(self, allergy_input):\n",
        "        cannot_eat_items = []\n",
        "        for item in self.df.index:\n",
        "            possible = True\n",
        "            for allergy in user_allergy:\n",
        "                if allergy in self.df.loc[item]['ingredient']:\n",
        "                    possible = False\n",
        "            if possible == False:\n",
        "                cannot_eat_items.append(item)\n",
        "        return cannot_eat_items\n",
        "    \n",
        "    def final_recommend(self, disease_input, allergy_input ):\n",
        "        good_items = self.recommend_by_condition(disease_input)\n",
        "        cannot_eat_items = self.filter_allergy(allergy_input)\n",
        "        final_recommend = {}\n",
        "        for good in good_items:\n",
        "            recommend = [item for item in petreat_data[good]['recommend_20'] if item not in cannot_eat_items]\n",
        "            final_recommend[good] = recommend\n",
        "        return final_recommend"
      ],
      "execution_count": null,
      "outputs": []
    },
    {
      "cell_type": "code",
      "metadata": {
        "id": "no2GvoYpQLlo"
      },
      "source": [
        "  # def 중간에 return에 해당되는 게 걸리면 그냥 거기서 끝남\n",
        "  def checkGrade(self, mileage_data, sylla_data, course, usr):\n",
        "      metadata = sylla_data.iloc[0]\n",
        "      grade_quota = [metadata['grade_1'], metadata['grade_2'], metadata['grade_3'], metadata['grade_4']]\n",
        "\n",
        "      # 새내기 거르기\n",
        "      if (usr.grade == '1'): # 사용자가 1학년인 경우 메세지 출력\n",
        "          message = \"새내기시군요! 해당 서비스를 이용할 수 없습니다 ㅠㅠㅜㅠㅠ\"\n",
        "          return message\n",
        "\n",
        "      # 학년별 정원 있는지 없는지 체크\n",
        "      if (grade_quota[0] != np.nan): # 학년별 정원 제한이 존재하는 수업인 경우 사용자의 학년을 확인\n",
        "          if (grade_quota[int(usr.grade) - 1] == 0): # 학년별 정원 제한이 있는데 사용자가 해당 학년이 아닌 경우 : 메세지 출력\n",
        "              message = \"{}학년은 신청할 수 없는 수업입니다.\".format(usr.grade)\n",
        "              return message\n",
        "\n",
        "          df_filtered = mileage_data[(mileage_data['grade_1']+mileage_data['grade_2']+mileage_data['grade_3']+mileage_data['grade_4'] != 0) & (mileage_data['grade'] == int(usr.grade))]   # 사용자가 학년별 정원을 통과한 경우 : 학년별 정원 제한이 있었던 데이터 중 사용자와 같은 학년의 수강신청 데이터 필터링\n",
        "      return df_filtered"
      ],
      "execution_count": null,
      "outputs": []
    },
    {
      "cell_type": "code",
      "metadata": {
        "id": "nPdT3zqNPBsK"
      },
      "source": [
        "# class 내에 있는 함수를 부르기 (재귀함수?)\n",
        "class Course_Info():\n",
        "    def __init__(self, u_course_code, u_instructor, u_first_enroll, u_enrolled_courses, u_mileage):\n",
        "        self.course_code = u_course_code\n",
        "        self.instructor = u_instructor\n",
        "        self.first_enroll = u_first_enroll  \n",
        "        self.enrolled_courses = u_enrolled_courses\n",
        "        self.mileage = u_mileage\n",
        "        self.df_mileage_sql = self.loadMileageData(u_course_code, u_instructor)\n",
        "        self.df_syllabus_sql = self.loadSyllaData(self.df_mileage_sql, u_course_code, u_instructor)\n",
        "\n",
        "    def loadMileageData(self, course_code, instructor):\n",
        "        # MySQL에서 데이터 받아오기\n",
        "        myhost = 'database-1.cnq1vdclxqau.ap-northeast-2.rds.amazonaws.com'\n",
        "        myport = 3306\n",
        "        myuser = 'hyunwoo'\n",
        "        mypasswd = 'hyunwoo'\n",
        "        mydb = 'sugang_db'"
      ],
      "execution_count": null,
      "outputs": []
    },
    {
      "cell_type": "code",
      "metadata": {
        "id": "HufR13F7O5VM"
      },
      "source": [
        "# class 만들 때 이렇게 pass 입력하면 실행시켜줄 수 있음\n",
        "class Predict():\n",
        "  def __init__():\n",
        "    pass"
      ],
      "execution_count": null,
      "outputs": []
    },
    {
      "cell_type": "code",
      "metadata": {
        "id": "7IPUr6vPMGDv"
      },
      "source": [
        "# for loop in json file 예시\n",
        "corpus = []\n",
        "for item in {**data}.values():\n",
        "    corpus.append(item['BOW'])"
      ],
      "execution_count": null,
      "outputs": []
    },
    {
      "cell_type": "code",
      "metadata": {
        "id": "ldaN4ZkB0-XS"
      },
      "source": [
        "# oct 예시\n",
        "oct(34)\n",
        "oct(12345)"
      ],
      "execution_count": null,
      "outputs": []
    },
    {
      "cell_type": "code",
      "metadata": {
        "id": "FhKhKxxn0fyZ"
      },
      "source": [
        "# filter 예시\n",
        "list(filter(lambda x: x > 0, [1, -3, 2, 0, -5, 6]))"
      ],
      "execution_count": null,
      "outputs": []
    },
    {
      "cell_type": "code",
      "metadata": {
        "id": "DQH_dpnt0c2-"
      },
      "source": [
        "# filter 예시\n",
        "def positive(x):\n",
        "    return x > 0\n",
        "\n",
        "print(list(filter(positive, [1, -3, 2, 0, -5, 6])))"
      ],
      "execution_count": null,
      "outputs": []
    },
    {
      "cell_type": "code",
      "metadata": {
        "id": "P2KHbLpHMvOc"
      },
      "source": [
        "# 시간 측정\n",
        "import time\n",
        "start = time.time()  # 시작 시간 저장\n",
        " \n",
        " \n",
        "# 작업 코드\n",
        " \n",
        " \n",
        "print(\"time :\", time.time() - start)  # 현재시각 - 시작시간 = 실행 시간"
      ],
      "execution_count": null,
      "outputs": []
    },
    {
      "cell_type": "code",
      "metadata": {
        "id": "He3PP1Iuo19l"
      },
      "source": [
        "# dataframe에서 split 예시\n",
        "temp['hakno'] = temp['course_code'].str.split('-', 1).str[0]"
      ],
      "execution_count": null,
      "outputs": []
    },
    {
      "cell_type": "code",
      "metadata": {
        "id": "QaxzW3QHXNx_"
      },
      "source": [
        "# .round() 예시\n",
        "train[\"atemp(int)\"] = train[\"atemp\"].round()"
      ],
      "execution_count": null,
      "outputs": []
    },
    {
      "cell_type": "code",
      "metadata": {
        "id": "lYbkJYo-UKx7",
        "colab": {
          "base_uri": "https://localhost:8080/",
          "height": 35
        },
        "outputId": "6640ba4c-9645-4782-fb46-54c9daed4db5"
      },
      "source": [
        "# .insert()\n",
        "vowel = ['a', 'e', 'i', 'u']\n",
        "\n",
        "# inserting element to list at 4th position\n",
        "vowel.insert(3, 'o')\n",
        "\n",
        "print('Updated List: ', vowel)"
      ],
      "execution_count": null,
      "outputs": [
        {
          "output_type": "stream",
          "text": [
            "Updated List:  ['a', 'e', 'i', 'o', 'u']\n"
          ],
          "name": "stdout"
        }
      ]
    },
    {
      "cell_type": "code",
      "metadata": {
        "id": "JXR5WadlC6kL"
      },
      "source": [
        "# .quantile()\n",
        "data.loc[data['kills'] > data['kills'].quantile(0.99)] = '8+'"
      ],
      "execution_count": null,
      "outputs": []
    },
    {
      "cell_type": "code",
      "metadata": {
        "id": "7Oh6SdCqAgPy"
      },
      "source": [
        "# sample 뽑기. 샘플 뽑기\n",
        "sample = train.sample(frac=0.1, random_state=20191005)"
      ],
      "execution_count": null,
      "outputs": []
    },
    {
      "cell_type": "code",
      "metadata": {
        "id": "aKdeSddP1Ae2"
      },
      "source": [
        "# 소수점 3자리까지 나타내기\n",
        "print(\"%.3f\" %answer)"
      ],
      "execution_count": null,
      "outputs": []
    },
    {
      "cell_type": "code",
      "metadata": {
        "id": "ng47bjjH8ANB"
      },
      "source": [
        "# .format\n",
        "## 예시2\n",
        " print('Epoch {:4d}/{} Cost: {:.6f}'.format(\n",
        "     epoch, nb_epochs, cost.item())\n",
        " )"
      ],
      "execution_count": null,
      "outputs": []
    },
    {
      "cell_type": "code",
      "metadata": {
        "id": "iPNzccm5Z8_u"
      },
      "source": [
        "# .format\n",
        "## 예시1\n",
        "for i in range(1,5):\n",
        "    plt.figure(figsize=(2*i,i))\n",
        "    plt.plot(a1,a2)\n",
        "    plt.savefig(\"a{}x{}.png\".format(2*i,i))\n",
        "    \n",
        "# 예시2\n",
        "print(\"The average person kills {:.4f} players, 99% of people have {} kills or less, while the most kills ever recorded is {}.\".format(train['kills'].mean(),train['kills'].quantile(0.99), train['kills'].max()))"
      ],
      "execution_count": null,
      "outputs": []
    },
    {
      "cell_type": "code",
      "metadata": {
        "id": "QXTeOWq0MYLJ",
        "colab": {
          "base_uri": "https://localhost:8080/",
          "height": 34
        },
        "outputId": "ea1be51c-460a-4d47-a5e7-09fb3119e6b6"
      },
      "source": [
        "# .center()\n",
        "txt = \"banana\"\n",
        "\n",
        "x = txt.center(20, \"O\")\n",
        "\n",
        "print(x)"
      ],
      "execution_count": null,
      "outputs": [
        {
          "output_type": "stream",
          "text": [
            "OOOOOOObananaOOOOOOO\n"
          ],
          "name": "stdout"
        }
      ]
    },
    {
      "cell_type": "code",
      "metadata": {
        "id": "2wuYkXzwKnmj"
      },
      "source": [
        "#  end 예시\n",
        "a,b = map(int, input().split())\n",
        "c = list(map(int,input().split()))\n",
        "result = []\n",
        "for i in c:\n",
        "    if i < b:\n",
        "        print(i, end=' ')"
      ],
      "execution_count": null,
      "outputs": []
    },
    {
      "cell_type": "code",
      "metadata": {
        "id": "H-3c8IbK2GKh",
        "colab": {
          "base_uri": "https://localhost:8080/",
          "height": 34
        },
        "outputId": "3aa5e253-e5f1-4106-a095-524d366bad01"
      },
      "source": [
        "# randint\n",
        "random.randint(1,10)"
      ],
      "execution_count": null,
      "outputs": [
        {
          "output_type": "execute_result",
          "data": {
            "text/plain": [
              "6"
            ]
          },
          "metadata": {
            "tags": []
          },
          "execution_count": 7
        }
      ]
    },
    {
      "cell_type": "code",
      "metadata": {
        "id": "gmI_4L4b3kzz",
        "colab": {
          "base_uri": "https://localhost:8080/",
          "height": 34
        },
        "outputId": "b0aeea2e-cd23-4737-d45a-847afc6c2cf5"
      },
      "source": [
        "# random.random()\n",
        "a = random.random()\n",
        "print(a)"
      ],
      "execution_count": null,
      "outputs": [
        {
          "output_type": "stream",
          "text": [
            "0.6697807572482162\n"
          ],
          "name": "stdout"
        }
      ]
    },
    {
      "cell_type": "code",
      "metadata": {
        "id": "qwu_Wv0Z3ksn"
      },
      "source": [
        "# calendar\n",
        "print(calendar.calendar(2019))"
      ],
      "execution_count": null,
      "outputs": []
    },
    {
      "cell_type": "code",
      "metadata": {
        "id": "3Wet9gof3kmN",
        "colab": {
          "base_uri": "https://localhost:8080/",
          "height": 34
        },
        "outputId": "e51a2899-6493-4e52-b36c-37499f3cb2ba"
      },
      "source": [
        "# zip()\n",
        "a = list(zip([1,2,3],[4,5,6]))\n",
        "print(a)"
      ],
      "execution_count": null,
      "outputs": [
        {
          "output_type": "stream",
          "text": [
            "[(1, 4), (2, 5), (3, 6)]\n"
          ],
          "name": "stdout"
        }
      ]
    },
    {
      "cell_type": "code",
      "metadata": {
        "id": "lqZrN-As3kfn",
        "colab": {
          "base_uri": "https://localhost:8080/",
          "height": 34
        },
        "outputId": "ab936533-0e82-48ec-e845-07a26fe3c6f8"
      },
      "source": [
        "# f-sting\n",
        "name = 'Bob'\n",
        "test = f'Hello {name}'\n",
        "print(test)"
      ],
      "execution_count": null,
      "outputs": [
        {
          "output_type": "stream",
          "text": [
            "Hello Bob\n"
          ],
          "name": "stdout"
        }
      ]
    },
    {
      "cell_type": "code",
      "metadata": {
        "id": "hxqLwnLw3kZO",
        "colab": {
          "base_uri": "https://localhost:8080/",
          "height": 34
        },
        "outputId": "cc48318d-95be-445e-96bc-dc9689f25acf"
      },
      "source": [
        "# str.format\n",
        "## 예제1\n",
        "test = 'Hello {}'.format('Bob')\n",
        "print(test)"
      ],
      "execution_count": null,
      "outputs": [
        {
          "output_type": "stream",
          "text": [
            "Hello Bob\n"
          ],
          "name": "stdout"
        }
      ]
    },
    {
      "cell_type": "code",
      "metadata": {
        "id": "XgfytB-m03Nw",
        "colab": {
          "base_uri": "https://localhost:8080/",
          "height": 87
        },
        "outputId": "d706d86a-2a0c-4bb8-a333-5ef79bea209a"
      },
      "source": [
        "# enumerate\n",
        "## 예제1\n",
        "my_list = ['apple', 'banana', 'grapes', 'pear']\n",
        "counter_list = list(enumerate(my_list, 1))\n",
        "print(counter_list)\n",
        "\n",
        "## 예제2\n",
        "names = ['철수', '영희', '영수']\n",
        "for i, name in enumerate(names):\n",
        "  print('{}번: {}'.format(i + 1, name))"
      ],
      "execution_count": null,
      "outputs": [
        {
          "output_type": "stream",
          "text": [
            "[(1, 'apple'), (2, 'banana'), (3, 'grapes'), (4, 'pear')]\n",
            "1번: 철수\n",
            "2번: 영희\n",
            "3번: 영수\n"
          ],
          "name": "stdout"
        }
      ]
    },
    {
      "cell_type": "code",
      "metadata": {
        "id": "EDtFKOHf03AT",
        "colab": {
          "base_uri": "https://localhost:8080/",
          "height": 34
        },
        "outputId": "76453a39-fc01-490a-d749-17054de3a1cb"
      },
      "source": [
        "# divmod\n",
        "divmod(29, 6)"
      ],
      "execution_count": null,
      "outputs": [
        {
          "output_type": "execute_result",
          "data": {
            "text/plain": [
              "(4, 5)"
            ]
          },
          "metadata": {
            "tags": []
          },
          "execution_count": 2
        }
      ]
    },
    {
      "cell_type": "code",
      "metadata": {
        "id": "BTBXukpx026s"
      },
      "source": [
        "# any\n",
        "any([1,2,3,0])"
      ],
      "execution_count": null,
      "outputs": []
    },
    {
      "cell_type": "code",
      "metadata": {
        "id": "_rIFCIlH02zH"
      },
      "source": [
        "# all\n",
        "all([1,2,3,])"
      ],
      "execution_count": null,
      "outputs": []
    },
    {
      "cell_type": "code",
      "metadata": {
        "id": "BjOEvPd9zeD-"
      },
      "source": [
        "# .map \n",
        "A, B = map(int, input().split())"
      ],
      "execution_count": null,
      "outputs": []
    },
    {
      "cell_type": "code",
      "metadata": {
        "id": "085BpZbeeZNc",
        "colab": {
          "base_uri": "https://localhost:8080/",
          "height": 52
        },
        "outputId": "8f853f14-8cb6-450a-9eee-10e0bb68dfee"
      },
      "source": [
        "# end 예시\n",
        "user_input = input(\"구구단을 출력할 숫자를 입력하세요(2~9): \")\n",
        "dan = int(user_input)\n",
        "for i in range(1,10):\n",
        "    print(i*dan, end= ' ')"
      ],
      "execution_count": null,
      "outputs": [
        {
          "output_type": "stream",
          "text": [
            "구구단을 출력할 숫자를 입력하세요(2~9): 3\n",
            "3 6 9 12 15 18 21 24 27 "
          ],
          "name": "stdout"
        }
      ]
    },
    {
      "cell_type": "code",
      "metadata": {
        "id": "DaE8NLC3d9fz",
        "colab": {
          "base_uri": "https://localhost:8080/",
          "height": 34
        },
        "outputId": "eb2e2e53-045f-4e30-f41e-b3e91a9e91b0"
      },
      "source": [
        "# def * 예시\n",
        "def add_many(*nums):\n",
        "\tresult = 0\n",
        "\tfor i in nums:\n",
        "\t\tresult = result + i\n",
        "\treturn result \n",
        "\n",
        "## ** 예시\n",
        "def print_kwargs(**kwargs):\n",
        "\tprint(kwargs)\n",
        "print_kwargs(a=1)"
      ],
      "execution_count": null,
      "outputs": [
        {
          "output_type": "stream",
          "text": [
            "{'a': 1}\n"
          ],
          "name": "stdout"
        }
      ]
    },
    {
      "cell_type": "code",
      "metadata": {
        "id": "pMHh4AwAcinV",
        "colab": {
          "base_uri": "https://localhost:8080/",
          "height": 34
        },
        "outputId": "7a8c303a-44dd-4da2-f830-53a8a53ab12f"
      },
      "source": [
        "# .remove()\n",
        "s1 = set([1, 2, 3])\n",
        "s1.remove(2)\n",
        "s1"
      ],
      "execution_count": null,
      "outputs": [
        {
          "output_type": "execute_result",
          "data": {
            "text/plain": [
              "{1, 3}"
            ]
          },
          "metadata": {
            "tags": []
          },
          "execution_count": 21
        }
      ]
    },
    {
      "cell_type": "code",
      "metadata": {
        "id": "NfN8x9xXbV9w",
        "colab": {
          "base_uri": "https://localhost:8080/",
          "height": 34
        },
        "outputId": "8a9ebea2-4887-49ab-d131-7d73702566fb"
      },
      "source": [
        "# .get 예제1\n",
        "counts = dict()\n",
        "names = ['csev', 'cwen', 'csev', 'zqian', 'cwen']\n",
        "for name in names :\n",
        "    counts[name] = counts.get(name, 0) + 1\n",
        "print(counts)"
      ],
      "execution_count": null,
      "outputs": [
        {
          "output_type": "stream",
          "text": [
            "{'csev': 2, 'cwen': 2, 'zqian': 1}\n"
          ],
          "name": "stdout"
        }
      ]
    },
    {
      "cell_type": "code",
      "metadata": {
        "id": "gWvD-f9cZKy2",
        "colab": {
          "base_uri": "https://localhost:8080/",
          "height": 34
        },
        "outputId": "57c9f4da-6bd9-416e-f03a-a171262dca10"
      },
      "source": [
        "# .split()\n",
        "example = 'python,jquery,javascript'\n",
        "\n",
        "a,b,c = example.split(\",\")\n",
        "a, b, c"
      ],
      "execution_count": null,
      "outputs": [
        {
          "output_type": "execute_result",
          "data": {
            "text/plain": [
              "('python', 'jquery', 'javascript')"
            ]
          },
          "metadata": {
            "tags": []
          },
          "execution_count": 18
        }
      ]
    },
    {
      "cell_type": "code",
      "metadata": {
        "id": "oIyv6GX_YPHZ",
        "colab": {
          "base_uri": "https://localhost:8080/",
          "height": 105
        },
        "outputId": "bcf5733f-c743-4b97-ffca-d5d034ce7708"
      },
      "source": [
        "# .replace()\n",
        "text = '123,456,789,999'\n",
        "replaceAll= text.replace(\",\",\"\")\n",
        "replace_t1 = text.replace(\",\", \"\",1)\n",
        "replace_t2 = text.replace(\",\", \"\",2)\n",
        "replace_t3 = text.replace(\",\", \"\",3)\n",
        "print(\"결과 :\")\n",
        "print(replaceAll)\n",
        "print(replace_t1)\n",
        "print(replace_t2)\n",
        "print(replace_t3)"
      ],
      "execution_count": null,
      "outputs": [
        {
          "output_type": "stream",
          "text": [
            "결과 :\n",
            "123456789999\n",
            "123456,789,999\n",
            "123456789,999\n",
            "123456789999\n"
          ],
          "name": "stdout"
        }
      ]
    },
    {
      "cell_type": "code",
      "metadata": {
        "id": "NqG9Rm83XrxE",
        "colab": {
          "base_uri": "https://localhost:8080/",
          "height": 34
        },
        "outputId": "ea5a39e8-1235-48c7-fb62-db0959340c98"
      },
      "source": [
        "# .join()\n",
        "\",\".join('abcd')"
      ],
      "execution_count": null,
      "outputs": [
        {
          "output_type": "execute_result",
          "data": {
            "text/plain": [
              "'a,b,c,d'"
            ]
          },
          "metadata": {
            "tags": []
          },
          "execution_count": 14
        }
      ]
    },
    {
      "cell_type": "code",
      "metadata": {
        "id": "bfUeTMY0WPqQ",
        "colab": {
          "base_uri": "https://localhost:8080/",
          "height": 34
        },
        "outputId": "5481a474-1bd4-4140-e50b-fff01e64050c"
      },
      "source": [
        "# .rjust()\n",
        "name = '사람'\n",
        "print (name.rjust(10))"
      ],
      "execution_count": null,
      "outputs": [
        {
          "output_type": "stream",
          "text": [
            "        사람\n"
          ],
          "name": "stdout"
        }
      ]
    },
    {
      "cell_type": "code",
      "metadata": {
        "id": "Us-xTt74Uj-G",
        "colab": {
          "base_uri": "https://localhost:8080/",
          "height": 212
        },
        "outputId": "4b17e441-eb19-4bee-f329-e36ec69ba939"
      },
      "source": [
        "# fommating\n",
        "## 예제1 %d\n",
        "a = int(input())\n",
        "for i in range(1, 10):\n",
        "    print(\"%d * %d = %d\" %(a, i, a*i))\n",
        "    \n",
        "## 예제2 %d\n",
        "\"I eat %d apples.\" % 3\n",
        "\n",
        "## 예제3 %s\n",
        "\"I eat %s apples.\" % \"five\"\n",
        "\n",
        "# %를 사용하고 싶면 %d%% 이렇게 %를 2개 넣어주어야 한다. \t\t\n",
        "## 예시) %d%%\n",
        "\n",
        "## 예제4 %d, %s\n",
        "flavor_list = ['vanulla', 'chocolate' ,'pecan', 'strawberry']\n",
        "for i, flavor in enumerate(flavor_list, 10):\n",
        "  print('%d: %s' %(i+i, flavor))"
      ],
      "execution_count": null,
      "outputs": [
        {
          "output_type": "stream",
          "text": [
            "13\n",
            "13 * 1 = 13\n",
            "13 * 2 = 26\n",
            "13 * 3 = 39\n",
            "13 * 4 = 52\n",
            "13 * 5 = 65\n",
            "13 * 6 = 78\n",
            "13 * 7 = 91\n",
            "13 * 8 = 104\n",
            "13 * 9 = 117\n",
            "나의 이름은 {d[\"name]}입니다. 나이는 {d[\"age\"]}입니다.\n"
          ],
          "name": "stdout"
        }
      ]
    },
    {
      "cell_type": "code",
      "metadata": {
        "id": "o73WNaaySmGT",
        "colab": {
          "base_uri": "https://localhost:8080/",
          "height": 52
        },
        "outputId": "461a4209-a2fd-4f5a-a8a3-8affdf51f2ad"
      },
      "source": [
        "# .append(), .extned()\n",
        "## .append 예제\n",
        "x = [1, 2, 3]\n",
        "x.append([4, 5])\n",
        "print (x)\n",
        "\n",
        "## .extend 예제\n",
        "x = [1, 2, 3]\n",
        "x.extend([4, 5])\n",
        "print (x)"
      ],
      "execution_count": null,
      "outputs": [
        {
          "output_type": "stream",
          "text": [
            "[1, 2, 3, [4, 5]]\n",
            "[1, 2, 3, 4, 5]\n"
          ],
          "name": "stdout"
        }
      ]
    },
    {
      "cell_type": "code",
      "metadata": {
        "id": "d4j8MBRVSGvp"
      },
      "source": [
        "# .stratswith\n",
        "if line.startswith('집'):\n",
        "\tprint(line)"
      ],
      "execution_count": null,
      "outputs": []
    },
    {
      "cell_type": "code",
      "metadata": {
        "id": "zqDQzCyGcf3u",
        "colab": {
          "base_uri": "https://localhost:8080/",
          "height": 52
        },
        "outputId": "5f133eff-e8ff-49f7-a83a-c70417efe237"
      },
      "source": [
        "# 소괄호를 사용하지 않아도 컴마(,)로 값을 나열하면 파이썬은 튜플로 인식\n",
        "x, y = 1, 10\n",
        "print(x, y)\n",
        "\n",
        "x, y = y, x\n",
        "print(x, y)"
      ],
      "execution_count": null,
      "outputs": [
        {
          "output_type": "stream",
          "text": [
            "1 10\n",
            "10 1\n"
          ],
          "name": "stdout"
        }
      ]
    },
    {
      "cell_type": "code",
      "metadata": {
        "id": "3xxSrbbLcx70",
        "colab": {
          "base_uri": "https://localhost:8080/",
          "height": 34
        },
        "outputId": "2b0c0dcf-f4e1-4d6c-f030-9a7419af9b6f"
      },
      "source": [
        "# len()\n",
        "x = (10, 5, 7, 2, 1)\n",
        "len(x)"
      ],
      "execution_count": null,
      "outputs": [
        {
          "output_type": "execute_result",
          "data": {
            "text/plain": [
              "5"
            ]
          },
          "metadata": {
            "tags": []
          },
          "execution_count": 18
        }
      ]
    },
    {
      "cell_type": "code",
      "metadata": {
        "id": "dS9wgHfXeHt1",
        "colab": {
          "base_uri": "https://localhost:8080/",
          "height": 35
        },
        "outputId": "f2d74dfd-0829-4c67-b7a0-8c49fd8d4eb2"
      },
      "source": [
        "# in\n",
        "x = (10, 5, 7, 2, 1)\n",
        "1 in x, 9 in x"
      ],
      "execution_count": null,
      "outputs": [
        {
          "output_type": "execute_result",
          "data": {
            "text/plain": [
              "(True, False)"
            ]
          },
          "metadata": {
            "tags": []
          },
          "execution_count": 2
        }
      ]
    },
    {
      "cell_type": "code",
      "metadata": {
        "id": "I_jyFIqzeTog",
        "colab": {
          "base_uri": "https://localhost:8080/",
          "height": 34
        },
        "outputId": "0f530800-9495-4d77-9ea4-200d72b6a15a"
      },
      "source": [
        "# +로 연결, *로 반복\n",
        "x = (10, 5, 1)\n",
        "x + x, x*3"
      ],
      "execution_count": null,
      "outputs": [
        {
          "output_type": "execute_result",
          "data": {
            "text/plain": [
              "((10, 5, 1, 10, 5, 1), (10, 5, 1, 10, 5, 1, 10, 5, 1))"
            ]
          },
          "metadata": {
            "tags": []
          },
          "execution_count": 19
        }
      ]
    },
    {
      "cell_type": "code",
      "metadata": {
        "id": "rMcwMF9fel-h",
        "colab": {
          "base_uri": "https://localhost:8080/",
          "height": 34
        },
        "outputId": "7893664c-ff91-43ad-97ce-c46ff09a6349"
      },
      "source": [
        "# .count()\n",
        "x = (10, 5, 1, 7, 2, ㅡ1)\n",
        "x.count(1)"
      ],
      "execution_count": null,
      "outputs": [
        {
          "output_type": "execute_result",
          "data": {
            "text/plain": [
              "2"
            ]
          },
          "metadata": {
            "tags": []
          },
          "execution_count": 17
        }
      ]
    },
    {
      "cell_type": "code",
      "metadata": {
        "id": "HAPQzr9UeuIO",
        "colab": {
          "base_uri": "https://localhost:8080/",
          "height": 34
        },
        "outputId": "c9170186-45a8-499c-9533-26d44ae22455"
      },
      "source": [
        "# .index()\n",
        "x = (10, 5, 1, 7, 2, \"ㅡ1\")\n",
        "x.index(1)"
      ],
      "execution_count": null,
      "outputs": [
        {
          "output_type": "execute_result",
          "data": {
            "text/plain": [
              "2"
            ]
          },
          "metadata": {
            "tags": []
          },
          "execution_count": 22
        }
      ]
    },
    {
      "cell_type": "code",
      "metadata": {
        "id": "GAbBsUr4ignV",
        "colab": {
          "base_uri": "https://localhost:8080/",
          "height": 34
        },
        "outputId": "b8ce92bd-b33d-43fd-d1bf-ad1504935b01"
      },
      "source": [
        "# .items(), sorted()\n",
        "d = {'b':1, 'a':10, 'c':22}\n",
        "d.items()\n",
        "sorted(d.items())"
      ],
      "execution_count": null,
      "outputs": [
        {
          "output_type": "execute_result",
          "data": {
            "text/plain": [
              "[('a', 10), ('b', 1), ('c', 22)]"
            ]
          },
          "metadata": {
            "tags": []
          },
          "execution_count": 34
        }
      ]
    },
    {
      "cell_type": "code",
      "metadata": {
        "id": "NEIveyjmglng",
        "colab": {
          "base_uri": "https://localhost:8080/",
          "height": 71
        },
        "outputId": "92e0aca8-2276-45d0-d48a-d43606ba67dd"
      },
      "source": [
        "# 키(Key)를 기준으로 정렬한 뒤, 한 줄씩 출력하기\n",
        "d = {'b':1, 'a':10, 'c':22}\n",
        "for k, v in sorted(d.items()):\n",
        "  print(k,v)"
      ],
      "execution_count": null,
      "outputs": [
        {
          "output_type": "stream",
          "text": [
            "a 10\n",
            "b 1\n",
            "c 22\n"
          ],
          "name": "stdout"
        }
      ]
    },
    {
      "cell_type": "markdown",
      "metadata": {
        "id": "CoDGaY0Whlgd"
      },
      "source": [
        "**값(Value)을 기준**으로 정렬하기\n",
        "1. 딕셔너리에서 items 메소드를 실행한다.\n",
        "2. 튜플을 활용해 키와 값을 분리한다.\n",
        "3. 키와 값의 위치를 바꾼 리스트를 생성한다.\n",
        "4. 생선된 리스트를 정렬한다."
      ]
    },
    {
      "cell_type": "code",
      "metadata": {
        "id": "UEV964RIhubB",
        "colab": {
          "base_uri": "https://localhost:8080/",
          "height": 52
        },
        "outputId": "906f2fb9-aa50-4b42-8b40-20aef8440797"
      },
      "source": [
        "c = {'a':10, 'b':1, 'c':22}\n",
        "tmp = list()\n",
        "for k, v in c.items() :\n",
        "    tmp.append( (v, k) )    # 여기서 k, v의 순서를 바꿔주는 게 Point!!!\n",
        "\n",
        "print(tmp)\n",
        "print(sorted(tmp))"
      ],
      "execution_count": null,
      "outputs": [
        {
          "output_type": "stream",
          "text": [
            "[(10, 'a'), (1, 'b'), (22, 'c')]\n",
            "[(1, 'b'), (10, 'a'), (22, 'c')]\n"
          ],
          "name": "stdout"
        }
      ]
    },
    {
      "cell_type": "code",
      "metadata": {
        "id": "ogCzmUDKgPvh",
        "colab": {
          "base_uri": "https://localhost:8080/",
          "height": 34
        },
        "outputId": "f6953ad1-bef9-44fd-857f-789f3cb8e95a"
      },
      "source": [
        "# .items()\n",
        "d = {'b':1, 'a':10, 'c':22}\n",
        "d.items()"
      ],
      "execution_count": null,
      "outputs": [
        {
          "output_type": "execute_result",
          "data": {
            "text/plain": [
              "dict_items([('b', 1), ('a', 10), ('c', 22)])"
            ]
          },
          "metadata": {
            "tags": []
          },
          "execution_count": 24
        }
      ]
    },
    {
      "cell_type": "markdown",
      "metadata": {
        "id": "yDcgdxSvbuQp"
      },
      "source": [
        "List comprehension 예시들"
      ]
    },
    {
      "cell_type": "code",
      "metadata": {
        "id": "_TbqhZCgkguQ",
        "colab": {
          "base_uri": "https://localhost:8080/",
          "height": 52
        },
        "outputId": "f128e232-3d41-4b34-b15d-f1b04bf04db3"
      },
      "source": [
        "## 예시1\n",
        "c = {'a':10, 'b':1, 'c':22}\n",
        "tmp = list()\n",
        "for k, v in c.items() :\n",
        "    tmp.append( (v, k) )\n",
        "tmp = sorted(tmp)\n",
        "print(tmp)      # 이랬던 코드가\n",
        "\n",
        "c = {'a':10, 'b':1, 'c':22}\n",
        "sorted([ (v,k) for k, v in c.items()])    # 이렇게 간단해진다!ㅡ"
      ],
      "execution_count": null,
      "outputs": [
        {
          "output_type": "stream",
          "text": [
            "[(1, 'b'), (10, 'a'), (22, 'c')]\n"
          ],
          "name": "stdout"
        },
        {
          "output_type": "execute_result",
          "data": {
            "text/plain": [
              "[(1, 'b'), (10, 'a'), (22, 'c')]"
            ]
          },
          "metadata": {
            "tags": []
          },
          "execution_count": 38
        }
      ]
    },
    {
      "cell_type": "code",
      "metadata": {
        "id": "cMYRpbVypyEb",
        "colab": {
          "base_uri": "https://localhost:8080/",
          "height": 34
        },
        "outputId": "5b00f32b-bc4d-4f77-9f0e-18e05975cc15"
      },
      "source": [
        "## 예시2: One-dimension list 만들기\n",
        "# 1 ~ 10 정수에서 짝수만 뽑아내기\n",
        "result = [i for i in range(1, 10) if i % 2 == 0]\n",
        "result"
      ],
      "execution_count": null,
      "outputs": [
        {
          "output_type": "execute_result",
          "data": {
            "text/plain": [
              "[2, 4, 6, 8]"
            ]
          },
          "metadata": {
            "tags": []
          },
          "execution_count": 69
        }
      ]
    },
    {
      "cell_type": "code",
      "metadata": {
        "id": "L7GlgtV4pmfO",
        "colab": {
          "base_uri": "https://localhost:8080/",
          "height": 176
        },
        "outputId": "2edc0326-8b69-4bef-eb05-a8d7c68d36ec"
      },
      "source": [
        "## 예시3: Two-dimension list 만들기\n",
        "words = 'The quick brown fox jumps over the lazy dog'.split()\n",
        "stuff = [[w.upper(), w.lower(), len(w)] for w in words]\n",
        "for i in stuff:\n",
        "    print(i)"
      ],
      "execution_count": null,
      "outputs": [
        {
          "output_type": "stream",
          "text": [
            "['THE', 'the', 3]\n",
            "['QUICK', 'quick', 5]\n",
            "['BROWN', 'brown', 5]\n",
            "['FOX', 'fox', 3]\n",
            "['JUMPS', 'jumps', 5]\n",
            "['OVER', 'over', 4]\n",
            "['THE', 'the', 3]\n",
            "['LAZY', 'lazy', 4]\n",
            "['DOG', 'dog', 3]\n"
          ],
          "name": "stdout"
        }
      ]
    },
    {
      "cell_type": "code",
      "metadata": {
        "id": "Rdu4IoFTlrtz"
      },
      "source": [
        "## 예시4 (나도 못 풀었음)\n",
        "orig = 'The quick brown fox jumps over the lazy dog'\n",
        "kewen = orig.lower().split()\n",
        "counts = {}\n",
        "for line in kewen:\n",
        "  words = line.split()\n",
        "  for word in words:\n",
        "    counts[word] = counts.get(word, 0) + 1\n",
        "\n",
        "lst = []\n",
        "for k, v in counts.items():\n",
        "  vk = (v, k)\n",
        "  lst.append(vk)\n",
        "  \n",
        "sorted(lst)    # 이랬던 코드가"
      ],
      "execution_count": null,
      "outputs": []
    }
  ]
}